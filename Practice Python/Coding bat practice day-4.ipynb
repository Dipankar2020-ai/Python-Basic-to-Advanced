{
 "cells": [
  {
   "cell_type": "markdown",
   "id": "a6b630d2",
   "metadata": {},
   "source": [
    "### Coding practice day-4 ###"
   ]
  },
  {
   "cell_type": "markdown",
   "id": "b10a450a",
   "metadata": {},
   "source": [
    "### hello_name ###"
   ]
  },
  {
   "cell_type": "markdown",
   "id": "2d9d6030",
   "metadata": {},
   "source": [
    "\n",
    "Given a string name, e.g. \"Bob\", return a greeting of the form \"Hello Bob!\".\n",
    "\n",
    "\n",
    "hello_name('Bob') → 'Hello Bob!'\n",
    "hello_name('Alice') → 'Hello Alice!'\n",
    "hello_name('X') → 'Hello X!'\n",
    "\n",
    "https://codingbat.com/prob/p115413"
   ]
  },
  {
   "cell_type": "code",
   "execution_count": 1,
   "id": "2eadde7e",
   "metadata": {},
   "outputs": [],
   "source": [
    "def hello_name(name):\n",
    "  ans=\"Hello \"+name+\"!\"\n",
    "  return ans\n"
   ]
  },
  {
   "cell_type": "markdown",
   "id": "442bfe7f",
   "metadata": {},
   "source": [
    "### make_abba ###"
   ]
  },
  {
   "cell_type": "markdown",
   "id": "5b9094f8",
   "metadata": {},
   "source": [
    "\n",
    "Given two strings, a and b, return the result of putting them together in the order abba, e.g. \"Hi\" and \"Bye\" returns \"HiByeByeHi\".\n",
    "\n",
    "\n",
    "make_abba('Hi', 'Bye') → 'HiByeByeHi'\n",
    "make_abba('Yo', 'Alice') → 'YoAliceAliceYo'\n",
    "make_abba('What', 'Up') → 'WhatUpUpWhat'\n",
    "\n",
    "https://codingbat.com/prob/p182144"
   ]
  },
  {
   "cell_type": "code",
   "execution_count": 2,
   "id": "0bbf0f18",
   "metadata": {},
   "outputs": [],
   "source": [
    "def make_abba(a, b):\n",
    "  ans=a+b+b+a\n",
    "  return ans"
   ]
  },
  {
   "cell_type": "markdown",
   "id": "35e939d9",
   "metadata": {},
   "source": [
    "### make_tags ###"
   ]
  },
  {
   "cell_type": "markdown",
   "id": "96c8c8da",
   "metadata": {},
   "source": [
    "The web is built with HTML strings like \"<i>Yay</i>\" which draws Yay as italic text. In this example, the \"i\" tag makes <i> and </i> which surround the word \"Yay\". Given tag and word strings, create the HTML string with tags around the word, e.g. \"<i>Yay</i>\".\n",
    "\n",
    "\n",
    "make_tags('i', 'Yay') → '<i>Yay</i>'\n",
    "make_tags('i', 'Hello') → '<i>Hello</i>'\n",
    "make_tags('cite', 'Yay') → '<cite>Yay</cite>'\n",
    "\n",
    "https://codingbat.com/prob/p132290"
   ]
  },
  {
   "cell_type": "code",
   "execution_count": 3,
   "id": "2ea17368",
   "metadata": {},
   "outputs": [],
   "source": [
    "def make_tags(tag, word):\n",
    "  ans=\"<\"+tag+\">\"+word+\"<\"+\"/\"+tag+\">\"\n",
    "  return ans"
   ]
  },
  {
   "cell_type": "markdown",
   "id": "cf0ba1ac",
   "metadata": {},
   "source": [
    "## make_out_word ##"
   ]
  },
  {
   "cell_type": "markdown",
   "id": "5876a876",
   "metadata": {},
   "source": [
    "Given an \"out\" string length 4, such as \"<<>>\", and a word, return a new string where the word is in the middle of the out string, e.g. \"<<word>>\".\n",
    "\n",
    "\n",
    "make_out_word('<<>>', 'Yay') → '<<Yay>>'\n",
    "make_out_word('<<>>', 'WooHoo') → '<<WooHoo>>'\n",
    "make_out_word('[[]]', 'word') → '[[word]]'\n",
    "\n",
    "https://codingbat.com/prob/p129981"
   ]
  },
  {
   "cell_type": "code",
   "execution_count": 5,
   "id": "38b26953",
   "metadata": {},
   "outputs": [],
   "source": [
    "def make_out_word(out, word):\n",
    "  ans=out[0:2]+word+out[2:]\n",
    "  return ans"
   ]
  },
  {
   "cell_type": "markdown",
   "id": "75c12476",
   "metadata": {},
   "source": [
    "### extra_end ###"
   ]
  },
  {
   "cell_type": "markdown",
   "id": "d4e6235a",
   "metadata": {},
   "source": [
    "Given a string, return a new string made of 3 copies of the last 2 chars of the original string. The string length will be at least 2.\n",
    "\n",
    "\n",
    "extra_end('Hello') → 'lololo'\n",
    "extra_end('ab') → 'ababab'\n",
    "extra_end('Hi') → 'HiHiHi'\n",
    "\n",
    "https://codingbat.com/prob/p148853"
   ]
  },
  {
   "cell_type": "code",
   "execution_count": 6,
   "id": "47ce3a6c",
   "metadata": {},
   "outputs": [],
   "source": [
    "\n",
    "def extra_end(str):\n",
    "  ans=str[-2]+str[-1]\n",
    "  return 3* ans\n",
    "\n"
   ]
  },
  {
   "cell_type": "markdown",
   "id": "69f86abf",
   "metadata": {},
   "source": [
    "###  first_two ###"
   ]
  },
  {
   "cell_type": "markdown",
   "id": "3632662a",
   "metadata": {},
   "source": [
    "Given a string, return the string made of its first two chars, so the String \"Hello\" yields \"He\". If the string is shorter than length 2, return whatever there is, so \"X\" yields \"X\", and the empty string \"\" yields the empty string \"\".\n",
    "\n",
    "\n",
    "first_two('Hello') → 'He'\n",
    "first_two('abcdefg') → 'ab'\n",
    "first_two('ab') → 'ab'\n",
    "\n",
    "https://codingbat.com/prob/p184816"
   ]
  },
  {
   "cell_type": "code",
   "execution_count": 8,
   "id": "c3c27a81",
   "metadata": {},
   "outputs": [],
   "source": [
    "def first_two(str):\n",
    "  length=len(str)\n",
    "  if length<2:\n",
    "    return str\n",
    "  else:\n",
    "    ans=str[0:2]\n",
    "    return ans\n"
   ]
  },
  {
   "cell_type": "markdown",
   "id": "0b3061ad",
   "metadata": {},
   "source": [
    "###  first_half ###"
   ]
  },
  {
   "cell_type": "markdown",
   "id": "4c4bd2e5",
   "metadata": {},
   "source": [
    "\n",
    "Given a string of even length, return the first half. So the string \"WooHoo\" yields \"Woo\".\n",
    "\n",
    "\n",
    "first_half('WooHoo') → 'Woo'\n",
    "first_half('HelloThere') → 'Hello'\n",
    "first_half('abcdef') → 'abc'\n",
    "\n",
    "https://codingbat.com/prob/p107010"
   ]
  },
  {
   "cell_type": "code",
   "execution_count": null,
   "id": "ff9f778c",
   "metadata": {},
   "outputs": [],
   "source": [
    "def first_half(str):\n",
    "  length=len(str)\n",
    "  mid=length/2\n",
    "  return str[0:mid]"
   ]
  }
 ],
 "metadata": {
  "kernelspec": {
   "display_name": "Python 3 (ipykernel)",
   "language": "python",
   "name": "python3"
  },
  "language_info": {
   "codemirror_mode": {
    "name": "ipython",
    "version": 3
   },
   "file_extension": ".py",
   "mimetype": "text/x-python",
   "name": "python",
   "nbconvert_exporter": "python",
   "pygments_lexer": "ipython3",
   "version": "3.9.7"
  }
 },
 "nbformat": 4,
 "nbformat_minor": 5
}
