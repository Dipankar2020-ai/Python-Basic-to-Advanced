{
 "cells": [
  {
   "cell_type": "markdown",
   "id": "a2e35f2c",
   "metadata": {},
   "source": [
    "## Say \"Hello, World!\" With Python\n",
    "\n",
    "https://www.hackerrank.com/challenges/py-hello-world/problem?isFullScreen=false"
   ]
  },
  {
   "cell_type": "code",
   "execution_count": 1,
   "id": "e2816bca",
   "metadata": {},
   "outputs": [
    {
     "name": "stdout",
     "output_type": "stream",
     "text": [
      "Hello, World!\n"
     ]
    }
   ],
   "source": [
    "print(\"Hello, World!\")"
   ]
  },
  {
   "cell_type": "markdown",
   "id": "52e1d6a2",
   "metadata": {},
   "source": [
    "## Python If-Else\n",
    "https://www.hackerrank.com/challenges/py-if-else/problem?h_r=next-challenge&h_v=zen&isFullScreen=false"
   ]
  },
  {
   "cell_type": "code",
   "execution_count": 4,
   "id": "2c07fc16",
   "metadata": {},
   "outputs": [
    {
     "name": "stdout",
     "output_type": "stream",
     "text": [
      "5\n",
      "Weird\n"
     ]
    }
   ],
   "source": [
    "n=int(input())\n",
    "if n==0:\n",
    "    pass\n",
    "if n%2==1:\n",
    "    print(\"Weird\")\n",
    "else:\n",
    "    if n>=2 and n<=5:\n",
    "        print(\"Not Weird\")\n",
    "    if n>=6 and n<=20:\n",
    "        print(\"Weird\")\n",
    "    if n>20 and n<=100:\n",
    "        print(\"Not Weird\")"
   ]
  },
  {
   "cell_type": "markdown",
   "id": "8a6d6bee",
   "metadata": {},
   "source": [
    "### Arithmetic Operators\n",
    "https://www.hackerrank.com/challenges/python-arithmetic-operators/problem?h_r=next-challenge&h_v=zen&isFullScreen=false"
   ]
  },
  {
   "cell_type": "code",
   "execution_count": 5,
   "id": "32ac61f8",
   "metadata": {},
   "outputs": [
    {
     "name": "stdout",
     "output_type": "stream",
     "text": [
      "5\n",
      "2\n",
      "7\n",
      "3\n",
      "10\n"
     ]
    }
   ],
   "source": [
    "a=int(input())\n",
    "b=int(input())\n",
    "print(a+b)\n",
    "print(a-b)\n",
    "print(a*b)"
   ]
  },
  {
   "cell_type": "markdown",
   "id": "97557c5c",
   "metadata": {},
   "source": [
    "## Python: Division\n",
    "https://www.hackerrank.com/challenges/python-division/problem?h_r=next-challenge&h_v=zen&isFullScreen=false"
   ]
  },
  {
   "cell_type": "code",
   "execution_count": 6,
   "id": "9d474d75",
   "metadata": {},
   "outputs": [
    {
     "name": "stdout",
     "output_type": "stream",
     "text": [
      "4\n",
      "3\n",
      "1\n",
      "1.3333333333333333\n"
     ]
    }
   ],
   "source": [
    "\n",
    "a = int(input())\n",
    "b = int(input())\n",
    "print(a//b)\n",
    "print(a/b)"
   ]
  },
  {
   "cell_type": "markdown",
   "id": "5012f6f7",
   "metadata": {},
   "source": [
    "## Loops\n",
    "https://www.hackerrank.com/challenges/python-loops/problem?h_r=next-challenge&h_v=zen&isFullScreen=false&h_r=next-challenge&h_v=zen"
   ]
  },
  {
   "cell_type": "code",
   "execution_count": 7,
   "id": "6c065fef",
   "metadata": {},
   "outputs": [
    {
     "name": "stdout",
     "output_type": "stream",
     "text": [
      "5\n",
      "0\n",
      "1\n",
      "4\n",
      "9\n",
      "16\n"
     ]
    }
   ],
   "source": [
    "n=int(input())\n",
    "for i in range(n):\n",
    "    print(i**2)"
   ]
  }
 ],
 "metadata": {
  "kernelspec": {
   "display_name": "Python 3 (ipykernel)",
   "language": "python",
   "name": "python3"
  },
  "language_info": {
   "codemirror_mode": {
    "name": "ipython",
    "version": 3
   },
   "file_extension": ".py",
   "mimetype": "text/x-python",
   "name": "python",
   "nbconvert_exporter": "python",
   "pygments_lexer": "ipython3",
   "version": "3.9.7"
  }
 },
 "nbformat": 4,
 "nbformat_minor": 5
}
