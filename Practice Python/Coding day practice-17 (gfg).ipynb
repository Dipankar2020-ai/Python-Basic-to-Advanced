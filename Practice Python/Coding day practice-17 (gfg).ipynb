{
 "cells": [
  {
   "cell_type": "markdown",
   "id": "106e9bad",
   "metadata": {},
   "source": [
    "# Python List Exercise\n",
    "https://www.geeksforgeeks.org/python-list-exercise/"
   ]
  },
  {
   "cell_type": "markdown",
   "id": "9df33cb5",
   "metadata": {},
   "source": [
    "# Python program to count Even and Odd numbers in a List"
   ]
  },
  {
   "cell_type": "code",
   "execution_count": 2,
   "id": "03b0117f",
   "metadata": {},
   "outputs": [
    {
     "name": "stdout",
     "output_type": "stream",
     "text": [
      "1 2 3 4 5 6 7 8 9 10 11 12\n",
      "Number of even elements in a list is 6\n",
      "Number of odd elements in a list is 6\n"
     ]
    }
   ],
   "source": [
    "list=[int(i) for i in input().split()]\n",
    "count1=0\n",
    "count2=0\n",
    "for i in list:\n",
    "    if i%2==0:\n",
    "        count1+=1\n",
    "    else:\n",
    "        count2+=1\n",
    "print(\"Number of even elements in a list is\",count1)\n",
    "print(\"Number of odd elements in a list is\",count2)\n",
    "        "
   ]
  },
  {
   "cell_type": "markdown",
   "id": "6c29e675",
   "metadata": {},
   "source": [
    "# Python program to print positive numbers in a list"
   ]
  },
  {
   "cell_type": "code",
   "execution_count": 5,
   "id": "db155582",
   "metadata": {},
   "outputs": [
    {
     "name": "stdout",
     "output_type": "stream",
     "text": [
      "1 -2 -3 4 -8 5 4 0\n",
      "1 4 5 4 0 "
     ]
    }
   ],
   "source": [
    "list=[int(i) for i in input().split()]\n",
    "for i in list:\n",
    "    if i>=0:\n",
    "        print(i,end=\" \")"
   ]
  },
  {
   "cell_type": "markdown",
   "id": "ab1029de",
   "metadata": {},
   "source": [
    "# Python program to print negative numbers in a list"
   ]
  },
  {
   "cell_type": "code",
   "execution_count": 7,
   "id": "6014fe67",
   "metadata": {},
   "outputs": [
    {
     "name": "stdout",
     "output_type": "stream",
     "text": [
      "1 -2 -4 5 -9 7 5\n",
      "-2 -4 -9 "
     ]
    }
   ],
   "source": [
    "list=[int(i) for i in input().split()]\n",
    "for i in list:\n",
    "    if i<0:\n",
    "        print(i,end=\" \")\n",
    "#or \n",
    "#neg_nos = [num for num in list1 if num < 0]"
   ]
  },
  {
   "cell_type": "markdown",
   "id": "9f5a1d55",
   "metadata": {},
   "source": [
    "# Python program to print all positive numbers in a range"
   ]
  },
  {
   "cell_type": "code",
   "execution_count": 8,
   "id": "9308f538",
   "metadata": {},
   "outputs": [
    {
     "name": "stdout",
     "output_type": "stream",
     "text": [
      "-5\n",
      "10\n",
      "0 1 2 3 4 5 6 7 8 9 10 "
     ]
    }
   ],
   "source": [
    "start=int(input())\n",
    "end=int(input())\n",
    "for i in range(start,end+1):\n",
    "    if i>=0:\n",
    "        print(i,end=\" \")"
   ]
  },
  {
   "cell_type": "markdown",
   "id": "513a4f8c",
   "metadata": {},
   "source": [
    "# Python program to print all negative numbers in a range"
   ]
  },
  {
   "cell_type": "code",
   "execution_count": 9,
   "id": "dde6fc9c",
   "metadata": {},
   "outputs": [
    {
     "name": "stdout",
     "output_type": "stream",
     "text": [
      "-5 \n",
      "10\n",
      "-5 -4 -3 -2 -1 "
     ]
    }
   ],
   "source": [
    "start=int(input())\n",
    "end=int(input())\n",
    "for i in range(start,end+1):\n",
    "    if i<0:\n",
    "        print(i,end=\" \")"
   ]
  },
  {
   "cell_type": "markdown",
   "id": "96a0d704",
   "metadata": {},
   "source": [
    "# Python program to count positive and negative numbers in a list"
   ]
  },
  {
   "cell_type": "code",
   "execution_count": 10,
   "id": "69e5c2c0",
   "metadata": {},
   "outputs": [
    {
     "name": "stdout",
     "output_type": "stream",
     "text": [
      "-1 10 2 5 -7 6 -4 5 2\n",
      "Number of positive elements in a list is 6\n",
      "Number of negative elements in a list is 3\n"
     ]
    }
   ],
   "source": [
    "list=[int(i) for i in input().split()]\n",
    "count1=0\n",
    "count2=0\n",
    "for i in list:\n",
    "    if i>=0:\n",
    "        count1+=1\n",
    "    else:\n",
    "        count2+=1\n",
    "print(\"Number of positive elements in a list is\",count1)\n",
    "print(\"Number of negative elements in a list is\",count2)"
   ]
  },
  {
   "cell_type": "markdown",
   "id": "49f9b671",
   "metadata": {},
   "source": [
    "# Remove even elements from a list in Python"
   ]
  },
  {
   "cell_type": "code",
   "execution_count": 11,
   "id": "b23714f8",
   "metadata": {},
   "outputs": [
    {
     "name": "stdout",
     "output_type": "stream",
     "text": [
      "1 2 3 4 5 6 7 8\n",
      "[1, 3, 5, 7]\n"
     ]
    }
   ],
   "source": [
    "list=[int(i) for i in input().split()]\n",
    "for i in list:\n",
    "    if i%2==0:\n",
    "        list.remove(i)\n",
    "print(list)"
   ]
  },
  {
   "cell_type": "markdown",
   "id": "9ba008f2",
   "metadata": {},
   "source": [
    "# Program to print duplicates from a list of integers"
   ]
  },
  {
   "cell_type": "code",
   "execution_count": 13,
   "id": "86b0b051",
   "metadata": {},
   "outputs": [
    {
     "name": "stdout",
     "output_type": "stream",
     "text": [
      "1 2 2 3 4 3 5 7 8 6 9 1  14 12 9\n",
      "1 2 3 9 "
     ]
    }
   ],
   "source": [
    "list=[int(i) for i in input().split()]\n",
    "d={}\n",
    "for i in list:\n",
    "    if i in d:\n",
    "        d[i]+=1\n",
    "    else:\n",
    "        d[i]=1\n",
    "for i in d:\n",
    "    if d[i]>1:\n",
    "        print(i,end=\" \")\n",
    "    "
   ]
  }
 ],
 "metadata": {
  "kernelspec": {
   "display_name": "Python 3 (ipykernel)",
   "language": "python",
   "name": "python3"
  },
  "language_info": {
   "codemirror_mode": {
    "name": "ipython",
    "version": 3
   },
   "file_extension": ".py",
   "mimetype": "text/x-python",
   "name": "python",
   "nbconvert_exporter": "python",
   "pygments_lexer": "ipython3",
   "version": "3.9.7"
  }
 },
 "nbformat": 4,
 "nbformat_minor": 5
}
