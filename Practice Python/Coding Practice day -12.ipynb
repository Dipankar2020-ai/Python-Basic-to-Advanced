{
 "cells": [
  {
   "cell_type": "markdown",
   "id": "d290296d",
   "metadata": {},
   "source": [
    "# check if list is sorted"
   ]
  },
  {
   "cell_type": "markdown",
   "id": "a61221c1",
   "metadata": {},
   "source": [
    "## Method 1- Using Loop"
   ]
  },
  {
   "cell_type": "code",
   "execution_count": 7,
   "id": "4dca1e4a",
   "metadata": {},
   "outputs": [
    {
     "name": "stdout",
     "output_type": "stream",
     "text": [
      "10 20 30\n",
      "Yes\n"
     ]
    }
   ],
   "source": [
    "def issorted(l):\n",
    "    length=len(l)\n",
    "    if length<=1:\n",
    "        return True\n",
    "    for i in range(length-1):\n",
    "        if l[i]>l[i+1]:\n",
    "            return False\n",
    "    return True\n",
    "l=[int(i) for i in input().split()]\n",
    "if issorted(l)==True:\n",
    "    print(\"Yes\")\n",
    "else:\n",
    "    print(\"No\")"
   ]
  },
  {
   "cell_type": "code",
   "execution_count": 9,
   "id": "a7ba05d8",
   "metadata": {},
   "outputs": [
    {
     "name": "stdout",
     "output_type": "stream",
     "text": [
      "10 5 2\n",
      "No\n"
     ]
    }
   ],
   "source": [
    "def issorted(l):\n",
    "    length=len(l)\n",
    "    if length<=1:\n",
    "        return True\n",
    "    for i in range(length-1):\n",
    "        if l[i]>l[i+1]:\n",
    "            return False\n",
    "    return True\n",
    "l=[int(i) for i in input().split()]\n",
    "if issorted(l)==True:\n",
    "    print(\"Yes\")\n",
    "else:\n",
    "    print(\"No\")"
   ]
  },
  {
   "cell_type": "markdown",
   "id": "83378c15",
   "metadata": {},
   "source": [
    "## Method 2- Sorted() function"
   ]
  },
  {
   "cell_type": "code",
   "execution_count": 10,
   "id": "9b35cbb3",
   "metadata": {},
   "outputs": [
    {
     "name": "stdout",
     "output_type": "stream",
     "text": [
      "10 5 2\n",
      "No\n"
     ]
    }
   ],
   "source": [
    "def issorted(l):\n",
    "    length=len(l)\n",
    "    if length<=1:\n",
    "        return True\n",
    "    sl=sorted(l)\n",
    "    if l==sl:\n",
    "        return True\n",
    "    else:\n",
    "        return False\n",
    "    \n",
    "l=[int(i) for i in input().split()]\n",
    "if issorted(l)==True:\n",
    "    print(\"Yes\")\n",
    "else:\n",
    "    print(\"No\")"
   ]
  },
  {
   "cell_type": "markdown",
   "id": "aadd4099",
   "metadata": {},
   "source": [
    "### Find the only odd (appear odd number of times)"
   ]
  },
  {
   "cell_type": "code",
   "execution_count": 16,
   "id": "cf529f07",
   "metadata": {},
   "outputs": [
    {
     "name": "stdout",
     "output_type": "stream",
     "text": [
      "10 10 20 30 30 20 40\n",
      "40\n"
     ]
    }
   ],
   "source": [
    "def  oddappear(l):\n",
    "    length=len(l)\n",
    "    if length==1:\n",
    "        return l[0]\n",
    "    d={}\n",
    "    for i in l:\n",
    "        if i in d:\n",
    "            d[i]+=1\n",
    "        else:\n",
    "            d[i]=1\n",
    "    for i in d:\n",
    "        if d[i]%2==1:\n",
    "            return i\n",
    "l=[int(i) for i in input().split()]\n",
    "print(oddappear(l))\n",
    "\n",
    "        "
   ]
  },
  {
   "cell_type": "markdown",
   "id": "8dd16021",
   "metadata": {},
   "source": [
    "## Method  2 (XOR)"
   ]
  },
  {
   "cell_type": "code",
   "execution_count": 17,
   "id": "133a3e0e",
   "metadata": {},
   "outputs": [
    {
     "name": "stdout",
     "output_type": "stream",
     "text": [
      "10 10 20 30 30 20 40\n",
      "40\n"
     ]
    }
   ],
   "source": [
    "def findodd(l):\n",
    "    res=0\n",
    "    for x in l:\n",
    "        res=res^x\n",
    "    return res\n",
    "l=[int(i) for i in input().split()]\n",
    "print(findodd(l))"
   ]
  },
  {
   "cell_type": "markdown",
   "id": "c3989260",
   "metadata": {},
   "source": [
    "### Reverse a list "
   ]
  },
  {
   "cell_type": "code",
   "execution_count": 20,
   "id": "5f92af4f",
   "metadata": {},
   "outputs": [
    {
     "name": "stdout",
     "output_type": "stream",
     "text": [
      "10 20 30 40 50\n",
      "[50, 40, 30, 20, 10]\n"
     ]
    }
   ],
   "source": [
    "def reverse1(l):\n",
    "    length=len(l)\n",
    "    i=0\n",
    "    j=length-1\n",
    "    while i<j:\n",
    "        temp=l[i]\n",
    "        l[i]=l[j]\n",
    "        l[j]=temp\n",
    "        i+=1\n",
    "        j=j-1\n",
    "    return l\n",
    "\n",
    "l=[int(i) for i in input().split()]\n",
    "print(reverse1(l))\n",
    "        "
   ]
  },
  {
   "cell_type": "markdown",
   "id": "6e364475",
   "metadata": {},
   "source": [
    "## Left rotate by 1"
   ]
  },
  {
   "cell_type": "code",
   "execution_count": 26,
   "id": "94a7a4c3",
   "metadata": {},
   "outputs": [
    {
     "name": "stdout",
     "output_type": "stream",
     "text": [
      "10 20 30 40\n",
      "[20, 30, 40, 10]\n"
     ]
    }
   ],
   "source": [
    "def leftrotateby1(l):\n",
    "    var=l[0]\n",
    "    length=len(l)\n",
    "    for i in range(0,length-1):\n",
    "        l[i]=l[i+1]\n",
    "    l[-1]=var\n",
    "    return l\n",
    "l=[int(i) for i in input().split()]\n",
    "print(leftrotateby1(l))"
   ]
  },
  {
   "cell_type": "markdown",
   "id": "68f62497",
   "metadata": {},
   "source": [
    "### Left rotate by d"
   ]
  },
  {
   "cell_type": "code",
   "execution_count": 33,
   "id": "ee6063b4",
   "metadata": {},
   "outputs": [
    {
     "name": "stdout",
     "output_type": "stream",
     "text": [
      "1 2 3 4 5\n",
      "2\n",
      "[3, 4, 5, 1, 2]\n"
     ]
    }
   ],
   "source": [
    "def rotatebyd(l,d):\n",
    "    n=len(l)\n",
    "    reverse(l,0,d-1)\n",
    "    reverse(l,d,n-1)\n",
    "    reverse(l,0,n-1)\n",
    "    return l\n",
    "def reverse(l,b,e):\n",
    "    while b<e:\n",
    "        l[b],l[e]=l[e],l[b]\n",
    "        b=b+1\n",
    "        e=e-1\n",
    "l=[int(i) for i in input().split()]\n",
    "d=int(input())\n",
    "print(rotatebyd(l,d))"
   ]
  }
 ],
 "metadata": {
  "kernelspec": {
   "display_name": "Python 3 (ipykernel)",
   "language": "python",
   "name": "python3"
  },
  "language_info": {
   "codemirror_mode": {
    "name": "ipython",
    "version": 3
   },
   "file_extension": ".py",
   "mimetype": "text/x-python",
   "name": "python",
   "nbconvert_exporter": "python",
   "pygments_lexer": "ipython3",
   "version": "3.9.7"
  }
 },
 "nbformat": 4,
 "nbformat_minor": 5
}
