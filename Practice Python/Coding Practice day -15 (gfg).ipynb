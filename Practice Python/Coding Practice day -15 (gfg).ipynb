{
 "cells": [
  {
   "cell_type": "markdown",
   "id": "f04faee8",
   "metadata": {},
   "source": [
    "# Program two swap two elements in a list "
   ]
  },
  {
   "cell_type": "code",
   "execution_count": 2,
   "id": "8ccd33ef",
   "metadata": {},
   "outputs": [
    {
     "name": "stdout",
     "output_type": "stream",
     "text": [
      "1 2 3 4 5 6\n",
      "2\n",
      "4\n",
      "[1, 2, 5, 4, 3, 6]\n"
     ]
    }
   ],
   "source": [
    "li=[int(i) for i in input().split()]\n",
    "pos1=int(input())\n",
    "pos2=int(input())\n",
    "li[pos1],li[pos2]=li[pos2],li[pos1]\n",
    "print(li)\n"
   ]
  },
  {
   "cell_type": "markdown",
   "id": "51259188",
   "metadata": {},
   "source": [
    "# Ways to find length of list"
   ]
  },
  {
   "cell_type": "code",
   "execution_count": 3,
   "id": "e2357180",
   "metadata": {},
   "outputs": [
    {
     "name": "stdout",
     "output_type": "stream",
     "text": [
      "1 2 3 4 5 6\n",
      "6\n"
     ]
    }
   ],
   "source": [
    "li=[int(i) for i in input().split()]\n",
    "print(len(li))"
   ]
  },
  {
   "cell_type": "markdown",
   "id": "7ea53648",
   "metadata": {},
   "source": [
    "# Maximum of two numbers in Python"
   ]
  },
  {
   "cell_type": "code",
   "execution_count": 5,
   "id": "5061f8e8",
   "metadata": {},
   "outputs": [
    {
     "name": "stdout",
     "output_type": "stream",
     "text": [
      "-1\n",
      "-4\n",
      "-1\n"
     ]
    }
   ],
   "source": [
    "a=int(input())\n",
    "b=int(input())\n",
    "ans=max(a,b)\n",
    "print(ans)"
   ]
  },
  {
   "cell_type": "markdown",
   "id": "0bb0c99c",
   "metadata": {},
   "source": [
    "# Minimum of two numbers in Python"
   ]
  },
  {
   "cell_type": "code",
   "execution_count": 6,
   "id": "fc9d8670",
   "metadata": {},
   "outputs": [
    {
     "name": "stdout",
     "output_type": "stream",
     "text": [
      "2\n",
      "4\n",
      "2\n"
     ]
    }
   ],
   "source": [
    "a=int(input())\n",
    "b=int(input())\n",
    "ans=min(a,b)\n",
    "print(ans)"
   ]
  },
  {
   "cell_type": "markdown",
   "id": "4ba5dc4b",
   "metadata": {},
   "source": [
    "# Check if element exists in list in Python"
   ]
  },
  {
   "cell_type": "code",
   "execution_count": 15,
   "id": "2571fc7d",
   "metadata": {},
   "outputs": [
    {
     "name": "stdout",
     "output_type": "stream",
     "text": [
      "1 2 34 5\n",
      "56\n",
      "Element is not present\n"
     ]
    }
   ],
   "source": [
    "li=[int(i) for i in input().split()]\n",
    "a=int(input())\n",
    "for i in li:\n",
    "    if i==a:\n",
    "        \n",
    "        print(\"Element is present\")\n",
    "        break\n",
    "        \n",
    "else:\n",
    "    print(\"Element is not present\")\n",
    "    \n",
    "    \n",
    "    \n",
    "\n",
    "        "
   ]
  }
 ],
 "metadata": {
  "kernelspec": {
   "display_name": "Python 3 (ipykernel)",
   "language": "python",
   "name": "python3"
  },
  "language_info": {
   "codemirror_mode": {
    "name": "ipython",
    "version": 3
   },
   "file_extension": ".py",
   "mimetype": "text/x-python",
   "name": "python",
   "nbconvert_exporter": "python",
   "pygments_lexer": "ipython3",
   "version": "3.9.7"
  }
 },
 "nbformat": 4,
 "nbformat_minor": 5
}
