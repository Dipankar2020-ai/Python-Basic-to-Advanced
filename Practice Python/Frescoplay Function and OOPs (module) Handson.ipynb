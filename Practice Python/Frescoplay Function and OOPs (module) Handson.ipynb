{
 "cells": [
  {
   "cell_type": "markdown",
   "id": "e7b2d738",
   "metadata": {},
   "source": [
    "# Handson - Python -itertools"
   ]
  },
  {
   "cell_type": "code",
   "execution_count": 10,
   "id": "99f2da95",
   "metadata": {},
   "outputs": [
    {
     "name": "stdout",
     "output_type": "stream",
     "text": [
      "4\n",
      "1\n",
      "10\n",
      "5\n",
      "2\n",
      "8\n",
      "48\n",
      "14\n",
      "63\n",
      "59\n",
      "47\n",
      "49\n",
      "22\n",
      "19\n",
      "60\n",
      "1\n",
      "40\n",
      "((1, 10, 5, 2), (8, 8, 8, 8), (59, 106, 155, 177), (1, 10, 5, 2, 8, 48, 14, 63, 59, 47, 49, 22, 19, 60, 1, 40), (1, 5, 63, 59, 47, 49, 19, 1))\n"
     ]
    }
   ],
   "source": [
    "\n",
    "\n",
    "def performIterator(tuplevalues):\n",
    "    # Write your code here\n",
    "    import itertools as iter\n",
    "    import operator\n",
    "    a=[]\n",
    "    l=[]\n",
    "    s=iter.cycle(tuplevalues[0])\n",
    "    j=0\n",
    "    \n",
    "    for i in s:\n",
    "        j=j+1\n",
    "        if j>4:\n",
    "            break\n",
    "        l.append(i)\n",
    "    a.append(tuple(l))\n",
    "    l1=len(tuplevalues[1])\n",
    "    a.append(tuple(iter.repeat(tuplevalues[1][0],l1)))\n",
    "    a.append(tuple(iter.accumulate(tuplevalues[2])))\n",
    "    b=tuple(iter.chain(tuplevalues[0],tuplevalues[1],tuplevalues[2],tuplevalues[3]))\n",
    "    a.append(tuple(iter.chain(tuplevalues[0],tuplevalues[1],tuplevalues[2],tuplevalues[3])))  \n",
    "    a.append(tuple(iter.filterfalse(lambda x:x%2==0,b)))\n",
    "    return (tuple(a))  \n",
    "\n",
    "if __name__ == '__main__':\n",
    "\n",
    "    length = int(input().strip())\n",
    "\n",
    "    qw1 = []\n",
    "    for i in range(4):\n",
    "        qw2 = []\n",
    "        for _ in range(length):\n",
    "            qw2_item = int(input().strip())\n",
    "            qw2.append(qw2_item)\n",
    "        qw1.append(tuple(qw2))\n",
    "    tupb = tuple(qw1)\n",
    "\n",
    "    q = performIterator(tupb)\n",
    "    print(q)"
   ]
  },
  {
   "cell_type": "markdown",
   "id": "9ecd4220",
   "metadata": {},
   "source": [
    "# Handson-Python - Cryptography"
   ]
  },
  {
   "cell_type": "code",
   "execution_count": null,
   "id": "aa6c6166",
   "metadata": {},
   "outputs": [],
   "source": [
    "from cryptography.fernet import Fernet\n",
    "\n",
    "def encrdecr(keyval, textencr, textdecr):\n",
    "    # Write your code here\n",
    "    a=[]\n",
    "    encryptype=Fernet(keyval)\n",
    "    textencr=encryptype.encrypt(textencr)\n",
    "    a.append(textencr)\n",
    "    textdecr=encryptype.decrypt(textdecr)\n",
    "    a.append(textdecr.decode())\n",
    "    return a\n",
    "\n",
    "if __name__ == '__main__':\n",
    "    fptr = open(os.environ['OUTPUT_PATH'], 'w')\n",
    " \n",
    "    file = open('key.key', 'rb')\n",
    "    key = file.read()  # The key will be type bytes\n",
    "    file.close()\n",
    "    \n",
    "    keyval = key\n",
    "\n",
    "    textencr = str(input()).encode()\n",
    "\n",
    "    textdecr = str(input()).encode()\n",
    "\n",
    "\n",
    "    result = encrdecr(keyval, textencr, textdecr)\n",
    "    bk=[]\n",
    "    f = Fernet(key)\n",
    "    val = f.decrypt(result[0])\n",
    "    bk.append(val.decode())\n",
    "    bk.append(result[1])\n",
    "\n",
    "    fptr.write(str(bk) + '\\n')\n",
    "\n",
    "    fptr.close()"
   ]
  },
  {
   "cell_type": "code",
   "execution_count": null,
   "id": "ea9660dd",
   "metadata": {},
   "outputs": [],
   "source": []
  }
 ],
 "metadata": {
  "kernelspec": {
   "display_name": "Python 3 (ipykernel)",
   "language": "python",
   "name": "python3"
  },
  "language_info": {
   "codemirror_mode": {
    "name": "ipython",
    "version": 3
   },
   "file_extension": ".py",
   "mimetype": "text/x-python",
   "name": "python",
   "nbconvert_exporter": "python",
   "pygments_lexer": "ipython3",
   "version": "3.9.7"
  }
 },
 "nbformat": 4,
 "nbformat_minor": 5
}
