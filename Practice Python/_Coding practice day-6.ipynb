{
 "cells": [
  {
   "cell_type": "markdown",
   "id": "e57591af",
   "metadata": {},
   "source": [
    "### Coding practice day -6"
   ]
  },
  {
   "cell_type": "markdown",
   "id": "b4d048a0",
   "metadata": {},
   "source": [
    "### common_end"
   ]
  },
  {
   "cell_type": "markdown",
   "id": "f31035d5",
   "metadata": {},
   "source": [
    "Given 2 arrays of ints, a and b, return True if they have the same first element or they have the same last element. Both arrays will be length 1 or more.\n",
    "\n",
    "\n",
    "common_end([1, 2, 3], [7, 3]) → True\n",
    "common_end([1, 2, 3], [7, 3, 2]) → False\n",
    "common_end([1, 2, 3], [1, 3]) → True\n",
    "\n",
    "https://codingbat.com/prob/p147755"
   ]
  },
  {
   "cell_type": "code",
   "execution_count": 2,
   "id": "e0efafef",
   "metadata": {},
   "outputs": [],
   "source": [
    "def common_end(a, b):\n",
    "  if len(a) and len(b):\n",
    "    if a[-1]==b[-1] or a[0]==b[0]:\n",
    "      return True\n",
    "    else:\n",
    "      return False"
   ]
  },
  {
   "cell_type": "markdown",
   "id": "bf070f1d",
   "metadata": {},
   "source": [
    "### sum3"
   ]
  },
  {
   "cell_type": "markdown",
   "id": "9eacb572",
   "metadata": {},
   "source": [
    "Given an array of ints length 3, return the sum of all the elements.\n",
    "\n",
    "\n",
    "sum3([1, 2, 3]) → 6\n",
    "sum3([5, 11, 2]) → 18\n",
    "sum3([7, 0, 0]) → 7\n",
    "\n",
    "https://codingbat.com/prob/p191645"
   ]
  },
  {
   "cell_type": "code",
   "execution_count": 3,
   "id": "93325ddf",
   "metadata": {},
   "outputs": [],
   "source": [
    "def sum3(nums):\n",
    "  sum=0\n",
    "  for i in nums:\n",
    "    sum=sum+i\n",
    "  return sum"
   ]
  },
  {
   "cell_type": "markdown",
   "id": "71133b1b",
   "metadata": {},
   "source": [
    "### rotate_left3 ###"
   ]
  },
  {
   "cell_type": "markdown",
   "id": "6f0c8264",
   "metadata": {},
   "source": [
    "Given an array of ints length 3, return an array with the elements \"rotated left\" so {1, 2, 3} yields {2, 3, 1}.\n",
    "\n",
    "\n",
    "rotate_left3([1, 2, 3]) → [2, 3, 1]\n",
    "rotate_left3([5, 11, 9]) → [11, 9, 5]\n",
    "rotate_left3([7, 0, 0]) → [0, 0, 7]\n",
    "\n",
    "https://codingbat.com/prob/p148661"
   ]
  },
  {
   "cell_type": "code",
   "execution_count": 4,
   "id": "33245c8d",
   "metadata": {},
   "outputs": [],
   "source": [
    "def rotate_left3(nums):\n",
    "  a=nums[0]\n",
    "  ans=nums[1:]\n",
    "  ans.append(a)\n",
    "  return ans"
   ]
  },
  {
   "cell_type": "markdown",
   "id": "cad3a5e5",
   "metadata": {},
   "source": [
    "### reverse3"
   ]
  },
  {
   "cell_type": "markdown",
   "id": "fee46165",
   "metadata": {},
   "source": [
    "\n",
    "Given an array of ints length 3, return a new array with the elements in reverse order, so {1, 2, 3} becomes {3, 2, 1}.\n",
    "\n",
    "\n",
    "reverse3([1, 2, 3]) → [3, 2, 1]\n",
    "reverse3([5, 11, 9]) → [9, 11, 5]\n",
    "reverse3([7, 0, 0]) → [0, 0, 7]\n",
    "\n",
    "https://codingbat.com/prob/p192962"
   ]
  },
  {
   "cell_type": "code",
   "execution_count": 5,
   "id": "7eb98cd1",
   "metadata": {},
   "outputs": [],
   "source": [
    "def reverse3(nums):\n",
    "  return nums[-1::-1]"
   ]
  },
  {
   "cell_type": "markdown",
   "id": "279fef96",
   "metadata": {},
   "source": [
    "### max_end3"
   ]
  },
  {
   "cell_type": "markdown",
   "id": "5f4d8a97",
   "metadata": {},
   "source": [
    "Given an array of ints length 3, figure out which is larger, the first or last element in the array, and set all the other elements to be that value. Return the changed array.\n",
    "\n",
    "\n",
    "max_end3([1, 2, 3]) → [3, 3, 3]\n",
    "max_end3([11, 5, 9]) → [11, 11, 11]\n",
    "max_end3([2, 11, 3]) → [3, 3, 3]\n",
    "\n",
    "https://codingbat.com/prob/p135290"
   ]
  },
  {
   "cell_type": "code",
   "execution_count": 6,
   "id": "48e86072",
   "metadata": {},
   "outputs": [],
   "source": [
    "def max_end3(nums):\n",
    "  length=len(nums)\n",
    "  if nums[0]>nums[-1]:\n",
    "    ans=nums[0]\n",
    "  else:\n",
    "    ans=nums[-1]\n",
    "  res=[]\n",
    "  for i in range(0,length):\n",
    "    res.append(ans)\n",
    "  return res"
   ]
  },
  {
   "cell_type": "markdown",
   "id": "7b0cf420",
   "metadata": {},
   "source": [
    "### sum2"
   ]
  },
  {
   "cell_type": "markdown",
   "id": "086da07d",
   "metadata": {},
   "source": [
    "\n",
    "Given an array of ints, return the sum of the first 2 elements in the array. If the array length is less than 2, just sum up the elements that exist, returning 0 if the array is length 0.\n",
    "\n",
    "\n",
    "sum2([1, 2, 3]) → 3\n",
    "sum2([1, 1]) → 2\n",
    "sum2([1, 1, 1, 1]) → 2\n",
    "\n",
    "https://codingbat.com/prob/p192589"
   ]
  },
  {
   "cell_type": "code",
   "execution_count": 7,
   "id": "3dac3e3d",
   "metadata": {},
   "outputs": [],
   "source": [
    "def sum2(nums):\n",
    "  if len(nums)==0:\n",
    "    return 0\n",
    "  if len(nums)<2:\n",
    "    return nums[0]\n",
    "  else:\n",
    "    return nums[0]+nums[1]"
   ]
  },
  {
   "cell_type": "markdown",
   "id": "020c4f2d",
   "metadata": {},
   "source": [
    "## middle_way"
   ]
  },
  {
   "cell_type": "markdown",
   "id": "f40cb839",
   "metadata": {},
   "source": [
    "\n",
    "Given 2 int arrays, a and b, each length 3, return a new array length 2 containing their middle elements.\n",
    "\n",
    "\n",
    "middle_way([1, 2, 3], [4, 5, 6]) → [2, 5]\n",
    "middle_way([7, 7, 7], [3, 8, 0]) → [7, 8]\n",
    "middle_way([5, 2, 9], [1, 4, 5]) → [2, 4]\n",
    "\n",
    "https://codingbat.com/prob/p171011"
   ]
  },
  {
   "cell_type": "code",
   "execution_count": 8,
   "id": "c2c8c496",
   "metadata": {},
   "outputs": [],
   "source": [
    "def middle_way(a, b):\n",
    "  ans=[]\n",
    "  ans.append(a[1])\n",
    "  ans.append(b[1])\n",
    "  return ans"
   ]
  },
  {
   "cell_type": "markdown",
   "id": "1ca39f52",
   "metadata": {},
   "source": [
    "### make_ends"
   ]
  },
  {
   "cell_type": "markdown",
   "id": "1e15accb",
   "metadata": {},
   "source": [
    "Given an array of ints, return a new array length 2 containing the first and last elements from the original array. The original array will be length 1 or more.\n",
    "\n",
    "\n",
    "make_ends([1, 2, 3]) → [1, 3]\n",
    "make_ends([1, 2, 3, 4]) → [1, 4]\n",
    "make_ends([7, 4, 6, 2]) → [7, 2]\n",
    "\n",
    "https://codingbat.com/prob/p124806"
   ]
  },
  {
   "cell_type": "code",
   "execution_count": 9,
   "id": "c65ffb3c",
   "metadata": {},
   "outputs": [],
   "source": [
    "def make_ends(nums):\n",
    "  if len(nums)>0:\n",
    "    ans=[]\n",
    "    ans.append(nums[0])\n",
    "    ans.append(nums[-1])\n",
    "    return ans"
   ]
  },
  {
   "cell_type": "markdown",
   "id": "ee54f0bc",
   "metadata": {},
   "source": [
    "### has23"
   ]
  },
  {
   "cell_type": "markdown",
   "id": "88ed8597",
   "metadata": {},
   "source": [
    "\n",
    "Given an int array length 2, return True if it contains a 2 or a 3.\n",
    "\n",
    "\n",
    "has23([2, 5]) → True\n",
    "has23([4, 3]) → True\n",
    "has23([4, 5]) → False\n",
    "\n",
    "https://codingbat.com/prob/p177892"
   ]
  },
  {
   "cell_type": "code",
   "execution_count": 10,
   "id": "830423c7",
   "metadata": {},
   "outputs": [],
   "source": [
    "def has23(nums):\n",
    "  if 2  in nums:\n",
    "    return True\n",
    "  if 3 in nums:\n",
    "    return True\n",
    "  else:\n",
    "    return False"
   ]
  }
 ],
 "metadata": {
  "kernelspec": {
   "display_name": "Python 3 (ipykernel)",
   "language": "python",
   "name": "python3"
  },
  "language_info": {
   "codemirror_mode": {
    "name": "ipython",
    "version": 3
   },
   "file_extension": ".py",
   "mimetype": "text/x-python",
   "name": "python",
   "nbconvert_exporter": "python",
   "pygments_lexer": "ipython3",
   "version": "3.9.7"
  }
 },
 "nbformat": 4,
 "nbformat_minor": 5
}
