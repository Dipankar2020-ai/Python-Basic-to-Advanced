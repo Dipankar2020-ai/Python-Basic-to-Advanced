{
 "cells": [
  {
   "cell_type": "markdown",
   "id": "5126dddb",
   "metadata": {},
   "source": [
    "### Coding practice day-3 ###"
   ]
  },
  {
   "cell_type": "markdown",
   "id": "c03cf34a",
   "metadata": {},
   "source": [
    "### string_times ##"
   ]
  },
  {
   "cell_type": "markdown",
   "id": "23505f97",
   "metadata": {},
   "source": [
    "Given a string and a non-negative int n, return a larger string that is n copies of the original string.\n",
    "\n",
    "\n",
    "string_times('Hi', 2) → 'HiHi'\n",
    "string_times('Hi', 3) → 'HiHiHi'\n",
    "string_times('Hi', 1) → 'Hi'\n",
    "\n",
    "https://codingbat.com/prob/p193507"
   ]
  },
  {
   "cell_type": "code",
   "execution_count": 1,
   "id": "de57fcc9",
   "metadata": {},
   "outputs": [],
   "source": [
    "def string_times(str, n):\n",
    "  ans=n* str\n",
    "  return ans"
   ]
  },
  {
   "cell_type": "markdown",
   "id": "838f287e",
   "metadata": {},
   "source": [
    "## front_times ##"
   ]
  },
  {
   "cell_type": "markdown",
   "id": "a0b0f069",
   "metadata": {},
   "source": [
    "Given a string and a non-negative int n, we'll say that the front of the string is the first 3 chars, or whatever is there if the string is less than length 3. Return n copies of the front;\n",
    "\n",
    "\n",
    "front_times('Chocolate', 2) → 'ChoCho'\n",
    "front_times('Chocolate', 3) → 'ChoChoCho'\n",
    "front_times('Abc', 3) → 'AbcAbcAbc'\n",
    "\n",
    "https://codingbat.com/prob/p165097"
   ]
  },
  {
   "cell_type": "code",
   "execution_count": 2,
   "id": "2c46a309",
   "metadata": {},
   "outputs": [],
   "source": [
    "def front_times(str, n):\n",
    "  length=len(str)\n",
    "  if length<3:\n",
    "    ans=n* str\n",
    "    return ans\n",
    "  else:\n",
    "    ans=n* str[0:3]\n",
    "    return ans"
   ]
  },
  {
   "cell_type": "markdown",
   "id": "ca4d9e72",
   "metadata": {},
   "source": [
    "### string_bits ###"
   ]
  },
  {
   "cell_type": "markdown",
   "id": "aef0326e",
   "metadata": {},
   "source": [
    "Given a string, return a new string made of every other char starting with the first, so \"Hello\" yields \"Hlo\".\n",
    "\n",
    "\n",
    "string_bits('Hello') → 'Hlo'\n",
    "string_bits('Hi') → 'H'\n",
    "string_bits('Heeololeo') → 'Hello'\n",
    "\n",
    "https://codingbat.com/prob/p113152"
   ]
  },
  {
   "cell_type": "code",
   "execution_count": 3,
   "id": "74231ac4",
   "metadata": {},
   "outputs": [],
   "source": [
    "def string_bits(str):\n",
    "  result = \"\"\n",
    "  # Many ways to do this. This uses the standard loop of i on every char,\n",
    "  # and inside the loop skips the odd index values.\n",
    "  for i in range(len(str)):\n",
    "    if i % 2 == 0:\n",
    "      result = result + str[i]\n",
    "  return result\n",
    "  "
   ]
  },
  {
   "cell_type": "markdown",
   "id": "2b7ba743",
   "metadata": {},
   "source": [
    "### string_splosion ##"
   ]
  },
  {
   "cell_type": "markdown",
   "id": "6fc77082",
   "metadata": {},
   "source": [
    "Given a non-empty string like \"Code\" return a string like \"CCoCodCode\".\n",
    "\n",
    "\n",
    "string_splosion('Code') → 'CCoCodCode'\n",
    "string_splosion('abc') → 'aababc'\n",
    "string_splosion('ab') → 'aab'\n",
    "\n",
    "https://codingbat.com/prob/p118366"
   ]
  },
  {
   "cell_type": "code",
   "execution_count": 4,
   "id": "ddacece2",
   "metadata": {},
   "outputs": [],
   "source": [
    "def string_splosion(str):\n",
    "  length=len(str)\n",
    "  ans=\"\"\n",
    "  for i in range(1,length+1):\n",
    "    ans=ans+str[0:i]\n",
    "  return ans"
   ]
  },
  {
   "cell_type": "markdown",
   "id": "9b290f65",
   "metadata": {},
   "source": [
    "### last2  (important) ###"
   ]
  },
  {
   "cell_type": "markdown",
   "id": "09d0e619",
   "metadata": {},
   "source": [
    "Given a string, return the count of the number of times that a substring length 2 appears in the string and also as the last 2 chars of the string, so \"hixxxhi\" yields 1 (we won't count the end substring).\n",
    "\n",
    "\n",
    "last2('hixxhi') → 1\n",
    "last2('xaxxaxaxx') → 1\n",
    "last2('axxxaaxx') → 2\n",
    "\n",
    "https://codingbat.com/prob/p145834"
   ]
  },
  {
   "cell_type": "code",
   "execution_count": 6,
   "id": "b36b5e44",
   "metadata": {},
   "outputs": [],
   "source": [
    "def last2(str):\n",
    "  if len(str) < 2:\n",
    "    return 0\n",
    "  \n",
    "  # last 2 chars, can be written as str[-2:]\n",
    "  last2 = str[len(str)-2:]\n",
    "  count = 0\n",
    "  \n",
    "  # Check each substring length 2 starting at i\n",
    "  for i in range(len(str)-2):\n",
    "    sub = str[i:i+2]\n",
    "    if sub == last2:\n",
    "      count = count + 1\n",
    "  return count"
   ]
  },
  {
   "cell_type": "markdown",
   "id": "cac4cea0",
   "metadata": {},
   "source": [
    "### array_count9 ###"
   ]
  },
  {
   "cell_type": "markdown",
   "id": "f0878fd6",
   "metadata": {},
   "source": [
    "\n",
    "Given an array of ints, return the number of 9's in the array.\n",
    "\n",
    "\n",
    "array_count9([1, 2, 9]) → 1\n",
    "array_count9([1, 9, 9]) → 2\n",
    "array_count9([1, 9, 9, 3, 9]) → 3\n",
    "\n",
    "https://codingbat.com/prob/p166170"
   ]
  },
  {
   "cell_type": "code",
   "execution_count": 7,
   "id": "d38f44f7",
   "metadata": {},
   "outputs": [],
   "source": [
    "def array_count9(nums):\n",
    "  count=0\n",
    "  for i in nums:\n",
    "    if i==9:\n",
    "      count=count+1\n",
    "  return count\n"
   ]
  },
  {
   "cell_type": "markdown",
   "id": "c288ff88",
   "metadata": {},
   "source": [
    "### array_front9 ###"
   ]
  },
  {
   "cell_type": "markdown",
   "id": "c6be054d",
   "metadata": {},
   "source": [
    "\n",
    "Given an array of ints, return True if one of the first 4 elements in the array is a 9. The array length may be less than 4.\n",
    "\n",
    "\n",
    "array_front9([1, 2, 9, 3, 4]) → True\n",
    "array_front9([1, 2, 3, 4, 9]) → False\n",
    "array_front9([1, 2, 3, 4, 5]) → False\n",
    "\n",
    "https://codingbat.com/prob/p110166"
   ]
  },
  {
   "cell_type": "code",
   "execution_count": 8,
   "id": "4bbbb875",
   "metadata": {},
   "outputs": [],
   "source": [
    "def array_front9(nums):\n",
    "  length=len(nums)\n",
    "  if length<4:\n",
    "    for i in nums:\n",
    "      if i==9:\n",
    "        return True\n",
    "    return False\n",
    "    \n",
    "  else:\n",
    "    li=nums[0:4]\n",
    "    for i in li:\n",
    "      if i==9:\n",
    "        return True\n",
    "    return False"
   ]
  },
  {
   "cell_type": "markdown",
   "id": "68e99d0e",
   "metadata": {},
   "source": [
    "### array123 ###"
   ]
  },
  {
   "cell_type": "markdown",
   "id": "8c347aed",
   "metadata": {},
   "source": [
    "Given an array of ints, return True if the sequence of numbers 1, 2, 3 appears in the array somewhere.\n",
    "\n",
    "\n",
    "array123([1, 1, 2, 3, 1]) → True\n",
    "array123([1, 1, 2, 4, 1]) → False\n",
    "array123([1, 1, 2, 1, 2, 3]) → True\n",
    "\n",
    "https://codingbat.com/prob/p193604"
   ]
  },
  {
   "cell_type": "code",
   "execution_count": 9,
   "id": "1d2c61f9",
   "metadata": {},
   "outputs": [],
   "source": [
    "def array123(nums):\n",
    "  d={}\n",
    "  for i in nums:\n",
    "    if i in d:\n",
    "      d[i]=d[i]+1\n",
    "    else:\n",
    "      d[i]=1\n",
    "  if 1 in d and 2 in d and 3 in d:\n",
    "    return True\n",
    "  else:\n",
    "    return False"
   ]
  },
  {
   "cell_type": "markdown",
   "id": "fbfa3f6f",
   "metadata": {},
   "source": [
    "### string_match ###"
   ]
  },
  {
   "cell_type": "markdown",
   "id": "3423a586",
   "metadata": {},
   "source": [
    "\n",
    "Given 2 strings, a and b, return the number of the positions where they contain the same length 2 substring. So \"xxcaazz\" and \"xxbaaz\" yields 3, since the \"xx\", \"aa\", and \"az\" substrings appear in the same place in both strings.\n",
    "\n",
    "\n",
    "string_match('xxcaazz', 'xxbaaz') → 3\n",
    "string_match('abc', 'abc') → 2\n",
    "string_match('abc', 'axc') → 0\n",
    "\n",
    "https://codingbat.com/prob/p182414"
   ]
  },
  {
   "cell_type": "code",
   "execution_count": 10,
   "id": "1f735ff7",
   "metadata": {},
   "outputs": [],
   "source": [
    "def string_match(a, b):\n",
    "  # Figure which string is shorter.\n",
    "  shorter = min(len(a), len(b))\n",
    "  count = 0\n",
    "  \n",
    "  # Loop i over every substring starting spot.\n",
    "  # Use length-1 here, so can use char str[i+1] in the loop\n",
    "  for i in range(shorter-1):\n",
    "    a_sub = a[i:i+2]\n",
    "    b_sub = b[i:i+2]\n",
    "    if a_sub == b_sub:\n",
    "      count = count + 1\n",
    "\n",
    "  return count"
   ]
  }
 ],
 "metadata": {
  "kernelspec": {
   "display_name": "Python 3 (ipykernel)",
   "language": "python",
   "name": "python3"
  },
  "language_info": {
   "codemirror_mode": {
    "name": "ipython",
    "version": 3
   },
   "file_extension": ".py",
   "mimetype": "text/x-python",
   "name": "python",
   "nbconvert_exporter": "python",
   "pygments_lexer": "ipython3",
   "version": "3.9.7"
  }
 },
 "nbformat": 4,
 "nbformat_minor": 5
}
