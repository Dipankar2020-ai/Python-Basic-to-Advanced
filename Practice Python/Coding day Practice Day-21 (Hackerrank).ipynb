{
 "cells": [
  {
   "cell_type": "markdown",
   "id": "ebb00ce0",
   "metadata": {},
   "source": [
    "# sWAP cASE\n",
    "https://www.hackerrank.com/challenges/swap-case/problem?isFullScreen=true"
   ]
  },
  {
   "cell_type": "code",
   "execution_count": 1,
   "id": "553d4943",
   "metadata": {},
   "outputs": [
    {
     "name": "stdout",
     "output_type": "stream",
     "text": [
      "hAcKerNk\n",
      "HaCkERnK\n"
     ]
    }
   ],
   "source": [
    "def swap_case(s):\n",
    "    ans=\"\"\n",
    "    for i in s:\n",
    "        if ord(i)>=65 and ord(i)<97:\n",
    "            ans=ans+i.lower()\n",
    "        elif ord(i)>=97:\n",
    "            ans=ans+i.upper()\n",
    "        else:\n",
    "            ans=ans+i\n",
    "        \n",
    "    return ans\n",
    "\n",
    "if __name__ == '__main__':\n",
    "    s = input()\n",
    "    result = swap_case(s)\n",
    "    print(result)"
   ]
  },
  {
   "cell_type": "markdown",
   "id": "31eb84e3",
   "metadata": {},
   "source": [
    "# What's Your Name?\n",
    "https://www.hackerrank.com/challenges/whats-your-name/problem?isFullScreen=true"
   ]
  },
  {
   "cell_type": "code",
   "execution_count": 2,
   "id": "2a737a02",
   "metadata": {},
   "outputs": [
    {
     "name": "stdout",
     "output_type": "stream",
     "text": [
      "Dipankar\n",
      "Kundu\n",
      "Hello Dipankar Kundu! You just delved into python.\n"
     ]
    }
   ],
   "source": [
    "def print_full_name(first, last):\n",
    "    ans=\"Hello \"+first+\" \"+last+\"!\"+\" You just delved into python.\"\n",
    "    print(ans)\n",
    "    \n",
    "    # Write your code here\n",
    "\n",
    "if __name__ == '__main__':\n",
    "    first_name = input()\n",
    "    last_name = input()\n",
    "    print_full_name(first_name, last_name)"
   ]
  },
  {
   "cell_type": "markdown",
   "id": "38d9b00e",
   "metadata": {},
   "source": [
    "# Mutations\n",
    "https://www.hackerrank.com/challenges/python-mutations/problem?isFullScreen=true"
   ]
  },
  {
   "cell_type": "code",
   "execution_count": 3,
   "id": "0abba0d3",
   "metadata": {},
   "outputs": [
    {
     "name": "stdout",
     "output_type": "stream",
     "text": [
      "abracadabra\n",
      "5 k\n",
      "abrackdabra\n"
     ]
    }
   ],
   "source": [
    "def mutate_string(string, position, character):\n",
    "    li=list(string)\n",
    "    li[position]=character\n",
    "    ans=\"\"\n",
    "    for i in li:\n",
    "        ans=ans+i\n",
    "    return ans\n",
    "\n",
    "if __name__ == '__main__':\n",
    "    s = input()\n",
    "    i, c = input().split()\n",
    "    s_new = mutate_string(s, int(i), c)\n",
    "    print(s_new)"
   ]
  }
 ],
 "metadata": {
  "kernelspec": {
   "display_name": "Python 3 (ipykernel)",
   "language": "python",
   "name": "python3"
  },
  "language_info": {
   "codemirror_mode": {
    "name": "ipython",
    "version": 3
   },
   "file_extension": ".py",
   "mimetype": "text/x-python",
   "name": "python",
   "nbconvert_exporter": "python",
   "pygments_lexer": "ipython3",
   "version": "3.9.7"
  }
 },
 "nbformat": 4,
 "nbformat_minor": 5
}
