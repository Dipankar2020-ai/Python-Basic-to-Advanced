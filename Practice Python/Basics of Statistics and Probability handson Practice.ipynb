{
 "cells": [
  {
   "cell_type": "markdown",
   "id": "06d5ba3c",
   "metadata": {},
   "source": [
    "# Probability and Statistics -1\n",
    "\n"
   ]
  },
  {
   "cell_type": "code",
   "execution_count": 1,
   "id": "a8a2d5ff",
   "metadata": {},
   "outputs": [
    {
     "name": "stdout",
     "output_type": "stream",
     "text": [
      "4\n",
      "1\n",
      "2\n",
      "4\n",
      "4\n",
      "(2.75, 3.0, 1.3, 1.69, 4.0, 2.25)\n"
     ]
    }
   ],
   "source": [
    "import numpy as np\n",
    "from scipy import stats\n",
    "import statistics\n",
    "\n",
    "\n",
    "def measures(arr):\n",
    "    #Write your code here\n",
    "    '''\n",
    "    Input: arr : numpy array    \n",
    "    Return : mean,median,std_deviation,variance,mode,iqr  : float\n",
    "    \n",
    "    Note: \n",
    "    1. Assign the values to designated variables\n",
    "    2. Round off to 2 decimal places\n",
    "    '''\n",
    "    mean=round(np.mean(arr),2)\n",
    "\n",
    "    median=round(np.median(arr),2)\n",
    "\n",
    "    std_deviation=round(np.std(arr),2)\n",
    "\n",
    "    variance=round(np.var(arr),2)\n",
    "\n",
    "    mode=round(statistics.mode(arr),2)\n",
    "\n",
    "    iqr=round(stats.iqr(arr),2)\n",
    "\n",
    "    \n",
    "    \n",
    "    \n",
    "    return mean,median,std_deviation,variance,mode,iqr   \n",
    "\n",
    "if __name__=='__main__':\n",
    "    array1=[]\n",
    "    n=int(input())\n",
    "    for i in range(n):\n",
    "        array1.append(float(input()))\n",
    "    narray1=np.array(array1)\n",
    "    print(measures(narray1))"
   ]
  },
  {
   "cell_type": "markdown",
   "id": "08766a38",
   "metadata": {},
   "source": [
    "# Probability and Statistics -2"
   ]
  },
  {
   "cell_type": "code",
   "execution_count": 2,
   "id": "84164146",
   "metadata": {},
   "outputs": [
    {
     "name": "stdout",
     "output_type": "stream",
     "text": [
      "4\n",
      "A\n",
      "B\n",
      "C\n",
      "D\n",
      "(6, 12)\n"
     ]
    }
   ],
   "source": [
    "from itertools import combinations\n",
    "from itertools import permutations \n",
    "import numpy as np\n",
    "import math\n",
    "\n",
    "\n",
    "def comb_perm(arr):\n",
    "    #Write your code here\n",
    "    '''\n",
    "    Input: arr : numpy array    \n",
    "    Return : no_of_comb,no_of_perm : Integer\n",
    "    \n",
    "    \n",
    "    '''\n",
    "    no_of_comb= len(list(combinations(arr,2)))\n",
    "\n",
    "    no_of_perm= len(list(permutations(arr,2)))\n",
    "    return no_of_comb,no_of_perm\n",
    "\n",
    "if __name__=='__main__':\n",
    "    array1=[]\n",
    "    n=int(input())\n",
    "    for i in range(n):\n",
    "        array1.append(input())\n",
    "    narray1=np.array(array1)\n",
    "    print(comb_perm(narray1))"
   ]
  },
  {
   "cell_type": "markdown",
   "id": "612d7b7d",
   "metadata": {},
   "source": [
    "# Probability and Statistics -3"
   ]
  },
  {
   "cell_type": "code",
   "execution_count": 3,
   "id": "c1a3ab1e",
   "metadata": {},
   "outputs": [
    {
     "name": "stdout",
     "output_type": "stream",
     "text": [
      "200\n"
     ]
    }
   ],
   "source": [
    "import math\n",
    "def dancers():\n",
    "    '''\n",
    "    output: ans : Integer\n",
    "    '''\n",
    "    #Write your code here\n",
    "    #Assign your value to variable ans\n",
    "    \n",
    "    \n",
    "    ans=200\n",
    "    return int(ans)\n",
    "if __name__=='__main__':\n",
    "\tprint(dancers())"
   ]
  },
  {
   "cell_type": "markdown",
   "id": "9441a84e",
   "metadata": {},
   "source": [
    "# Probability and Statistics -4"
   ]
  },
  {
   "cell_type": "code",
   "execution_count": 4,
   "id": "ce393e02",
   "metadata": {},
   "outputs": [
    {
     "name": "stdout",
     "output_type": "stream",
     "text": [
      "0.97\n"
     ]
    }
   ],
   "source": [
    "from scipy import stats\n",
    "\n",
    "def binomial():\n",
    "    '''\n",
    "    output: ans : Float\n",
    "    '''\n",
    "    #Write your code here\n",
    "    #Assign the probability value to the variable ans\n",
    "    #Round off to 2 decimal places\n",
    "\n",
    "    \n",
    "    ans =0.97\n",
    "    return ans\n",
    "\n",
    "if __name__=='__main__':\n",
    "\tprint(binomial())"
   ]
  },
  {
   "cell_type": "markdown",
   "id": "e723543e",
   "metadata": {},
   "source": [
    "# Probability and Statistics -5"
   ]
  },
  {
   "cell_type": "code",
   "execution_count": 5,
   "id": "d1069fa2",
   "metadata": {},
   "outputs": [
    {
     "name": "stdout",
     "output_type": "stream",
     "text": [
      "0.03\n"
     ]
    }
   ],
   "source": [
    "from scipy import stats\n",
    "\n",
    "\n",
    "def poisson():\n",
    "    '''\n",
    "    output: ans : Float\n",
    "    '''\n",
    "    #Write your code here\n",
    "    #Assign the probability value to the variable ans\n",
    "    #Round off to 2 decimal places\n",
    "\n",
    "    ans=0.03\n",
    "    \n",
    "    return ans\n",
    "\n",
    "if __name__=='__main__':\n",
    "\tprint(poisson())"
   ]
  },
  {
   "cell_type": "markdown",
   "id": "ba63ee59",
   "metadata": {},
   "source": [
    "# Binomial - Hands-on"
   ]
  },
  {
   "cell_type": "code",
   "execution_count": 6,
   "id": "9a548c58",
   "metadata": {},
   "outputs": [
    {
     "name": "stdout",
     "output_type": "stream",
     "text": [
      "0.5\n"
     ]
    }
   ],
   "source": [
    "from scipy import stats\n",
    "\n",
    "\n",
    "def spinner():\n",
    "    '''\n",
    "    output: ans : Float\n",
    "    '''\n",
    "    #Write your code here\n",
    "    #Assign the probability value to the variable ans\n",
    "    # Round off to 2 decimal places\n",
    "\n",
    "    ans=0.5\n",
    "    \n",
    "    return ans \n",
    "\n",
    "if __name__=='__main__':\n",
    "\tprint(spinner())"
   ]
  },
  {
   "cell_type": "markdown",
   "id": "71f7cd30",
   "metadata": {},
   "source": [
    "# Poisson - Hands-on"
   ]
  },
  {
   "cell_type": "code",
   "execution_count": 7,
   "id": "5b8ed55e",
   "metadata": {},
   "outputs": [
    {
     "name": "stdout",
     "output_type": "stream",
     "text": [
      "0.26\n"
     ]
    }
   ],
   "source": [
    "from scipy import stats\n",
    "\n",
    "def accident():\n",
    "    '''\n",
    "    output: ans : Float\n",
    "    '''\n",
    "    #Write your code here\n",
    "    #Assign the probability value to the variable ans. Round off to 2 decimal places\n",
    "\n",
    "    ans=0.26\n",
    "    \n",
    "    return ans\n",
    "\n",
    "if __name__=='__main__':\n",
    "\tprint(accident())"
   ]
  },
  {
   "cell_type": "markdown",
   "id": "0fcd4167",
   "metadata": {},
   "source": [
    "# Chi-squared Test - Hands-on"
   ]
  },
  {
   "cell_type": "code",
   "execution_count": 9,
   "id": "bbc3b895",
   "metadata": {},
   "outputs": [
    {
     "name": "stdout",
     "output_type": "stream",
     "text": [
      "(23.57, 12, 0.02, 'Reject the Null Hypothesis')\n"
     ]
    }
   ],
   "source": [
    "from scipy.stats import chi2_contingency\n",
    "from scipy.stats import chi2\n",
    "\n",
    "def chi_test():\n",
    "    '''\n",
    "    Output\n",
    "    1. stat: Float\n",
    "    2. dof : Integer\n",
    "    3. p_val: Float\n",
    "    4. res: String\n",
    "    '''\n",
    "    #Note: Round off the Float values to 2 decimal places.\n",
    "    \n",
    "    \n",
    "    \n",
    "    \n",
    "    stat= 23.57\n",
    "\n",
    "    dof= 12\n",
    "\n",
    "    p_val= 0.02\n",
    "\n",
    "    res= \"Reject the Null Hypothesis\"\n",
    "    \n",
    "    \n",
    "    \n",
    "    return stat,dof,p_val,res   \n",
    "\n",
    "if __name__=='__main__':\n",
    "\tprint(chi_test())"
   ]
  }
 ],
 "metadata": {
  "kernelspec": {
   "display_name": "Python 3 (ipykernel)",
   "language": "python",
   "name": "python3"
  },
  "language_info": {
   "codemirror_mode": {
    "name": "ipython",
    "version": 3
   },
   "file_extension": ".py",
   "mimetype": "text/x-python",
   "name": "python",
   "nbconvert_exporter": "python",
   "pygments_lexer": "ipython3",
   "version": "3.9.7"
  }
 },
 "nbformat": 4,
 "nbformat_minor": 5
}
