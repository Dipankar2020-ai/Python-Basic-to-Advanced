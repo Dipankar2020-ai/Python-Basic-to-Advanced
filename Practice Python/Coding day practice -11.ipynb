{
 "cells": [
  {
   "cell_type": "markdown",
   "id": "40d89552",
   "metadata": {},
   "source": [
    "### Average or Mean of List "
   ]
  },
  {
   "cell_type": "code",
   "execution_count": 2,
   "id": "74af5e2b",
   "metadata": {},
   "outputs": [
    {
     "name": "stdout",
     "output_type": "stream",
     "text": [
      "10 20 30 40\n",
      "25.0\n"
     ]
    }
   ],
   "source": [
    "def average(l):\n",
    "    sum=0\n",
    "    for x in l:\n",
    "        sum=sum+x\n",
    "    length=len(l)\n",
    "    return sum/length\n",
    "l=[int(i) for i in input().split()]\n",
    "print(average(l))"
   ]
  },
  {
   "cell_type": "code",
   "execution_count": 4,
   "id": "0f0af0af",
   "metadata": {},
   "outputs": [
    {
     "name": "stdout",
     "output_type": "stream",
     "text": [
      "30 60 40\n",
      "43.33\n"
     ]
    }
   ],
   "source": [
    "def average(l):\n",
    "    return sum(l)/len(l)\n",
    "l=[int(i) for i in input().split()]\n",
    "print(round(average(l),2))"
   ]
  },
  {
   "cell_type": "markdown",
   "id": "c01ef144",
   "metadata": {},
   "source": [
    "### Seperate even and odd"
   ]
  },
  {
   "cell_type": "code",
   "execution_count": 5,
   "id": "af712485",
   "metadata": {},
   "outputs": [
    {
     "name": "stdout",
     "output_type": "stream",
     "text": [
      " 10 41 30 15 80\n",
      "[10, 30, 80]\n",
      "[41, 15]\n"
     ]
    }
   ],
   "source": [
    "def getevenodd(l):\n",
    "    even=[]\n",
    "    odd=[]\n",
    "    for x in l:\n",
    "        if x%2==0:\n",
    "            even.append(x)\n",
    "        else:\n",
    "            odd.append(x)\n",
    "    return even,odd\n",
    "l=[int(i) for i in input().split()]\n",
    "even,odd=getevenodd(l)\n",
    "print(even)\n",
    "print(odd)\n"
   ]
  },
  {
   "cell_type": "code",
   "execution_count": 6,
   "id": "b4841873",
   "metadata": {},
   "outputs": [
    {
     "name": "stdout",
     "output_type": "stream",
     "text": [
      "10 30 40\n",
      "[10, 30, 40]\n",
      "[]\n"
     ]
    }
   ],
   "source": [
    "l=[int(i) for i in input().split()]\n",
    "even=list(filter(lambda x:x%2==0,l))\n",
    "odd=list(filter(lambda x:x%2==1,l))\n",
    "print(even)\n",
    "print(odd)"
   ]
  },
  {
   "cell_type": "markdown",
   "id": "90b66922",
   "metadata": {},
   "source": [
    "### Get smaller elements"
   ]
  },
  {
   "cell_type": "code",
   "execution_count": 7,
   "id": "69994082",
   "metadata": {},
   "outputs": [
    {
     "name": "stdout",
     "output_type": "stream",
     "text": [
      "8 100 20 40 3 7\n",
      "10\n",
      "[8, 3, 7]\n"
     ]
    }
   ],
   "source": [
    "l=[int(i) for i in input().split()]\n",
    "n=int(input())\n",
    "getsmaller=list(filter(lambda x:x<n,l))\n",
    "print(getsmaller)"
   ]
  },
  {
   "cell_type": "markdown",
   "id": "00814c97",
   "metadata": {},
   "source": [
    "### Largest element in a list "
   ]
  },
  {
   "cell_type": "code",
   "execution_count": 10,
   "id": "83d57ddc",
   "metadata": {},
   "outputs": [
    {
     "name": "stdout",
     "output_type": "stream",
     "text": [
      "30 30 20\n",
      "30\n"
     ]
    }
   ],
   "source": [
    "l=[int(i) for i in input().split()]\n",
    "\n",
    "length=len(l)\n",
    "if length==1:\n",
    "    print(l[0])\n",
    "else:\n",
    "    max1=l[0]\n",
    "    for i in range(0,length):\n",
    "        if l[i]>max1:\n",
    "            max1=l[i]\n",
    "    print(max1)\n",
    "            "
   ]
  },
  {
   "cell_type": "markdown",
   "id": "6a736588",
   "metadata": {},
   "source": [
    "### Second largest element in a list"
   ]
  },
  {
   "cell_type": "code",
   "execution_count": 32,
   "id": "4128ee55",
   "metadata": {},
   "outputs": [
    {
     "name": "stdout",
     "output_type": "stream",
     "text": [
      "20 10 20 8 12\n",
      "Max value  20\n",
      "Second max  12\n"
     ]
    }
   ],
   "source": [
    "l=[int(i) for i in input().split()]\n",
    "\n",
    "length=len(l)\n",
    "if length<=1:\n",
    "    print(None)\n",
    "\n",
    "else:\n",
    "    max1=l[0]\n",
    "    for i in range(0,length):\n",
    "        if l[i]>max1:\n",
    "            max1=l[i]\n",
    "    print(\"Max value \",max1)\n",
    "    \n",
    "secondmax=-999999\n",
    "for i in range(0,length):\n",
    "    if l[i]>secondmax and l[i]!=max1:\n",
    "        secondmax=l[i]\n",
    "if secondmax==-999999:\n",
    "    print(\"None\")\n",
    "else:\n",
    "    print(\"Second max \",secondmax)"
   ]
  }
 ],
 "metadata": {
  "kernelspec": {
   "display_name": "Python 3 (ipykernel)",
   "language": "python",
   "name": "python3"
  },
  "language_info": {
   "codemirror_mode": {
    "name": "ipython",
    "version": 3
   },
   "file_extension": ".py",
   "mimetype": "text/x-python",
   "name": "python",
   "nbconvert_exporter": "python",
   "pygments_lexer": "ipython3",
   "version": "3.9.7"
  }
 },
 "nbformat": 4,
 "nbformat_minor": 5
}
