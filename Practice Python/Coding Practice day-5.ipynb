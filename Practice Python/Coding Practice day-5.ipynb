{
 "cells": [
  {
   "cell_type": "markdown",
   "id": "4603fc16",
   "metadata": {},
   "source": [
    "### Coding Practice day-5 ###"
   ]
  },
  {
   "cell_type": "markdown",
   "id": "155bae47",
   "metadata": {},
   "source": [
    "###  non_start"
   ]
  },
  {
   "cell_type": "markdown",
   "id": "5c985f79",
   "metadata": {},
   "source": [
    "\n",
    "Given 2 strings, return their concatenation, except omit the first char of each. The strings will be at least length 1.\n",
    "\n",
    "\n",
    "non_start('Hello', 'There') → 'ellohere'\n",
    "non_start('java', 'code') → 'avaode'\n",
    "non_start('shotl', 'java') → 'hotlava'\n",
    "\n",
    "https://codingbat.com/prob/p127703"
   ]
  },
  {
   "cell_type": "code",
   "execution_count": 1,
   "id": "65fbb502",
   "metadata": {},
   "outputs": [],
   "source": [
    "def non_start(a, b):\n",
    "  if len(a)>0 and len(b)>0:\n",
    "    return a[1:]+b[1:]\n"
   ]
  },
  {
   "cell_type": "markdown",
   "id": "de7577b1",
   "metadata": {},
   "source": [
    "### left2"
   ]
  },
  {
   "cell_type": "markdown",
   "id": "caab6f6a",
   "metadata": {},
   "source": [
    "\n",
    "Given a string, return a \"rotated left 2\" version where the first 2 chars are moved to the end. The string length will be at least 2.\n",
    "\n",
    "\n",
    "left2('Hello') → 'lloHe'\n",
    "left2('java') → 'vaja'\n",
    "left2('Hi') → 'Hi'\n",
    "\n",
    "https://codingbat.com/prob/p160545"
   ]
  },
  {
   "cell_type": "code",
   "execution_count": 2,
   "id": "529e07aa",
   "metadata": {},
   "outputs": [],
   "source": [
    "def left2(str):\n",
    "  if len(str)==2:\n",
    "    return str\n",
    "  if len(str)>2:\n",
    "    return str[2:]+str[0:2]"
   ]
  },
  {
   "cell_type": "markdown",
   "id": "87471b19",
   "metadata": {},
   "source": [
    "## without_end"
   ]
  },
  {
   "cell_type": "markdown",
   "id": "8f65a285",
   "metadata": {},
   "source": [
    "\n",
    "Given a string, return a version without the first and last char, so \"Hello\" yields \"ell\". The string length will be at least 2.\n",
    "\n",
    "\n",
    "without_end('Hello') → 'ell'\n",
    "without_end('java') → 'av'\n",
    "without_end('coding') → 'odin'\n",
    "\n",
    "https://codingbat.com/prob/p138533"
   ]
  },
  {
   "cell_type": "code",
   "execution_count": 3,
   "id": "2082b8c3",
   "metadata": {},
   "outputs": [],
   "source": [
    "def without_end(str):\n",
    "  if len(str)>=2:\n",
    "    return str[1:len(str)-1]"
   ]
  },
  {
   "cell_type": "markdown",
   "id": "25db810d",
   "metadata": {},
   "source": [
    "### combo_string"
   ]
  },
  {
   "cell_type": "markdown",
   "id": "20259de5",
   "metadata": {},
   "source": [
    "Given 2 strings, a and b, return a string of the form short+long+short, with the shorter string on the outside and the longer string on the inside. The strings will not be the same length, but they may be empty (length 0).\n",
    "\n",
    "\n",
    "combo_string('Hello', 'hi') → 'hiHellohi'\n",
    "combo_string('hi', 'Hello') → 'hiHellohi'\n",
    "combo_string('aaa', 'b') → 'baaab'\n",
    "\n",
    "https://codingbat.com/prob/p194053"
   ]
  },
  {
   "cell_type": "code",
   "execution_count": 6,
   "id": "6e3f1336",
   "metadata": {},
   "outputs": [],
   "source": [
    "def combo_string(a, b):\n",
    "  if len(b)>len(a):\n",
    "    ans=a+b+a\n",
    "    return ans\n",
    "  else:\n",
    "    ans=b+a+b\n",
    "    return ans"
   ]
  },
  {
   "cell_type": "markdown",
   "id": "fe471162",
   "metadata": {},
   "source": [
    "### first_last6"
   ]
  },
  {
   "cell_type": "markdown",
   "id": "870e6f75",
   "metadata": {},
   "source": [
    "Given an array of ints, return True if 6 appears as either the first or last element in the array. The array will be length 1 or more.\n",
    "\n",
    "\n",
    "first_last6([1, 2, 6]) → True\n",
    "first_last6([6, 1, 2, 3]) → True\n",
    "first_last6([13, 6, 1, 2, 3]) → False\n",
    "\n",
    "https://codingbat.com/prob/p181624"
   ]
  },
  {
   "cell_type": "code",
   "execution_count": 7,
   "id": "240a42b3",
   "metadata": {},
   "outputs": [],
   "source": [
    "def first_last6(nums):\n",
    "  if nums[0]==6 or nums[-1]==6:\n",
    "    return True\n",
    "  else:\n",
    "    return False"
   ]
  },
  {
   "cell_type": "markdown",
   "id": "2032246e",
   "metadata": {},
   "source": [
    "### same_first_last"
   ]
  },
  {
   "cell_type": "markdown",
   "id": "fc30672c",
   "metadata": {},
   "source": [
    "Given an array of ints, return True if the array is length 1 or more, and the first element and the last element are equal.\n",
    "\n",
    "\n",
    "same_first_last([1, 2, 3]) → False\n",
    "same_first_last([1, 2, 3, 1]) → True\n",
    "same_first_last([1, 2, 1]) → True\n",
    "\n",
    "https://codingbat.com/prob/p179078"
   ]
  },
  {
   "cell_type": "code",
   "execution_count": 8,
   "id": "89887c4f",
   "metadata": {},
   "outputs": [],
   "source": [
    "def same_first_last(nums):\n",
    "  if len(nums)>=1 and nums[0]==nums[-1]:\n",
    "    return True\n",
    "  else:\n",
    "    return False"
   ]
  },
  {
   "cell_type": "markdown",
   "id": "f7968f28",
   "metadata": {},
   "source": [
    "### make_pi"
   ]
  },
  {
   "cell_type": "markdown",
   "id": "791b490c",
   "metadata": {},
   "source": [
    "Return an int array length 3 containing the first 3 digits of pi, {3, 1, 4}.\n",
    "\n",
    "\n",
    "make_pi() → [3, 1, 4]\n",
    "\n",
    "https://codingbat.com/prob/p113659"
   ]
  },
  {
   "cell_type": "code",
   "execution_count": 9,
   "id": "f6ffcd40",
   "metadata": {},
   "outputs": [],
   "source": [
    "def make_pi():\n",
    "  pi=[]\n",
    "  pi.append(3)\n",
    "  pi.append(1)\n",
    "  pi.append(4)\n",
    "  return pi"
   ]
  }
 ],
 "metadata": {
  "kernelspec": {
   "display_name": "Python 3 (ipykernel)",
   "language": "python",
   "name": "python3"
  },
  "language_info": {
   "codemirror_mode": {
    "name": "ipython",
    "version": 3
   },
   "file_extension": ".py",
   "mimetype": "text/x-python",
   "name": "python",
   "nbconvert_exporter": "python",
   "pygments_lexer": "ipython3",
   "version": "3.9.7"
  }
 },
 "nbformat": 4,
 "nbformat_minor": 5
}
