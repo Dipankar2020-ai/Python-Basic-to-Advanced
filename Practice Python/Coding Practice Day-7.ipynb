{
 "cells": [
  {
   "cell_type": "markdown",
   "id": "761d3931",
   "metadata": {},
   "source": [
    "### Coding Practice Day-7"
   ]
  },
  {
   "cell_type": "markdown",
   "id": "87c8da64",
   "metadata": {},
   "source": [
    "#### cigar_party"
   ]
  },
  {
   "cell_type": "markdown",
   "id": "27128fa8",
   "metadata": {},
   "source": [
    "\n",
    "When squirrels get together for a party, they like to have cigars. A squirrel party is successful when the number of cigars is between 40 and 60, inclusive. Unless it is the weekend, in which case there is no upper bound on the number of cigars. Return True if the party with the given values is successful, or False otherwise.\n",
    "\n",
    "\n",
    "cigar_party(30, False) → False\n",
    "cigar_party(50, False) → True\n",
    "cigar_party(70, True) → True\n",
    "\n",
    "https://codingbat.com/prob/p195669"
   ]
  },
  {
   "cell_type": "code",
   "execution_count": 1,
   "id": "06d963a5",
   "metadata": {},
   "outputs": [],
   "source": [
    "def cigar_party(cigars, is_weekend):\n",
    "  if is_weekend==False:\n",
    "    if cigars>=40 and cigars<=60:\n",
    "      return True\n",
    "    else:\n",
    "      return False\n",
    "  else:\n",
    "    if cigars>=40:\n",
    "      return True\n",
    "    else:\n",
    "      return False"
   ]
  },
  {
   "cell_type": "markdown",
   "id": "fefabe49",
   "metadata": {},
   "source": [
    "## date_fashion"
   ]
  },
  {
   "cell_type": "markdown",
   "id": "3f706f30",
   "metadata": {},
   "source": [
    "\n",
    "You and your date are trying to get a table at a restaurant. The parameter \"you\" is the stylishness of your clothes, in the range 0..10, and \"date\" is the stylishness of your date's clothes. The result getting the table is encoded as an int value with 0=no, 1=maybe, 2=yes. If either of you is very stylish, 8 or more, then the result is 2 (yes). With the exception that if either of you has style of 2 or less, then the result is 0 (no). Otherwise the result is 1 (maybe).\n",
    "\n",
    "\n",
    "date_fashion(5, 10) → 2\n",
    "date_fashion(5, 2) → 0\n",
    "date_fashion(5, 5) → 1\n",
    "\n",
    "https://codingbat.com/prob/p129125"
   ]
  },
  {
   "cell_type": "code",
   "execution_count": 3,
   "id": "54792c76",
   "metadata": {},
   "outputs": [],
   "source": [
    "def date_fashion(you, date):\n",
    "  if you<=2 or date<=2:\n",
    "  \n",
    "    return 0\n",
    "  elif you>=8 or date>=8:\n",
    "    return 2\n",
    "  else:\n",
    "    return 1"
   ]
  },
  {
   "cell_type": "markdown",
   "id": "c5bec47e",
   "metadata": {},
   "source": [
    "### squirrel_play"
   ]
  },
  {
   "cell_type": "markdown",
   "id": "a50d424a",
   "metadata": {},
   "source": [
    "\n",
    "The squirrels in Palo Alto spend most of the day playing. In particular, they play if the temperature is between 60 and 90 (inclusive). Unless it is summer, then the upper limit is 100 instead of 90. Given an int temperature and a boolean is_summer, return True if the squirrels play and False otherwise.\n",
    "\n",
    "\n",
    "squirrel_play(70, False) → True\n",
    "squirrel_play(95, False) → False\n",
    "squirrel_play(95, True) → True\n",
    "\n",
    "https://codingbat.com/prob/p135815"
   ]
  },
  {
   "cell_type": "code",
   "execution_count": 4,
   "id": "ceb81c2a",
   "metadata": {},
   "outputs": [],
   "source": [
    "def squirrel_play(temp, is_summer):\n",
    "  if is_summer==False:\n",
    "    if temp>=60 and temp<=90:\n",
    "      return True\n",
    "    else :\n",
    "      return False\n",
    "  else:\n",
    "    if temp>=60 and temp<=100:    \n",
    "        return True\n",
    "    else:\n",
    "      return False"
   ]
  },
  {
   "cell_type": "markdown",
   "id": "dcae3fb4",
   "metadata": {},
   "source": [
    "## caught_speeding"
   ]
  },
  {
   "cell_type": "markdown",
   "id": "30ef730a",
   "metadata": {},
   "source": [
    "\n",
    "You are driving a little too fast, and a police officer stops you. Write code to compute the result, encoded as an int value: 0=no ticket, 1=small ticket, 2=big ticket. If speed is 60 or less, the result is 0. If speed is between 61 and 80 inclusive, the result is 1. If speed is 81 or more, the result is 2. Unless it is your birthday -- on that day, your speed can be 5 higher in all cases.\n",
    "\n",
    "\n",
    "caught_speeding(60, False) → 0\n",
    "caught_speeding(65, False) → 1\n",
    "caught_speeding(65, True) → 0\n",
    "\n",
    "https://codingbat.com/prob/p137202"
   ]
  },
  {
   "cell_type": "code",
   "execution_count": 5,
   "id": "f75b93d2",
   "metadata": {},
   "outputs": [],
   "source": [
    "def caught_speeding(speed, is_birthday):\n",
    "  if is_birthday==False:\n",
    "    if speed<=60:\n",
    "      return 0\n",
    "    if speed>=61 and speed<=80:\n",
    "      return 1\n",
    "    if speed>=81:\n",
    "      return 2\n",
    "  else:\n",
    "    if speed<=65:\n",
    "      return 0\n",
    "    if speed>=66 and speed<=85:\n",
    "      return 1\n",
    "    if speed>=86:\n",
    "      return 2"
   ]
  },
  {
   "cell_type": "markdown",
   "id": "48bc5867",
   "metadata": {},
   "source": [
    "## sorta_sum"
   ]
  },
  {
   "cell_type": "markdown",
   "id": "f1db0cf4",
   "metadata": {},
   "source": [
    "\n",
    "Given 2 ints, a and b, return their sum. However, sums in the range 10..19 inclusive, are forbidden, so in that case just return 20.\n",
    "\n",
    "\n",
    "sorta_sum(3, 4) → 7\n",
    "sorta_sum(9, 4) → 20\n",
    "sorta_sum(10, 11) → 21\n",
    "\n",
    "https://codingbat.com/prob/p116620"
   ]
  },
  {
   "cell_type": "code",
   "execution_count": 6,
   "id": "03ac7528",
   "metadata": {},
   "outputs": [],
   "source": [
    "def sorta_sum(a, b):\n",
    "  sum=a+b\n",
    "  if sum>=10 and sum<=19:\n",
    "    return 20\n",
    "  else:\n",
    "    return sum"
   ]
  }
 ],
 "metadata": {
  "kernelspec": {
   "display_name": "Python 3 (ipykernel)",
   "language": "python",
   "name": "python3"
  },
  "language_info": {
   "codemirror_mode": {
    "name": "ipython",
    "version": 3
   },
   "file_extension": ".py",
   "mimetype": "text/x-python",
   "name": "python",
   "nbconvert_exporter": "python",
   "pygments_lexer": "ipython3",
   "version": "3.9.7"
  }
 },
 "nbformat": 4,
 "nbformat_minor": 5
}
