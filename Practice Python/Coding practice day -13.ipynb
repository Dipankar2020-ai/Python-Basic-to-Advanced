{
 "cells": [
  {
   "cell_type": "markdown",
   "id": "f495541e",
   "metadata": {},
   "source": [
    "## Array insert at end"
   ]
  },
  {
   "cell_type": "code",
   "execution_count": 2,
   "id": "ba80e5c8",
   "metadata": {},
   "outputs": [
    {
     "name": "stdout",
     "output_type": "stream",
     "text": [
      "6\n",
      "1 2 3 4 5\n",
      "90\n"
     ]
    },
    {
     "data": {
      "text/plain": [
       "[1, 2, 3, 4, 5, 90]"
      ]
     },
     "execution_count": 2,
     "metadata": {},
     "output_type": "execute_result"
    }
   ],
   "source": [
    "n=int(input(\"\"))\n",
    "arr=[int(i) for i in input().split()]\n",
    "m=int(input())\n",
    "arr.append(m)\n",
    "arr\n"
   ]
  },
  {
   "cell_type": "markdown",
   "id": "2e609e4e",
   "metadata": {},
   "source": [
    "## Array insert at index"
   ]
  },
  {
   "cell_type": "code",
   "execution_count": 4,
   "id": "06c45a6e",
   "metadata": {},
   "outputs": [
    {
     "name": "stdout",
     "output_type": "stream",
     "text": [
      "5\n",
      "1 2 3 4 5\n",
      "2\n",
      "90\n"
     ]
    },
    {
     "data": {
      "text/plain": [
       "[1, 2, 90, 3, 4, 5]"
      ]
     },
     "execution_count": 4,
     "metadata": {},
     "output_type": "execute_result"
    }
   ],
   "source": [
    "n=int(input(\"\"))\n",
    "arr=[int(i) for i in input().split()]\n",
    "index=int(input())\n",
    "m=int(input())\n",
    "arr.insert(index,m)\n",
    "arr"
   ]
  },
  {
   "cell_type": "markdown",
   "id": "45317cd4",
   "metadata": {},
   "source": [
    "### Get Element At Index"
   ]
  },
  {
   "cell_type": "code",
   "execution_count": 13,
   "id": "cc51d620",
   "metadata": {},
   "outputs": [
    {
     "name": "stdout",
     "output_type": "stream",
     "text": [
      "5\n",
      "1 2 3 4 5\n",
      "4\n",
      "5\n"
     ]
    }
   ],
   "source": [
    "n=int(input(\"\"))\n",
    "arr=[int(i) for i in input().split()]\n",
    "index=int(input())\n",
    "if index>n-1:\n",
    "    print(-1)\n",
    "else:\n",
    "    print(arr[index])"
   ]
  },
  {
   "cell_type": "markdown",
   "id": "78953e73",
   "metadata": {},
   "source": [
    "###  Array Delete And Shift "
   ]
  },
  {
   "cell_type": "code",
   "execution_count": 20,
   "id": "5d3dc660",
   "metadata": {},
   "outputs": [
    {
     "name": "stdout",
     "output_type": "stream",
     "text": [
      "6\n",
      "1 2 3 4 5 6\n",
      "3\n"
     ]
    },
    {
     "data": {
      "text/plain": [
       "[1, 2, 3, 5, 6, 0]"
      ]
     },
     "execution_count": 20,
     "metadata": {},
     "output_type": "execute_result"
    }
   ],
   "source": [
    "n=int(input(\"\"))\n",
    "arr=[int(i) for i in input().split()]\n",
    "index=int(input())\n",
    "for i in range(index,len(arr)-1):\n",
    "    arr[i]=arr[i+1]\n",
    "arr[-1]=0\n",
    "arr\n",
    "    "
   ]
  },
  {
   "cell_type": "markdown",
   "id": "e31a6f4e",
   "metadata": {},
   "source": [
    "### Count Smaller Than X"
   ]
  },
  {
   "cell_type": "code",
   "execution_count": 19,
   "id": "e39c0479",
   "metadata": {},
   "outputs": [
    {
     "name": "stdout",
     "output_type": "stream",
     "text": [
      "5\n",
      "4 5 3 1 2\n",
      "3\n",
      "2\n"
     ]
    }
   ],
   "source": [
    "n=int(input(\"\"))\n",
    "arr=[int(i) for i in input().split()]\n",
    "ele=int(input())\n",
    "count=0\n",
    "for i in arr:\n",
    "    if i<ele:\n",
    "        count+=1\n",
    "print(count)"
   ]
  }
 ],
 "metadata": {
  "kernelspec": {
   "display_name": "Python 3 (ipykernel)",
   "language": "python",
   "name": "python3"
  },
  "language_info": {
   "codemirror_mode": {
    "name": "ipython",
    "version": 3
   },
   "file_extension": ".py",
   "mimetype": "text/x-python",
   "name": "python",
   "nbconvert_exporter": "python",
   "pygments_lexer": "ipython3",
   "version": "3.9.7"
  }
 },
 "nbformat": 4,
 "nbformat_minor": 5
}
