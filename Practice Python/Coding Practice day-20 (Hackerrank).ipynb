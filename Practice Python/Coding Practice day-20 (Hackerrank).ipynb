{
 "cells": [
  {
   "cell_type": "markdown",
   "id": "f88d7900",
   "metadata": {},
   "source": [
    "# Lists\n",
    "https://www.hackerrank.com/challenges/python-lists/problem?isFullScreen=true"
   ]
  },
  {
   "cell_type": "code",
   "execution_count": null,
   "id": "0d792c8d",
   "metadata": {},
   "outputs": [],
   "source": [
    "n=int(input())\n",
    "li=[]\n",
    "for i in range(0,n):\n",
    "    str=input().split()\n",
    "    if str[0]==\"insert\":\n",
    "        i=int(str[1])\n",
    "        e=int(str[2])\n",
    "        li.insert(i,e)\n",
    "    elif str[0]==\"print\":\n",
    "        print(li)\n",
    "    elif str[0]==\"remove\":\n",
    "        li.remove(int(str[1]))\n",
    "    elif str[0]==\"sort\":\n",
    "        li.sort()\n",
    "    elif str[0]==\"pop\":\n",
    "        li.pop()\n",
    "    elif str[0]==\"append\":\n",
    "        li.append(int(str[1]))\n",
    "    else:\n",
    "        li.reverse()"
   ]
  },
  {
   "cell_type": "markdown",
   "id": "28acfdf7",
   "metadata": {},
   "source": [
    "# Tuples\n",
    "https://www.hackerrank.com/challenges/python-tuples/problem?isFullScreen=true"
   ]
  },
  {
   "cell_type": "code",
   "execution_count": null,
   "id": "61d6cdc1",
   "metadata": {},
   "outputs": [],
   "source": [
    "n=int(input())\n",
    "li=[int(i) for i in input().split()]\n",
    "t=tuple(li)\n",
    "print(hash(t))"
   ]
  }
 ],
 "metadata": {
  "kernelspec": {
   "display_name": "Python 3 (ipykernel)",
   "language": "python",
   "name": "python3"
  },
  "language_info": {
   "codemirror_mode": {
    "name": "ipython",
    "version": 3
   },
   "file_extension": ".py",
   "mimetype": "text/x-python",
   "name": "python",
   "nbconvert_exporter": "python",
   "pygments_lexer": "ipython3",
   "version": "3.9.7"
  }
 },
 "nbformat": 4,
 "nbformat_minor": 5
}
