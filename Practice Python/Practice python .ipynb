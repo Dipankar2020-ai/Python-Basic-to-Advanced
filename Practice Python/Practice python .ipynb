{
 "cells": [
  {
   "cell_type": "markdown",
   "id": "9aa11f55",
   "metadata": {},
   "source": [
    "### Coding Bat code practice ###"
   ]
  },
  {
   "cell_type": "markdown",
   "id": "10a14507",
   "metadata": {},
   "source": [
    "## sleep_in"
   ]
  },
  {
   "cell_type": "markdown",
   "id": "7fefb51e",
   "metadata": {},
   "source": [
    "\n",
    "The parameter weekday is True if it is a weekday, and the parameter vacation is True if we are on vacation. We sleep in if it is not a weekday or we're on vacation. Return True if we sleep in.\n",
    "\n",
    "\n",
    "sleep_in(False, False) → True\n",
    "sleep_in(True, False) → False\n",
    "sleep_in(False, True) → True\n",
    "\n",
    "https://codingbat.com/prob/p173401"
   ]
  },
  {
   "cell_type": "code",
   "execution_count": 1,
   "id": "59c30a6b",
   "metadata": {},
   "outputs": [],
   "source": [
    "def sleep_in(weekday, vacation):\n",
    "  if weekday==False or vacation==True:\n",
    "    return True\n",
    "  else:\n",
    "    return False\n"
   ]
  },
  {
   "cell_type": "markdown",
   "id": "c527a597",
   "metadata": {},
   "source": [
    "### monkey_trouble ###"
   ]
  },
  {
   "cell_type": "markdown",
   "id": "247f8360",
   "metadata": {},
   "source": [
    "\n",
    "We have two monkeys, a and b, and the parameters a_smile and b_smile indicate if each is smiling. We are in trouble if they are both smiling or if neither of them is smiling. Return True if we are in trouble.\n",
    "\n",
    "\n",
    "monkey_trouble(True, True) → True\n",
    "monkey_trouble(False, False) → True\n",
    "monkey_trouble(True, False) → False\n",
    "\n",
    "https://codingbat.com/prob/p120546"
   ]
  },
  {
   "cell_type": "code",
   "execution_count": 2,
   "id": "274ab77a",
   "metadata": {},
   "outputs": [],
   "source": [
    "def monkey_trouble(a_smile, b_smile):\n",
    "  if a_smile==True and b_smile==True:\n",
    "    return True\n",
    "  elif a_smile==False and b_smile==False:\n",
    "    return True\n",
    "  else:\n",
    "    return False"
   ]
  },
  {
   "cell_type": "markdown",
   "id": "883c5255",
   "metadata": {},
   "source": [
    "### sum_double ###"
   ]
  },
  {
   "cell_type": "markdown",
   "id": "0b155560",
   "metadata": {},
   "source": [
    "Given two int values, return their sum. Unless the two values are the same, then return double their sum.\n",
    "\n",
    "\n",
    "sum_double(1, 2) → 3\n",
    "sum_double(3, 2) → 5\n",
    "sum_double(2, 2) → 8\n",
    "\n",
    "https://codingbat.com/prob/p141905"
   ]
  },
  {
   "cell_type": "code",
   "execution_count": 3,
   "id": "886382b4",
   "metadata": {},
   "outputs": [],
   "source": [
    "def sum_double(a, b):\n",
    "  if a==b:\n",
    "    return 2*(a+b)\n",
    "  else:\n",
    "    return a+b"
   ]
  },
  {
   "cell_type": "markdown",
   "id": "a2b1195f",
   "metadata": {},
   "source": [
    "### diff21 ###"
   ]
  },
  {
   "cell_type": "markdown",
   "id": "4dcc18ba",
   "metadata": {},
   "source": [
    "Given an int n, return the absolute difference between n and 21, except return double the absolute difference if n is over 21.\n",
    "\n",
    "\n",
    "diff21(19) → 2\n",
    "diff21(10) → 11\n",
    "diff21(21) → 0\n",
    "\n",
    "https://codingbat.com/prob/p197466"
   ]
  },
  {
   "cell_type": "code",
   "execution_count": 4,
   "id": "32bb3786",
   "metadata": {},
   "outputs": [],
   "source": [
    "def diff21(n):\n",
    "  if n>21:\n",
    "    return 2*abs(n-21)\n",
    "  else:\n",
    "    return abs(n-21)"
   ]
  },
  {
   "cell_type": "markdown",
   "id": "27d4aca0",
   "metadata": {},
   "source": [
    "###  parrot_trouble ###"
   ]
  },
  {
   "cell_type": "markdown",
   "id": "2c7d7c8f",
   "metadata": {},
   "source": [
    "We have a loud talking parrot. The \"hour\" parameter is the current hour time in the range 0..23. We are in trouble if the parrot is talking and the hour is before 7 or after 20. Return True if we are in trouble.\n",
    "\n",
    "\n",
    "parrot_trouble(True, 6) → True\n",
    "parrot_trouble(True, 7) → False\n",
    "parrot_trouble(False, 6) → False\n",
    "\n",
    "https://codingbat.com/prob/p166884"
   ]
  },
  {
   "cell_type": "code",
   "execution_count": 5,
   "id": "c867e9af",
   "metadata": {},
   "outputs": [],
   "source": [
    "def parrot_trouble(talking, hour):\n",
    "  if talking==True :\n",
    "    if hour<7 or hour>20:\n",
    "      return True\n",
    "    else:\n",
    "      return False\n",
    "  else:\n",
    "    return False"
   ]
  },
  {
   "cell_type": "markdown",
   "id": "1c44d5c9",
   "metadata": {},
   "source": [
    "### makes10 ##"
   ]
  },
  {
   "cell_type": "markdown",
   "id": "fd4d8070",
   "metadata": {},
   "source": [
    "Given 2 ints, a and b, return True if one if them is 10 or if their sum is 10.\n",
    "\n",
    "\n",
    "makes10(9, 10) → True\n",
    "makes10(9, 9) → False\n",
    "makes10(1, 9) → True\n",
    "\n",
    "https://codingbat.com/prob/p124984"
   ]
  },
  {
   "cell_type": "code",
   "execution_count": 7,
   "id": "c52e20f0",
   "metadata": {},
   "outputs": [],
   "source": [
    "def makes10(a, b):\n",
    "  if a==10 or b==10:\n",
    "    return True\n",
    "  elif a+b==10:\n",
    "    return True\n",
    "  else:\n",
    "    return False"
   ]
  }
 ],
 "metadata": {
  "kernelspec": {
   "display_name": "Python 3 (ipykernel)",
   "language": "python",
   "name": "python3"
  },
  "language_info": {
   "codemirror_mode": {
    "name": "ipython",
    "version": 3
   },
   "file_extension": ".py",
   "mimetype": "text/x-python",
   "name": "python",
   "nbconvert_exporter": "python",
   "pygments_lexer": "ipython3",
   "version": "3.9.7"
  }
 },
 "nbformat": 4,
 "nbformat_minor": 5
}
