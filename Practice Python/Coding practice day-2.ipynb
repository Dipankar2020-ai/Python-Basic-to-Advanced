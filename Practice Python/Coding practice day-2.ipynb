{
 "cells": [
  {
   "cell_type": "markdown",
   "id": "d741978c",
   "metadata": {},
   "source": [
    "### Coding bat practice day-2 ###"
   ]
  },
  {
   "cell_type": "markdown",
   "id": "3878ca98",
   "metadata": {},
   "source": [
    "## near_hundred ##"
   ]
  },
  {
   "cell_type": "markdown",
   "id": "262e779e",
   "metadata": {},
   "source": [
    "\n",
    "Given an int n, return True if it is within 10 of 100 or 200. Note: abs(num) computes the absolute value of a number.\n",
    "\n",
    "\n",
    "near_hundred(93) → True\n",
    "near_hundred(90) → True\n",
    "near_hundred(89) → False\n",
    "\n",
    "https://codingbat.com/prob/p124676"
   ]
  },
  {
   "cell_type": "code",
   "execution_count": 1,
   "id": "b7920e8b",
   "metadata": {},
   "outputs": [],
   "source": [
    "def near_hundred(n):\n",
    "  if n>=90 and n<=110:\n",
    "    return True\n",
    "  elif n>=190 and n<=210:\n",
    "    return True\n",
    "  else:\n",
    "    return False"
   ]
  },
  {
   "cell_type": "markdown",
   "id": "0dd8cdce",
   "metadata": {},
   "source": [
    "### pos_neg ###"
   ]
  },
  {
   "cell_type": "markdown",
   "id": "8e241ddd",
   "metadata": {},
   "source": [
    "Given 2 int values, return True if one is negative and one is positive. Except if the parameter \"negative\" is True, then return True only if both are negative.\n",
    "\n",
    "\n",
    "pos_neg(1, -1, False) → True\n",
    "pos_neg(-1, 1, False) → True\n",
    "pos_neg(-4, -5, True) → True\n",
    "\n",
    "https://codingbat.com/prob/p162058"
   ]
  },
  {
   "cell_type": "code",
   "execution_count": 2,
   "id": "de50c4db",
   "metadata": {},
   "outputs": [],
   "source": [
    "def pos_neg(a, b, negative):\n",
    "  if negative==True:\n",
    "    if a<0 and b<0:\n",
    "      return True\n",
    "    else:\n",
    "      return False\n",
    "  if a<0 and b>0:\n",
    "    return True\n",
    "  if a>0 and b<0:\n",
    "    return True\n",
    "  \n",
    "  else:\n",
    "    return False"
   ]
  },
  {
   "cell_type": "markdown",
   "id": "a30f9de4",
   "metadata": {},
   "source": [
    "### not_string ###"
   ]
  },
  {
   "cell_type": "markdown",
   "id": "3a59313b",
   "metadata": {},
   "source": [
    "Given a string, return a new string where \"not \" has been added to the front. However, if the string already begins with \"not\", return the string unchanged.\n",
    "\n",
    "\n",
    "not_string('candy') → 'not candy'\n",
    "not_string('x') → 'not x'\n",
    "not_string('not bad') → 'not bad'\n",
    "\n",
    "https://codingbat.com/prob/p189441"
   ]
  },
  {
   "cell_type": "code",
   "execution_count": 4,
   "id": "c28d1bc0",
   "metadata": {},
   "outputs": [],
   "source": [
    "def not_string(str):\n",
    "  if str.startswith(\"not\"):\n",
    "    return str\n",
    "  else:\n",
    "    ans=\"\"\n",
    "    ans=\"not \"+str\n",
    "    return ans"
   ]
  },
  {
   "cell_type": "markdown",
   "id": "6a29f6b9",
   "metadata": {},
   "source": [
    "## missing_char ##"
   ]
  },
  {
   "cell_type": "markdown",
   "id": "724b35a5",
   "metadata": {},
   "source": [
    "Given a non-empty string and an int n, return a new string where the char at index n has been removed. The value of n will be a valid index of a char in the original string (i.e. n will be in the range 0..len(str)-1 inclusive).\n",
    "\n",
    "\n",
    "missing_char('kitten', 1) → 'ktten'\n",
    "missing_char('kitten', 0) → 'itten'\n",
    "missing_char('kitten', 4) → 'kittn'\n",
    "\n",
    "https://codingbat.com/prob/p149524"
   ]
  },
  {
   "cell_type": "code",
   "execution_count": 5,
   "id": "04991e41",
   "metadata": {},
   "outputs": [],
   "source": [
    "def missing_char(str, n):\n",
    "  ans=[i for i in str]\n",
    "  ans.remove(ans[n])\n",
    "  str1=\"\"\n",
    "  for i in ans:\n",
    "    str1=str1+i\n",
    "  return str1"
   ]
  },
  {
   "cell_type": "markdown",
   "id": "fcdf2c8c",
   "metadata": {},
   "source": [
    "### front_back (impotant) ###"
   ]
  },
  {
   "cell_type": "markdown",
   "id": "32eca5d2",
   "metadata": {},
   "source": [
    "\n",
    "Given a string, return a new string where the first and last chars have been exchanged.\n",
    "\n",
    "\n",
    "front_back('code') → 'eodc'\n",
    "front_back('a') → 'a'\n",
    "front_back('ab') → 'ba'\n",
    "\n",
    "https://codingbat.com/prob/p153599"
   ]
  },
  {
   "cell_type": "code",
   "execution_count": 7,
   "id": "587bf874",
   "metadata": {},
   "outputs": [],
   "source": [
    "def front_back(str):\n",
    "  if len(str) <= 1:\n",
    "    return str\n",
    "  \n",
    "  mid = str[1:len(str)-1]  # can be written as str[1:-1]\n",
    "  \n",
    "  # last + mid + first\n",
    "  return str[len(str)-1] + mid + str[0]"
   ]
  },
  {
   "cell_type": "markdown",
   "id": "0480b7f4",
   "metadata": {},
   "source": [
    "## front3 ##"
   ]
  },
  {
   "cell_type": "markdown",
   "id": "a60a3fd5",
   "metadata": {},
   "source": [
    "\n",
    "Given a string, we'll say that the front is the first 3 chars of the string. If the string length is less than 3, the front is whatever is there. Return a new string which is 3 copies of the front.\n",
    "\n",
    "\n",
    "front3('Java') → 'JavJavJav'\n",
    "front3('Chocolate') → 'ChoChoCho'\n",
    "front3('abc') → 'abcabcabc'\n",
    "\n",
    "https://codingbat.com/prob/p147920"
   ]
  },
  {
   "cell_type": "code",
   "execution_count": 8,
   "id": "642ec51d",
   "metadata": {},
   "outputs": [],
   "source": [
    "def front3(str):\n",
    "  length=len(str)\n",
    "  if length<3:\n",
    "    return 3* str\n",
    "  else:\n",
    "    ans=str[0:3]\n",
    "    ans=3* ans\n",
    "    return ans"
   ]
  }
 ],
 "metadata": {
  "kernelspec": {
   "display_name": "Python 3 (ipykernel)",
   "language": "python",
   "name": "python3"
  },
  "language_info": {
   "codemirror_mode": {
    "name": "ipython",
    "version": 3
   },
   "file_extension": ".py",
   "mimetype": "text/x-python",
   "name": "python",
   "nbconvert_exporter": "python",
   "pygments_lexer": "ipython3",
   "version": "3.9.7"
  }
 },
 "nbformat": 4,
 "nbformat_minor": 5
}
