{
 "cells": [
  {
   "cell_type": "markdown",
   "id": "2c22641e",
   "metadata": {},
   "source": [
    "### TypeCast And Double It"
   ]
  },
  {
   "cell_type": "markdown",
   "id": "89895bbe",
   "metadata": {},
   "source": [
    "Given an input num as a string. You need to typecast into an integer and double it.\n",
    "\n",
    "Example 1:\n",
    "\n",
    "Input:\n",
    "num = 5\n",
    "Output: \n",
    "10\n",
    "\n",
    "Explanation: Just typecast and double it."
   ]
  },
  {
   "cell_type": "code",
   "execution_count": 2,
   "id": "fe34e207",
   "metadata": {},
   "outputs": [
    {
     "name": "stdout",
     "output_type": "stream",
     "text": [
      "5\n",
      "10\n"
     ]
    }
   ],
   "source": [
    "n=input()\n",
    "ans=2*int(n)\n",
    "print(ans)"
   ]
  },
  {
   "cell_type": "markdown",
   "id": "62533ec5",
   "metadata": {},
   "source": [
    " ### Swap The Numbers"
   ]
  },
  {
   "cell_type": "markdown",
   "id": "52987629",
   "metadata": {},
   "source": [
    "Given two numbers a and b, you need to swap their values so a holds the value of b and b holds the value of a.\n",
    "Example 1:\n",
    "\n",
    "Input:\n",
    "a = 1\n",
    "b = 2\n",
    "Output: \n",
    "2 1\n",
    "Explanation: Initially a = 1 and b = 2,\n",
    "now a = 2 and b = 1.\n",
    "\n",
    "\n",
    "Example 2:\n",
    "\n",
    "Input:\n",
    "a = 6 \n",
    "b = 7 \n",
    "Output: 7 6 \n",
    "Explanation: Initially a = 6 and b = 7,\n",
    "now a = 7 and b = 6."
   ]
  },
  {
   "cell_type": "code",
   "execution_count": 4,
   "id": "cc76e721",
   "metadata": {},
   "outputs": [
    {
     "name": "stdout",
     "output_type": "stream",
     "text": [
      "1\n",
      "2\n",
      "2  1\n"
     ]
    }
   ],
   "source": [
    "a=int(input())\n",
    "b=int(input())\n",
    "a,b=b,a\n",
    "print(a,\"\",b)"
   ]
  },
  {
   "cell_type": "markdown",
   "id": "0b01f1b3",
   "metadata": {},
   "source": [
    "### Concatenate Integers"
   ]
  },
  {
   "cell_type": "markdown",
   "id": "b654c767",
   "metadata": {},
   "source": [
    "Given two integers a and b, you need to concatenate them so the output is ab.\n",
    "\n",
    "Example 1:\n",
    "\n",
    "Input:\n",
    "a = 5\n",
    "b = 6\n",
    "Output: \n",
    "56\n",
    "\n",
    "Explanation: Concatenate them."
   ]
  },
  {
   "cell_type": "code",
   "execution_count": 5,
   "id": "a4d0c4e3",
   "metadata": {},
   "outputs": [
    {
     "name": "stdout",
     "output_type": "stream",
     "text": [
      "5\n",
      "6\n",
      "56\n"
     ]
    }
   ],
   "source": [
    "a=int(input())\n",
    "b=int(input())\n",
    "ans=str(a)+str(b)\n",
    "print(ans)"
   ]
  },
  {
   "cell_type": "markdown",
   "id": "fd4d5a2a",
   "metadata": {},
   "source": [
    "### Find Union"
   ]
  },
  {
   "cell_type": "markdown",
   "id": "35abb866",
   "metadata": {},
   "source": [
    "Given two sets A and B. find the Union of both the sets.\n",
    "\n",
    "Union of two given sets A and B is a set which consists of all the elements of A and all the elements of B such that no element is repeated.\n",
    "\n",
    "Example 1:\n",
    "\n",
    "Input:\n",
    "    \n",
    "A = {2, 5, 6}\n",
    "B = {1, 4, 3, 2}\n",
    "\n",
    "Output: \n",
    "    \n",
    "1 2 3 4 5 6"
   ]
  },
  {
   "cell_type": "code",
   "execution_count": 9,
   "id": "245a335a",
   "metadata": {},
   "outputs": [
    {
     "name": "stdout",
     "output_type": "stream",
     "text": [
      "2 5 6\n",
      "1 4 3 2\n",
      "{1, 2, 3, 4, 5, 6}\n"
     ]
    }
   ],
   "source": [
    "li1=[ int(i) for i in input().split()]\n",
    "li2=[ int(i) for i in input().split()]\n",
    "A=set(li1)\n",
    "B=set(li2)\n",
    "s=A.union(B)\n",
    "print(s)"
   ]
  },
  {
   "cell_type": "markdown",
   "id": "16c23ba4",
   "metadata": {},
   "source": [
    "## Check Subset"
   ]
  },
  {
   "cell_type": "markdown",
   "id": "76da5ce2",
   "metadata": {},
   "source": [
    "Given two sets A and B. check whether A is subset of B ?\n",
    "\n",
    "A is subset of B, if all elements of a set A are present in another set B.\n",
    "\n",
    "Example 1:\n",
    "\n",
    "Input:\n",
    "\n",
    "A = {1, 4, 3}\n",
    "B = {1, 4, 3, 2}\n",
    "Output: \n",
    "\n",
    "True"
   ]
  },
  {
   "cell_type": "code",
   "execution_count": 13,
   "id": "6df97f35",
   "metadata": {},
   "outputs": [
    {
     "name": "stdout",
     "output_type": "stream",
     "text": [
      "1 4 3\n",
      "1 4 3 2\n",
      "True\n"
     ]
    }
   ],
   "source": [
    "li1=[ int(i) for i in input().split()]\n",
    "li2=[ int(i) for i in input().split()]\n",
    "A=set(li1)\n",
    "B=set(li2)\n",
    "if A.issubset(B):\n",
    "    print(\"True\")\n",
    "    \n",
    "else:\n",
    "    print(\"False\")\n",
    "    "
   ]
  }
 ],
 "metadata": {
  "kernelspec": {
   "display_name": "Python 3 (ipykernel)",
   "language": "python",
   "name": "python3"
  },
  "language_info": {
   "codemirror_mode": {
    "name": "ipython",
    "version": 3
   },
   "file_extension": ".py",
   "mimetype": "text/x-python",
   "name": "python",
   "nbconvert_exporter": "python",
   "pygments_lexer": "ipython3",
   "version": "3.9.7"
  }
 },
 "nbformat": 4,
 "nbformat_minor": 5
}
