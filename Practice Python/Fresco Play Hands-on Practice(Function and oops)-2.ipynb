{
 "cells": [
  {
   "cell_type": "markdown",
   "id": "a8853412",
   "metadata": {},
   "source": [
    "# Exception Handling #1"
   ]
  },
  {
   "cell_type": "code",
   "execution_count": 1,
   "id": "38c7eca6",
   "metadata": {},
   "outputs": [
    {
     "name": "stdout",
     "output_type": "stream",
     "text": [
      "156\n",
      "445\n",
      "Input integers value out of range.\n"
     ]
    }
   ],
   "source": [
    "\n",
    "def Handle_Exc1():\n",
    "    # Write your code here\n",
    "    try:\n",
    "        a=int(input())\n",
    "        b=int(input())\n",
    "        if a>150 or b<100:\n",
    "            raise ValueError('Input integers value out of range.')\n",
    "        elif a+b>400:\n",
    "            raise ValueError(\"Their sum is out of range\")\n",
    "        else:\n",
    "            print(\"All in range\")\n",
    "    except ValueError as e:\n",
    "        print(e)\n",
    "            \n",
    "\n",
    "if __name__ == '__main__':\n",
    "    try:\n",
    "        Handle_Exc1()\n",
    "    except ValueError as exp:\n",
    "        print(exp)\n"
   ]
  },
  {
   "cell_type": "markdown",
   "id": "9d8a3365",
   "metadata": {},
   "source": [
    "# Exception Handling #2 (For Loop)"
   ]
  },
  {
   "cell_type": "code",
   "execution_count": 5,
   "id": "f9fb725f",
   "metadata": {},
   "outputs": [
    {
     "name": "stdout",
     "output_type": "stream",
     "text": [
      "1\n",
      "5\n",
      "[5]\n",
      "5\n",
      "<class 'list_iterator'>\n",
      "Stop Iteration : No Next Element to fetch\n"
     ]
    }
   ],
   "source": [
    "\n",
    "def FORLoop():\n",
    "    # Write your code here\n",
    "    n=int(input())\n",
    "    l1=[]\n",
    "    for i in range(n):\n",
    "        l1.append(int(input()))\n",
    "    print(l1)\n",
    "    iter1=iter(l1)\n",
    "    for i in range(len(l1)):\n",
    "        print(next(iter1))\n",
    "    return iter1\n",
    "\n",
    "if __name__ == '__main__':\n",
    "    try:\n",
    "        d = FORLoop()\n",
    "        print(type(d))\n",
    "        print(next(d))\n",
    "  \n",
    "    except StopIteration:\n",
    "        print('Stop Iteration : No Next Element to fetch')"
   ]
  },
  {
   "cell_type": "markdown",
   "id": "526003de",
   "metadata": {},
   "source": [
    "# Exception Handling #3 -Bank ATM"
   ]
  },
  {
   "cell_type": "code",
   "execution_count": null,
   "id": "5a1e9100",
   "metadata": {},
   "outputs": [],
   "source": [
    "class MinimumDepositError(Exception):\n",
    "    def __init__(self,value):\n",
    "        self.value=value\n",
    "    def __str__(self):\n",
    "        return str(self.value)\n",
    "class MinimumBalanceError(Exception):\n",
    "    def __init__(self,value):\n",
    "        self.value=value\n",
    "    def __str__(self):\n",
    "        return str(self.value)\n",
    "\n",
    "\n",
    "\n",
    "\n",
    "\n",
    "def Bank_ATM(balance,choice,amount):\n",
    "    try:\n",
    "        if balance<500:\n",
    "            raise ValueError('As per the Minimum Balance Policy, Balance must be at least 500')\n",
    "        if choice==1:\n",
    "            if amount<2000:\n",
    "                raise MinimumDepositError('The Minimum amount of Deposit should be 2000.')\n",
    "            else:\n",
    "                balance=balance+amount\n",
    "        elif choice==2:\n",
    "            if balance-amount<500:\n",
    "                raise MinimumBalanceError('You cannot withdraw this amount due to Minimum Balance Policy')\n",
    "            else:\n",
    "                balance=balance-amount\n",
    "    except ValueError as e:\n",
    "        print(e)\n",
    "    except MinimumDepositError as e:\n",
    "        print(e)\n",
    "    except MinimumBalanceError as e:\n",
    "        print(e)\n",
    "    else:\n",
    "        print(\"Updated Balance Amount:  \"+str(balance))\n",
    "                \n",
    "                \n",
    "    # Write your code here\n",
    "\n",
    "if __name__ == '__main__':\n",
    "    \n",
    "    bal = int(input())\n",
    "    ch = int(input())\n",
    "    amt = int(input())\n",
    "    \n",
    "    try:\n",
    "        Bank_ATM(bal,ch,amt)"
   ]
  },
  {
   "cell_type": "markdown",
   "id": "698ead5a",
   "metadata": {},
   "source": [
    "# Exception Handling #4 -Library"
   ]
  },
  {
   "cell_type": "code",
   "execution_count": 6,
   "id": "19d24784",
   "metadata": {},
   "outputs": [
    {
     "name": "stdout",
     "output_type": "stream",
     "text": [
      "6000\n",
      "2\n",
      "philosophers stone\n",
      "Amount per Installment is  3000.0\n",
      "It is available in this section\n"
     ]
    }
   ],
   "source": [
    " \n",
    "def Library(memberfee,installment,book):\n",
    "    amount=0\n",
    "    l=['philosophers stone','chamber of secrets','prisoner of azkaban','goblet of fire','order of phoenix','half blood prince','deathly hallows 1','deathly hallows 2']\n",
    "    try:\n",
    "        if installment>3:\n",
    "            raise ValueError('Maximum Permitted Number of Installments is 3')\n",
    "        if installment==0:\n",
    "            raise ZeroDivisionError('Number of Installments cannot be Zero.')\n",
    "        else:\n",
    "            print('Amount per Installment is ',(memberfee/installment))\n",
    "        if book.lower() not in l:\n",
    "            raise NameError('No such book exists in this section')\n",
    "        else:\n",
    "            print(\"It is available in this section\")\n",
    "    except ValueError as e:\n",
    "        print(e)\n",
    "    except ZeroDivisionError as e:\n",
    "        print(e)\n",
    "    except NameError as e:\n",
    "        print(e)\n",
    "            \n",
    "    \n",
    "    \n",
    "\n",
    "if __name__ == '__main__':\n",
    "    \n",
    "    memberfee = int(input())\n",
    "    installment = int(input())\n",
    "    book = input()\n",
    "    \n",
    "    try:\n",
    "        Library(memberfee,installment,book)\n",
    "        \n",
    "    except ZeroDivisionError as e:\n",
    "        print(e)\n",
    "    except ValueError as e:\n",
    "        print(e)\n",
    "    except NameError as e:\n",
    "        print(e)"
   ]
  },
  {
   "cell_type": "markdown",
   "id": "a7c552bb",
   "metadata": {},
   "source": [
    "# Python- Date time"
   ]
  },
  {
   "cell_type": "code",
   "execution_count": null,
   "id": "7368a2a8",
   "metadata": {},
   "outputs": [],
   "source": [
    "from datetime import datetime\n",
    "from datetime import date\n",
    "\n",
    "def dateandtime(val,tup):\n",
    "    main_list=[]\n",
    "    if val==1:\n",
    "        d=date(tup[0],tup[1],tup[2])\n",
    "        main_list.append(d)\n",
    "        f_d=d.strftime(\"%d/%m/%Y\")\n",
    "        main_list.append(f_d)\n",
    "    if val==2:\n",
    "        time_stamp=tup[0]\n",
    "        d=date.fromtimestamp(time_stamp)\n",
    "        main_list.append(d)\n",
    "    if val==3:\n",
    "        d=datetime(1999,1,1,tup[0],tup[1],tup[2])\n",
    "        t=datetime.time(d)\n",
    "        main_list.append(t)\n",
    "        f_t=t.strftime(\"%I\")\n",
    "        main_list.append(f_t)\n",
    "    if val==4:\n",
    "        d=date(tup[0],tup[1],tup[2])\n",
    "        weekday=d.strftime(\"%A\")\n",
    "        main_list.append(weekday)\n",
    "        month=d.strftime(\"%B\")\n",
    "        main_list.append(month)\n",
    "        day=d.strftime(\"%j\")\n",
    "        main_list.append(day)\n",
    "    if val==5:\n",
    "        d=datetime(tup[0],tup[1],tup[2],tup[3],tup[4],tup[5])\n",
    "        main_list.append(d)\n",
    "    return main_list\n",
    "    \n",
    "    \n",
    "  \n",
    "\n",
    "if __name__ == '__main__':\n",
    "    val = int(input().strip())\n",
    "    \n",
    "    if val ==1 or val==4 or val ==3:\n",
    "        qw1_count=3\n",
    "    if val==2:\n",
    "        qw1_count=1\n",
    "    if val ==5:\n",
    "        qw1_count=6\n",
    "    qw1 = []\n",
    "\n",
    "    for _ in range(qw1_count):\n",
    "        qw1_item = int(input().strip())\n",
    "        qw1.append(qw1_item)\n",
    "        \n",
    "    tup=tuple(qw1)\n",
    "    \n",
    "    ans = dateandtime(val,tup)\n",
    "    \n",
    "    print(ans)"
   ]
  }
 ],
 "metadata": {
  "kernelspec": {
   "display_name": "Python 3 (ipykernel)",
   "language": "python",
   "name": "python3"
  },
  "language_info": {
   "codemirror_mode": {
    "name": "ipython",
    "version": 3
   },
   "file_extension": ".py",
   "mimetype": "text/x-python",
   "name": "python",
   "nbconvert_exporter": "python",
   "pygments_lexer": "ipython3",
   "version": "3.9.7"
  }
 },
 "nbformat": 4,
 "nbformat_minor": 5
}
