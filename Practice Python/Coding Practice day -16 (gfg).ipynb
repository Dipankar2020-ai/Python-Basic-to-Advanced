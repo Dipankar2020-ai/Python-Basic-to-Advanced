{
 "cells": [
  {
   "cell_type": "markdown",
   "id": "1d3c687c",
   "metadata": {},
   "source": [
    "## Python program to find smallest number in a list\n",
    "https://www.geeksforgeeks.org/python-list-exercise/"
   ]
  },
  {
   "cell_type": "code",
   "execution_count": 1,
   "id": "cb6a572a",
   "metadata": {},
   "outputs": [
    {
     "name": "stdout",
     "output_type": "stream",
     "text": [
      "1 2 3 4 5 6\n",
      "The minimum element is  1\n"
     ]
    }
   ],
   "source": [
    "list1=[int(i) for i in input().split()]\n",
    "print(\"The minimum element is \",min(list1))"
   ]
  },
  {
   "cell_type": "markdown",
   "id": "9ea4adfe",
   "metadata": {},
   "source": [
    "# using loop"
   ]
  },
  {
   "cell_type": "code",
   "execution_count": 3,
   "id": "6f2b88d9",
   "metadata": {},
   "outputs": [
    {
     "name": "stdout",
     "output_type": "stream",
     "text": [
      "12 45  36 75 82\n",
      "The minimum element is  12\n"
     ]
    }
   ],
   "source": [
    "list1=[int(i) for i in input().split()]\n",
    "min1=list1[0]\n",
    "for i in list1:\n",
    "    if min1>i:\n",
    "        min1=i\n",
    "print(\"The minimum element is \",min1)"
   ]
  },
  {
   "cell_type": "markdown",
   "id": "8bd037ba",
   "metadata": {},
   "source": [
    "# Python program to find largest number in a list"
   ]
  },
  {
   "cell_type": "markdown",
   "id": "830b49c3",
   "metadata": {},
   "source": [
    "# using max method"
   ]
  },
  {
   "cell_type": "code",
   "execution_count": 5,
   "id": "c511c6a1",
   "metadata": {},
   "outputs": [
    {
     "name": "stdout",
     "output_type": "stream",
     "text": [
      "5 40 87 23 58\n",
      "The maximum element is  87\n"
     ]
    }
   ],
   "source": [
    "list1=[int(i) for i in input().split()]\n",
    "print(\"The maximum element is \",max(list1))"
   ]
  },
  {
   "cell_type": "markdown",
   "id": "378c01c7",
   "metadata": {},
   "source": [
    "## using loop method"
   ]
  },
  {
   "cell_type": "code",
   "execution_count": 6,
   "id": "9f208c2d",
   "metadata": {},
   "outputs": [
    {
     "name": "stdout",
     "output_type": "stream",
     "text": [
      "12 57 48 63 96\n",
      "The maximum element is  96\n"
     ]
    }
   ],
   "source": [
    "list1=[int(i) for i in input().split()]\n",
    "max1=list1[0]\n",
    "for i in list1:\n",
    "    if max1<i:\n",
    "        max1=i\n",
    "print(\"The maximum element is \",max1)"
   ]
  },
  {
   "cell_type": "markdown",
   "id": "a5854531",
   "metadata": {},
   "source": [
    "## Using sorting"
   ]
  },
  {
   "cell_type": "code",
   "execution_count": 7,
   "id": "df687f0f",
   "metadata": {},
   "outputs": [
    {
     "name": "stdout",
     "output_type": "stream",
     "text": [
      "14 25 63 2 7\n",
      "The maximum element is  63\n"
     ]
    }
   ],
   "source": [
    "list1=[int(i) for i in input().split()]\n",
    "list1.sort()\n",
    "print(\"The maximum element is \",list1[-1])"
   ]
  },
  {
   "cell_type": "markdown",
   "id": "fca6d689",
   "metadata": {},
   "source": [
    "# Python program to find second largest number in a list"
   ]
  },
  {
   "cell_type": "code",
   "execution_count": 10,
   "id": "fe0c5b8e",
   "metadata": {},
   "outputs": [
    {
     "name": "stdout",
     "output_type": "stream",
     "text": [
      "12 35 32\n",
      "32\n"
     ]
    }
   ],
   "source": [
    "list1=[int(i) for i in input().split()]\n",
    "firstmax=max(list1)\n",
    "secondmax=list1[0]\n",
    "for i in list1:\n",
    "    if i>secondmax and i<firstmax:\n",
    "        secondmax=i\n",
    "print(secondmax)"
   ]
  },
  {
   "cell_type": "markdown",
   "id": "d558fef0",
   "metadata": {},
   "source": [
    "# Using set() and remove() function"
   ]
  },
  {
   "cell_type": "code",
   "execution_count": 11,
   "id": "76fae884",
   "metadata": {},
   "outputs": [
    {
     "name": "stdout",
     "output_type": "stream",
     "text": [
      "10 10 5 3  8\n",
      "Second max is  8\n"
     ]
    }
   ],
   "source": [
    "list1=[int(i) for i in input().split()]\n",
    "newlist=set(list1)\n",
    "newlist.remove(max(newlist))\n",
    "print(\"Second max is \",max(newlist))\n"
   ]
  },
  {
   "cell_type": "markdown",
   "id": "1c87b9ed",
   "metadata": {},
   "source": [
    "# Python program to print even numbers in a list"
   ]
  },
  {
   "cell_type": "code",
   "execution_count": 12,
   "id": "5372752d",
   "metadata": {},
   "outputs": [
    {
     "name": "stdout",
     "output_type": "stream",
     "text": [
      "1 2 3 4 5 6 7 8 9 10\n",
      "2 4 6 8 10 "
     ]
    }
   ],
   "source": [
    "list1=[int(i) for i in input().split()]\n",
    "for i in list1:\n",
    "    if i%2==0:\n",
    "        print(i,end=\" \")"
   ]
  },
  {
   "cell_type": "markdown",
   "id": "94427963",
   "metadata": {},
   "source": [
    "# using lambda"
   ]
  },
  {
   "cell_type": "code",
   "execution_count": 15,
   "id": "ed11823b",
   "metadata": {},
   "outputs": [
    {
     "name": "stdout",
     "output_type": "stream",
     "text": [
      "1 2 3 4 5 6 7 8 9 10 11\n",
      "[2, 4, 6, 8, 10]\n"
     ]
    }
   ],
   "source": [
    "list1=[int(i) for i in input().split()]\n",
    "list2=list(filter(lambda x:x%2==0,list1) )\n",
    "print(list2)"
   ]
  },
  {
   "cell_type": "markdown",
   "id": "9bc885af",
   "metadata": {},
   "source": [
    "# Python program to print odd numbers in a List"
   ]
  },
  {
   "cell_type": "code",
   "execution_count": 16,
   "id": "44e2f9d3",
   "metadata": {},
   "outputs": [
    {
     "name": "stdout",
     "output_type": "stream",
     "text": [
      "1 2 34 5 67 8 9 10\n",
      "1 5 67 9 "
     ]
    }
   ],
   "source": [
    "list1=[int(i) for i in input().split()]\n",
    "for i in list1:\n",
    "    if i%2==1:\n",
    "        print(i,end=\" \")"
   ]
  },
  {
   "cell_type": "code",
   "execution_count": 17,
   "id": "dac895fc",
   "metadata": {},
   "outputs": [
    {
     "name": "stdout",
     "output_type": "stream",
     "text": [
      "1 2 3 4 5 6 7 8 9 10\n",
      "[1, 3, 5, 7, 9]\n"
     ]
    }
   ],
   "source": [
    "list1=[int(i) for i in input().split()]\n",
    "list2=list(filter(lambda x:x%2==1,list1) )\n",
    "print(list2)"
   ]
  },
  {
   "cell_type": "markdown",
   "id": "5f695693",
   "metadata": {},
   "source": [
    "# Python program to print all even numbers in a range"
   ]
  },
  {
   "cell_type": "code",
   "execution_count": 18,
   "id": "8289dd46",
   "metadata": {},
   "outputs": [
    {
     "name": "stdout",
     "output_type": "stream",
     "text": [
      "5\n",
      "15\n",
      "6 8 10 12 14 "
     ]
    }
   ],
   "source": [
    "start=int(input())\n",
    "end=int(input())\n",
    "for i in range(start,end+1):\n",
    "    if i%2==0:\n",
    "        print(i,end=\" \")"
   ]
  },
  {
   "cell_type": "markdown",
   "id": "9012f067",
   "metadata": {},
   "source": [
    "# Python program to print all odd numbers in a range"
   ]
  },
  {
   "cell_type": "code",
   "execution_count": 19,
   "id": "2ac5cfa1",
   "metadata": {},
   "outputs": [
    {
     "name": "stdout",
     "output_type": "stream",
     "text": [
      "5\n",
      "15\n",
      "5 7 9 11 13 15 "
     ]
    }
   ],
   "source": [
    "start=int(input())\n",
    "end=int(input())\n",
    "for i in range(start,end+1):\n",
    "    if i%2==1:\n",
    "        print(i,end=\" \")"
   ]
  }
 ],
 "metadata": {
  "kernelspec": {
   "display_name": "Python 3 (ipykernel)",
   "language": "python",
   "name": "python3"
  },
  "language_info": {
   "codemirror_mode": {
    "name": "ipython",
    "version": 3
   },
   "file_extension": ".py",
   "mimetype": "text/x-python",
   "name": "python",
   "nbconvert_exporter": "python",
   "pygments_lexer": "ipython3",
   "version": "3.9.7"
  }
 },
 "nbformat": 4,
 "nbformat_minor": 5
}
