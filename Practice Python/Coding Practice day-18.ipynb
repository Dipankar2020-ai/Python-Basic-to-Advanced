{
 "cells": [
  {
   "cell_type": "markdown",
   "id": "6b66ef77",
   "metadata": {},
   "source": [
    "# How to count unique values inside a list"
   ]
  },
  {
   "cell_type": "code",
   "execution_count": 1,
   "id": "d169c8ac",
   "metadata": {},
   "outputs": [
    {
     "name": "stdout",
     "output_type": "stream",
     "text": [
      "1 2 2 3 4 4 5 5 7 8 8\n",
      "Number of unique elements  7\n"
     ]
    }
   ],
   "source": [
    "li=[int(i) for i in input().split()]\n",
    "new_set=set(li)\n",
    "print(\"Number of unique elements \",len(new_set))\n"
   ]
  },
  {
   "cell_type": "code",
   "execution_count": 2,
   "id": "26b52708",
   "metadata": {},
   "outputs": [
    {
     "name": "stdout",
     "output_type": "stream",
     "text": [
      "No of unique items in the list are: 5\n"
     ]
    }
   ],
   "source": [
    "from collections import Counter\n",
    " \n",
    " \n",
    "input_list = [1, 2, 2, 5, 8, 4, 4, 8]\n",
    " \n",
    "# creating a list with the keys\n",
    "items = Counter(input_list).keys()\n",
    "print(\"No of unique items in the list are:\", len(items))"
   ]
  },
  {
   "cell_type": "markdown",
   "id": "3f2a440c",
   "metadata": {},
   "source": [
    "# Python – List product excluding duplicates"
   ]
  },
  {
   "cell_type": "code",
   "execution_count": 4,
   "id": "5786cc03",
   "metadata": {},
   "outputs": [
    {
     "name": "stdout",
     "output_type": "stream",
     "text": [
      "1 2 2 3 4 4 5 6 6\n",
      "720\n"
     ]
    }
   ],
   "source": [
    "import math \n",
    "li=[int(i) for i in input().split()]\n",
    "new_set=set(li)\n",
    "print(math.prod(new_set))\n"
   ]
  },
  {
   "cell_type": "markdown",
   "id": "ebbbf1ec",
   "metadata": {},
   "source": [
    "# Python – Extract elements with Frequency greater than K"
   ]
  },
  {
   "cell_type": "code",
   "execution_count": 7,
   "id": "c416050f",
   "metadata": {},
   "outputs": [
    {
     "name": "stdout",
     "output_type": "stream",
     "text": [
      "1 2 3 4 4 5 5 7 7\n",
      "3\n",
      "4 5 7 "
     ]
    }
   ],
   "source": [
    "li=[int(i) for i in input().split()]\n",
    "k=int(input())\n",
    "new_set=set(li)\n",
    "ans=[]\n",
    "for i in new_set:\n",
    "    if i>k:\n",
    "        ans.append(i)\n",
    "for i in ans:\n",
    "    print(i,end=\" \")\n",
    "   \n",
    "    "
   ]
  },
  {
   "cell_type": "markdown",
   "id": "a21af79d",
   "metadata": {},
   "source": [
    "# Python – Test if List contains elements in Range"
   ]
  },
  {
   "cell_type": "code",
   "execution_count": 10,
   "id": "62a23080",
   "metadata": {},
   "outputs": [
    {
     "name": "stdout",
     "output_type": "stream",
     "text": [
      "4 5 6 7 3 9\n",
      "3 \n",
      "10\n",
      "Does list contain all elements in range True\n"
     ]
    }
   ],
   "source": [
    "li=[int(i) for i in input().split()]\n",
    "i=int(input())\n",
    "j=int(input())\n",
    "res=all(ele>=i and ele<j for ele in li)\n",
    "print(\"Does list contain all elements in range \"+str(res))\n"
   ]
  },
  {
   "cell_type": "markdown",
   "id": "096f4c81",
   "metadata": {},
   "source": [
    "# Python program to check if the list contains three consecutive common numbers in Python"
   ]
  },
  {
   "cell_type": "code",
   "execution_count": 13,
   "id": "f7e569a7",
   "metadata": {},
   "outputs": [
    {
     "name": "stdout",
     "output_type": "stream",
     "text": [
      "1 1 1 64 23 64 22 22 22\n",
      "[1, 22]\n"
     ]
    }
   ],
   "source": [
    "li=[int(i) for i in input().split()]\n",
    "ans=[]\n",
    "n=len(li)\n",
    "for i in range(0,n-2):\n",
    "    if li[i]==li[i+1] and li[i+1] == li[i+2]:\n",
    "        ans.append(li[i])\n",
    "print(ans)"
   ]
  },
  {
   "cell_type": "markdown",
   "id": "67139e0e",
   "metadata": {},
   "source": [
    "# Python program to find the Strongest Neighbour"
   ]
  },
  {
   "cell_type": "code",
   "execution_count": 16,
   "id": "6fc06a86",
   "metadata": {},
   "outputs": [
    {
     "name": "stdout",
     "output_type": "stream",
     "text": [
      "1 2 2 3 4 5\n",
      "[2, 2, 3, 4, 5]\n"
     ]
    }
   ],
   "source": [
    "li=[int(i) for i in input().split()]\n",
    "ans=[]\n",
    "for i in range(1,len(li)):\n",
    "    ans.append(max(li[i],li[i-1]))\n",
    "print(ans)"
   ]
  },
  {
   "cell_type": "markdown",
   "id": "88132a3c",
   "metadata": {},
   "source": [
    "# Python Program to print all Possible Combinations from the three Digits"
   ]
  },
  {
   "cell_type": "code",
   "execution_count": 18,
   "id": "6260e937",
   "metadata": {},
   "outputs": [
    {
     "name": "stdout",
     "output_type": "stream",
     "text": [
      "(1, 2, 3)\n",
      "(1, 3, 2)\n",
      "(2, 1, 3)\n",
      "(2, 3, 1)\n",
      "(3, 1, 2)\n",
      "(3, 2, 1)\n"
     ]
    }
   ],
   "source": [
    "from itertools import permutations\n",
    "comb=permutations([1,2,3],3)\n",
    "for i in comb:\n",
    "    print(i)"
   ]
  }
 ],
 "metadata": {
  "kernelspec": {
   "display_name": "Python 3 (ipykernel)",
   "language": "python",
   "name": "python3"
  },
  "language_info": {
   "codemirror_mode": {
    "name": "ipython",
    "version": 3
   },
   "file_extension": ".py",
   "mimetype": "text/x-python",
   "name": "python",
   "nbconvert_exporter": "python",
   "pygments_lexer": "ipython3",
   "version": "3.9.7"
  }
 },
 "nbformat": 4,
 "nbformat_minor": 5
}
