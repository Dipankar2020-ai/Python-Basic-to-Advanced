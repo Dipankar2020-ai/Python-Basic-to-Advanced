{
 "cells": [
  {
   "cell_type": "markdown",
   "id": "edd602ba",
   "metadata": {},
   "source": [
    "## Coding practice day-9"
   ]
  },
  {
   "cell_type": "markdown",
   "id": "2a7af245",
   "metadata": {},
   "source": [
    "### lone_sum"
   ]
  },
  {
   "cell_type": "markdown",
   "id": "2c4356af",
   "metadata": {},
   "source": [
    "\n",
    "Given 3 int values, a b c, return their sum. However, if one of the values is the same as another of the values, it does not count towards the sum.\n",
    "\n",
    "\n",
    "lone_sum(1, 2, 3) → 6\n",
    "lone_sum(3, 2, 3) → 2\n",
    "lone_sum(3, 3, 3) → 0\n",
    "\n",
    "https://codingbat.com/prob/p143951"
   ]
  },
  {
   "cell_type": "code",
   "execution_count": 1,
   "id": "00cb76ff",
   "metadata": {},
   "outputs": [],
   "source": [
    "def lone_sum(a, b, c):\n",
    "  if a==b and b==c:\n",
    "    return 0\n",
    "  elif a==b:\n",
    "    return c\n",
    "  elif b==c:\n",
    "    return a\n",
    "  elif a==c:\n",
    "    return b\n",
    "  else:\n",
    "    return a+b+c"
   ]
  },
  {
   "cell_type": "markdown",
   "id": "fc1d8311",
   "metadata": {},
   "source": [
    "### lucky_sum"
   ]
  },
  {
   "cell_type": "markdown",
   "id": "4d93ee3f",
   "metadata": {},
   "source": [
    "\n",
    "Given 3 int values, a b c, return their sum. However, if one of the values is 13 then it does not count towards the sum and values to its right do not count. So for example, if b is 13, then both b and c do not count.\n",
    "\n",
    "\n",
    "lucky_sum(1, 2, 3) → 6\n",
    "lucky_sum(1, 2, 13) → 3\n",
    "lucky_sum(1, 13, 3) → 1\n",
    "\n",
    "https://codingbat.com/prob/p107863"
   ]
  },
  {
   "cell_type": "code",
   "execution_count": 2,
   "id": "f3b956f0",
   "metadata": {},
   "outputs": [],
   "source": [
    "def lucky_sum(a, b, c):\n",
    "  if a==13:\n",
    "    return 0\n",
    "  if b==13:\n",
    "    return a\n",
    "  elif c==13:\n",
    "    return a+b\n",
    "  else:\n",
    "    return a+b+c\n"
   ]
  },
  {
   "cell_type": "markdown",
   "id": "0d749301",
   "metadata": {},
   "source": [
    "## no_teen_sum"
   ]
  },
  {
   "cell_type": "markdown",
   "id": "d7d90435",
   "metadata": {},
   "source": [
    "Given 3 int values, a b c, return their sum. However, if any of the values is a teen -- in the range 13..19 inclusive -- then that value counts as 0, except 15 and 16 do not count as a teens. Write a separate helper \"def fix_teen(n):\"that takes in an int value and returns that value fixed for the teen rule. In this way, you avoid repeating the teen code 3 times (i.e. \"decomposition\"). Define the helper below and at the same indent level as the main no_teen_sum().\n",
    "\n",
    "\n",
    "no_teen_sum(1, 2, 3) → 6\n",
    "no_teen_sum(2, 13, 1) → 3\n",
    "no_teen_sum(2, 1, 14) → 3\n",
    "\n",
    "https://codingbat.com/prob/p100347"
   ]
  },
  {
   "cell_type": "code",
   "execution_count": 3,
   "id": "bc3cc2b8",
   "metadata": {},
   "outputs": [],
   "source": [
    "def no_teen_sum(a, b, c):\n",
    "  sum=0\n",
    "  if ( a>=13 and a<=19) or (b>=13 and b<=19) or (c>=13 and c<=19):\n",
    "    if a==15 or a==16 or (a<13 or a>19):\n",
    "      sum=sum+a\n",
    "    \n",
    "    if b==15 or b==16 or(b<13 or b>19):\n",
    "      sum=sum+b\n",
    "    if c==15 or c==16 or (c<13 or c>19):\n",
    "      sum=sum+c\n",
    "  else:\n",
    "    sum=a+b+c\n",
    "  return sum"
   ]
  },
  {
   "cell_type": "markdown",
   "id": "406bc623",
   "metadata": {},
   "source": [
    "## round_sum(important)"
   ]
  },
  {
   "cell_type": "markdown",
   "id": "fea18eed",
   "metadata": {},
   "source": [
    "For this problem, we'll round an int value up to the next multiple of 10 if its rightmost digit is 5 or more, so 15 rounds up to 20. Alternately, round down to the previous multiple of 10 if its rightmost digit is less than 5, so 12 rounds down to 10. Given 3 ints, a b c, return the sum of their rounded values. To avoid code repetition, write a separate helper \"def round10(num):\" and call it 3 times. Write the helper entirely below and at the same indent level as round_sum().\n",
    "\n",
    "\n",
    "round_sum(16, 17, 18) → 60\n",
    "round_sum(12, 13, 14) → 30\n",
    "round_sum(6, 4, 4) → 10\n",
    "https://codingbat.com/prob/p179960"
   ]
  },
  {
   "cell_type": "code",
   "execution_count": 4,
   "id": "6e3b3738",
   "metadata": {},
   "outputs": [],
   "source": [
    "def round_sum(a, b, c):\n",
    "    return round10(a) + round10(b) + round10(c)\n",
    "    \n",
    "def round10(num):\n",
    "    if num % 10 < 5:\n",
    "        return num - (num % 10)\n",
    "        \n",
    "    return num + (10 - num % 10)"
   ]
  },
  {
   "cell_type": "markdown",
   "id": "76655b4a",
   "metadata": {},
   "source": [
    "### close_far"
   ]
  },
  {
   "cell_type": "markdown",
   "id": "97668f44",
   "metadata": {},
   "source": [
    "\n",
    "Given three ints, a b c, return True if one of b or c is \"close\" (differing from a by at most 1), while the other is \"far\", differing from both other values by 2 or more. Note: abs(num) computes the absolute value of a number.\n",
    "\n",
    "\n",
    "close_far(1, 2, 10) → True\n",
    "close_far(1, 2, 3) → False\n",
    "close_far(4, 1, 3) → True\n",
    "\n",
    "https://codingbat.com/prob/p160533"
   ]
  },
  {
   "cell_type": "code",
   "execution_count": 5,
   "id": "968aed97",
   "metadata": {},
   "outputs": [],
   "source": [
    "def close_far(a, b, c):\n",
    "    return (is_close(a, b) and is_far(a, b, c)) or (is_close(a, c) and is_far(a, c, b))\n",
    "        \n",
    "def is_close(a, b):\n",
    "    return abs(a - b) <= 1\n",
    "    \n",
    "def is_far(a, b, c):\n",
    "    return abs(a - c) >= 2 and abs(b - c) >= 2"
   ]
  }
 ],
 "metadata": {
  "kernelspec": {
   "display_name": "Python 3 (ipykernel)",
   "language": "python",
   "name": "python3"
  },
  "language_info": {
   "codemirror_mode": {
    "name": "ipython",
    "version": 3
   },
   "file_extension": ".py",
   "mimetype": "text/x-python",
   "name": "python",
   "nbconvert_exporter": "python",
   "pygments_lexer": "ipython3",
   "version": "3.9.7"
  }
 },
 "nbformat": 4,
 "nbformat_minor": 5
}
