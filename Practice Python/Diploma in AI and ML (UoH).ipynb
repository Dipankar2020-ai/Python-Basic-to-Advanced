{
 "cells": [
  {
   "cell_type": "markdown",
   "id": "6d88be6e",
   "metadata": {},
   "source": [
    "# Sum of given \"n\" numbers\n",
    "https://www.hackerrank.com/contests/diploma-in-ai-and-ml-uoh/challenges"
   ]
  },
  {
   "cell_type": "code",
   "execution_count": 1,
   "id": "c28a98ed",
   "metadata": {},
   "outputs": [
    {
     "name": "stdout",
     "output_type": "stream",
     "text": [
      "4\n",
      "1 2 3 4\n",
      "10\n"
     ]
    }
   ],
   "source": [
    "n=int(input())\n",
    "if n==0:\n",
    "    print(0)\n",
    "else:\n",
    "    list=[int(i) for i in input().split()]\n",
    "    print(sum(list))"
   ]
  },
  {
   "cell_type": "markdown",
   "id": "81af00e8",
   "metadata": {},
   "source": [
    "# Find the second largest element in a list of integers"
   ]
  },
  {
   "cell_type": "code",
   "execution_count": null,
   "id": "0332e444",
   "metadata": {},
   "outputs": [],
   "source": [
    "list1=[int(i) for i in input().split()]\n",
    "list2=list(set(list1))\n",
    "if len(list2)==1:\n",
    "    print(\"Error\")\n",
    "else:\n",
    "    \n",
    "    list2.sort()\n",
    "    print(list2[-2])"
   ]
  },
  {
   "cell_type": "markdown",
   "id": "cce76d50",
   "metadata": {},
   "source": [
    "# Fizz Buzz-11"
   ]
  },
  {
   "cell_type": "code",
   "execution_count": null,
   "id": "1cd17d29",
   "metadata": {},
   "outputs": [],
   "source": [
    "n=int(input(\"\"))\n",
    "for i in range(1,n+1):\n",
    "    if i==n:\n",
    "        if i%3==0 and i%5==0:\n",
    "            print(\"FizzBuzz\",end=\"\")\n",
    "        elif i%5==0:\n",
    "            print(\"Buzz\",end=\"\")\n",
    "        elif i%3==0:\n",
    "            print(\"Fizz\",end=\"\")\n",
    "        else:\n",
    "            print(i,end=\"\")\n",
    "            \n",
    "            \n",
    "        \n",
    "        \n",
    "        \n",
    "    elif i%3==0 and i%5==0:\n",
    "        print(\"FizzBuzz\",end=\",\")\n",
    "    elif i%5==0:\n",
    "        print(\"Buzz\",end=\",\")\n",
    "    elif i%3==0:\n",
    "        print(\"Fizz\",end=\",\")\n",
    "    else:\n",
    "        print(i,end=\",\")"
   ]
  },
  {
   "cell_type": "markdown",
   "id": "44888372",
   "metadata": {},
   "source": [
    "# Climbing Stairs 4"
   ]
  },
  {
   "cell_type": "code",
   "execution_count": null,
   "id": "7449788a",
   "metadata": {},
   "outputs": [],
   "source": [
    "n=int(input())\n",
    "a=1\n",
    "b=2\n",
    "c=3\n",
    "if n==1:\n",
    "    print(a)\n",
    "elif n==2:\n",
    "    print(b)\n",
    "elif n==3:\n",
    "    print(c)\n",
    "else:\n",
    "    i=3\n",
    "    while(i<=n):\n",
    "        c=a+b\n",
    "        a=b\n",
    "        b=c\n",
    "        i=i+1\n",
    "    print(c)"
   ]
  },
  {
   "cell_type": "markdown",
   "id": "df48c767",
   "metadata": {},
   "source": [
    "# Find any of the peak elements"
   ]
  },
  {
   "cell_type": "code",
   "execution_count": null,
   "id": "5537574c",
   "metadata": {},
   "outputs": [],
   "source": [
    "li=[int(i) for i in input().split(\",\")]\n",
    "n=len(li)\n",
    "max=li[0]\n",
    "index=0\n",
    "i=1\n",
    "while(i<n):\n",
    "    if max<li[i]:\n",
    "        index=i\n",
    "        max=li[i]\n",
    "        i+=1\n",
    "    else:\n",
    "        i+=1\n",
    "print(index)"
   ]
  }
 ],
 "metadata": {
  "kernelspec": {
   "display_name": "Python 3 (ipykernel)",
   "language": "python",
   "name": "python3"
  },
  "language_info": {
   "codemirror_mode": {
    "name": "ipython",
    "version": 3
   },
   "file_extension": ".py",
   "mimetype": "text/x-python",
   "name": "python",
   "nbconvert_exporter": "python",
   "pygments_lexer": "ipython3",
   "version": "3.9.7"
  }
 },
 "nbformat": 4,
 "nbformat_minor": 5
}
