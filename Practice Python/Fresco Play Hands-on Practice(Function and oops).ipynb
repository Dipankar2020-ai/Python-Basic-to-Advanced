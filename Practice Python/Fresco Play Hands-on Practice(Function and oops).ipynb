{
 "cells": [
  {
   "cell_type": "markdown",
   "id": "48759229",
   "metadata": {},
   "source": [
    "# Magic Constant Generator"
   ]
  },
  {
   "cell_type": "code",
   "execution_count": 1,
   "id": "77c3cd05",
   "metadata": {},
   "outputs": [
    {
     "name": "stdout",
     "output_type": "stream",
     "text": [
      "8\n",
      "15\n",
      "34\n",
      "65\n",
      "111\n",
      "175\n",
      "260\n",
      "<class 'generator'>\n"
     ]
    }
   ],
   "source": [
    "def generator_Magic(n1):\n",
    "    # Write your code here\n",
    "    for i in range(3,n1+1):\n",
    "        m=0\n",
    "        m=(i*(i**2+1))/2\n",
    "        yield m\n",
    "\n",
    "if __name__ == '__main__':\n",
    "\n",
    "    n = int(input().strip())\n",
    "    \n",
    "    for i in generator_Magic(n):\n",
    "        print(int(i))\n",
    "\n",
    "    gen1 = generator_Magic(n)\n",
    "    print(type(gen1))"
   ]
  },
  {
   "cell_type": "markdown",
   "id": "5e15bc6e",
   "metadata": {},
   "source": [
    "# Cinema Ticket"
   ]
  },
  {
   "cell_type": "code",
   "execution_count": 2,
   "id": "775fe6ea",
   "metadata": {},
   "outputs": [
    {
     "name": "stdout",
     "output_type": "stream",
     "text": [
      "Star Wars\n",
      "2\n",
      "210\n",
      "Movie : Star Wars\n",
      "Number of Tickets : 2\n",
      "Total Cost : 210\n"
     ]
    }
   ],
   "source": [
    "class Movie:\n",
    "    def __init__(self,name,n,cost):\n",
    "        self.name=name\n",
    "        self.n=n\n",
    "        self.cost=cost\n",
    "    def __str__(self):\n",
    "        b=\"Number of Tickets : \"+str(self.n)\n",
    "        c=\"Total Cost : \"+str(self.cost)\n",
    "        s=\"Movie : \"+str(self.name)+\"\\n\"+b+\"\\n\"+c\n",
    "        return s\n",
    "if __name__ == '__main__':\n",
    "    name = input()\n",
    "    n = int(input().strip())\n",
    "    cost = int(input().strip())\n",
    "    \n",
    "    p1 = Movie(name,n,cost)\n",
    "    print(p1)\n"
   ]
  },
  {
   "cell_type": "markdown",
   "id": "e81b7cb6",
   "metadata": {},
   "source": [
    "# Adition and Substraction of Complex Numbers"
   ]
  },
  {
   "cell_type": "code",
   "execution_count": 3,
   "id": "21c93c14",
   "metadata": {},
   "outputs": [
    {
     "name": "stdout",
     "output_type": "stream",
     "text": [
      "4\n",
      "5\n",
      "4\n",
      "5\n",
      "Sum of the two Complex numbers :8+10i\n",
      "Subtraction of the two Complex numbers :0+0i\n"
     ]
    }
   ],
   "source": [
    "class comp:\n",
    "    def __init__(self,real,imaginary):\n",
    "        self.real=real\n",
    "        self.imaginary=imaginary\n",
    "        \n",
    "    def add(self,p1):\n",
    "        print(\"Sum of the two Complex numbers :\"+str(p1.real+self.real)+\"+\"+str(self.imaginary+p1.imaginary)+\"i\")\n",
    "    def sub(self,p1):\n",
    "        a=self.imaginary-p1.imaginary\n",
    "        if a>=0:\n",
    "            print(\"Subtraction of the two Complex numbers :\"+str(self.real-p1.real)+\"+\"+str(self.imaginary-p1.imaginary)+\"i\")\n",
    "        else:\n",
    "            print(\"Subtraction of the two Complex numbers :\"+str(self.real-p1.real)+str(self.imaginary-p1.imaginary)+\"i\")\n",
    "\n",
    "if __name__ == '__main__':\n",
    "    \n",
    "    real1 = int(input().strip())\n",
    "    img1 = int(input().strip())\n",
    "    \n",
    "    real2 = int(input().strip())\n",
    "    img2 = int(input().strip())\n",
    "    \n",
    "    p1 = comp(real1,img1)\n",
    "    p2 = comp(real2,img2)\n",
    "\n",
    "    p1.add(p2)\n",
    "    p1.sub(p2)"
   ]
  },
  {
   "cell_type": "markdown",
   "id": "8f924df4",
   "metadata": {},
   "source": [
    "# Inheritance-Parent and Children Shares"
   ]
  },
  {
   "cell_type": "code",
   "execution_count": null,
   "id": "12c346b1",
   "metadata": {},
   "outputs": [],
   "source": [
    "class son(parent):\n",
    "    def __init__(self,Asset,Percentage_for_son):\n",
    "        parent.__init__(self,Asset)\n",
    "        self.asset=Asset\n",
    "        self.Percentage_for_son=Percentage_for_son\n",
    "    def son_display(self):\n",
    "        print(\"Share of Son is {} Million.\".format(round((self.Percentage_for_son*self.asset))/100))\n",
    "class daughter(parent):\n",
    "    def __init__(self,Asset,Percentage_for_daughter):\n",
    "        parent.__init__(self,Asset)\n",
    "        self.asset=Asset\n",
    "        self.Percentage_for_daughter=Percentage_for_daughter\n",
    "    def daughter_display(self):\n",
    "        print(\"Share of Daughter is {} Million.\".format(round((self.Percentage_for_daughter*self.asset))/100))\n",
    "    \n",
    "if __name__ == '__main__':\n",
    "    \n",
    "    t = int(input())\n",
    "    sp = int(input())\n",
    "    dp = int(input())\n",
    "\n",
    "\n",
    "    obj1 = parent(t)\n",
    "    \n",
    "\n",
    "    obj2 = son(t,sp)\n",
    "    obj2.son_display()\n",
    "    obj2.display()\n",
    "\n",
    "\n",
    "    obj3 = daughter(t,dp)\n",
    "    obj3.daughter_display()\n",
    "    obj3.display()\n",
    "    \n",
    "    print(isinstance(obj2,parent))\n",
    "    print(isinstance(obj3,parent))\n",
    "\n",
    "    print(isinstance(obj3,son))\n",
    "    print(isinstance(obj2,daughter))"
   ]
  },
  {
   "cell_type": "markdown",
   "id": "e82c90ce",
   "metadata": {},
   "source": [
    "# Define a class 'Rectangle' with two methods 'display' and 'area'"
   ]
  },
  {
   "cell_type": "code",
   "execution_count": 5,
   "id": "687a2b10",
   "metadata": {},
   "outputs": [
    {
     "name": "stdout",
     "output_type": "stream",
     "text": [
      "5\n",
      "4\n",
      "6\n",
      "This is a Rectangle\n",
      "Area of Rectangle is  20\n",
      "This is a Square\n",
      "Area of square is  36\n"
     ]
    }
   ],
   "source": [
    "class rectangle:\n",
    "    def display(self):\n",
    "        print(\"This is a Rectangle\")\n",
    "    def area(self,length,breadth):\n",
    "        ar=length*breadth\n",
    "        print(\"Area of Rectangle is  {}\".format(ar))\n",
    "class square:\n",
    "    def display(self):\n",
    "        print(\"This is a Square\")\n",
    "    def area(self,side):\n",
    "        print(\"Area of square is  {}\".format(side*side))\n",
    "\n",
    "if __name__ == '__main__':\n",
    "    \n",
    "    l = int(input())\n",
    "    b = int(input())\n",
    "    s = int(input())\n",
    "\n",
    "    obj1 = rectangle()\n",
    "    obj1.display()\n",
    "    obj1.area(l,b)\n",
    "\n",
    "    obj2 = square()\n",
    "    obj2.display()\n",
    "    obj2.area(s)"
   ]
  }
 ],
 "metadata": {
  "kernelspec": {
   "display_name": "Python 3 (ipykernel)",
   "language": "python",
   "name": "python3"
  },
  "language_info": {
   "codemirror_mode": {
    "name": "ipython",
    "version": 3
   },
   "file_extension": ".py",
   "mimetype": "text/x-python",
   "name": "python",
   "nbconvert_exporter": "python",
   "pygments_lexer": "ipython3",
   "version": "3.9.7"
  }
 },
 "nbformat": 4,
 "nbformat_minor": 5
}
