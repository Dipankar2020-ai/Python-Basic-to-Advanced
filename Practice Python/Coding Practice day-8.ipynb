{
 "cells": [
  {
   "cell_type": "markdown",
   "id": "362bddd3",
   "metadata": {},
   "source": [
    "### alarm_clock"
   ]
  },
  {
   "cell_type": "markdown",
   "id": "54e3f825",
   "metadata": {},
   "source": [
    "\n",
    "Given a day of the week encoded as 0=Sun, 1=Mon, 2=Tue, ...6=Sat, and a boolean indicating if we are on vacation, return a string of the form \"7:00\" indicating when the alarm clock should ring. Weekdays, the alarm should be \"7:00\" and on the weekend it should be \"10:00\". Unless we are on vacation -- then on weekdays it should be \"10:00\" and weekends it should be \"off\".\n",
    "\n",
    "\n",
    "alarm_clock(1, False) → '7:00'\n",
    "alarm_clock(5, False) → '7:00'\n",
    "alarm_clock(0, False) → '10:00'\n",
    "\n",
    "https://codingbat.com/prob/p119867"
   ]
  },
  {
   "cell_type": "code",
   "execution_count": 1,
   "id": "facca42f",
   "metadata": {},
   "outputs": [],
   "source": [
    "def alarm_clock(day, vacation):\n",
    "  if vacation==False:\n",
    "    if day==6 or day==0:\n",
    "      return \"10:00\"\n",
    "    else:\n",
    "      return \"7:00\"\n",
    "  else:\n",
    "    if day==6 or day==0:\n",
    "      return \"off\"\n",
    "    else:\n",
    "      return \"10:00\""
   ]
  },
  {
   "cell_type": "markdown",
   "id": "891a09bf",
   "metadata": {},
   "source": [
    "### love6\n"
   ]
  },
  {
   "cell_type": "markdown",
   "id": "358e1f47",
   "metadata": {},
   "source": [
    "\n",
    "The number 6 is a truly great number. Given two int values, a and b, return True if either one is 6. Or if their sum or difference is 6. Note: the function abs(num) computes the absolute value of a number.\n",
    "\n",
    "\n",
    "love6(6, 4) → True\n",
    "love6(4, 5) → False\n",
    "love6(1, 5) → True\n",
    "\n",
    "https://codingbat.com/prob/p100958"
   ]
  },
  {
   "cell_type": "code",
   "execution_count": 2,
   "id": "5654a209",
   "metadata": {},
   "outputs": [],
   "source": [
    "def love6(a, b):\n",
    "  if a==6 or b==6 or (a+b)==6 or abs(a-b)==6:\n",
    "    return True\n",
    "  else:\n",
    "    return False"
   ]
  },
  {
   "cell_type": "markdown",
   "id": "2bf34492",
   "metadata": {},
   "source": [
    "### in1to10"
   ]
  },
  {
   "cell_type": "markdown",
   "id": "7d9dd938",
   "metadata": {},
   "source": [
    "\n",
    "Given a number n, return True if n is in the range 1..10, inclusive. Unless outside_mode is True, in which case return True if the number is less or equal to 1, or greater or equal to 10.\n",
    "\n",
    "\n",
    "in1to10(5, False) → True\n",
    "in1to10(11, False) → False\n",
    "in1to10(11, True) → True\n",
    "\n",
    "https://codingbat.com/prob/p158497"
   ]
  },
  {
   "cell_type": "code",
   "execution_count": 4,
   "id": "10c14a23",
   "metadata": {},
   "outputs": [],
   "source": [
    "def in1to10(n, outside_mode):\n",
    "  if outside_mode==False:\n",
    "    if n>=1 and n<=10:\n",
    "      return True\n",
    "    else:\n",
    "      return False\n",
    "  else:\n",
    "    if n<=1 or n>=10:\n",
    "      return True\n",
    "    else:\n",
    "      return False"
   ]
  },
  {
   "cell_type": "markdown",
   "id": "3691459e",
   "metadata": {},
   "source": [
    "### near_ten"
   ]
  },
  {
   "cell_type": "markdown",
   "id": "441f0694",
   "metadata": {},
   "source": [
    "Given a non-negative number \"num\", return True if num is within 2 of a multiple of 10. Note: (a % b) is the remainder of dividing a by b, so (7 % 5) is 2. See also: Introduction to Mod\n",
    "\n",
    "\n",
    "near_ten(12) → True\n",
    "near_ten(17) → False\n",
    "near_ten(19) → True\n",
    "\n",
    "https://codingbat.com/prob/p165321"
   ]
  },
  {
   "cell_type": "code",
   "execution_count": 5,
   "id": "488bc817",
   "metadata": {},
   "outputs": [],
   "source": [
    "def near_ten(num):\n",
    "  ans=num%10\n",
    "  if ans<=2 or (ans>=8 and ans<=10):\n",
    "    return True\n",
    "  else:\n",
    "    return False"
   ]
  },
  {
   "cell_type": "markdown",
   "id": "67e60365",
   "metadata": {},
   "source": [
    "## make_bricks (important)"
   ]
  },
  {
   "cell_type": "markdown",
   "id": "3cbb5e2e",
   "metadata": {},
   "source": [
    "\n",
    "We want to make a row of bricks that is goal inches long. We have a number of small bricks (1 inch each) and big bricks (5 inches each). Return True if it is possible to make the goal by choosing from the given bricks. This is a little harder than it looks and can be done without any loops. See also: Introduction to MakeBricks\n",
    "\n",
    "\n",
    "make_bricks(3, 1, 8) → True\n",
    "make_bricks(3, 1, 9) → False\n",
    "make_bricks(3, 2, 10) → True\n",
    "\n",
    "https://codingbat.com/prob/p118406"
   ]
  },
  {
   "cell_type": "code",
   "execution_count": 6,
   "id": "ffa1eb06",
   "metadata": {},
   "outputs": [],
   "source": [
    "def make_bricks(small, big, goal):\n",
    "  if (small+5*big) <goal:  # think of negative scenarios\n",
    "    return False\n",
    "  elif goal%5>small:\n",
    "    return False\n",
    "  else:\n",
    "    return True"
   ]
  }
 ],
 "metadata": {
  "kernelspec": {
   "display_name": "Python 3 (ipykernel)",
   "language": "python",
   "name": "python3"
  },
  "language_info": {
   "codemirror_mode": {
    "name": "ipython",
    "version": 3
   },
   "file_extension": ".py",
   "mimetype": "text/x-python",
   "name": "python",
   "nbconvert_exporter": "python",
   "pygments_lexer": "ipython3",
   "version": "3.9.7"
  }
 },
 "nbformat": 4,
 "nbformat_minor": 5
}
