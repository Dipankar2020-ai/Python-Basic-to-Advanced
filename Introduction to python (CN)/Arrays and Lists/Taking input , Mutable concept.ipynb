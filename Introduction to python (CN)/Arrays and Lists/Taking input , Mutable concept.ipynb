{
 "cells": [
  {
   "cell_type": "markdown",
   "id": "ef3abdbe",
   "metadata": {},
   "source": [
    "### Line seperated Input ###"
   ]
  },
  {
   "cell_type": "code",
   "execution_count": 1,
   "id": "5af6e947",
   "metadata": {},
   "outputs": [
    {
     "name": "stdout",
     "output_type": "stream",
     "text": [
      "5\n",
      "1\n",
      "2\n",
      "3\n",
      "4\n",
      "5\n",
      "[1, 2, 3, 4, 5]\n"
     ]
    }
   ],
   "source": [
    "n=int(input())\n",
    "li=[]\n",
    "for i in range(n):\n",
    "    curr=int(input())\n",
    "    li.append(curr)\n",
    "print(li)"
   ]
  },
  {
   "cell_type": "markdown",
   "id": "52112b32",
   "metadata": {},
   "source": [
    "### Space seperated ###"
   ]
  },
  {
   "cell_type": "code",
   "execution_count": 5,
   "id": "5b15ae32",
   "metadata": {},
   "outputs": [
    {
     "name": "stdout",
     "output_type": "stream",
     "text": [
      "5\n",
      "1 2 3 4\n"
     ]
    },
    {
     "data": {
      "text/plain": [
       "[1, 2, 3, 4]"
      ]
     },
     "execution_count": 5,
     "metadata": {},
     "output_type": "execute_result"
    }
   ],
   "source": [
    "n=int(input())\n",
    "str=input()\n",
    "str_split=str.split(\" \")\n",
    "li=[]\n",
    "for ele in str_split:\n",
    "    li.append(int(ele))\n",
    "li\n"
   ]
  },
  {
   "cell_type": "markdown",
   "id": "7a5d893c",
   "metadata": {},
   "source": [
    "### Taking input in one line ###"
   ]
  },
  {
   "cell_type": "code",
   "execution_count": 10,
   "id": "9bbb1e7a",
   "metadata": {},
   "outputs": [
    {
     "name": "stdout",
     "output_type": "stream",
     "text": [
      "1 2 3 4 5\n"
     ]
    },
    {
     "data": {
      "text/plain": [
       "[1, 2, 3, 4, 5]"
      ]
     },
     "execution_count": 10,
     "metadata": {},
     "output_type": "execute_result"
    }
   ],
   "source": [
    "li=[int(x) for x in input().split(\" \")]\n",
    "li"
   ]
  },
  {
   "cell_type": "code",
   "execution_count": 13,
   "id": "72d735e0",
   "metadata": {},
   "outputs": [
    {
     "name": "stdout",
     "output_type": "stream",
     "text": [
      "5\n",
      "1 2 3 4 5\n",
      "1\n",
      "2\n",
      "3\n",
      "4\n",
      "5\n"
     ]
    }
   ],
   "source": [
    "\n",
    "n=int(input())\n",
    "li=[int(x) for x in input().split()]\n",
    "for ele in li:\n",
    "    print(ele)"
   ]
  },
  {
   "cell_type": "markdown",
   "id": "e4da9189",
   "metadata": {},
   "source": [
    "### Linear Search through Function ###"
   ]
  },
  {
   "cell_type": "code",
   "execution_count": 16,
   "id": "7617704c",
   "metadata": {},
   "outputs": [
    {
     "name": "stdout",
     "output_type": "stream",
     "text": [
      "Enter the list :1 1 2 3 5\n",
      "Enter the element which you wannt to search : 6\n",
      "Sry !! The element is not present in the list\n"
     ]
    }
   ],
   "source": [
    "def linear_search(li,ele):\n",
    "    for i in range(len(li)):\n",
    "        if li[i]==ele:\n",
    "            return i\n",
    "    return -1\n",
    "\n",
    "li=[int(x) for x in input(\"Enter the list :\").split()]\n",
    "n=int(input(\"Enter the element which you wannt to search : \"))\n",
    "flag=linear_search(li,n)\n",
    "if flag==-1:\n",
    "    print(\"Sry !! The element is not present in the list\")\n",
    "else:\n",
    "    print(\"Wow !! the element is prsent in the list\")"
   ]
  },
  {
   "cell_type": "markdown",
   "id": "d0315b01",
   "metadata": {},
   "source": [
    "### Variables are immutable ###"
   ]
  },
  {
   "cell_type": "code",
   "execution_count": 17,
   "id": "8394d4eb",
   "metadata": {},
   "outputs": [
    {
     "name": "stdout",
     "output_type": "stream",
     "text": [
      "3\n",
      "2090044778864\n",
      "2090044778864\n",
      "2090044778896\n"
     ]
    }
   ],
   "source": [
    "x=3\n",
    "a=3\n",
    "print(x)\n",
    "print(id(x))\n",
    "print(id(a))\n",
    "a=4\n",
    "print(id(a))"
   ]
  },
  {
   "cell_type": "markdown",
   "id": "39a8f8a4",
   "metadata": {},
   "source": [
    "### Lists are Mutable ###"
   ]
  },
  {
   "cell_type": "code",
   "execution_count": 18,
   "id": "730b7938",
   "metadata": {},
   "outputs": [
    {
     "name": "stdout",
     "output_type": "stream",
     "text": [
      "[1, 2, 3, 4]\n",
      "[1, 5, 3, 4]\n"
     ]
    }
   ],
   "source": [
    "li=[1,2,3,4]\n",
    "print(li)\n",
    "l2=li\n",
    "l2[1]=5\n",
    "print(li)"
   ]
  },
  {
   "cell_type": "markdown",
   "id": "f64180ab",
   "metadata": {},
   "source": [
    "### Passing variables through Functions ###"
   ]
  },
  {
   "cell_type": "code",
   "execution_count": 19,
   "id": "92aa7077",
   "metadata": {},
   "outputs": [
    {
     "name": "stdout",
     "output_type": "stream",
     "text": [
      "2\n"
     ]
    }
   ],
   "source": [
    "def increment(a):\n",
    "    a=a+2\n",
    "    return \n",
    "a=2\n",
    "increment(a)\n",
    "print(a)\n"
   ]
  },
  {
   "cell_type": "code",
   "execution_count": 21,
   "id": "11d600e1",
   "metadata": {},
   "outputs": [
    {
     "name": "stdout",
     "output_type": "stream",
     "text": [
      "4\n"
     ]
    }
   ],
   "source": [
    "def increment(a):\n",
    "    a=a+2\n",
    "    return a\n",
    "a=2\n",
    "a=increment(a)\n",
    "print(a)"
   ]
  },
  {
   "cell_type": "code",
   "execution_count": 22,
   "id": "69ce9608",
   "metadata": {},
   "outputs": [
    {
     "name": "stdout",
     "output_type": "stream",
     "text": [
      "[1, 4, 3, 4, 5]\n"
     ]
    }
   ],
   "source": [
    "def change(li):\n",
    "    li[1]=li[1]+2\n",
    "li=[1,2,3,4,5]\n",
    "change(li)\n",
    "print(li)"
   ]
  },
  {
   "cell_type": "code",
   "execution_count": 23,
   "id": "b653280a",
   "metadata": {},
   "outputs": [
    {
     "name": "stdout",
     "output_type": "stream",
     "text": [
      "[1, 4, 3, 4, 5]\n"
     ]
    }
   ],
   "source": [
    "def change(li):\n",
    "    li[1]=li[1]+2\n",
    "    li=[3,3,4]\n",
    "li=[1,2,3,4,5]\n",
    "change(li)\n",
    "print(li)"
   ]
  }
 ],
 "metadata": {
  "kernelspec": {
   "display_name": "Python 3 (ipykernel)",
   "language": "python",
   "name": "python3"
  },
  "language_info": {
   "codemirror_mode": {
    "name": "ipython",
    "version": 3
   },
   "file_extension": ".py",
   "mimetype": "text/x-python",
   "name": "python",
   "nbconvert_exporter": "python",
   "pygments_lexer": "ipython3",
   "version": "3.9.7"
  }
 },
 "nbformat": 4,
 "nbformat_minor": 5
}
