{
 "cells": [
  {
   "cell_type": "markdown",
   "id": "9923727e",
   "metadata": {},
   "source": [
    "### Find duplicate ###"
   ]
  },
  {
   "cell_type": "markdown",
   "id": "151fd69a",
   "metadata": {},
   "source": [
    "Problem Description: You are given with an array of integers of size n which contains numbersfrom 0 to n - 2. Each number is present at least once. That is, if n = 5, numbers from 0 to 3 is present in the given array at least once and one number is present twice. You need to find and return that duplicate number present in the array."
   ]
  },
  {
   "cell_type": "code",
   "execution_count": 12,
   "id": "7a8cb29d",
   "metadata": {},
   "outputs": [],
   "source": [
    "#Approach 1\n",
    "#1. If we XOR a number by itself, even number of times then it will give you 0.\n",
    "#2. If we XOR a number with itself, odd number of times, then it will give you the numberitself.\n",
    "#3.Also XOR of a number with 0 gives you that number again.\n",
    "#So, if we take XOR of all the elements present in the array with every element in the range 0 ton-2, then all the elements of that array except the duplicate element are XORed 2 times and\n",
    "#hence, their resultant is 0. But the duplicate element is XORed 3 times, \n",
    "#hence, its resultant is thenumber itself. Hence, you will get you answer as the duplicate number present in the array"
   ]
  },
  {
   "cell_type": "code",
   "execution_count": 11,
   "id": "e0ce7dd2",
   "metadata": {},
   "outputs": [
    {
     "name": "stdout",
     "output_type": "stream",
     "text": [
      "2\n",
      "5\n",
      "0 2 1 3 1\n",
      "1\n",
      "7\n",
      "0 3 1 5 4 3 2\n",
      "3\n"
     ]
    }
   ],
   "source": [
    "n=int(input())\n",
    "\n",
    "while n>0:\n",
    "    m=int(input())\n",
    "    ans=0\n",
    "    li=[int(x) for x in input().split()]\n",
    "    for i in range(0,m):\n",
    "        ans=ans^li[i]\n",
    "    for i in range(0,m-1):\n",
    "        ans=ans^i\n",
    "    print(ans)\n",
    "    n=n-1\n",
    "    "
   ]
  },
  {
   "cell_type": "code",
   "execution_count": null,
   "id": "dd15aed2",
   "metadata": {},
   "outputs": [],
   "source": [
    "# Approach 2\n",
    "#Another approach is to make use of the condition that all elements lies between 0 and n-2.\n",
    "#So first calculate the sum of all natural numbers between 0 to n-2 by using the directformula ((n - 1) * (n - 2)) / 2\n",
    "#and sum of all elements of the array. Now, subtract the sum of allnatural numbers between 0 to n-2 from sum of all elements of the array.\n",
    "#This will give you the duplicate element present in the array"
   ]
  },
  {
   "cell_type": "code",
   "execution_count": 19,
   "id": "32fb35f3",
   "metadata": {},
   "outputs": [
    {
     "name": "stdout",
     "output_type": "stream",
     "text": [
      "2\n",
      "5\n",
      "0 2 1 3 1\n",
      "1\n",
      "7\n",
      "0 3 1 5 4 3 2\n",
      "3\n"
     ]
    }
   ],
   "source": [
    "n=int(input())\n",
    "while n>0:\n",
    "    m=int(input())\n",
    "    ans=0\n",
    "    li=[int(x) for x in input().split()]\n",
    "    for i in range(0,m):\n",
    "        ans=ans+li[i]\n",
    "    ans1=((m-1)*(m-2))//2\n",
    " \n",
    "    print(abs(ans1-ans))\n",
    "    n=n-1"
   ]
  }
 ],
 "metadata": {
  "kernelspec": {
   "display_name": "Python 3 (ipykernel)",
   "language": "python",
   "name": "python3"
  },
  "language_info": {
   "codemirror_mode": {
    "name": "ipython",
    "version": 3
   },
   "file_extension": ".py",
   "mimetype": "text/x-python",
   "name": "python",
   "nbconvert_exporter": "python",
   "pygments_lexer": "ipython3",
   "version": "3.9.7"
  }
 },
 "nbformat": 4,
 "nbformat_minor": 5
}
