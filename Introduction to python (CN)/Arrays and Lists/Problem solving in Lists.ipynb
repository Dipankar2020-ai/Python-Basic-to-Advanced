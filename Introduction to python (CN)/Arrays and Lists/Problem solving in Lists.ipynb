{
 "cells": [
  {
   "cell_type": "markdown",
   "id": "142753fb",
   "metadata": {},
   "source": [
    "### Swap Alternate ###"
   ]
  },
  {
   "cell_type": "markdown",
   "id": "13d8125b",
   "metadata": {},
   "source": [
    "Problem Description: You are given with an array of length N, you have to swap every pair ofalternate elements in the array.\n",
    "For example:N= 6                \n",
    "arr[] = 9 3 6 12 4 32\n",
    "Output after swapping : 3 9 12 6 32 4 "
   ]
  },
  {
   "cell_type": "markdown",
   "id": "85bc0b41",
   "metadata": {},
   "source": [
    "Solution:\n"
   ]
  },
  {
   "cell_type": "code",
   "execution_count": 10,
   "id": "a6352ec1",
   "metadata": {},
   "outputs": [
    {
     "name": "stdout",
     "output_type": "stream",
     "text": [
      "6\n",
      "9 3 6 12 4 32\n",
      "[3, 9, 12, 6, 32, 4]\n"
     ]
    }
   ],
   "source": [
    "n=int(input())\n",
    "li=[int(x) for x in input().split()]\n",
    "\n",
    "for i in range(0,len(li),2):\n",
    "    temp=li[i]\n",
    "    li[i]=li[i+1]\n",
    "    li[i+1]=temp\n",
    "print(li)\n",
    "    "
   ]
  },
  {
   "cell_type": "markdown",
   "id": "80d40cd7",
   "metadata": {},
   "source": [
    "### Find Unique ###"
   ]
  },
  {
   "cell_type": "markdown",
   "id": "9cff0708",
   "metadata": {},
   "source": [
    "Problem Description: Given an integer array of size 2N + 1. In this given array, N numbers arepresent twice and one number is present only once in the array. You need to find and return that number which is unique in the array.\n",
    "For example: size= 7                    \n",
    "arr[] = 2 3 1 6 3 6 2\n",
    "Output: 1"
   ]
  },
  {
   "cell_type": "code",
   "execution_count": 14,
   "id": "8b7f36f0",
   "metadata": {},
   "outputs": [
    {
     "name": "stdout",
     "output_type": "stream",
     "text": [
      "7\n",
      "2 3 1 6 3 6 2\n",
      "1\n"
     ]
    }
   ],
   "source": [
    "n=int(input())\n",
    "li=[int(x) for x in input().split()]\n",
    "ans=li[0]\n",
    "for i in range(1,len(li)): #Xor Method\n",
    "    ans=ans^li[i]\n",
    "print(ans)\n",
    "    \n",
    "    \n",
    "    \n"
   ]
  },
  {
   "cell_type": "markdown",
   "id": "9077c71c",
   "metadata": {},
   "source": [
    "### Reverse a list ###"
   ]
  },
  {
   "cell_type": "code",
   "execution_count": 15,
   "id": "fce84829",
   "metadata": {},
   "outputs": [],
   "source": [
    "#Approach 1"
   ]
  },
  {
   "cell_type": "code",
   "execution_count": 18,
   "id": "6817a270",
   "metadata": {},
   "outputs": [
    {
     "name": "stdout",
     "output_type": "stream",
     "text": [
      "6\n",
      "1 2 3 4 5 6\n",
      "[6, 5, 4, 3, 2, 1]\n"
     ]
    }
   ],
   "source": [
    "def reverselist(li):\n",
    "    length=len(li)\n",
    "    for i in range(length//2):\n",
    "        li[i],li[length-i-1]=li[length-i-1],li[i]\n",
    "n=int(input())\n",
    "li=[int(x) for x in input().split()]\n",
    "reverselist(li)\n",
    "print(li)\n",
    "\n"
   ]
  },
  {
   "cell_type": "code",
   "execution_count": 19,
   "id": "ba73b37a",
   "metadata": {},
   "outputs": [],
   "source": [
    "## Approach 2"
   ]
  },
  {
   "cell_type": "code",
   "execution_count": 20,
   "id": "71fae26d",
   "metadata": {},
   "outputs": [
    {
     "name": "stdout",
     "output_type": "stream",
     "text": [
      "6\n",
      "1 2 3 4 5 6\n",
      "[6, 5, 4, 3, 2, 1]\n"
     ]
    }
   ],
   "source": [
    "n=int(input())\n",
    "li=[int(x) for x in input().split()]\n",
    "li=li[::-1]\n",
    "print(li)"
   ]
  }
 ],
 "metadata": {
  "kernelspec": {
   "display_name": "Python 3 (ipykernel)",
   "language": "python",
   "name": "python3"
  },
  "language_info": {
   "codemirror_mode": {
    "name": "ipython",
    "version": 3
   },
   "file_extension": ".py",
   "mimetype": "text/x-python",
   "name": "python",
   "nbconvert_exporter": "python",
   "pygments_lexer": "ipython3",
   "version": "3.9.7"
  }
 },
 "nbformat": 4,
 "nbformat_minor": 5
}
