{
 "cells": [
  {
   "cell_type": "markdown",
   "id": "e75fcc4d",
   "metadata": {},
   "source": [
    "### String Functions : split()  ###"
   ]
  },
  {
   "cell_type": "code",
   "execution_count": 1,
   "id": "07db1570",
   "metadata": {},
   "outputs": [
    {
     "name": "stdout",
     "output_type": "stream",
     "text": [
      "['My', 'name', 'is', 'parikh']\n"
     ]
    }
   ],
   "source": [
    "str=\"My name is parikh\"\n",
    "li=str.split()\n",
    "print(li)"
   ]
  },
  {
   "cell_type": "code",
   "execution_count": 3,
   "id": "d5ce3b6b",
   "metadata": {},
   "outputs": [
    {
     "name": "stdout",
     "output_type": "stream",
     "text": [
      "['My', 'name is parikh']\n"
     ]
    }
   ],
   "source": [
    "li1=str.split(\" \",1)\n",
    "print(li1)"
   ]
  },
  {
   "cell_type": "code",
   "execution_count": 4,
   "id": "8ada3df4",
   "metadata": {},
   "outputs": [
    {
     "name": "stdout",
     "output_type": "stream",
     "text": [
      "['My', 'name', 'is parikh']\n"
     ]
    }
   ],
   "source": [
    "li2=str.split(\" \",2)\n",
    "print(li2)"
   ]
  },
  {
   "cell_type": "markdown",
   "id": "f20d773e",
   "metadata": {},
   "source": [
    "### Replace() ###"
   ]
  },
  {
   "cell_type": "code",
   "execution_count": 7,
   "id": "724e768e",
   "metadata": {},
   "outputs": [],
   "source": [
    "str=\"My name is parikh \"\n",
    "str1=str.replace(\"parikh\",\"Rohan\")"
   ]
  },
  {
   "cell_type": "code",
   "execution_count": 8,
   "id": "9e46d5ee",
   "metadata": {},
   "outputs": [
    {
     "name": "stdout",
     "output_type": "stream",
     "text": [
      "My name is parikh \n",
      "My name is Rohan \n"
     ]
    }
   ],
   "source": [
    "print(str)\n",
    "print(str1)"
   ]
  },
  {
   "cell_type": "code",
   "execution_count": 9,
   "id": "6fd56c13",
   "metadata": {},
   "outputs": [
    {
     "name": "stdout",
     "output_type": "stream",
     "text": [
      "My name is Rohan Rohan Rohan\n"
     ]
    }
   ],
   "source": [
    "str=\"My name is Parikh Parikh Parikh\"\n",
    "str1=str.replace(\"Parikh\",\"Rohan\")\n",
    "print(str1)"
   ]
  },
  {
   "cell_type": "code",
   "execution_count": 10,
   "id": "1f81dcc9",
   "metadata": {},
   "outputs": [],
   "source": [
    "str2=str.replace(\"Parikh\",\"Rohan\",1)"
   ]
  },
  {
   "cell_type": "code",
   "execution_count": 11,
   "id": "8831ca52",
   "metadata": {},
   "outputs": [
    {
     "name": "stdout",
     "output_type": "stream",
     "text": [
      "My name is Rohan Parikh Parikh\n"
     ]
    }
   ],
   "source": [
    "print(str2)"
   ]
  },
  {
   "cell_type": "markdown",
   "id": "af32f800",
   "metadata": {},
   "source": [
    "### find() : Substring index  ###"
   ]
  },
  {
   "cell_type": "code",
   "execution_count": 12,
   "id": "fb0db28b",
   "metadata": {},
   "outputs": [
    {
     "name": "stdout",
     "output_type": "stream",
     "text": [
      "3\n"
     ]
    }
   ],
   "source": [
    "str=\"My Name is Parikh\"\n",
    "index=str.find(\"Na\")\n",
    "print(index)"
   ]
  },
  {
   "cell_type": "code",
   "execution_count": 13,
   "id": "467b9d50",
   "metadata": {},
   "outputs": [
    {
     "name": "stdout",
     "output_type": "stream",
     "text": [
      "-1\n"
     ]
    }
   ],
   "source": [
    "index1=str.find(\"Nae\")\n",
    "print(index1)"
   ]
  },
  {
   "cell_type": "code",
   "execution_count": 14,
   "id": "49492752",
   "metadata": {},
   "outputs": [
    {
     "name": "stdout",
     "output_type": "stream",
     "text": [
      "11\n"
     ]
    }
   ],
   "source": [
    "index=str.find(\"Par\")\n",
    "print(index)"
   ]
  },
  {
   "cell_type": "code",
   "execution_count": 16,
   "id": "e671cdbf",
   "metadata": {},
   "outputs": [
    {
     "name": "stdout",
     "output_type": "stream",
     "text": [
      "-1\n"
     ]
    }
   ],
   "source": [
    "index=str.find(\"Par\",16,21)\n",
    "print(index)"
   ]
  },
  {
   "cell_type": "code",
   "execution_count": 17,
   "id": "cd1067c3",
   "metadata": {},
   "outputs": [
    {
     "name": "stdout",
     "output_type": "stream",
     "text": [
      "-1\n"
     ]
    }
   ],
   "source": [
    "index=str.find(\"Par\",16,22)\n",
    "print(index)"
   ]
  },
  {
   "cell_type": "markdown",
   "id": "3705ba4b",
   "metadata": {},
   "source": [
    "### Lower() and upper() ###"
   ]
  },
  {
   "cell_type": "code",
   "execution_count": 18,
   "id": "6ea1676f",
   "metadata": {},
   "outputs": [
    {
     "name": "stdout",
     "output_type": "stream",
     "text": [
      "MY NAME IS PARIKH\n"
     ]
    }
   ],
   "source": [
    "str=\"My name is Parikh\"\n",
    "str1=str.upper()\n",
    "print(str1)"
   ]
  },
  {
   "cell_type": "code",
   "execution_count": 19,
   "id": "a1182b30",
   "metadata": {},
   "outputs": [
    {
     "name": "stdout",
     "output_type": "stream",
     "text": [
      "my name is parikh\n"
     ]
    }
   ],
   "source": [
    "str2=str.lower()\n",
    "print(str2)"
   ]
  },
  {
   "cell_type": "markdown",
   "id": "af59b1d3",
   "metadata": {},
   "source": [
    "### starts with ###"
   ]
  },
  {
   "cell_type": "code",
   "execution_count": 21,
   "id": "fafe8fe4",
   "metadata": {},
   "outputs": [
    {
     "name": "stdout",
     "output_type": "stream",
     "text": [
      "True\n"
     ]
    }
   ],
   "source": [
    "str=\"My name is Parikh\"\n",
    "ans=str.startswith(\"My na\")\n",
    "print(ans)"
   ]
  },
  {
   "cell_type": "code",
   "execution_count": 22,
   "id": "0c389939",
   "metadata": {},
   "outputs": [
    {
     "name": "stdout",
     "output_type": "stream",
     "text": [
      "False\n"
     ]
    }
   ],
   "source": [
    "str=\"My name is Parikh\"\n",
    "ans=str.startswith(\"My nae\")\n",
    "print(ans)"
   ]
  },
  {
   "cell_type": "code",
   "execution_count": 24,
   "id": "29afb7a1",
   "metadata": {},
   "outputs": [
    {
     "name": "stdout",
     "output_type": "stream",
     "text": [
      "True\n"
     ]
    }
   ],
   "source": [
    "ans=str.startswith(\"Pa\",11,25)\n",
    "print(ans)"
   ]
  },
  {
   "cell_type": "markdown",
   "id": "bddf45bc",
   "metadata": {},
   "source": [
    "### Replace Character ###"
   ]
  },
  {
   "cell_type": "code",
   "execution_count": 25,
   "id": "7776f797",
   "metadata": {},
   "outputs": [
    {
     "name": "stdout",
     "output_type": "stream",
     "text": [
      "abcda\n",
      "ebcde\n"
     ]
    }
   ],
   "source": [
    "str=input()\n",
    "for i in range(0,len(str)):\n",
    "    if str[i]=='a':\n",
    "        str=str.replace(str[i],'e')\n",
    "print(str)\n",
    "        "
   ]
  },
  {
   "cell_type": "markdown",
   "id": "3b8fd268",
   "metadata": {},
   "source": [
    "### Count Vowel Constants Digits ###"
   ]
  },
  {
   "cell_type": "code",
   "execution_count": 27,
   "id": "9633a745",
   "metadata": {},
   "outputs": [
    {
     "name": "stdout",
     "output_type": "stream",
     "text": [
      "SASDGHttfdvagdb&&&&&7777234%\n",
      "2 13 7 6\n"
     ]
    }
   ],
   "source": [
    "def countinStrings(str):\n",
    "    v,c,d,s=0,0,0,0\n",
    "    for char in str:\n",
    "        if((char>='a' and char<='z') or (char>='A' and char<='Z')):\n",
    "            char=char.lower()\n",
    "            if(char=='a' or char=='e' or char=='i' or char=='o' or char=='u'):\n",
    "                v+=1\n",
    "            else:\n",
    "                c+=1\n",
    "        elif(char>='0' and char<='9'):\n",
    "            d+=1\n",
    "        else:\n",
    "            s+=1\n",
    "    return v,c,d,s\n",
    "str=input()\n",
    "v,c,d,s=countinStrings(str)\n",
    "print(v,c,d,s)"
   ]
  }
 ],
 "metadata": {
  "kernelspec": {
   "display_name": "Python 3 (ipykernel)",
   "language": "python",
   "name": "python3"
  },
  "language_info": {
   "codemirror_mode": {
    "name": "ipython",
    "version": 3
   },
   "file_extension": ".py",
   "mimetype": "text/x-python",
   "name": "python",
   "nbconvert_exporter": "python",
   "pygments_lexer": "ipython3",
   "version": "3.9.7"
  }
 },
 "nbformat": 4,
 "nbformat_minor": 5
}
