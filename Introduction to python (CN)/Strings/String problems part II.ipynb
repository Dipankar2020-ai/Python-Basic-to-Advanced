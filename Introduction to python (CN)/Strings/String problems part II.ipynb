{
 "cells": [
  {
   "cell_type": "markdown",
   "id": "5e50e65b",
   "metadata": {},
   "source": [
    "### Remove character ##\n"
   ]
  },
  {
   "cell_type": "code",
   "execution_count": 7,
   "id": "ed204d98",
   "metadata": {},
   "outputs": [
    {
     "name": "stdout",
     "output_type": "stream",
     "text": [
      "xxyyzxx\n",
      "y\n",
      "xxzxx\n"
     ]
    }
   ],
   "source": [
    "def removecharacter(s,ch):\n",
    "    str=\"\"\n",
    "    for i in range(0,len(s)):\n",
    "        if s[i]==ch:\n",
    "            continue\n",
    "        else:\n",
    "            str=str+s[i]\n",
    "    return str\n",
    "\n",
    "s=input()\n",
    "ch=input()\n",
    "res=removecharacter(s,ch)\n",
    "print(res)"
   ]
  },
  {
   "cell_type": "markdown",
   "id": "7414cd55",
   "metadata": {},
   "source": [
    "### Highest Occurring Character  ###"
   ]
  },
  {
   "cell_type": "markdown",
   "id": "317f0a5d",
   "metadata": {},
   "source": [
    "Given a string, find and return the highest occurring characterpresent in the given string.If there are 2 characters in the input string with same frequency, return thecharacter which comes first"
   ]
  },
  {
   "cell_type": "code",
   "execution_count": 14,
   "id": "8313b339",
   "metadata": {},
   "outputs": [
    {
     "name": "stdout",
     "output_type": "stream",
     "text": [
      "baaabbcc\n",
      "a\n"
     ]
    }
   ],
   "source": [
    "noofchar=256\n",
    "def highestoccuring(s):\n",
    "    frequency=[0]*noofchar\n",
    "    for ele in s:\n",
    "        ascii=ord(ele)\n",
    "        frequency[ascii]=frequency[ascii]+1\n",
    "    max=frequency[0]\n",
    "    pos=0\n",
    "    for i in range(1,len(frequency)):\n",
    "        if frequency[i]>max:\n",
    "            max=frequency[i]\n",
    "            pos=i\n",
    "    return chr(pos)\n",
    "        \n",
    "        \n",
    "s=input()\n",
    "ans=highestoccuring(s)\n",
    "print(ans)\n",
    "        \n",
    "    \n",
    "    "
   ]
  },
  {
   "cell_type": "markdown",
   "id": "621aa6c4",
   "metadata": {},
   "source": [
    "In this program, to use Counter(), we have to import it from the collections class in our program. Since Counter works for hashable objects they are accessed using a key. We can get the Key using the get() method."
   ]
  },
  {
   "cell_type": "code",
   "execution_count": 16,
   "id": "e2a7b89b",
   "metadata": {},
   "outputs": [
    {
     "name": "stdout",
     "output_type": "stream",
     "text": [
      "baaabbcc\n",
      "baaabbcc\n",
      "Counter({'b': 3, 'a': 3, 'c': 2})\n",
      "Most frequent character:  b\n"
     ]
    }
   ],
   "source": [
    "from collections import Counter\n",
    "\n",
    "string= input()\n",
    "print(string)\n",
    "\n",
    "result= Counter(string)\n",
    "print(result)\n",
    "result= max(result, key=result.get)\n",
    "\n",
    "print(\"Most frequent character: \",result)"
   ]
  },
  {
   "cell_type": "markdown",
   "id": "7e79fcdd",
   "metadata": {},
   "source": [
    "### Compress the string ###"
   ]
  },
  {
   "cell_type": "code",
   "execution_count": 18,
   "id": "90993e38",
   "metadata": {},
   "outputs": [
    {
     "name": "stdout",
     "output_type": "stream",
     "text": [
      "aaabbccdsa\n",
      "a3b2c2dsa\n"
     ]
    }
   ],
   "source": [
    "ind = 0\n",
    "\n",
    "def gen_compressed_str(string):\n",
    "  global ind\n",
    "  comp_str = \"\"\n",
    "  len_str = len(string)\n",
    "  while (ind != len_str):\n",
    "    count = 1\n",
    "\n",
    "    while ((ind < (len_str-1)) and (string[ind] == string[ind+1])):\n",
    "      count = count + 1\n",
    "      ind = ind + 1\n",
    "\n",
    "\n",
    "    if (count == 1):\n",
    "      comp_str = comp_str + str(string[ind])\n",
    "    else:\n",
    "      comp_str = comp_str + str(string[ind]) + str(count)\n",
    "    \n",
    "    ind = ind + 1\n",
    "\n",
    "  return comp_str\n",
    "      \n",
    "string =input()\n",
    "print(gen_compressed_str(string)) "
   ]
  }
 ],
 "metadata": {
  "kernelspec": {
   "display_name": "Python 3 (ipykernel)",
   "language": "python",
   "name": "python3"
  },
  "language_info": {
   "codemirror_mode": {
    "name": "ipython",
    "version": 3
   },
   "file_extension": ".py",
   "mimetype": "text/x-python",
   "name": "python",
   "nbconvert_exporter": "python",
   "pygments_lexer": "ipython3",
   "version": "3.9.7"
  }
 },
 "nbformat": 4,
 "nbformat_minor": 5
}
