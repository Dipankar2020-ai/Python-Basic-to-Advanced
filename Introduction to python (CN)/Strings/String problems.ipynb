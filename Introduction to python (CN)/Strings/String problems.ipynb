{
 "cells": [
  {
   "cell_type": "markdown",
   "id": "2444013b",
   "metadata": {},
   "source": [
    "\n",
    "### Check Permutation ###"
   ]
  },
  {
   "cell_type": "markdown",
   "id": "0c249824",
   "metadata": {},
   "source": [
    "Problem Description:Given two strings, check if they are permutations of eachother. Return true or false.\n",
    "Ex->\n",
    "i/p->\n",
    "abac\n",
    "aacb\n",
    "o/p->\n",
    "True"
   ]
  },
  {
   "cell_type": "code",
   "execution_count": 8,
   "id": "7da1012c",
   "metadata": {},
   "outputs": [
    {
     "name": "stdout",
     "output_type": "stream",
     "text": [
      "aadc\n",
      "aasm\n",
      "False\n"
     ]
    }
   ],
   "source": [
    "NO_OF_CHARS=256\n",
    "def checkpermutation(str1,str2):\n",
    "    \n",
    "    if len(str1)!=len(str2):\n",
    "        return False\n",
    "    frequency=[0] * NO_OF_CHARS\n",
    "    for ele in str1:\n",
    "        ascii=ord(ele)\n",
    "        frequency[ascii]=frequency[ascii]+1\n",
    "    for ele in str2:\n",
    "        ascii=ord(ele)\n",
    "        frequency[ascii]=frequency[ascii]-1\n",
    "    for ele in frequency:\n",
    "        if ele!=0:\n",
    "            return False\n",
    "    return True\n",
    "\n",
    "str1=input()\n",
    "str2=input() \n",
    "if checkpermutation(str1,str2)==True:\n",
    "    print(\"True\")\n",
    "else:\n",
    "    print(\"False\")\n",
    "\n",
    "        \n"
   ]
  },
  {
   "cell_type": "markdown",
   "id": "bc3afccc",
   "metadata": {},
   "source": [
    "### Remove Duplicate ###"
   ]
  },
  {
   "cell_type": "code",
   "execution_count": 30,
   "id": "3333f8c3",
   "metadata": {},
   "outputs": [
    {
     "name": "stdout",
     "output_type": "stream",
     "text": [
      "4\n",
      "aaaaaabbbbcccc\n",
      "abc\n"
     ]
    }
   ],
   "source": [
    "noofchar=256\n",
    "def removeDuplicate(n, s):\n",
    "\t\n",
    "\t# Write Your code here\n",
    "\tfrquency=[0]*noofchar\n",
    "\tstr1=\"\"\n",
    "\tfor ele in s:\n",
    "\t\tascii=ord(ele)\n",
    "\t\tfrquency[ascii]=frquency[ascii]+1\n",
    "\tfor i in range(0,len(frquency)):\n",
    "\t\tif frquency[i]!=0:\n",
    "\t\t\t\n",
    "\t\t\tstr1=str1+chr(i)\n",
    "\t\t\t\n",
    "\t\n",
    "            \n",
    "    \n",
    "        \n",
    "\treturn str1\n",
    "n=input()\n",
    "s=input()\n",
    "s=removeDuplicate(n,s)\n",
    "print(s)"
   ]
  },
  {
   "cell_type": "markdown",
   "id": "3a8b7730",
   "metadata": {},
   "source": [
    "### Reverse each word ###"
   ]
  },
  {
   "cell_type": "markdown",
   "id": "6c316145",
   "metadata": {},
   "source": [
    "Given a string S, reverse each word of a string individually.For eg. if a string is \"abc def\", reversed string should be \"cba fed\""
   ]
  },
  {
   "cell_type": "code",
   "execution_count": 37,
   "id": "f71d0c8c",
   "metadata": {},
   "outputs": [
    {
     "name": "stdout",
     "output_type": "stream",
     "text": [
      "aba cef der hig\n",
      "aba fec red gih \n"
     ]
    }
   ],
   "source": [
    "\n",
    "def reverse(str):\n",
    "    str1=str[-1::-1]\n",
    "    return str1\n",
    "    \n",
    "        \n",
    "li=[x for x in input().split()]\n",
    "str=\"\"\n",
    "\n",
    "for ele in li:\n",
    "    str=str+reverse(ele)+\" \"\n",
    "print(str)\n"
   ]
  }
 ],
 "metadata": {
  "kernelspec": {
   "display_name": "Python 3 (ipykernel)",
   "language": "python",
   "name": "python3"
  },
  "language_info": {
   "codemirror_mode": {
    "name": "ipython",
    "version": 3
   },
   "file_extension": ".py",
   "mimetype": "text/x-python",
   "name": "python",
   "nbconvert_exporter": "python",
   "pygments_lexer": "ipython3",
   "version": "3.9.7"
  }
 },
 "nbformat": 4,
 "nbformat_minor": 5
}
