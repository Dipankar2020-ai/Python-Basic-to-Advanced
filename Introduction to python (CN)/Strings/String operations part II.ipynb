{
 "cells": [
  {
   "cell_type": "markdown",
   "id": "00c4bf97",
   "metadata": {},
   "source": [
    "### Slicing on Strings ###"
   ]
  },
  {
   "cell_type": "code",
   "execution_count": 1,
   "id": "b905dc3a",
   "metadata": {},
   "outputs": [
    {
     "data": {
      "text/plain": [
       "'ari'"
      ]
     },
     "execution_count": 1,
     "metadata": {},
     "output_type": "execute_result"
    }
   ],
   "source": [
    "s=\"Parikh\"\n",
    "s[1:4]"
   ]
  },
  {
   "cell_type": "code",
   "execution_count": 2,
   "id": "221f2c57",
   "metadata": {},
   "outputs": [
    {
     "data": {
      "text/plain": [
       "'ai'"
      ]
     },
     "execution_count": 2,
     "metadata": {},
     "output_type": "execute_result"
    }
   ],
   "source": [
    "s[1:4:2]"
   ]
  },
  {
   "cell_type": "code",
   "execution_count": 3,
   "id": "b88564c2",
   "metadata": {},
   "outputs": [
    {
     "data": {
      "text/plain": [
       "''"
      ]
     },
     "execution_count": 3,
     "metadata": {},
     "output_type": "execute_result"
    }
   ],
   "source": [
    "s[6:4]"
   ]
  },
  {
   "cell_type": "code",
   "execution_count": 4,
   "id": "99709c5d",
   "metadata": {},
   "outputs": [
    {
     "data": {
      "text/plain": [
       "'h'"
      ]
     },
     "execution_count": 4,
     "metadata": {},
     "output_type": "execute_result"
    }
   ],
   "source": [
    "s[-1]"
   ]
  },
  {
   "cell_type": "code",
   "execution_count": 5,
   "id": "ca3e023b",
   "metadata": {},
   "outputs": [
    {
     "data": {
      "text/plain": [
       "'ar'"
      ]
     },
     "execution_count": 5,
     "metadata": {},
     "output_type": "execute_result"
    }
   ],
   "source": [
    "s[-5:-3]"
   ]
  },
  {
   "cell_type": "code",
   "execution_count": 6,
   "id": "3f79cc5a",
   "metadata": {},
   "outputs": [
    {
     "data": {
      "text/plain": [
       "'arikh'"
      ]
     },
     "execution_count": 6,
     "metadata": {},
     "output_type": "execute_result"
    }
   ],
   "source": [
    "s[1:]"
   ]
  },
  {
   "cell_type": "code",
   "execution_count": 7,
   "id": "ed6b5d0c",
   "metadata": {},
   "outputs": [
    {
     "data": {
      "text/plain": [
       "'Pari'"
      ]
     },
     "execution_count": 7,
     "metadata": {},
     "output_type": "execute_result"
    }
   ],
   "source": [
    "s[:4]"
   ]
  },
  {
   "cell_type": "code",
   "execution_count": 8,
   "id": "98e99e20",
   "metadata": {},
   "outputs": [
    {
     "data": {
      "text/plain": [
       "'arikh'"
      ]
     },
     "execution_count": 8,
     "metadata": {},
     "output_type": "execute_result"
    }
   ],
   "source": [
    "s[1:9]"
   ]
  },
  {
   "cell_type": "code",
   "execution_count": 9,
   "id": "ecd103af",
   "metadata": {},
   "outputs": [
    {
     "data": {
      "text/plain": [
       "'kir'"
      ]
     },
     "execution_count": 9,
     "metadata": {},
     "output_type": "execute_result"
    }
   ],
   "source": [
    "s[4:1:-1]"
   ]
  },
  {
   "cell_type": "code",
   "execution_count": 10,
   "id": "aa21eb4f",
   "metadata": {},
   "outputs": [
    {
     "data": {
      "text/plain": [
       "'hkiraP'"
      ]
     },
     "execution_count": 10,
     "metadata": {},
     "output_type": "execute_result"
    }
   ],
   "source": [
    "s[5::-1]"
   ]
  },
  {
   "cell_type": "code",
   "execution_count": 11,
   "id": "1796c6b3",
   "metadata": {},
   "outputs": [
    {
     "data": {
      "text/plain": [
       "'hki'"
      ]
     },
     "execution_count": 11,
     "metadata": {},
     "output_type": "execute_result"
    }
   ],
   "source": [
    "s[:2:-1]"
   ]
  },
  {
   "cell_type": "code",
   "execution_count": 12,
   "id": "2a83adc8",
   "metadata": {},
   "outputs": [],
   "source": [
    "s=s[5::-1]"
   ]
  },
  {
   "cell_type": "code",
   "execution_count": 13,
   "id": "001dae8f",
   "metadata": {},
   "outputs": [
    {
     "data": {
      "text/plain": [
       "'hkiraP'"
      ]
     },
     "execution_count": 13,
     "metadata": {},
     "output_type": "execute_result"
    }
   ],
   "source": [
    "s"
   ]
  },
  {
   "cell_type": "code",
   "execution_count": 14,
   "id": "b1dcc13d",
   "metadata": {},
   "outputs": [
    {
     "data": {
      "text/plain": [
       "'Pr'"
      ]
     },
     "execution_count": 14,
     "metadata": {},
     "output_type": "execute_result"
    }
   ],
   "source": [
    "s[5:1:-2]"
   ]
  },
  {
   "cell_type": "markdown",
   "id": "cb2fdfeb",
   "metadata": {},
   "source": [
    "### Predict the o/p ##"
   ]
  },
  {
   "cell_type": "code",
   "execution_count": 15,
   "id": "6ea5feeb",
   "metadata": {},
   "outputs": [
    {
     "name": "stdout",
     "output_type": "stream",
     "text": [
      "cdef\n"
     ]
    }
   ],
   "source": [
    "s=\"abcdef\"\n",
    "print(s[2:])"
   ]
  },
  {
   "cell_type": "code",
   "execution_count": 16,
   "id": "7a301bd5",
   "metadata": {},
   "outputs": [
    {
     "name": "stdout",
     "output_type": "stream",
     "text": [
      "ed\n"
     ]
    }
   ],
   "source": [
    "s=\"abcdef\"\n",
    "print(s[4:2:-1])"
   ]
  },
  {
   "cell_type": "markdown",
   "id": "b1e18e2d",
   "metadata": {},
   "source": [
    "### Iterating on string ###"
   ]
  },
  {
   "cell_type": "code",
   "execution_count": 17,
   "id": "b3cedb2b",
   "metadata": {},
   "outputs": [
    {
     "name": "stdout",
     "output_type": "stream",
     "text": [
      "hello\n",
      "2\n"
     ]
    }
   ],
   "source": [
    "str=input()\n",
    "count=0\n",
    "for letter in str:\n",
    "    if letter=='l':\n",
    "        count=count+1\n",
    "print(count)\n",
    "    "
   ]
  },
  {
   "cell_type": "code",
   "execution_count": 18,
   "id": "247395ec",
   "metadata": {},
   "outputs": [
    {
     "name": "stdout",
     "output_type": "stream",
     "text": [
      "hello\n",
      "2\n"
     ]
    }
   ],
   "source": [
    "str=input()\n",
    "count=0\n",
    "for i in range(0,len(str)):\n",
    "    if str[i]=='l':\n",
    "        count=count+1\n",
    "print(count)"
   ]
  },
  {
   "cell_type": "markdown",
   "id": "1f26b0a1",
   "metadata": {},
   "source": [
    "### in and not in ##"
   ]
  },
  {
   "cell_type": "code",
   "execution_count": 20,
   "id": "9a1045ac",
   "metadata": {},
   "outputs": [
    {
     "name": "stdout",
     "output_type": "stream",
     "text": [
      "Yes it is a substring\n"
     ]
    }
   ],
   "source": [
    "str=\"hello\"\n",
    "if 'hel' in str:\n",
    "    print(\"Yes it is a substring\")\n",
    "else:\n",
    "    print(\"It is not a substring\")"
   ]
  },
  {
   "cell_type": "code",
   "execution_count": 21,
   "id": "65fffd36",
   "metadata": {},
   "outputs": [
    {
     "name": "stdout",
     "output_type": "stream",
     "text": [
      "Yes it is not  a substring\n"
     ]
    }
   ],
   "source": [
    "str=\"hello\"\n",
    "if 'hep' not in str:\n",
    "    print(\"Yes it is not  a substring\")\n",
    "else:\n",
    "    print(\"It is a substring\")"
   ]
  },
  {
   "cell_type": "markdown",
   "id": "452d986e",
   "metadata": {},
   "source": [
    "### Comparison operator ###"
   ]
  },
  {
   "cell_type": "code",
   "execution_count": 23,
   "id": "ec9c00ca",
   "metadata": {},
   "outputs": [
    {
     "name": "stdout",
     "output_type": "stream",
     "text": [
      "True\n"
     ]
    }
   ],
   "source": [
    "a=\"Parikh\"==\"Parikh\"\n",
    "print(a)"
   ]
  },
  {
   "cell_type": "code",
   "execution_count": 24,
   "id": "cb574c19",
   "metadata": {},
   "outputs": [
    {
     "data": {
      "text/plain": [
       "True"
      ]
     },
     "execution_count": 24,
     "metadata": {},
     "output_type": "execute_result"
    }
   ],
   "source": [
    "a=\"Rarikh\">=\"Parikh\"\n",
    "a"
   ]
  },
  {
   "cell_type": "code",
   "execution_count": 25,
   "id": "822456e2",
   "metadata": {},
   "outputs": [
    {
     "data": {
      "text/plain": [
       "True"
      ]
     },
     "execution_count": 25,
     "metadata": {},
     "output_type": "execute_result"
    }
   ],
   "source": [
    "a=\"Pbrikh\">=\"Parikh\"\n",
    "a"
   ]
  },
  {
   "cell_type": "code",
   "execution_count": 27,
   "id": "634ed0cd",
   "metadata": {},
   "outputs": [
    {
     "data": {
      "text/plain": [
       "True"
      ]
     },
     "execution_count": 27,
     "metadata": {},
     "output_type": "execute_result"
    }
   ],
   "source": [
    "a=\"parikh\">=\"Parikh\" #A=65 and a=97\n",
    "a"
   ]
  },
  {
   "cell_type": "code",
   "execution_count": 28,
   "id": "7e855387",
   "metadata": {},
   "outputs": [
    {
     "data": {
      "text/plain": [
       "False"
      ]
     },
     "execution_count": 28,
     "metadata": {},
     "output_type": "execute_result"
    }
   ],
   "source": [
    "a=\"par\">=\"parikh\"\n",
    "a"
   ]
  },
  {
   "cell_type": "code",
   "execution_count": 29,
   "id": "6f22722f",
   "metadata": {},
   "outputs": [
    {
     "data": {
      "text/plain": [
       "True"
      ]
     },
     "execution_count": 29,
     "metadata": {},
     "output_type": "execute_result"
    }
   ],
   "source": [
    "\"Parikh\">=\"Par\""
   ]
  },
  {
   "cell_type": "code",
   "execution_count": 30,
   "id": "efbc7703",
   "metadata": {},
   "outputs": [
    {
     "data": {
      "text/plain": [
       "True"
      ]
     },
     "execution_count": 30,
     "metadata": {},
     "output_type": "execute_result"
    }
   ],
   "source": [
    "\"Parikh\">=\"Parikh\""
   ]
  },
  {
   "cell_type": "code",
   "execution_count": 31,
   "id": "59fe2842",
   "metadata": {},
   "outputs": [
    {
     "data": {
      "text/plain": [
       "False"
      ]
     },
     "execution_count": 31,
     "metadata": {},
     "output_type": "execute_result"
    }
   ],
   "source": [
    "\"Parikh\">\"Parikh\""
   ]
  },
  {
   "cell_type": "markdown",
   "id": "5fa93ab6",
   "metadata": {},
   "source": [
    "### Predict the o/p ###"
   ]
  },
  {
   "cell_type": "code",
   "execution_count": 32,
   "id": "97a7c805",
   "metadata": {},
   "outputs": [
    {
     "name": "stdout",
     "output_type": "stream",
     "text": [
      "False\n"
     ]
    }
   ],
   "source": [
    "a=\"abcdef\"==\"abcd\"\n",
    "print(a)"
   ]
  },
  {
   "cell_type": "code",
   "execution_count": 33,
   "id": "772a5a9e",
   "metadata": {},
   "outputs": [],
   "source": [
    "a=\"abcdef\">=\"abcd\""
   ]
  },
  {
   "cell_type": "code",
   "execution_count": 34,
   "id": "04e9a9e8",
   "metadata": {},
   "outputs": [
    {
     "name": "stdout",
     "output_type": "stream",
     "text": [
      "True\n"
     ]
    }
   ],
   "source": [
    "print(a)"
   ]
  },
  {
   "cell_type": "code",
   "execution_count": 36,
   "id": "bd06905c",
   "metadata": {},
   "outputs": [
    {
     "name": "stdout",
     "output_type": "stream",
     "text": [
      "True\n"
     ]
    }
   ],
   "source": [
    "a=\"abce\">=\"abcdef\"\n",
    "print(a)"
   ]
  }
 ],
 "metadata": {
  "kernelspec": {
   "display_name": "Python 3 (ipykernel)",
   "language": "python",
   "name": "python3"
  },
  "language_info": {
   "codemirror_mode": {
    "name": "ipython",
    "version": 3
   },
   "file_extension": ".py",
   "mimetype": "text/x-python",
   "name": "python",
   "nbconvert_exporter": "python",
   "pygments_lexer": "ipython3",
   "version": "3.9.7"
  }
 },
 "nbformat": 4,
 "nbformat_minor": 5
}
