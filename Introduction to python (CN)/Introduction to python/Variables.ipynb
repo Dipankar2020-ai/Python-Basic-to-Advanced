{
 "cells": [
  {
   "cell_type": "markdown",
   "id": "08e7c31f",
   "metadata": {},
   "source": [
    "### Hello World ###"
   ]
  },
  {
   "cell_type": "code",
   "execution_count": 1,
   "id": "da5556e7",
   "metadata": {},
   "outputs": [
    {
     "name": "stdout",
     "output_type": "stream",
     "text": [
      "Hello World\n"
     ]
    }
   ],
   "source": [
    "print(\"Hello World\")"
   ]
  },
  {
   "cell_type": "markdown",
   "id": "09b11d3b",
   "metadata": {},
   "source": [
    "#### VARIABLES ###"
   ]
  },
  {
   "cell_type": "code",
   "execution_count": 2,
   "id": "3a2ba4c5",
   "metadata": {},
   "outputs": [
    {
     "name": "stdout",
     "output_type": "stream",
     "text": [
      "30\n",
      "Sum\n"
     ]
    }
   ],
   "source": [
    "a=10\n",
    "b=20\n",
    "sum=a+b\n",
    "print(sum)\n",
    "print(\"Sum\")"
   ]
  },
  {
   "cell_type": "markdown",
   "id": "7d7183b1",
   "metadata": {},
   "source": [
    "Variable name cannot start with number"
   ]
  },
  {
   "cell_type": "code",
   "execution_count": 3,
   "id": "188c5b85",
   "metadata": {},
   "outputs": [
    {
     "ename": "SyntaxError",
     "evalue": "invalid decimal literal (Temp/ipykernel_14772/1444235837.py, line 1)",
     "output_type": "error",
     "traceback": [
      "\u001b[1;36m  File \u001b[1;32m\"C:\\Users\\DIPANKAR\\AppData\\Local\\Temp/ipykernel_14772/1444235837.py\"\u001b[1;36m, line \u001b[1;32m1\u001b[0m\n\u001b[1;33m    2_avb=19\u001b[0m\n\u001b[1;37m     ^\u001b[0m\n\u001b[1;31mSyntaxError\u001b[0m\u001b[1;31m:\u001b[0m invalid decimal literal\n"
     ]
    }
   ],
   "source": [
    "2_avb=19\n"
   ]
  },
  {
   "cell_type": "markdown",
   "id": "2b0a5137",
   "metadata": {},
   "source": [
    "Variable name can start with underscore(_)"
   ]
  },
  {
   "cell_type": "code",
   "execution_count": 5,
   "id": "4f225e00",
   "metadata": {},
   "outputs": [
    {
     "name": "stdout",
     "output_type": "stream",
     "text": [
      "10\n"
     ]
    }
   ],
   "source": [
    "_d=5\n",
    "_d=_d+5\n",
    "print(_d)"
   ]
  },
  {
   "cell_type": "code",
   "execution_count": null,
   "id": "37441bfb",
   "metadata": {},
   "outputs": [],
   "source": []
  }
 ],
 "metadata": {
  "kernelspec": {
   "display_name": "Python 3 (ipykernel)",
   "language": "python",
   "name": "python3"
  },
  "language_info": {
   "codemirror_mode": {
    "name": "ipython",
    "version": 3
   },
   "file_extension": ".py",
   "mimetype": "text/x-python",
   "name": "python",
   "nbconvert_exporter": "python",
   "pygments_lexer": "ipython3",
   "version": "3.9.7"
  }
 },
 "nbformat": 4,
 "nbformat_minor": 5
}
