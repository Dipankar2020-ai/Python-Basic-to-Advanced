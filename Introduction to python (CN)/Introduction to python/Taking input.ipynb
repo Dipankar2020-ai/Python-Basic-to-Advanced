{
 "cells": [
  {
   "cell_type": "markdown",
   "id": "cbb1418f",
   "metadata": {},
   "source": [
    "### Taking input ###"
   ]
  },
  {
   "cell_type": "code",
   "execution_count": 3,
   "id": "f36f0fa3",
   "metadata": {},
   "outputs": [
    {
     "name": "stdout",
     "output_type": "stream",
     "text": [
      "10\n",
      "20\n",
      "Adition is  1020\n"
     ]
    }
   ],
   "source": [
    "a=input()\n",
    "b=input()\n",
    "c=a+b\n",
    "print(\"Adition is \",c)"
   ]
  },
  {
   "cell_type": "markdown",
   "id": "ae6acb6f",
   "metadata": {},
   "source": [
    "### Adition of two numbers ###"
   ]
  },
  {
   "cell_type": "code",
   "execution_count": 4,
   "id": "ef422e6e",
   "metadata": {},
   "outputs": [
    {
     "name": "stdout",
     "output_type": "stream",
     "text": [
      "10\n",
      "20\n",
      "Adition is  30\n"
     ]
    }
   ],
   "source": [
    "a=int(input())\n",
    "b=int(input())\n",
    "c=a+b\n",
    "print(\"Adition is \",c)"
   ]
  },
  {
   "cell_type": "markdown",
   "id": "3a37636c",
   "metadata": {},
   "source": [
    "### Simple interest ###"
   ]
  },
  {
   "cell_type": "code",
   "execution_count": 5,
   "id": "72d532da",
   "metadata": {},
   "outputs": [
    {
     "name": "stdout",
     "output_type": "stream",
     "text": [
      "100\n",
      "12\n",
      "2\n",
      "Simple interest is  24.0\n"
     ]
    }
   ],
   "source": [
    "p=int(input())\n",
    "r=float(input())\n",
    "t=int(input())\n",
    "si=(p*r*t)/100\n",
    "print(\"Simple interest is \", si)"
   ]
  },
  {
   "cell_type": "markdown",
   "id": "ae7092e8",
   "metadata": {},
   "source": [
    "### Farenhite to Celsius ###"
   ]
  },
  {
   "cell_type": "code",
   "execution_count": 7,
   "id": "2d71b463",
   "metadata": {},
   "outputs": [
    {
     "name": "stdout",
     "output_type": "stream",
     "text": [
      "Enter the Farenhite degree : -40\n",
      "Celsius degree is  -40.0\n"
     ]
    }
   ],
   "source": [
    "f=int(input(\"Enter the Farenhite degree : \"))\n",
    "c=(f-32)*5/9\n",
    "print(\"Celsius degree is \", c)"
   ]
  },
  {
   "cell_type": "markdown",
   "id": "fbc4aa87",
   "metadata": {},
   "source": [
    "### Average Marks of Three subjects of a student ###"
   ]
  },
  {
   "cell_type": "code",
   "execution_count": 9,
   "id": "fef1cf2e",
   "metadata": {},
   "outputs": [
    {
     "name": "stdout",
     "output_type": "stream",
     "text": [
      "Enter the 1st subject Marks : 5\n",
      "Enter the 2nd subject Marks : 10\n",
      "Enter the 3rd subject Marks : 5\n",
      "Average Marks of Three subjects of student is  6.666666666666667\n"
     ]
    }
   ],
   "source": [
    "a=float(input(\"Enter the 1st subject Marks : \"))\n",
    "b=float(input(\"Enter the 2nd subject Marks : \"))\n",
    "c=float(input(\"Enter the 3rd subject Marks : \"))\n",
    "\n",
    "avg=(a+b+c)/3\n",
    "print(\"Average Marks of Three subjects of student is \" , avg)"
   ]
  }
 ],
 "metadata": {
  "kernelspec": {
   "display_name": "Python 3 (ipykernel)",
   "language": "python",
   "name": "python3"
  },
  "language_info": {
   "codemirror_mode": {
    "name": "ipython",
    "version": 3
   },
   "file_extension": ".py",
   "mimetype": "text/x-python",
   "name": "python",
   "nbconvert_exporter": "python",
   "pygments_lexer": "ipython3",
   "version": "3.9.7"
  }
 },
 "nbformat": 4,
 "nbformat_minor": 5
}
