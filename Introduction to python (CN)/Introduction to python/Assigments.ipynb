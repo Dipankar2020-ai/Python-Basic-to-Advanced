{
 "cells": [
  {
   "cell_type": "markdown",
   "id": "0496e9a2",
   "metadata": {},
   "source": [
    "### Find X raised to power N ###"
   ]
  },
  {
   "cell_type": "code",
   "execution_count": 2,
   "id": "52bb7829",
   "metadata": {},
   "outputs": [
    {
     "name": "stdout",
     "output_type": "stream",
     "text": [
      "Enter the number : 6\n",
      "Enter the power : 8\n",
      "1679616\n"
     ]
    }
   ],
   "source": [
    "x=int(input(\"Enter the number : \"))\n",
    "n=int(input(\"Enter the power : \"))\n",
    "result=x**n\n",
    "print(result)"
   ]
  },
  {
   "cell_type": "markdown",
   "id": "c1270cbd",
   "metadata": {},
   "source": [
    "### Arithmetic Progression ###"
   ]
  },
  {
   "cell_type": "code",
   "execution_count": 4,
   "id": "9dccdae1",
   "metadata": {},
   "outputs": [
    {
     "name": "stdout",
     "output_type": "stream",
     "text": [
      "Enter the 1st number : 1\n",
      "Enter the 2nd number : 3\n",
      "Enter the 3rd number : 5\n",
      "The common difference is :  2\n"
     ]
    }
   ],
   "source": [
    "a=int(input(\"Enter the 1st number : \"))\n",
    "b=int(input(\"Enter the 2nd number : \"))\n",
    "c=int(input(\"Enter the 3rd number : \"))\n",
    "res=c-b\n",
    "res1=b-a\n",
    "if(res==res1):\n",
    "    print(\"The common difference is : \",res)"
   ]
  },
  {
   "cell_type": "markdown",
   "id": "2becbbf7",
   "metadata": {},
   "source": [
    "### Rectangular Area ###"
   ]
  },
  {
   "cell_type": "code",
   "execution_count": 5,
   "id": "dde2fdfa",
   "metadata": {},
   "outputs": [
    {
     "name": "stdout",
     "output_type": "stream",
     "text": [
      "Enter x1 coordinates : 1\n",
      "Enter x2 coordinates : 1\n",
      "Enter y1 coordinates : 3\n",
      "Enter y2 coordinates : 3\n",
      "Rectangular area is :  4\n"
     ]
    }
   ],
   "source": [
    "x1 =int(input(\"Enter x1 coordinates : \"))\n",
    "x2=int(input(\"Enter x2 coordinates : \"))\n",
    "y1=int(input(\"Enter y1 coordinates : \"))\n",
    "y2=int(input(\"Enter y2 coordinates : \"))\n",
    "a=y1-x1\n",
    "b=y2-x2\n",
    "res=a*b\n",
    "print(\"Rectangular area is : \",res)"
   ]
  }
 ],
 "metadata": {
  "kernelspec": {
   "display_name": "Python 3 (ipykernel)",
   "language": "python",
   "name": "python3"
  },
  "language_info": {
   "codemirror_mode": {
    "name": "ipython",
    "version": 3
   },
   "file_extension": ".py",
   "mimetype": "text/x-python",
   "name": "python",
   "nbconvert_exporter": "python",
   "pygments_lexer": "ipython3",
   "version": "3.9.7"
  }
 },
 "nbformat": 4,
 "nbformat_minor": 5
}
