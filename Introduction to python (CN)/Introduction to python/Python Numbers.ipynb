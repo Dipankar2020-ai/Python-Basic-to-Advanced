{
 "cells": [
  {
   "cell_type": "markdown",
   "id": "6043c3ff",
   "metadata": {},
   "source": [
    "### Python Numbers ###\n"
   ]
  },
  {
   "cell_type": "code",
   "execution_count": 1,
   "id": "0e87d7f0",
   "metadata": {},
   "outputs": [
    {
     "name": "stdout",
     "output_type": "stream",
     "text": [
      "<class 'int'>\n",
      "<class 'float'>\n"
     ]
    }
   ],
   "source": [
    "a1=23\n",
    "a2=3.4\n",
    "print(type(a1))\n",
    "print(type(a2))"
   ]
  },
  {
   "cell_type": "code",
   "execution_count": 2,
   "id": "a84c6ea9",
   "metadata": {},
   "outputs": [
    {
     "name": "stdout",
     "output_type": "stream",
     "text": [
      "1865381341776\n",
      "1865381341808\n"
     ]
    }
   ],
   "source": [
    "a=10\n",
    "print(id(a))\n",
    "a=a+1\n",
    "print(id(a))"
   ]
  },
  {
   "cell_type": "markdown",
   "id": "85d2a65f",
   "metadata": {},
   "source": [
    "### For same storage between numbers -5 to 256 range"
   ]
  },
  {
   "cell_type": "code",
   "execution_count": 3,
   "id": "a33f9db2",
   "metadata": {},
   "outputs": [
    {
     "name": "stdout",
     "output_type": "stream",
     "text": [
      "1865381341776\n",
      "1865381341776\n"
     ]
    }
   ],
   "source": [
    "a=10\n",
    "b=10\n",
    "print(id(a))\n",
    "print(id(b))"
   ]
  },
  {
   "cell_type": "markdown",
   "id": "0b254b37",
   "metadata": {},
   "source": [
    "### will id1 and id2 have same value?"
   ]
  },
  {
   "cell_type": "code",
   "execution_count": 4,
   "id": "64068130",
   "metadata": {},
   "outputs": [
    {
     "name": "stdout",
     "output_type": "stream",
     "text": [
      "1865381341776\n",
      "1865381341776\n"
     ]
    }
   ],
   "source": [
    "a=10\n",
    "id1=id(a)\n",
    "b=a+2-2\n",
    "id2=id(b)\n",
    "print(id1)\n",
    "print(id2)\n",
    "#Answer is Yes\n"
   ]
  },
  {
   "cell_type": "code",
   "execution_count": null,
   "id": "baaaf930",
   "metadata": {},
   "outputs": [],
   "source": []
  }
 ],
 "metadata": {
  "kernelspec": {
   "display_name": "Python 3 (ipykernel)",
   "language": "python",
   "name": "python3"
  },
  "language_info": {
   "codemirror_mode": {
    "name": "ipython",
    "version": 3
   },
   "file_extension": ".py",
   "mimetype": "text/x-python",
   "name": "python",
   "nbconvert_exporter": "python",
   "pygments_lexer": "ipython3",
   "version": "3.9.7"
  }
 },
 "nbformat": 4,
 "nbformat_minor": 5
}
