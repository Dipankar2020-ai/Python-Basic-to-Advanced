{
 "cells": [
  {
   "cell_type": "markdown",
   "id": "a38f39da",
   "metadata": {},
   "source": [
    "### Selection Sort ###"
   ]
  },
  {
   "cell_type": "code",
   "execution_count": 8,
   "id": "e29ae60f",
   "metadata": {
    "scrolled": true
   },
   "outputs": [
    {
     "name": "stdout",
     "output_type": "stream",
     "text": [
      "7\n",
      "1 5 3 2 6 4 0\n",
      "[0, 1, 2, 3, 4, 5, 6]\n"
     ]
    }
   ],
   "source": [
    "def selectionsort(li):\n",
    "    for i in range(0,len(li)-1):\n",
    "        min=i\n",
    "        for j in range(i+1,len(li)):\n",
    "            if li[min]>li[j]:\n",
    "                min=j\n",
    "        if li[i]>li[min]:\n",
    "            temp=li[i]\n",
    "            li[i]=li[min]\n",
    "            li[min]=temp\n",
    "    \n",
    "n=int(input())\n",
    "li=[int(x) for x in input().split()]\n",
    "selectionsort(li)\n",
    "print(li)\n"
   ]
  },
  {
   "cell_type": "markdown",
   "id": "5612c0cf",
   "metadata": {},
   "source": [
    "### Bubble sort ###"
   ]
  },
  {
   "cell_type": "code",
   "execution_count": 11,
   "id": "00cc137b",
   "metadata": {},
   "outputs": [
    {
     "name": "stdout",
     "output_type": "stream",
     "text": [
      "5\n",
      "5 3 2 1 4\n",
      "[1, 2, 3, 4, 5]\n"
     ]
    }
   ],
   "source": [
    "def bubblesort(li):\n",
    "    for i in range(0,len(li)-1):\n",
    "        for j in range(0,len(li)-i-1):\n",
    "            if li[j]>li[j+1]:\n",
    "                li[j],li[j+1]=li[j+1],li[j]\n",
    "n=int(input())\n",
    "li=[int(x) for x in input().split()]\n",
    "bubblesort(li)\n",
    "print(li)\n",
    "    "
   ]
  },
  {
   "cell_type": "markdown",
   "id": "f73de0f5",
   "metadata": {},
   "source": [
    "### Insertion Sort ###"
   ]
  },
  {
   "cell_type": "code",
   "execution_count": 15,
   "id": "b97416d0",
   "metadata": {},
   "outputs": [
    {
     "name": "stdout",
     "output_type": "stream",
     "text": [
      "10\n",
      "89 56 41 25 34 1 8 6  7 65 58 21 74 36 56 24 74\n",
      "[1, 6, 7, 8, 21, 24, 25, 34, 36, 41, 56, 56, 58, 65, 74, 74, 89]\n"
     ]
    }
   ],
   "source": [
    "def insertionsort(li):\n",
    "    for i in range(1,len(li)):\n",
    "        pos=i\n",
    "        temp=arr[pos]\n",
    "        while(pos>0 and arr[pos]<arr[pos-1]):\n",
    "            arr[pos]=arr[pos-1]\n",
    "            pos=pos-1\n",
    "        arr[pos]=temp\n",
    "n=int(input())\n",
    "li=[int(x) for x in input().split()]\n",
    "bubblesort(li)\n",
    "print(li)\n",
    "    "
   ]
  },
  {
   "cell_type": "markdown",
   "id": "3cd1c125",
   "metadata": {},
   "source": [
    "### Merge Two sorted Arrays ###"
   ]
  },
  {
   "cell_type": "code",
   "execution_count": 26,
   "id": "50fc46e1",
   "metadata": {},
   "outputs": [
    {
     "name": "stdout",
     "output_type": "stream",
     "text": [
      "1 4 9 10\n",
      "2 3 5 6 7 8\n",
      "[1, 2, 3, 4, 5, 6, 7, 8, 9, 10]\n"
     ]
    }
   ],
   "source": [
    "\n",
    "def mergesortedarray(li1,li2):\n",
    "    len1=len(li1)\n",
    "    len2=len(li2)\n",
    "    i=0\n",
    "    j=0\n",
    "    k=0\n",
    "    li=[]\n",
    "    while ((i<len1) and (j<len2)):\n",
    "        if li1[i]<li2[j]:\n",
    "            \n",
    "            li.append(li1[i])\n",
    "            i=i+1\n",
    "            k=k+1\n",
    "        else:\n",
    "            li.append(li2[j])\n",
    "            j=j+1\n",
    "            k=k+1\n",
    "    while i<len1:\n",
    "        li.append(li1[i])\n",
    "        i=i+1\n",
    "        k=k+1\n",
    "        \n",
    "         \n",
    "    while j<len2:\n",
    "        li.append(li2[j])\n",
    "        j=j+1\n",
    "        k=k+1\n",
    "    return li\n",
    "li1=[int(x) for x in input().split()]\n",
    "li2=[int(x) for x in input().split()]\n",
    "\n",
    "li1=mergesortedarray(li1,li2)\n",
    "print(li1)\n",
    "\n",
    "        \n",
    "        \n",
    "            \n",
    "    "
   ]
  }
 ],
 "metadata": {
  "kernelspec": {
   "display_name": "Python 3 (ipykernel)",
   "language": "python",
   "name": "python3"
  },
  "language_info": {
   "codemirror_mode": {
    "name": "ipython",
    "version": 3
   },
   "file_extension": ".py",
   "mimetype": "text/x-python",
   "name": "python",
   "nbconvert_exporter": "python",
   "pygments_lexer": "ipython3",
   "version": "3.9.7"
  }
 },
 "nbformat": 4,
 "nbformat_minor": 5
}
