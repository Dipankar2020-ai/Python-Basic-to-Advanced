{
 "cells": [
  {
   "cell_type": "markdown",
   "id": "eded8180",
   "metadata": {},
   "source": [
    "### Binary search ###"
   ]
  },
  {
   "cell_type": "markdown",
   "id": "956df215",
   "metadata": {},
   "source": [
    "Problem Description: Given a sorted integer array (in ascending order) and anelement x. You need to search this element x in the given input array using binary search. Return the index of element in the input. If element is not found inthe array, return -1"
   ]
  },
  {
   "cell_type": "code",
   "execution_count": 3,
   "id": "0d391e28",
   "metadata": {},
   "outputs": [
    {
     "name": "stdout",
     "output_type": "stream",
     "text": [
      "8\n",
      "1 3 5 6 8 10 14 17\n",
      "18\n",
      "-1\n"
     ]
    }
   ],
   "source": [
    "n=int(input())\n",
    "li=[int(x) for x in input().split()]\n",
    "ele=int(input())\n",
    "start=0\n",
    "end=n-1\n",
    "while start<=end:\n",
    "    mid=(start+end)//2\n",
    "    if li[mid]>ele:\n",
    "        end=mid-1\n",
    "    elif li[mid]==ele:\n",
    "        print(mid)\n",
    "        break\n",
    "    else:\n",
    "        start=mid+1\n",
    "else:\n",
    "    print(-1)\n",
    "        "
   ]
  }
 ],
 "metadata": {
  "kernelspec": {
   "display_name": "Python 3 (ipykernel)",
   "language": "python",
   "name": "python3"
  },
  "language_info": {
   "codemirror_mode": {
    "name": "ipython",
    "version": 3
   },
   "file_extension": ".py",
   "mimetype": "text/x-python",
   "name": "python",
   "nbconvert_exporter": "python",
   "pygments_lexer": "ipython3",
   "version": "3.9.7"
  }
 },
 "nbformat": 4,
 "nbformat_minor": 5
}
