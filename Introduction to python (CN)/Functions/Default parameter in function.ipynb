{
 "cells": [
  {
   "cell_type": "markdown",
   "id": "25eab4ed",
   "metadata": {},
   "source": [
    "### Default parameter in function ###"
   ]
  },
  {
   "cell_type": "code",
   "execution_count": 1,
   "id": "863667a3",
   "metadata": {},
   "outputs": [
    {
     "name": "stdout",
     "output_type": "stream",
     "text": [
      "9\n",
      "7\n"
     ]
    }
   ],
   "source": [
    "def sum(a,b,c=0):\n",
    "    return a+b+c\n",
    "print(sum(2,3,4))\n",
    "print(sum(3,4))"
   ]
  },
  {
   "cell_type": "markdown",
   "id": "0dc48b1c",
   "metadata": {},
   "source": [
    "### All non default arguments should be before arguments with default values ###"
   ]
  },
  {
   "cell_type": "code",
   "execution_count": 2,
   "id": "9b78e64d",
   "metadata": {},
   "outputs": [
    {
     "ename": "SyntaxError",
     "evalue": "non-default argument follows default argument (Temp/ipykernel_7020/2354612600.py, line 1)",
     "output_type": "error",
     "traceback": [
      "\u001b[1;36m  File \u001b[1;32m\"C:\\Users\\DIPANKAR\\AppData\\Local\\Temp/ipykernel_7020/2354612600.py\"\u001b[1;36m, line \u001b[1;32m1\u001b[0m\n\u001b[1;33m    def sum(a=0,b,c):\u001b[0m\n\u001b[1;37m                  ^\u001b[0m\n\u001b[1;31mSyntaxError\u001b[0m\u001b[1;31m:\u001b[0m non-default argument follows default argument\n"
     ]
    }
   ],
   "source": [
    "def sum(a=0,b,c):\n",
    "    return a+b+c\n",
    "print(sum(2,3,4))\n",
    "print(sum(3,4))"
   ]
  },
  {
   "cell_type": "code",
   "execution_count": 3,
   "id": "e74c8787",
   "metadata": {},
   "outputs": [
    {
     "name": "stdout",
     "output_type": "stream",
     "text": [
      "14\n",
      "7\n",
      "10\n"
     ]
    }
   ],
   "source": [
    "def f1(a,b,c=2,d=0):\n",
    "    return a+b+c+d\n",
    "print(f1(2,3,4,5))\n",
    "print(f1(2,3))\n",
    "print(f1(2,3,5))"
   ]
  },
  {
   "cell_type": "code",
   "execution_count": 4,
   "id": "4c730514",
   "metadata": {},
   "outputs": [
    {
     "data": {
      "text/plain": [
       "10"
      ]
     },
     "execution_count": 4,
     "metadata": {},
     "output_type": "execute_result"
    }
   ],
   "source": [
    "f1(2,3,d=3)"
   ]
  },
  {
   "cell_type": "code",
   "execution_count": 5,
   "id": "b18065e9",
   "metadata": {},
   "outputs": [
    {
     "ename": "TypeError",
     "evalue": "f1() missing 1 required positional argument: 'b'",
     "output_type": "error",
     "traceback": [
      "\u001b[1;31m---------------------------------------------------------------------------\u001b[0m",
      "\u001b[1;31mTypeError\u001b[0m                                 Traceback (most recent call last)",
      "\u001b[1;32m~\\AppData\\Local\\Temp/ipykernel_7020/2686672120.py\u001b[0m in \u001b[0;36m<module>\u001b[1;34m\u001b[0m\n\u001b[1;32m----> 1\u001b[1;33m \u001b[0mf1\u001b[0m\u001b[1;33m(\u001b[0m\u001b[1;36m2\u001b[0m\u001b[1;33m,\u001b[0m\u001b[0mc\u001b[0m\u001b[1;33m=\u001b[0m\u001b[1;36m3\u001b[0m\u001b[1;33m,\u001b[0m\u001b[0md\u001b[0m\u001b[1;33m=\u001b[0m\u001b[1;36m3\u001b[0m\u001b[1;33m)\u001b[0m\u001b[1;33m\u001b[0m\u001b[1;33m\u001b[0m\u001b[0m\n\u001b[0m",
      "\u001b[1;31mTypeError\u001b[0m: f1() missing 1 required positional argument: 'b'"
     ]
    }
   ],
   "source": [
    "f1(2,c=3,d=3)"
   ]
  },
  {
   "cell_type": "code",
   "execution_count": 6,
   "id": "28ef3c37",
   "metadata": {},
   "outputs": [
    {
     "data": {
      "text/plain": [
       "18"
      ]
     },
     "execution_count": 6,
     "metadata": {},
     "output_type": "execute_result"
    }
   ],
   "source": [
    "f1(b=2,c=3,d=3,a=10)"
   ]
  },
  {
   "cell_type": "markdown",
   "id": "b7621531",
   "metadata": {},
   "source": [
    "### Predict the output ###"
   ]
  },
  {
   "cell_type": "code",
   "execution_count": 7,
   "id": "b2174f7f",
   "metadata": {},
   "outputs": [
    {
     "name": "stdout",
     "output_type": "stream",
     "text": [
      "21\n"
     ]
    }
   ],
   "source": [
    "def function(a,b,c=1):\n",
    "    return a+b-c\n",
    "value=function(10,12)\n",
    "print(value)"
   ]
  },
  {
   "cell_type": "code",
   "execution_count": 8,
   "id": "7eaf8b01",
   "metadata": {},
   "outputs": [
    {
     "name": "stdout",
     "output_type": "stream",
     "text": [
      "17\n"
     ]
    }
   ],
   "source": [
    "def function(a,b,c=1):\n",
    "    return a+b-c\n",
    "value=function(10,12,5)\n",
    "print(value)"
   ]
  },
  {
   "cell_type": "code",
   "execution_count": 9,
   "id": "04447e21",
   "metadata": {},
   "outputs": [
    {
     "name": "stdout",
     "output_type": "stream",
     "text": [
      "11\n"
     ]
    }
   ],
   "source": [
    "def function(a,b,c=1,d=5):\n",
    "    return a+b+c+d\n",
    "value=function(1,2,d=7)\n",
    "print(value)"
   ]
  }
 ],
 "metadata": {
  "kernelspec": {
   "display_name": "Python 3 (ipykernel)",
   "language": "python",
   "name": "python3"
  },
  "language_info": {
   "codemirror_mode": {
    "name": "ipython",
    "version": 3
   },
   "file_extension": ".py",
   "mimetype": "text/x-python",
   "name": "python",
   "nbconvert_exporter": "python",
   "pygments_lexer": "ipython3",
   "version": "3.9.7"
  }
 },
 "nbformat": 4,
 "nbformat_minor": 5
}
