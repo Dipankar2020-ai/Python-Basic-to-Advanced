{
 "cells": [
  {
   "cell_type": "markdown",
   "id": "7761e2fc",
   "metadata": {},
   "source": [
    "### For Loop and Range Function(start,end, step) ###"
   ]
  },
  {
   "cell_type": "code",
   "execution_count": 1,
   "id": "346989f3",
   "metadata": {},
   "outputs": [
    {
     "name": "stdout",
     "output_type": "stream",
     "text": [
      "a\n",
      "b\n",
      "c\n",
      "d\n"
     ]
    }
   ],
   "source": [
    "s=\"abcd\"\n",
    "for c in s:\n",
    "    print(c)"
   ]
  },
  {
   "cell_type": "code",
   "execution_count": 2,
   "id": "eef1bb76",
   "metadata": {},
   "outputs": [
    {
     "name": "stdout",
     "output_type": "stream",
     "text": [
      "10\n",
      "0 1 2 3 4 5 6 7 8 9 10 "
     ]
    }
   ],
   "source": [
    "n=int(input())\n",
    "for i in range(0,n+1,1):\n",
    "    print(i, end=\" \")\n",
    "    "
   ]
  },
  {
   "cell_type": "code",
   "execution_count": 3,
   "id": "a35ee249",
   "metadata": {},
   "outputs": [
    {
     "name": "stdout",
     "output_type": "stream",
     "text": [
      "10\n",
      "0 1 2 3 4 5 6 7 8 9 10 "
     ]
    }
   ],
   "source": [
    "n=int(input())\n",
    "for i in range(n+1):\n",
    "    print(i, end=\" \")"
   ]
  },
  {
   "cell_type": "code",
   "execution_count": 4,
   "id": "83bd8087",
   "metadata": {},
   "outputs": [
    {
     "name": "stdout",
     "output_type": "stream",
     "text": [
      "10\n",
      "1 2 3 4 5 6 7 8 9 10 "
     ]
    }
   ],
   "source": [
    "n=int(input())\n",
    "for i in range(1,n+1):\n",
    "    print(i, end=\" \")"
   ]
  },
  {
   "cell_type": "markdown",
   "id": "160734be",
   "metadata": {},
   "source": [
    "### print n to 1 ###"
   ]
  },
  {
   "cell_type": "code",
   "execution_count": 6,
   "id": "b074ba89",
   "metadata": {},
   "outputs": [
    {
     "name": "stdout",
     "output_type": "stream",
     "text": [
      "10\n",
      "10 9 8 7 6 5 4 3 2 1 "
     ]
    }
   ],
   "source": [
    "n=int(input())\n",
    "for i in range(n,0,-1):\n",
    "    print(i,end=\" \")"
   ]
  },
  {
   "cell_type": "markdown",
   "id": "32aceb85",
   "metadata": {},
   "source": [
    "### Assignment ###"
   ]
  },
  {
   "cell_type": "code",
   "execution_count": 7,
   "id": "2deac5f0",
   "metadata": {},
   "outputs": [
    {
     "name": "stdout",
     "output_type": "stream",
     "text": [
      "5\n",
      "1 3 "
     ]
    }
   ],
   "source": [
    "n=int(input())\n",
    "for i in range(1,5,2):\n",
    "    print(i,end=\" \")"
   ]
  },
  {
   "cell_type": "code",
   "execution_count": 8,
   "id": "eb7bc1d2",
   "metadata": {},
   "outputs": [
    {
     "name": "stdout",
     "output_type": "stream",
     "text": [
      "5\n",
      "0 1 2 3 4 "
     ]
    }
   ],
   "source": [
    "n=int(input())\n",
    "for i in range(n):\n",
    "    print(i,end=\" \")"
   ]
  },
  {
   "cell_type": "markdown",
   "id": "ad2a9a42",
   "metadata": {},
   "source": [
    "### Print Multiples of 3 ###"
   ]
  },
  {
   "cell_type": "code",
   "execution_count": 10,
   "id": "276f515f",
   "metadata": {},
   "outputs": [
    {
     "name": "stdout",
     "output_type": "stream",
     "text": [
      "3\n",
      "10\n",
      "3 6 9 12 15 18 21 24 27 30 "
     ]
    }
   ],
   "source": [
    "num=int(input())\n",
    "n=int(input())\n",
    "for i in range(1,n+1):\n",
    "    print(num*i,end=\" \")"
   ]
  },
  {
   "cell_type": "markdown",
   "id": "c0233e37",
   "metadata": {},
   "source": [
    "### Efficient solution ###"
   ]
  },
  {
   "cell_type": "code",
   "execution_count": 11,
   "id": "e6c3e7bc",
   "metadata": {},
   "outputs": [
    {
     "name": "stdout",
     "output_type": "stream",
     "text": [
      "5\n",
      "15\n",
      "6 9 12 15 "
     ]
    }
   ],
   "source": [
    "a=int(input())\n",
    "b=int(input())\n",
    "if a%3==0:\n",
    "    s=a\n",
    "elif a%3==1:\n",
    "    s=a+2\n",
    "else:\n",
    "    s=a+1\n",
    "for i in range(s,b+1,3):\n",
    "    print(i,end=\" \")"
   ]
  },
  {
   "cell_type": "markdown",
   "id": "6a939db5",
   "metadata": {},
   "source": [
    "### Check if a number is prime or not ###"
   ]
  },
  {
   "cell_type": "code",
   "execution_count": 15,
   "id": "703eb821",
   "metadata": {},
   "outputs": [
    {
     "name": "stdout",
     "output_type": "stream",
     "text": [
      "5\n",
      "The number is  prime\n"
     ]
    }
   ],
   "source": [
    "n=int(input())\n",
    "flag=1\n",
    "for i in range(2,n):\n",
    "    if n%i==0:\n",
    "        flag=0\n",
    "if flag==0:\n",
    "    print(\"The number is not  prime\")\n",
    "else:\n",
    "    print(\"The number is  prime\")"
   ]
  },
  {
   "cell_type": "markdown",
   "id": "36f4bd61",
   "metadata": {},
   "source": [
    "### Markdown ###"
   ]
  },
  {
   "cell_type": "code",
   "execution_count": 19,
   "id": "c959435b",
   "metadata": {},
   "outputs": [
    {
     "name": "stdout",
     "output_type": "stream",
     "text": [
      "4\n",
      "      1 \n",
      "    2 3 2 \n",
      "  3 4 5 4 3 \n",
      "4 5 6 7 6 5 4 \n"
     ]
    }
   ],
   "source": [
    "n=int(input())\n",
    "for i in range(1,n+1):\n",
    "    k=i\n",
    "    m=2*(i-1)\n",
    "    for j in range(1,n-i+1):\n",
    "        print(\" \",end=\" \")\n",
    "    for j in range(1,i+1):\n",
    "        print(k,end=\" \")\n",
    "        k=k+1\n",
    "    for j in range(1,i):\n",
    "        print(m,end=\" \")\n",
    "        m=m-1\n",
    "    print()"
   ]
  }
 ],
 "metadata": {
  "kernelspec": {
   "display_name": "Python 3 (ipykernel)",
   "language": "python",
   "name": "python3"
  },
  "language_info": {
   "codemirror_mode": {
    "name": "ipython",
    "version": 3
   },
   "file_extension": ".py",
   "mimetype": "text/x-python",
   "name": "python",
   "nbconvert_exporter": "python",
   "pygments_lexer": "ipython3",
   "version": "3.9.7"
  }
 },
 "nbformat": 4,
 "nbformat_minor": 5
}
