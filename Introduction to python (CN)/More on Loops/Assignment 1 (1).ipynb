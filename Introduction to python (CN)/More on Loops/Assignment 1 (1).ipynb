{
 "cells": [
  {
   "cell_type": "markdown",
   "id": "e2954c32",
   "metadata": {},
   "source": [
    "### Assignment ###"
   ]
  },
  {
   "cell_type": "code",
   "execution_count": 3,
   "id": "86bee8d5",
   "metadata": {},
   "outputs": [
    {
     "name": "stdout",
     "output_type": "stream",
     "text": [
      "4\n",
      "1 1 1 1 \n",
      "0 0 0 \n",
      "1 1 \n",
      "0 \n"
     ]
    }
   ],
   "source": [
    "n=int(input())\n",
    "for i in range(1,n+1):\n",
    "    for j in range(n-i+1,0,-1):\n",
    "        if i%2==1:\n",
    "            print(1,end=\" \")\n",
    "        else:\n",
    "            print(0,end=\" \")\n",
    "    print()\n",
    "        \n",
    "        "
   ]
  },
  {
   "cell_type": "markdown",
   "id": "f1367ac3",
   "metadata": {},
   "source": [
    "### Print Number Pyramid  ###"
   ]
  },
  {
   "cell_type": "code",
   "execution_count": 9,
   "id": "46fb83a0",
   "metadata": {},
   "outputs": [
    {
     "name": "stdout",
     "output_type": "stream",
     "text": [
      "4\n",
      "1 2 3 4 \n",
      "  2 3 4 \n",
      "    3 4 \n",
      "      4 \n",
      "    3 4 \n",
      "  2 3 4 \n",
      "1 2 3 4 \n"
     ]
    }
   ],
   "source": [
    "n=int(input())\n",
    "for i in range(1,n+1):\n",
    "    k=i\n",
    "    for j in range(1,i):\n",
    "        print(\" \",end=\" \")\n",
    "    for j in range(n-i+1,0,-1):\n",
    "        print(k,end=\" \")\n",
    "        k=k+1\n",
    "    print()\n",
    "for i in range(n-1,0,-1):\n",
    "    m=i\n",
    "    for j in range(1,i):\n",
    "        print(\" \",end=\" \")\n",
    "    for j in range(i,n+1):\n",
    "        print(m,end=\" \")\n",
    "        m=m+1\n",
    "    print()"
   ]
  },
  {
   "cell_type": "markdown",
   "id": "6ff66148",
   "metadata": {},
   "source": [
    "### Diamond of stars ###"
   ]
  },
  {
   "cell_type": "code",
   "execution_count": 14,
   "id": "dbe25c56",
   "metadata": {},
   "outputs": [
    {
     "name": "stdout",
     "output_type": "stream",
     "text": [
      "5\n",
      "    * \n",
      "  * * * \n",
      "* * * * * \n",
      "  * * * \n",
      "    * \n"
     ]
    }
   ],
   "source": [
    "n=int(input())\n",
    "n1=(n//2)+1\n",
    "n2=n//2\n",
    "for i in range(1,n1+1):\n",
    "    for j in range(n1-i,0,-1):\n",
    "        print(\" \",end=\" \")\n",
    "    for j in range(1,2*i):\n",
    "        print(\"*\",end=\" \")\n",
    "    print()\n",
    "for i in range(n2,0,-1):\n",
    "    for j in range(n2-i+1,0,-1):\n",
    "        print(\" \",end=\" \")\n",
    "    for j in range(2*i-1,0,-1):\n",
    "        print(\"*\",end=\" \")\n",
    "    print()"
   ]
  },
  {
   "cell_type": "markdown",
   "id": "27b38265",
   "metadata": {},
   "source": [
    "### Rectangle number Pattern ###"
   ]
  },
  {
   "cell_type": "code",
   "execution_count": 30,
   "id": "3181591c",
   "metadata": {},
   "outputs": [
    {
     "name": "stdout",
     "output_type": "stream",
     "text": [
      "4\n",
      "4 4 4 4 4 4 4 \n",
      "4 3 3 3 3 3 4 \n",
      "4 3 2 2 2 3 4 \n",
      "4 3 2 1 2 3 4 \n",
      "4 3 2 2 2 3 4 \n",
      "4 3 3 3 3 3 4 \n",
      "4 4 4 4 4 4 4 \n"
     ]
    }
   ],
   "source": [
    "n=int(input()) in range(1,n1):\n",
    "        if i==1 or j==1 or i==n1-1 or j==n1-1:\n",
    "            print(n,end=\" \")\n",
    "        elif i==2 or j==2 or i==n1-2 or j==n1-2:\n",
    "            print(n-1,end=\" \")\n",
    "        elif i==3 or j==3 or i==n1-3 or j==n1-3:\n",
    "            print(n-2,end=\" \")\n",
    "        elif i==4 or j==4 or i==n1-4 or j==n1-4:\n",
    "            print(n-3,end=\" \")\n",
    "                \n",
    "        else:\n",
    "            print(1,end=\" \")\n",
    "    print()"
   ]
  },
  {
   "cell_type": "code",
   "execution_count": null,
   "id": "9d354c89",
   "metadata": {},
   "outputs": [],
   "source": []
  },
  {
   "cell_type": "code",
   "execution_count": null,
   "id": "8ac5a59d",
   "metadata": {},
   "outputs": [],
   "source": []
  }
 ],
 "metadata": {
  "kernelspec": {
   "display_name": "Python 3 (ipykernel)",
   "language": "python",
   "name": "python3"
  },
  "language_info": {
   "codemirror_mode": {
    "name": "ipython",
    "version": 3
   },
   "file_extension": ".py",
   "mimetype": "text/x-python",
   "name": "python",
   "nbconvert_exporter": "python",
   "pygments_lexer": "ipython3",
   "version": "3.9.7"
  }
 },
 "nbformat": 4,
 "nbformat_minor": 5
}
