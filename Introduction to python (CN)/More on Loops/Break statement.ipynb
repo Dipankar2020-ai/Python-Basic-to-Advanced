{
 "cells": [
  {
   "cell_type": "markdown",
   "id": "8256ae64",
   "metadata": {},
   "source": [
    "### Break Keyword ###"
   ]
  },
  {
   "cell_type": "code",
   "execution_count": 1,
   "id": "79f5e6e6",
   "metadata": {},
   "outputs": [
    {
     "name": "stdout",
     "output_type": "stream",
     "text": [
      "1\n",
      "2\n",
      "3\n",
      "4\n"
     ]
    }
   ],
   "source": [
    "i=1\n",
    "while i<=10:\n",
    "    if i==5:\n",
    "        break\n",
    "    print(i)\n",
    "    i=i+1"
   ]
  },
  {
   "cell_type": "markdown",
   "id": "c6b73d0a",
   "metadata": {},
   "source": [
    "### Check prime ###"
   ]
  },
  {
   "cell_type": "code",
   "execution_count": 3,
   "id": "0fc9c3fb",
   "metadata": {},
   "outputs": [
    {
     "name": "stdout",
     "output_type": "stream",
     "text": [
      "Enter the number : 4\n",
      "The number is not prime\n"
     ]
    }
   ],
   "source": [
    "n=int(input(\"Enter the number : \"))\n",
    "flag=True\n",
    "for i in range(2,n):\n",
    "    if n%i==0:\n",
    "        flag=False\n",
    "        break\n",
    "if(flag==True):\n",
    "    print(\"The number is prime\")\n",
    "else:\n",
    "    print(\"The number is not prime\")\n",
    "    "
   ]
  },
  {
   "cell_type": "markdown",
   "id": "c29e64b2",
   "metadata": {},
   "source": [
    "### Prime 2 to n ###"
   ]
  },
  {
   "cell_type": "code",
   "execution_count": 4,
   "id": "e1bf7736",
   "metadata": {},
   "outputs": [
    {
     "name": "stdout",
     "output_type": "stream",
     "text": [
      "10\n",
      "2\n",
      "3\n",
      "5\n",
      "7\n"
     ]
    }
   ],
   "source": [
    "n=int(input())\n",
    "k=2\n",
    "while k<=n:\n",
    "    d=2\n",
    "    flag=False\n",
    "    while d<k:\n",
    "        if k%d==0:\n",
    "            flag=True\n",
    "            break\n",
    "        d=d+1\n",
    "    if(not(flag)):\n",
    "        print(k)\n",
    "    k=k+1"
   ]
  },
  {
   "cell_type": "markdown",
   "id": "c5b91efc",
   "metadata": {},
   "source": [
    "### Assignment ###"
   ]
  },
  {
   "cell_type": "code",
   "execution_count": 5,
   "id": "a2e48209",
   "metadata": {},
   "outputs": [
    {
     "name": "stdout",
     "output_type": "stream",
     "text": [
      "1 2 "
     ]
    }
   ],
   "source": [
    "i=1\n",
    "while i<5:\n",
    "    if i==3:\n",
    "        break\n",
    "    print(i,end=\" \")\n",
    "    i=i+1"
   ]
  },
  {
   "cell_type": "code",
   "execution_count": 6,
   "id": "575142e8",
   "metadata": {},
   "outputs": [
    {
     "name": "stdout",
     "output_type": "stream",
     "text": [
      "1 2 1 2 "
     ]
    }
   ],
   "source": [
    "i=1\n",
    "while i<3:\n",
    "    j=1\n",
    "    while j<5:\n",
    "        if j==3:\n",
    "            break\n",
    "        print(j,end=\" \")\n",
    "        j=j+1\n",
    "    i=i+1"
   ]
  }
 ],
 "metadata": {
  "kernelspec": {
   "display_name": "Python 3 (ipykernel)",
   "language": "python",
   "name": "python3"
  },
  "language_info": {
   "codemirror_mode": {
    "name": "ipython",
    "version": 3
   },
   "file_extension": ".py",
   "mimetype": "text/x-python",
   "name": "python",
   "nbconvert_exporter": "python",
   "pygments_lexer": "ipython3",
   "version": "3.9.7"
  }
 },
 "nbformat": 4,
 "nbformat_minor": 5
}
