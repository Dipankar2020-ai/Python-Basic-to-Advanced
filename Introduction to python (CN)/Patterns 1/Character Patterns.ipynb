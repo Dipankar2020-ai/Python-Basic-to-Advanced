{
 "cells": [
  {
   "cell_type": "markdown",
   "id": "f4531b71",
   "metadata": {},
   "source": [
    "### Character Patterns ###"
   ]
  },
  {
   "cell_type": "code",
   "execution_count": 9,
   "id": "9c5d6543",
   "metadata": {},
   "outputs": [
    {
     "name": "stdout",
     "output_type": "stream",
     "text": [
      "Enter the number : 4\n",
      "A B C D \n",
      "A B C D \n",
      "A B C D \n",
      "A B C D \n"
     ]
    }
   ],
   "source": [
    "n=int(input(\"Enter the number : \"))\n",
    "i=1\n",
    "x=ord('A')\n",
    "while i<=n:\n",
    "    j=1\n",
    "  \n",
    "    while j<=n:\n",
    "        k=chr(x+j-1)\n",
    "        print(k,end=\" \")\n",
    "        j=j+1\n",
    "    print()\n",
    "    i+=1\n",
    "        "
   ]
  },
  {
   "cell_type": "code",
   "execution_count": 10,
   "id": "61e4c634",
   "metadata": {},
   "outputs": [
    {
     "name": "stdout",
     "output_type": "stream",
     "text": [
      "Enter the number : 4\n",
      "A B C D \n",
      "B C D E \n",
      "C D E F \n",
      "D E F G \n"
     ]
    }
   ],
   "source": [
    "n=int(input(\"Enter the number : \"))\n",
    "i=1\n",
    "\n",
    "while i<=n:\n",
    "    j=1\n",
    "    x=ord('A')+i-1\n",
    "    while j<=n:\n",
    "        k=chr(x+j-1)\n",
    "        print(k,end=\" \")\n",
    "        j=j+1\n",
    "    print()\n",
    "    i+=1"
   ]
  },
  {
   "cell_type": "code",
   "execution_count": 12,
   "id": "3a657d86",
   "metadata": {},
   "outputs": [
    {
     "name": "stdout",
     "output_type": "stream",
     "text": [
      "Enter the number : 4\n",
      "A \n",
      "B C \n",
      "C D E \n",
      "D E F G \n"
     ]
    }
   ],
   "source": [
    "n=int(input(\"Enter the number : \"))\n",
    "i=1\n",
    "\n",
    "while i<=n:\n",
    "    j=1\n",
    "    x=ord('A')+i-1\n",
    "    while j<=i:\n",
    "        k=chr(x+j-1)\n",
    "        print(k,end=\" \")\n",
    "        j=j+1\n",
    "    print()\n",
    "    i+=1"
   ]
  },
  {
   "cell_type": "code",
   "execution_count": 13,
   "id": "9faebdfd",
   "metadata": {},
   "outputs": [
    {
     "name": "stdout",
     "output_type": "stream",
     "text": [
      "Enter the number : 4\n",
      "D \n",
      "C D \n",
      "B C D \n",
      "A B C D \n"
     ]
    }
   ],
   "source": [
    "n=int(input(\"Enter the number : \"))\n",
    "i=1\n",
    "\n",
    "while i<=n:\n",
    "    j=1\n",
    "    x=ord('D')-i+1\n",
    "    while j<=i:\n",
    "        k=chr(x+j-1)\n",
    "        print(k,end=\" \")\n",
    "        j=j+1\n",
    "    print()\n",
    "    i+=1"
   ]
  }
 ],
 "metadata": {
  "kernelspec": {
   "display_name": "Python 3 (ipykernel)",
   "language": "python",
   "name": "python3"
  },
  "language_info": {
   "codemirror_mode": {
    "name": "ipython",
    "version": 3
   },
   "file_extension": ".py",
   "mimetype": "text/x-python",
   "name": "python",
   "nbconvert_exporter": "python",
   "pygments_lexer": "ipython3",
   "version": "3.9.7"
  }
 },
 "nbformat": 4,
 "nbformat_minor": 5
}
