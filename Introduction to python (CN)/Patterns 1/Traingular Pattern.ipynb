{
 "cells": [
  {
   "cell_type": "markdown",
   "id": "58221798",
   "metadata": {},
   "source": [
    "### Traingular Pattern ###"
   ]
  },
  {
   "cell_type": "code",
   "execution_count": 2,
   "id": "9debf450",
   "metadata": {},
   "outputs": [
    {
     "name": "stdout",
     "output_type": "stream",
     "text": [
      "Enter the number : 4\n",
      "1 \n",
      "1 2 \n",
      "1 2 3 \n",
      "1 2 3 4 \n"
     ]
    }
   ],
   "source": [
    "n=int(input(\"Enter the number : \"))\n",
    "i=1\n",
    "while i<=n:\n",
    "    j=1\n",
    "    while j<=i:\n",
    "        print(j,end=\" \")\n",
    "        j=j+1\n",
    "    print()\n",
    "    i=i+1"
   ]
  },
  {
   "cell_type": "code",
   "execution_count": 4,
   "id": "03026c56",
   "metadata": {},
   "outputs": [
    {
     "name": "stdout",
     "output_type": "stream",
     "text": [
      "Enter the number : 4\n",
      "1 \n",
      "2 3 \n",
      "3 4 5 \n",
      "4 5 6 7 \n"
     ]
    }
   ],
   "source": [
    "n=int(input(\"Enter the number : \"))\n",
    "i=1\n",
    "\n",
    "while i<=n:\n",
    "    j=1\n",
    "    k=i\n",
    "    while j<=i:\n",
    "        print(k,end=\" \")\n",
    "        k=k+1\n",
    "        j=j+1\n",
    "    print()\n",
    "    i=i+1"
   ]
  },
  {
   "cell_type": "code",
   "execution_count": 5,
   "id": "aaf5227d",
   "metadata": {},
   "outputs": [
    {
     "name": "stdout",
     "output_type": "stream",
     "text": [
      "Enter the number : 4\n",
      "1 \n",
      "2 3 \n",
      "4 5 6 \n",
      "7 8 9 10 \n"
     ]
    }
   ],
   "source": [
    "n=int(input(\"Enter the number : \"))\n",
    "i=1\n",
    "k=1\n",
    "while i<=n:\n",
    "    j=1\n",
    "    \n",
    "    while j<=i:\n",
    "        print(k,end=\" \")\n",
    "        k=k+1\n",
    "        j=j+1\n",
    "    print()\n",
    "    i=i+1"
   ]
  },
  {
   "cell_type": "markdown",
   "id": "d508e9b0",
   "metadata": {},
   "source": [
    "### Assignment ##"
   ]
  },
  {
   "cell_type": "markdown",
   "id": "df6e08be",
   "metadata": {},
   "source": [
    "Traingular Star Pattern"
   ]
  },
  {
   "cell_type": "code",
   "execution_count": 6,
   "id": "6629f389",
   "metadata": {},
   "outputs": [
    {
     "name": "stdout",
     "output_type": "stream",
     "text": [
      "Enter the number : 4\n",
      "* \n",
      "* * \n",
      "* * * \n",
      "* * * * \n"
     ]
    }
   ],
   "source": [
    "n=int(input(\"Enter the number : \"))\n",
    "i=1\n",
    "while i<=n:\n",
    "    j=1\n",
    "    while j<=i:\n",
    "        print(\"*\",end=\" \")\n",
    "        j=j+1\n",
    "    print()\n",
    "    i=i+1"
   ]
  },
  {
   "cell_type": "markdown",
   "id": "3c481e14",
   "metadata": {},
   "source": [
    "Reverse Number Pattern"
   ]
  },
  {
   "cell_type": "code",
   "execution_count": 7,
   "id": "fc1759bf",
   "metadata": {},
   "outputs": [
    {
     "name": "stdout",
     "output_type": "stream",
     "text": [
      "Enter the number : 4\n",
      "1 \n",
      "2 1 \n",
      "3 2 1 \n",
      "4 3 2 1 \n"
     ]
    }
   ],
   "source": [
    "n=int(input(\"Enter the number : \"))\n",
    "i=1\n",
    "while i<=n:\n",
    "    j=i\n",
    "    while j>=1:\n",
    "        print(j,end=\" \")\n",
    "        j=j-1\n",
    "    print()\n",
    "    i=i+1"
   ]
  }
 ],
 "metadata": {
  "kernelspec": {
   "display_name": "Python 3 (ipykernel)",
   "language": "python",
   "name": "python3"
  },
  "language_info": {
   "codemirror_mode": {
    "name": "ipython",
    "version": 3
   },
   "file_extension": ".py",
   "mimetype": "text/x-python",
   "name": "python",
   "nbconvert_exporter": "python",
   "pygments_lexer": "ipython3",
   "version": "3.9.7"
  }
 },
 "nbformat": 4,
 "nbformat_minor": 5
}
