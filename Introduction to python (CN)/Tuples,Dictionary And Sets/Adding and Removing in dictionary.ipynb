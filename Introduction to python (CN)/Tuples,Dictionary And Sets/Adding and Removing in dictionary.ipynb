{
 "cells": [
  {
   "cell_type": "markdown",
   "id": "ee7600ef",
   "metadata": {},
   "source": [
    "### Adding or Removing data in dictionary ###"
   ]
  },
  {
   "cell_type": "code",
   "execution_count": 1,
   "id": "d5cb92be",
   "metadata": {},
   "outputs": [],
   "source": [
    "a={1:2,3:4}"
   ]
  },
  {
   "cell_type": "code",
   "execution_count": 2,
   "id": "41b9618b",
   "metadata": {},
   "outputs": [
    {
     "data": {
      "text/plain": [
       "{1: 2, 3: 4}"
      ]
     },
     "execution_count": 2,
     "metadata": {},
     "output_type": "execute_result"
    }
   ],
   "source": [
    "a"
   ]
  },
  {
   "cell_type": "code",
   "execution_count": 3,
   "id": "2b563139",
   "metadata": {},
   "outputs": [
    {
     "data": {
      "text/plain": [
       "dict"
      ]
     },
     "execution_count": 3,
     "metadata": {},
     "output_type": "execute_result"
    }
   ],
   "source": [
    "type(a)"
   ]
  },
  {
   "cell_type": "code",
   "execution_count": 4,
   "id": "0d6d9ec4",
   "metadata": {},
   "outputs": [],
   "source": [
    "a[1]=10"
   ]
  },
  {
   "cell_type": "code",
   "execution_count": 5,
   "id": "589740a6",
   "metadata": {},
   "outputs": [
    {
     "data": {
      "text/plain": [
       "{1: 10, 3: 4}"
      ]
     },
     "execution_count": 5,
     "metadata": {},
     "output_type": "execute_result"
    }
   ],
   "source": [
    "a"
   ]
  },
  {
   "cell_type": "code",
   "execution_count": 6,
   "id": "73711a03",
   "metadata": {},
   "outputs": [],
   "source": [
    "b={3:5,'the':4,2:100}"
   ]
  },
  {
   "cell_type": "code",
   "execution_count": 7,
   "id": "7b060ef3",
   "metadata": {},
   "outputs": [],
   "source": [
    "a.update(b)"
   ]
  },
  {
   "cell_type": "code",
   "execution_count": 8,
   "id": "ffccc915",
   "metadata": {},
   "outputs": [
    {
     "data": {
      "text/plain": [
       "{1: 10, 3: 5, 'the': 4, 2: 100}"
      ]
     },
     "execution_count": 8,
     "metadata": {},
     "output_type": "execute_result"
    }
   ],
   "source": [
    "a"
   ]
  },
  {
   "cell_type": "code",
   "execution_count": 10,
   "id": "1f065bfd",
   "metadata": {},
   "outputs": [
    {
     "data": {
      "text/plain": [
       "4"
      ]
     },
     "execution_count": 10,
     "metadata": {},
     "output_type": "execute_result"
    }
   ],
   "source": [
    "a.pop('the')"
   ]
  },
  {
   "cell_type": "code",
   "execution_count": 11,
   "id": "9f792218",
   "metadata": {},
   "outputs": [],
   "source": [
    "del a[1]"
   ]
  },
  {
   "cell_type": "code",
   "execution_count": 12,
   "id": "eb59ffd3",
   "metadata": {},
   "outputs": [],
   "source": [
    "a.clear()"
   ]
  },
  {
   "cell_type": "markdown",
   "id": "94414b8b",
   "metadata": {},
   "source": [
    "### predict the o/p ###"
   ]
  },
  {
   "cell_type": "code",
   "execution_count": 13,
   "id": "bb87fd2b",
   "metadata": {},
   "outputs": [
    {
     "name": "stdout",
     "output_type": "stream",
     "text": [
      "7\n"
     ]
    }
   ],
   "source": [
    "a={1:2,'list':[1,2],3:5}\n",
    "b={4:5,3:7}\n",
    "a.update(b)\n",
    "print(a[3])"
   ]
  },
  {
   "cell_type": "code",
   "execution_count": 14,
   "id": "a739086a",
   "metadata": {},
   "outputs": [
    {
     "name": "stdout",
     "output_type": "stream",
     "text": [
      "[3, 5]\n"
     ]
    }
   ],
   "source": [
    "a={1:2,'list':[1,2],3:5}\n",
    "a.pop('list')\n",
    "a['list']=[3,5]\n",
    "print(a['list'])"
   ]
  }
 ],
 "metadata": {
  "kernelspec": {
   "display_name": "Python 3 (ipykernel)",
   "language": "python",
   "name": "python3"
  },
  "language_info": {
   "codemirror_mode": {
    "name": "ipython",
    "version": 3
   },
   "file_extension": ".py",
   "mimetype": "text/x-python",
   "name": "python",
   "nbconvert_exporter": "python",
   "pygments_lexer": "ipython3",
   "version": "3.9.7"
  }
 },
 "nbformat": 4,
 "nbformat_minor": 5
}
