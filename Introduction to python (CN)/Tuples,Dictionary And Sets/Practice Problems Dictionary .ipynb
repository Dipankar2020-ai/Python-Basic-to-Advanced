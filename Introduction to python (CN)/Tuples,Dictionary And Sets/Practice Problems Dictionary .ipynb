{
 "cells": [
  {
   "cell_type": "markdown",
   "id": "46738c67",
   "metadata": {},
   "source": [
    "\n",
    "### Different Names ###"
   ]
  },
  {
   "cell_type": "code",
   "execution_count": 4,
   "id": "c5871f91",
   "metadata": {},
   "outputs": [
    {
     "name": "stdout",
     "output_type": "stream",
     "text": [
      "Abhisek Harshit Ayush Harshit Ayush Deepak Iti Ayush Iti\n",
      "Harshit   2\n",
      "Ayush   3\n",
      "Iti   2\n"
     ]
    }
   ],
   "source": [
    "def differentnames(li):\n",
    "    d={}\n",
    "    flag=False\n",
    "    for w in li:\n",
    "        if w in d:\n",
    "            d[w]=d[w]+1\n",
    "        else:\n",
    "            d[w]=1\n",
    "    for i in d:\n",
    "        if d[i]>1:\n",
    "            print(i,\" \", d[i])\n",
    "            flag=True\n",
    "    return flag\n",
    "        \n",
    "\n",
    "str=input()\n",
    "li=[i for i in str.split()]\n",
    "a=differentnames(li)\n",
    "if a==False:\n",
    "    print(-1)\n"
   ]
  },
  {
   "cell_type": "code",
   "execution_count": 5,
   "id": "bb74a2f2",
   "metadata": {},
   "outputs": [
    {
     "name": "stdout",
     "output_type": "stream",
     "text": [
      "Abhisek Harshit Ayush\n",
      "-1\n"
     ]
    }
   ],
   "source": [
    "def differentnames(li):\n",
    "    d={}\n",
    "    flag=False\n",
    "    for w in li:\n",
    "        if w in d:\n",
    "            d[w]=d[w]+1\n",
    "        else:\n",
    "            d[w]=1\n",
    "    for i in d:\n",
    "        if d[i]>1:\n",
    "            print(i,\" \", d[i])\n",
    "            flag=True\n",
    "    return flag\n",
    "        \n",
    "\n",
    "str=input()\n",
    "li=[i for i in str.split()]\n",
    "a=differentnames(li)\n",
    "if a==False:\n",
    "    print(-1)"
   ]
  },
  {
   "cell_type": "markdown",
   "id": "3f16c289",
   "metadata": {},
   "source": [
    "#### Maximum Frequency Number     ###"
   ]
  },
  {
   "cell_type": "markdown",
   "id": "b261005e",
   "metadata": {},
   "source": [
    "Problem Description:You are given with an array of integers that contain numbers in random order. Write a program to find and return the number which occurs maximum times in the given input.If more than one element occurs same number of times in the input, return the element which is present in the input first."
   ]
  },
  {
   "cell_type": "code",
   "execution_count": 12,
   "id": "b6dc356e",
   "metadata": {},
   "outputs": [
    {
     "name": "stdout",
     "output_type": "stream",
     "text": [
      "8\n",
      "32 14 14 76 14 32 29 32\n",
      "32\n"
     ]
    }
   ],
   "source": [
    "def maxfrequency(li):\n",
    "    d={}\n",
    "    max1=1\n",
    "    \n",
    "    for i in li:\n",
    "        if i in d:\n",
    "            d[i]=d[i]+1\n",
    "        else:\n",
    "            d[i]=1\n",
    "    for i in d:\n",
    "        if d[i]>max1:\n",
    "            max1=d[i]\n",
    "            ele=i\n",
    "     \n",
    "    return ele\n",
    "n=int(input())\n",
    "li=[int(i) for i in input().split()]\n",
    "ans=maxfrequency(li)\n",
    "print(ans)"
   ]
  }
 ],
 "metadata": {
  "kernelspec": {
   "display_name": "Python 3 (ipykernel)",
   "language": "python",
   "name": "python3"
  },
  "language_info": {
   "codemirror_mode": {
    "name": "ipython",
    "version": 3
   },
   "file_extension": ".py",
   "mimetype": "text/x-python",
   "name": "python",
   "nbconvert_exporter": "python",
   "pygments_lexer": "ipython3",
   "version": "3.9.7"
  }
 },
 "nbformat": 4,
 "nbformat_minor": 5
}
