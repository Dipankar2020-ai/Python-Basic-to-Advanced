{
 "cells": [
  {
   "cell_type": "markdown",
   "id": "f195c03e",
   "metadata": {},
   "source": [
    "### Sum of all unique characters ###"
   ]
  },
  {
   "cell_type": "code",
   "execution_count": 3,
   "id": "cc50967b",
   "metadata": {},
   "outputs": [],
   "source": [
    "a=[1,2,3,1,3]"
   ]
  },
  {
   "cell_type": "code",
   "execution_count": 4,
   "id": "a6e24d61",
   "metadata": {},
   "outputs": [
    {
     "data": {
      "text/plain": [
       "5"
      ]
     },
     "execution_count": 4,
     "metadata": {},
     "output_type": "execute_result"
    }
   ],
   "source": [
    "len(a)"
   ]
  },
  {
   "cell_type": "code",
   "execution_count": 6,
   "id": "12f31f4a",
   "metadata": {},
   "outputs": [
    {
     "name": "stdout",
     "output_type": "stream",
     "text": [
      "6\n"
     ]
    }
   ],
   "source": [
    "def sumUnique(l):\n",
    "    s=set()\n",
    "    for i in l:\n",
    "        s.add(i)\n",
    "    sum=0\n",
    "    for i in s:\n",
    "        sum=sum+i\n",
    "    return sum\n",
    "print(sumUnique(a))"
   ]
  },
  {
   "cell_type": "markdown",
   "id": "d320af7e",
   "metadata": {},
   "source": [
    "### First non repeating character ###"
   ]
  },
  {
   "cell_type": "code",
   "execution_count": 18,
   "id": "923e0dbe",
   "metadata": {},
   "outputs": [
    {
     "name": "stdout",
     "output_type": "stream",
     "text": [
      "gdhlgHada\n",
      "h\n"
     ]
    }
   ],
   "source": [
    "def firstnonrepeating(li):\n",
    "    d={}\n",
    "    for w in li:\n",
    "        if w in d:\n",
    "            d[w]=d[w]+1\n",
    "        else:\n",
    "            d[w]=1\n",
    "    #print(d)\n",
    "    for w in d:\n",
    "        if d[w]==1:\n",
    "            return w\n",
    "        \n",
    "\n",
    "\n",
    "\n",
    "li=[i for i in input()]\n",
    "ans=firstnonrepeating(li)\n",
    "print(ans)\n",
    "\n"
   ]
  },
  {
   "cell_type": "markdown",
   "id": "6d8b73e3",
   "metadata": {},
   "source": [
    "### Predict the Output ###"
   ]
  },
  {
   "cell_type": "code",
   "execution_count": 19,
   "id": "76dedbe7",
   "metadata": {},
   "outputs": [
    {
     "ename": "AttributeError",
     "evalue": "'dict' object has no attribute 'add'",
     "output_type": "error",
     "traceback": [
      "\u001b[1;31m---------------------------------------------------------------------------\u001b[0m",
      "\u001b[1;31mAttributeError\u001b[0m                            Traceback (most recent call last)",
      "\u001b[1;32m~\\AppData\\Local\\Temp/ipykernel_11768/3228125688.py\u001b[0m in \u001b[0;36m<module>\u001b[1;34m\u001b[0m\n\u001b[0;32m      1\u001b[0m \u001b[0ms\u001b[0m\u001b[1;33m=\u001b[0m\u001b[1;33m{\u001b[0m\u001b[1;33m}\u001b[0m\u001b[1;33m\u001b[0m\u001b[1;33m\u001b[0m\u001b[0m\n\u001b[1;32m----> 2\u001b[1;33m \u001b[0ms\u001b[0m\u001b[1;33m.\u001b[0m\u001b[0madd\u001b[0m\u001b[1;33m(\u001b[0m\u001b[1;36m4\u001b[0m\u001b[1;33m)\u001b[0m\u001b[1;33m\u001b[0m\u001b[1;33m\u001b[0m\u001b[0m\n\u001b[0m\u001b[0;32m      3\u001b[0m \u001b[0ms\u001b[0m\u001b[1;33m.\u001b[0m\u001b[0madd\u001b[0m\u001b[1;33m(\u001b[0m\u001b[1;36m4\u001b[0m\u001b[1;33m)\u001b[0m\u001b[1;33m\u001b[0m\u001b[1;33m\u001b[0m\u001b[0m\n\u001b[0;32m      4\u001b[0m \u001b[0mprint\u001b[0m\u001b[1;33m(\u001b[0m\u001b[0mlen\u001b[0m\u001b[1;33m(\u001b[0m\u001b[0ms\u001b[0m\u001b[1;33m)\u001b[0m\u001b[1;33m)\u001b[0m\u001b[1;33m\u001b[0m\u001b[1;33m\u001b[0m\u001b[0m\n",
      "\u001b[1;31mAttributeError\u001b[0m: 'dict' object has no attribute 'add'"
     ]
    }
   ],
   "source": [
    "s={}\n",
    "s.add(4)\n",
    "s.add(4)\n",
    "print(len(s))"
   ]
  },
  {
   "cell_type": "markdown",
   "id": "89b28289",
   "metadata": {},
   "source": [
    "### Extract Unique Characters ###"
   ]
  },
  {
   "cell_type": "markdown",
   "id": "00c93a1e",
   "metadata": {},
   "source": [
    "Given a string, you need to remove all the duplicates. That means, the output string should contain each character only once. The respective order of characters should remain the same"
   ]
  },
  {
   "cell_type": "code",
   "execution_count": 34,
   "id": "71cf22ae",
   "metadata": {},
   "outputs": [
    {
     "name": "stdout",
     "output_type": "stream",
     "text": [
      "this is input\n",
      "thisnpu\n"
     ]
    }
   ],
   "source": [
    "def extractunique(li):\n",
    "    d={}\n",
    "    s=\"\"\n",
    "    for w in li:\n",
    "        if w in d:\n",
    "            d[w]=d[w]+1\n",
    "        else:\n",
    "            d[w]=1\n",
    "    for m in d:\n",
    "       \n",
    "            s=s+m\n",
    "    return s\n",
    "  \n",
    "li=[i for i in input()]\n",
    "ans=extractunique(li)\n",
    "li1=ans.split()\n",
    "s=li1[0]+li1[1]\n",
    "print(s)\n"
   ]
  }
 ],
 "metadata": {
  "kernelspec": {
   "display_name": "Python 3 (ipykernel)",
   "language": "python",
   "name": "python3"
  },
  "language_info": {
   "codemirror_mode": {
    "name": "ipython",
    "version": 3
   },
   "file_extension": ".py",
   "mimetype": "text/x-python",
   "name": "python",
   "nbconvert_exporter": "python",
   "pygments_lexer": "ipython3",
   "version": "3.9.7"
  }
 },
 "nbformat": 4,
 "nbformat_minor": 5
}
