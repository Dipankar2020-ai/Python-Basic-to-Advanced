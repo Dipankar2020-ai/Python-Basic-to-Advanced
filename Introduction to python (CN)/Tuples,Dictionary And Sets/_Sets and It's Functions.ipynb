{
 "cells": [
  {
   "cell_type": "markdown",
   "id": "b7052c42",
   "metadata": {},
   "source": [
    "### Sets and It's Functions ###"
   ]
  },
  {
   "cell_type": "markdown",
   "id": "0cae8971",
   "metadata": {},
   "source": [
    "### Add or Update ###"
   ]
  },
  {
   "cell_type": "code",
   "execution_count": 1,
   "id": "a37c0229",
   "metadata": {},
   "outputs": [],
   "source": [
    "a={\"apple\",\"abc\",\"23\"}"
   ]
  },
  {
   "cell_type": "code",
   "execution_count": 2,
   "id": "d98e89ef",
   "metadata": {},
   "outputs": [],
   "source": [
    "a.add(\"temp\")"
   ]
  },
  {
   "cell_type": "code",
   "execution_count": 3,
   "id": "54a642b2",
   "metadata": {},
   "outputs": [
    {
     "data": {
      "text/plain": [
       "{'23', 'abc', 'apple', 'temp'}"
      ]
     },
     "execution_count": 3,
     "metadata": {},
     "output_type": "execute_result"
    }
   ],
   "source": [
    "a"
   ]
  },
  {
   "cell_type": "code",
   "execution_count": 4,
   "id": "6b561305",
   "metadata": {},
   "outputs": [],
   "source": [
    "b={'abc','ghi'}"
   ]
  },
  {
   "cell_type": "code",
   "execution_count": 5,
   "id": "6048c321",
   "metadata": {},
   "outputs": [],
   "source": [
    "a.update(b)"
   ]
  },
  {
   "cell_type": "code",
   "execution_count": 6,
   "id": "ce65cfde",
   "metadata": {},
   "outputs": [
    {
     "data": {
      "text/plain": [
       "{'23', 'abc', 'apple', 'ghi', 'temp'}"
      ]
     },
     "execution_count": 6,
     "metadata": {},
     "output_type": "execute_result"
    }
   ],
   "source": [
    "a"
   ]
  },
  {
   "cell_type": "code",
   "execution_count": 7,
   "id": "0e8e5a5e",
   "metadata": {},
   "outputs": [],
   "source": [
    "a.remove('temp')"
   ]
  },
  {
   "cell_type": "code",
   "execution_count": 8,
   "id": "d20e38e3",
   "metadata": {},
   "outputs": [
    {
     "data": {
      "text/plain": [
       "{'23', 'abc', 'apple', 'ghi'}"
      ]
     },
     "execution_count": 8,
     "metadata": {},
     "output_type": "execute_result"
    }
   ],
   "source": [
    "a"
   ]
  },
  {
   "cell_type": "code",
   "execution_count": 9,
   "id": "0607b6df",
   "metadata": {},
   "outputs": [
    {
     "ename": "KeyError",
     "evalue": "'rrr'",
     "output_type": "error",
     "traceback": [
      "\u001b[1;31m---------------------------------------------------------------------------\u001b[0m",
      "\u001b[1;31mKeyError\u001b[0m                                  Traceback (most recent call last)",
      "\u001b[1;32m~\\AppData\\Local\\Temp/ipykernel_8756/3489751084.py\u001b[0m in \u001b[0;36m<module>\u001b[1;34m\u001b[0m\n\u001b[1;32m----> 1\u001b[1;33m \u001b[0ma\u001b[0m\u001b[1;33m.\u001b[0m\u001b[0mremove\u001b[0m\u001b[1;33m(\u001b[0m\u001b[1;34m'rrr'\u001b[0m\u001b[1;33m)\u001b[0m\u001b[1;33m\u001b[0m\u001b[1;33m\u001b[0m\u001b[0m\n\u001b[0m",
      "\u001b[1;31mKeyError\u001b[0m: 'rrr'"
     ]
    }
   ],
   "source": [
    "a.remove('rrr')"
   ]
  },
  {
   "cell_type": "code",
   "execution_count": 10,
   "id": "0462581b",
   "metadata": {},
   "outputs": [],
   "source": [
    "a.discard('tty')"
   ]
  },
  {
   "cell_type": "markdown",
   "id": "3e167a2b",
   "metadata": {},
   "source": [
    "### Difference  between  remove() and discard->if the element is not present the discard() function doesn't give any error ###"
   ]
  },
  {
   "cell_type": "code",
   "execution_count": 11,
   "id": "863ea04d",
   "metadata": {},
   "outputs": [
    {
     "name": "stdout",
     "output_type": "stream",
     "text": [
      "None\n"
     ]
    }
   ],
   "source": [
    "print(a.discard('ffh'))"
   ]
  },
  {
   "cell_type": "code",
   "execution_count": 13,
   "id": "0fea58c7",
   "metadata": {},
   "outputs": [
    {
     "data": {
      "text/plain": [
       "'apple'"
      ]
     },
     "execution_count": 13,
     "metadata": {},
     "output_type": "execute_result"
    }
   ],
   "source": [
    "a.pop() # delete any element from the list"
   ]
  },
  {
   "cell_type": "code",
   "execution_count": 14,
   "id": "ceecf848",
   "metadata": {},
   "outputs": [],
   "source": [
    "a.clear()"
   ]
  },
  {
   "cell_type": "markdown",
   "id": "a9b5eaaa",
   "metadata": {},
   "source": [
    "### Functions in sets ###"
   ]
  },
  {
   "cell_type": "code",
   "execution_count": 16,
   "id": "40d5c7f9",
   "metadata": {},
   "outputs": [],
   "source": [
    "a={1,2,3,4}"
   ]
  },
  {
   "cell_type": "code",
   "execution_count": 17,
   "id": "465e2900",
   "metadata": {},
   "outputs": [],
   "source": [
    "b={3,4,5,6}"
   ]
  },
  {
   "cell_type": "code",
   "execution_count": 18,
   "id": "7c59b2bf",
   "metadata": {},
   "outputs": [
    {
     "data": {
      "text/plain": [
       "{3, 4}"
      ]
     },
     "execution_count": 18,
     "metadata": {},
     "output_type": "execute_result"
    }
   ],
   "source": [
    "a.intersection(b)"
   ]
  },
  {
   "cell_type": "code",
   "execution_count": 19,
   "id": "f32123f2",
   "metadata": {},
   "outputs": [
    {
     "data": {
      "text/plain": [
       "{1, 2, 3, 4, 5, 6}"
      ]
     },
     "execution_count": 19,
     "metadata": {},
     "output_type": "execute_result"
    }
   ],
   "source": [
    "a.union(b)"
   ]
  },
  {
   "cell_type": "code",
   "execution_count": 20,
   "id": "455ce1a1",
   "metadata": {},
   "outputs": [
    {
     "data": {
      "text/plain": [
       "{1, 2}"
      ]
     },
     "execution_count": 20,
     "metadata": {},
     "output_type": "execute_result"
    }
   ],
   "source": [
    "a.difference(b)"
   ]
  },
  {
   "cell_type": "code",
   "execution_count": 21,
   "id": "b8e7226e",
   "metadata": {},
   "outputs": [
    {
     "data": {
      "text/plain": [
       "{5, 6}"
      ]
     },
     "execution_count": 21,
     "metadata": {},
     "output_type": "execute_result"
    }
   ],
   "source": [
    "b.difference(a)"
   ]
  },
  {
   "cell_type": "code",
   "execution_count": 24,
   "id": "8f1c1a96",
   "metadata": {},
   "outputs": [
    {
     "data": {
      "text/plain": [
       "{1, 2, 5, 6}"
      ]
     },
     "execution_count": 24,
     "metadata": {},
     "output_type": "execute_result"
    }
   ],
   "source": [
    "a.symmetric_difference(b)  #(AUB)-(A intersection B)"
   ]
  },
  {
   "cell_type": "code",
   "execution_count": 25,
   "id": "78a1ec25",
   "metadata": {},
   "outputs": [],
   "source": [
    "a.intersection_update(b)"
   ]
  },
  {
   "cell_type": "code",
   "execution_count": 26,
   "id": "07c7b902",
   "metadata": {},
   "outputs": [
    {
     "data": {
      "text/plain": [
       "{3, 4}"
      ]
     },
     "execution_count": 26,
     "metadata": {},
     "output_type": "execute_result"
    }
   ],
   "source": [
    "a"
   ]
  },
  {
   "cell_type": "code",
   "execution_count": 29,
   "id": "2b9cee23",
   "metadata": {},
   "outputs": [],
   "source": [
    "a={1,2,3,4}\n",
    "b={3,4,5,6}\n",
    "a.difference_update(b)"
   ]
  },
  {
   "cell_type": "code",
   "execution_count": 30,
   "id": "8e7195dc",
   "metadata": {},
   "outputs": [
    {
     "data": {
      "text/plain": [
       "{1, 2}"
      ]
     },
     "execution_count": 30,
     "metadata": {},
     "output_type": "execute_result"
    }
   ],
   "source": [
    "a"
   ]
  },
  {
   "cell_type": "code",
   "execution_count": 31,
   "id": "b059337a",
   "metadata": {},
   "outputs": [],
   "source": [
    "a={1,2,3,4}\n",
    "b={3,4,5,6}\n",
    "a.symmetric_difference_update(b)"
   ]
  },
  {
   "cell_type": "code",
   "execution_count": 32,
   "id": "f63de862",
   "metadata": {},
   "outputs": [
    {
     "data": {
      "text/plain": [
       "{1, 2, 5, 6}"
      ]
     },
     "execution_count": 32,
     "metadata": {},
     "output_type": "execute_result"
    }
   ],
   "source": [
    "a"
   ]
  },
  {
   "cell_type": "code",
   "execution_count": 35,
   "id": "5a21ef7a",
   "metadata": {},
   "outputs": [
    {
     "data": {
      "text/plain": [
       "False"
      ]
     },
     "execution_count": 35,
     "metadata": {},
     "output_type": "execute_result"
    }
   ],
   "source": [
    "a={1,2,3,4}\n",
    "b={3,4,5,6}\n",
    "a.issubset(b)\n"
   ]
  },
  {
   "cell_type": "code",
   "execution_count": 36,
   "id": "85d81917",
   "metadata": {},
   "outputs": [],
   "source": [
    "c={1}"
   ]
  },
  {
   "cell_type": "code",
   "execution_count": 38,
   "id": "4110da25",
   "metadata": {},
   "outputs": [
    {
     "data": {
      "text/plain": [
       "True"
      ]
     },
     "execution_count": 38,
     "metadata": {},
     "output_type": "execute_result"
    }
   ],
   "source": [
    "c.issubset(a)"
   ]
  },
  {
   "cell_type": "code",
   "execution_count": 39,
   "id": "d76c148d",
   "metadata": {},
   "outputs": [
    {
     "data": {
      "text/plain": [
       "False"
      ]
     },
     "execution_count": 39,
     "metadata": {},
     "output_type": "execute_result"
    }
   ],
   "source": [
    "a.issubset(c)"
   ]
  },
  {
   "cell_type": "code",
   "execution_count": 40,
   "id": "2750d01d",
   "metadata": {},
   "outputs": [
    {
     "data": {
      "text/plain": [
       "True"
      ]
     },
     "execution_count": 40,
     "metadata": {},
     "output_type": "execute_result"
    }
   ],
   "source": [
    "a.issuperset(c)"
   ]
  },
  {
   "cell_type": "code",
   "execution_count": 41,
   "id": "b766c45c",
   "metadata": {},
   "outputs": [
    {
     "data": {
      "text/plain": [
       "False"
      ]
     },
     "execution_count": 41,
     "metadata": {},
     "output_type": "execute_result"
    }
   ],
   "source": [
    "a.isdisjoint(b)"
   ]
  },
  {
   "cell_type": "code",
   "execution_count": 43,
   "id": "28c34e15",
   "metadata": {},
   "outputs": [
    {
     "data": {
      "text/plain": [
       "True"
      ]
     },
     "execution_count": 43,
     "metadata": {},
     "output_type": "execute_result"
    }
   ],
   "source": [
    "d={7,8}\n",
    "a.isdisjoint(d)"
   ]
  },
  {
   "cell_type": "markdown",
   "id": "6002f1eb",
   "metadata": {},
   "source": [
    "### Predict the output ###"
   ]
  },
  {
   "cell_type": "code",
   "execution_count": 44,
   "id": "1cf8c1ce",
   "metadata": {},
   "outputs": [
    {
     "name": "stdout",
     "output_type": "stream",
     "text": [
      "5 5\n"
     ]
    }
   ],
   "source": [
    "s={1,2,3,5,4,2,3,1}\n",
    "print(len(s),end=\" \")\n",
    "s.add(4)\n",
    "s.add(3)\n",
    "print(len(s))"
   ]
  }
 ],
 "metadata": {
  "kernelspec": {
   "display_name": "Python 3 (ipykernel)",
   "language": "python",
   "name": "python3"
  },
  "language_info": {
   "codemirror_mode": {
    "name": "ipython",
    "version": 3
   },
   "file_extension": ".py",
   "mimetype": "text/x-python",
   "name": "python",
   "nbconvert_exporter": "python",
   "pygments_lexer": "ipython3",
   "version": "3.9.7"
  }
 },
 "nbformat": 4,
 "nbformat_minor": 5
}
