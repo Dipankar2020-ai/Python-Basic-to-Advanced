{
 "cells": [
  {
   "cell_type": "markdown",
   "id": "41275f69",
   "metadata": {},
   "source": [
    "### List Comprehension ###"
   ]
  },
  {
   "cell_type": "code",
   "execution_count": 1,
   "id": "0b1d38f0",
   "metadata": {},
   "outputs": [
    {
     "name": "stdout",
     "output_type": "stream",
     "text": [
      "[1, 4, 9, 16]\n"
     ]
    }
   ],
   "source": [
    "li=[1,2,3,4]\n",
    "li_new=[]\n",
    "for ele in li:\n",
    "    li_new.append(ele**2)\n",
    "print(li_new)"
   ]
  },
  {
   "cell_type": "code",
   "execution_count": 2,
   "id": "f2ddaa9d",
   "metadata": {},
   "outputs": [
    {
     "name": "stdout",
     "output_type": "stream",
     "text": [
      "[1, 4, 9, 16]\n"
     ]
    }
   ],
   "source": [
    "li=[1,2,3,4]\n",
    "li_new=[ele**2 for ele in li]\n",
    "print(li_new)"
   ]
  },
  {
   "cell_type": "markdown",
   "id": "d7d95fe3",
   "metadata": {},
   "source": [
    "### Format-> [Output      for expression      condition] condition is optional ###"
   ]
  },
  {
   "cell_type": "code",
   "execution_count": 3,
   "id": "1e339c85",
   "metadata": {},
   "outputs": [
    {
     "name": "stdout",
     "output_type": "stream",
     "text": [
      "[4, 16]\n"
     ]
    }
   ],
   "source": [
    "li_even_square=[ele**2 for ele in li if ele%2==0]\n",
    "print(li_even_square)"
   ]
  },
  {
   "cell_type": "code",
   "execution_count": 4,
   "id": "7f5ecae4",
   "metadata": {},
   "outputs": [
    {
     "name": "stdout",
     "output_type": "stream",
     "text": [
      "[36]\n"
     ]
    }
   ],
   "source": [
    "li=[1,2,3,4,5,6,7,8,9]\n",
    "li_output=[ele**2 for ele in li if ele%2==0 if ele%3==0]\n",
    "print(li_output)"
   ]
  },
  {
   "cell_type": "code",
   "execution_count": 5,
   "id": "5664f433",
   "metadata": {},
   "outputs": [
    {
     "name": "stdout",
     "output_type": "stream",
     "text": [
      "[2, 4]\n"
     ]
    }
   ],
   "source": [
    "li1=[1,2,3,4,5]\n",
    "li2=[2,4,6,7]\n",
    "li_inter=[ele for ele in li1 for ele1 in li2 if ele==ele1]\n",
    "print(li_inter)\n"
   ]
  },
  {
   "cell_type": "code",
   "execution_count": 6,
   "id": "219b70cc",
   "metadata": {},
   "outputs": [],
   "source": [
    "li=[1,2,3,4,5]\n",
    "li_inter=[ele**2 if ele%2==0 else ele for ele in li]"
   ]
  },
  {
   "cell_type": "code",
   "execution_count": 7,
   "id": "fbf6c997",
   "metadata": {},
   "outputs": [
    {
     "name": "stdout",
     "output_type": "stream",
     "text": [
      "[1, 4, 3, 16, 5]\n"
     ]
    }
   ],
   "source": [
    "print(li_inter)"
   ]
  },
  {
   "cell_type": "markdown",
   "id": "d3cd51ba",
   "metadata": {},
   "source": [
    "### List on List ###"
   ]
  },
  {
   "cell_type": "code",
   "execution_count": 8,
   "id": "b8e0217e",
   "metadata": {},
   "outputs": [],
   "source": [
    "s=\"Parikh\"\n",
    "li=[ele for ele in s]"
   ]
  },
  {
   "cell_type": "code",
   "execution_count": 9,
   "id": "3ca126f0",
   "metadata": {},
   "outputs": [
    {
     "data": {
      "text/plain": [
       "['P', 'a', 'r', 'i', 'k', 'h']"
      ]
     },
     "execution_count": 9,
     "metadata": {},
     "output_type": "execute_result"
    }
   ],
   "source": [
    "li"
   ]
  },
  {
   "cell_type": "code",
   "execution_count": 14,
   "id": "7d2b819c",
   "metadata": {},
   "outputs": [],
   "source": [
    "li=[\"Parikh\",\"Rohan\",\"Ankush\"]"
   ]
  },
  {
   "cell_type": "code",
   "execution_count": 15,
   "id": "4333c38f",
   "metadata": {},
   "outputs": [],
   "source": [
    "li_2d=[[s for s in ele] for ele in li]"
   ]
  },
  {
   "cell_type": "code",
   "execution_count": 16,
   "id": "04321cbb",
   "metadata": {},
   "outputs": [
    {
     "data": {
      "text/plain": [
       "[['P', 'a', 'r', 'i', 'k', 'h'],\n",
       " ['R', 'o', 'h', 'a', 'n'],\n",
       " ['A', 'n', 'k', 'u', 's', 'h']]"
      ]
     },
     "execution_count": 16,
     "metadata": {},
     "output_type": "execute_result"
    }
   ],
   "source": [
    "li_2d"
   ]
  },
  {
   "cell_type": "markdown",
   "id": "14868e92",
   "metadata": {},
   "source": [
    "### Predict the o/p ###"
   ]
  },
  {
   "cell_type": "code",
   "execution_count": 17,
   "id": "679ce869",
   "metadata": {},
   "outputs": [
    {
     "name": "stdout",
     "output_type": "stream",
     "text": [
      "[0, 1, 4, 9, 16]\n"
     ]
    }
   ],
   "source": [
    "li=[ele**2 for ele in range(5)]\n",
    "print(li)"
   ]
  },
  {
   "cell_type": "code",
   "execution_count": 18,
   "id": "9783d7c7",
   "metadata": {},
   "outputs": [
    {
     "name": "stdout",
     "output_type": "stream",
     "text": [
      "[0, 9, 36, 81]\n"
     ]
    }
   ],
   "source": [
    "li=[ele**2 for ele in range(10) if ele%3==0]\n",
    "print(li)"
   ]
  },
  {
   "cell_type": "code",
   "execution_count": 19,
   "id": "512bf9b9",
   "metadata": {},
   "outputs": [
    {
     "name": "stdout",
     "output_type": "stream",
     "text": [
      "[[0, 0, 0, 0], [0, 1, 2, 3], [0, 2, 4, 6]]\n"
     ]
    }
   ],
   "source": [
    "li=[[i*j for j in range(4)] for i in range(3)]\n",
    "print(li)"
   ]
  },
  {
   "cell_type": "markdown",
   "id": "f9dbe8dd",
   "metadata": {},
   "source": [
    "### Input of Two Dimension Lists ###"
   ]
  },
  {
   "cell_type": "markdown",
   "id": "0e7f7fd0",
   "metadata": {},
   "source": [
    "### Jagged 2D List #"
   ]
  },
  {
   "cell_type": "code",
   "execution_count": 29,
   "id": "a00c9d37",
   "metadata": {},
   "outputs": [
    {
     "name": "stdout",
     "output_type": "stream",
     "text": [
      "4\n",
      "2\n",
      "1 2 3 4\n",
      "5 6\n",
      "7 8 9\n"
     ]
    }
   ],
   "source": [
    "n=int(input())\n",
    "li=[ [int(j) for j in input().split()] for i in range(n)]"
   ]
  },
  {
   "cell_type": "code",
   "execution_count": 30,
   "id": "6c7b105e",
   "metadata": {},
   "outputs": [
    {
     "data": {
      "text/plain": [
       "[[2], [1, 2, 3, 4], [5, 6], [7, 8, 9]]"
      ]
     },
     "execution_count": 30,
     "metadata": {},
     "output_type": "execute_result"
    }
   ],
   "source": [
    "li"
   ]
  }
 ],
 "metadata": {
  "kernelspec": {
   "display_name": "Python 3 (ipykernel)",
   "language": "python",
   "name": "python3"
  },
  "language_info": {
   "codemirror_mode": {
    "name": "ipython",
    "version": 3
   },
   "file_extension": ".py",
   "mimetype": "text/x-python",
   "name": "python",
   "nbconvert_exporter": "python",
   "pygments_lexer": "ipython3",
   "version": "3.9.7"
  }
 },
 "nbformat": 4,
 "nbformat_minor": 5
}
