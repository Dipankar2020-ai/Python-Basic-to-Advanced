{
 "cells": [
  {
   "cell_type": "markdown",
   "id": "79295215",
   "metadata": {},
   "source": [
    "### Taking input of 2D Lists ###"
   ]
  },
  {
   "cell_type": "markdown",
   "id": "35a907f6",
   "metadata": {},
   "source": [
    "### If n and m value are in different line ###"
   ]
  },
  {
   "cell_type": "code",
   "execution_count": 2,
   "id": "39a4135e",
   "metadata": {},
   "outputs": [
    {
     "name": "stdout",
     "output_type": "stream",
     "text": [
      "3 4\n",
      "1 2 3 4 5 6 7 8 9 10 11 12\n",
      "[[1, 2, 3, 4], [5, 6, 7, 8], [9, 10, 11, 12]]\n"
     ]
    }
   ],
   "source": [
    "str1=input().split()\n",
    "n,m=int(str1[0]),int(str1[1])\n",
    "b=input().split()\n",
    "arr=[ [int(b[m*i+j]) for j in range(m)] for i in range(n)]\n",
    "print(arr)\n"
   ]
  },
  {
   "cell_type": "markdown",
   "id": "42660606",
   "metadata": {},
   "source": [
    "### If n and m value are in same line ###"
   ]
  },
  {
   "cell_type": "code",
   "execution_count": 4,
   "id": "f2a60881",
   "metadata": {},
   "outputs": [
    {
     "name": "stdout",
     "output_type": "stream",
     "text": [
      "3 4 1 2 3 4 5 6 7 8 9 10 11 12\n",
      "[[1, 2, 3, 4], [5, 6, 7, 8], [9, 10, 11, 12]]\n"
     ]
    }
   ],
   "source": [
    "str1=input().split()\n",
    "n,m=int(str1[0]),int(str1[1])\n",
    "b=str1[2:]\n",
    "arr=[ [int(b[m*i+j]) for j in range(m)] for i in range(n)]\n",
    "print(arr)"
   ]
  },
  {
   "cell_type": "markdown",
   "id": "bb550f01",
   "metadata": {},
   "source": [
    "### Printing Two Dimentional Lists ###"
   ]
  },
  {
   "cell_type": "code",
   "execution_count": null,
   "id": "3fc3df46",
   "metadata": {},
   "outputs": [],
   "source": [
    "str1=input().split()\n",
    "n,m=int(str1[0]),int(str1[1])\n",
    "b=input().split()\n",
    "arr=[ [int(b[m*i+j]) for j in range(m)] for i in range(n)]\n",
    "for i in range(n):\n",
    "    for j in range(m):\n",
    "        print(arr[i][j],end=\" \")\n",
    "    print()"
   ]
  },
  {
   "cell_type": "code",
   "execution_count": null,
   "id": "7d12907c",
   "metadata": {},
   "outputs": [],
   "source": []
  }
 ],
 "metadata": {
  "kernelspec": {
   "display_name": "Python 3 (ipykernel)",
   "language": "python",
   "name": "python3"
  },
  "language_info": {
   "codemirror_mode": {
    "name": "ipython",
    "version": 3
   },
   "file_extension": ".py",
   "mimetype": "text/x-python",
   "name": "python",
   "nbconvert_exporter": "python",
   "pygments_lexer": "ipython3",
   "version": "3.9.7"
  }
 },
 "nbformat": 4,
 "nbformat_minor": 5
}
