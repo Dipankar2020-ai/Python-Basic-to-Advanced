{
 "cells": [
  {
   "cell_type": "markdown",
   "id": "b69ac564",
   "metadata": {},
   "source": [
    "### Row wise sum ###"
   ]
  },
  {
   "cell_type": "code",
   "execution_count": 7,
   "id": "af281456",
   "metadata": {},
   "outputs": [
    {
     "name": "stdout",
     "output_type": "stream",
     "text": [
      "2\n",
      "2 5\n",
      "4 5 3 2 6 7 5 3 8 9\n",
      "20 32 \n",
      "4 4\n",
      "1 2 3 4 9 8 7 6 3 4 5 6 -1 1 -10 5\n",
      "10 30 18 -5 \n"
     ]
    }
   ],
   "source": [
    "t=int(input())\n",
    "while t>0:\n",
    "    str1=input().split()\n",
    "    n,m=int(str1[0]),int(str1[1])\n",
    "    b=input().split()\n",
    "    arr=[ [int(b[m*i+j]) for j in range(m)] for i in range(n)]\n",
    "    for i in range(n):\n",
    "        sum=0\n",
    "        for j in range(m):\n",
    "            sum+=arr[i][j]\n",
    "        print(sum,end=\" \")\n",
    "        #print()\n",
    "    print()\n",
    "    t=t-1"
   ]
  },
  {
   "cell_type": "markdown",
   "id": "f0462fd4",
   "metadata": {},
   "source": [
    "### Largest column sum ###"
   ]
  },
  {
   "cell_type": "code",
   "execution_count": 9,
   "id": "3b7dd99c",
   "metadata": {},
   "outputs": [
    {
     "name": "stdout",
     "output_type": "stream",
     "text": [
      "21 3\n"
     ]
    }
   ],
   "source": [
    "def lar_col_sum(li):\n",
    "    n=len(li)\n",
    "    m=len(li[0])\n",
    "    max_sum=-1\n",
    "    max_col_index=-1\n",
    "    \n",
    "    for j in range(m):\n",
    "        sum=0\n",
    "        for i in range(n):\n",
    "            sum=sum+li[i][j]\n",
    "        if sum>max_sum:\n",
    "            max_col_index=j\n",
    "            max_sum=sum\n",
    "    return max_sum,max_col_index\n",
    "li=[[1,2,3,4],[8,7,6,5],[9,10,11,12]]\n",
    "lar_sum,lar_col_index=lar_col_sum(li)\n",
    "print(lar_sum,lar_col_index)\n",
    "            \n",
    "        \n",
    "        "
   ]
  }
 ],
 "metadata": {
  "kernelspec": {
   "display_name": "Python 3 (ipykernel)",
   "language": "python",
   "name": "python3"
  },
  "language_info": {
   "codemirror_mode": {
    "name": "ipython",
    "version": 3
   },
   "file_extension": ".py",
   "mimetype": "text/x-python",
   "name": "python",
   "nbconvert_exporter": "python",
   "pygments_lexer": "ipython3",
   "version": "3.9.7"
  }
 },
 "nbformat": 4,
 "nbformat_minor": 5
}
