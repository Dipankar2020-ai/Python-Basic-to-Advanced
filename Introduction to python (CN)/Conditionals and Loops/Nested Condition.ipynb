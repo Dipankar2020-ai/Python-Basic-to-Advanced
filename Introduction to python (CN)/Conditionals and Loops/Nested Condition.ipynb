{
 "cells": [
  {
   "cell_type": "markdown",
   "id": "d217008f",
   "metadata": {},
   "source": [
    "### Nested Condition ###"
   ]
  },
  {
   "cell_type": "code",
   "execution_count": 3,
   "id": "e05f4780",
   "metadata": {},
   "outputs": [
    {
     "name": "stdout",
     "output_type": "stream",
     "text": [
      "Enter the number : 0\n",
      "n is even\n",
      "n is zero\n"
     ]
    }
   ],
   "source": [
    "n=int(input(\"Enter the number : \"))\n",
    "if n%2==0:\n",
    "    print(\"n is even\")\n",
    "    if n==0:\n",
    "        print(\"n is zero\")\n",
    "else:\n",
    "    print(\"n is odd\")\n",
    "\n"
   ]
  },
  {
   "cell_type": "code",
   "execution_count": 6,
   "id": "4420a5a7",
   "metadata": {},
   "outputs": [
    {
     "name": "stdout",
     "output_type": "stream",
     "text": [
      "Enter the number : 4\n",
      "Enter the number : 3\n",
      "2\n"
     ]
    }
   ],
   "source": [
    "n=int(input(\"Enter the number : \"))\n",
    "m=int(input(\"Enter the number : \"))\n",
    "if n%2==0:\n",
    "    if m%2==0:\n",
    "        print(1)\n",
    "    else:\n",
    "        print(2)\n",
    "else:\n",
    "    print(3)\n",
    "    "
   ]
  },
  {
   "cell_type": "markdown",
   "id": "373e3d9f",
   "metadata": {},
   "source": [
    "### Assignment ###"
   ]
  },
  {
   "cell_type": "code",
   "execution_count": 7,
   "id": "6af6bf17",
   "metadata": {},
   "outputs": [
    {
     "name": "stdout",
     "output_type": "stream",
     "text": [
      "B\n"
     ]
    }
   ],
   "source": [
    "if(10<0)and (0<-10):\n",
    "    print(\"A\")\n",
    "elif (10>0) or False:\n",
    "    print(\"B\")\n",
    "else:\n",
    "    print(\"C\")\n",
    "    "
   ]
  },
  {
   "cell_type": "code",
   "execution_count": 8,
   "id": "67ec1660",
   "metadata": {},
   "outputs": [
    {
     "name": "stdout",
     "output_type": "stream",
     "text": [
      "B\n"
     ]
    }
   ],
   "source": [
    "if True or True:\n",
    "    if False and True or False:\n",
    "        print(\"A\")\n",
    "    elif False and False or True and True:\n",
    "        print(\"B\")\n",
    "    else:\n",
    "        print(\"C\")\n",
    "else:\n",
    "    print(\"D\")"
   ]
  }
 ],
 "metadata": {
  "kernelspec": {
   "display_name": "Python 3 (ipykernel)",
   "language": "python",
   "name": "python3"
  },
  "language_info": {
   "codemirror_mode": {
    "name": "ipython",
    "version": 3
   },
   "file_extension": ".py",
   "mimetype": "text/x-python",
   "name": "python",
   "nbconvert_exporter": "python",
   "pygments_lexer": "ipython3",
   "version": "3.9.7"
  }
 },
 "nbformat": 4,
 "nbformat_minor": 5
}
