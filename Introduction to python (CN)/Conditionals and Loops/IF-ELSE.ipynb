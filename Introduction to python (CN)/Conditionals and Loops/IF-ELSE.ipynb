{
 "cells": [
  {
   "cell_type": "markdown",
   "id": "0ec92b4d",
   "metadata": {},
   "source": [
    "### IF-ELSE ###"
   ]
  },
  {
   "cell_type": "code",
   "execution_count": 2,
   "id": "e63c8ff5",
   "metadata": {},
   "outputs": [
    {
     "name": "stdout",
     "output_type": "stream",
     "text": [
      "I am inside if\n"
     ]
    }
   ],
   "source": [
    "a=True\n",
    "if a:\n",
    "    print(\"I am inside if\")\n",
    "else:\n",
    "    print(\"I am Outside if\")\n",
    "    "
   ]
  },
  {
   "cell_type": "markdown",
   "id": "07e1a9dc",
   "metadata": {},
   "source": [
    "### Check the number is odd or even ###"
   ]
  },
  {
   "cell_type": "code",
   "execution_count": 5,
   "id": "7a40caa6",
   "metadata": {},
   "outputs": [
    {
     "name": "stdout",
     "output_type": "stream",
     "text": [
      "Enter the number : 5\n",
      "It is odd number\n"
     ]
    }
   ],
   "source": [
    "n=int(input(\"Enter the number : \"))\n",
    "if n%2==0:\n",
    "    print(\"It is a even number\")\n",
    "else:\n",
    "    print(\"It is odd number\")"
   ]
  },
  {
   "cell_type": "markdown",
   "id": "2896cd48",
   "metadata": {},
   "source": [
    "### Assignment ###"
   ]
  },
  {
   "cell_type": "code",
   "execution_count": 7,
   "id": "5f313a55",
   "metadata": {},
   "outputs": [
    {
     "name": "stdout",
     "output_type": "stream",
     "text": [
      "Enter the number : 15\n",
      "medium\n"
     ]
    }
   ],
   "source": [
    "n=int(input(\"Enter the number : \"))\n",
    "if n>=1 and n<=10:\n",
    "    print(\"too low\")\n",
    "elif n>=10 and n<=20:\n",
    "    print(\"medium\")\n",
    "elif n>=20 and n<=30:\n",
    "    print(\"Large\")\n",
    "else:\n",
    "    print(\"too large\")"
   ]
  },
  {
   "cell_type": "code",
   "execution_count": 8,
   "id": "735b6053",
   "metadata": {},
   "outputs": [
    {
     "name": "stdout",
     "output_type": "stream",
     "text": [
      "Enter the number : 10\n",
      "too low\n"
     ]
    }
   ],
   "source": [
    "n=int(input(\"Enter the number : \"))\n",
    "if n>=1 and n<=10:\n",
    "    print(\"too low\")\n",
    "elif n>=10 and n<=20:\n",
    "    print(\"medium\")\n",
    "elif n>=20 and n<=30:\n",
    "    print(\"Large\")\n",
    "else:\n",
    "    print(\"too large\")"
   ]
  },
  {
   "cell_type": "code",
   "execution_count": 10,
   "id": "548186fd",
   "metadata": {},
   "outputs": [
    {
     "name": "stdout",
     "output_type": "stream",
     "text": [
      "Enter the number : 15\n",
      "Inside If\n"
     ]
    }
   ],
   "source": [
    "x=int(input(\"Enter the number : \"))\n",
    "if x<=15:\n",
    "    print(\"Inside If\")\n",
    "else :\n",
    "    print(\"Inside else\")"
   ]
  },
  {
   "cell_type": "markdown",
   "id": "405d0221",
   "metadata": {},
   "source": [
    "### Multiple If ###"
   ]
  },
  {
   "cell_type": "code",
   "execution_count": 11,
   "id": "8f328050",
   "metadata": {},
   "outputs": [
    {
     "name": "stdout",
     "output_type": "stream",
     "text": [
      "Enter the number : 5\n",
      "Hello\n",
      "Hi\n"
     ]
    }
   ],
   "source": [
    "x=int(input(\"Enter the number : \"))\n",
    "if x<6:\n",
    "    print(\"Hello\")\n",
    "if x==5:\n",
    "    print(\"Hi\")\n",
    "else:\n",
    "    print(\"Hey\")"
   ]
  }
 ],
 "metadata": {
  "kernelspec": {
   "display_name": "Python 3 (ipykernel)",
   "language": "python",
   "name": "python3"
  },
  "language_info": {
   "codemirror_mode": {
    "name": "ipython",
    "version": 3
   },
   "file_extension": ".py",
   "mimetype": "text/x-python",
   "name": "python",
   "nbconvert_exporter": "python",
   "pygments_lexer": "ipython3",
   "version": "3.9.7"
  }
 },
 "nbformat": 4,
 "nbformat_minor": 5
}
