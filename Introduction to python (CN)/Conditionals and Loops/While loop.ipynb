{
 "cells": [
  {
   "cell_type": "markdown",
   "id": "b8e79667",
   "metadata": {},
   "source": [
    "### While Loop ###"
   ]
  },
  {
   "cell_type": "code",
   "execution_count": 2,
   "id": "a812d03e",
   "metadata": {},
   "outputs": [
    {
     "name": "stdout",
     "output_type": "stream",
     "text": [
      "5\n",
      "1\n",
      "1\n",
      "1\n",
      "1\n",
      "1\n"
     ]
    }
   ],
   "source": [
    "n=int(input())\n",
    "count=1;\n",
    "while count<=n:\n",
    "    print(1)\n",
    "    count=count+1"
   ]
  },
  {
   "cell_type": "markdown",
   "id": "c6e8f0e2",
   "metadata": {},
   "source": [
    "### First n natural numbers ###"
   ]
  },
  {
   "cell_type": "code",
   "execution_count": 3,
   "id": "933a2641",
   "metadata": {},
   "outputs": [
    {
     "name": "stdout",
     "output_type": "stream",
     "text": [
      "Enter the number : 10\n",
      "First n natural numbers are :-> \n",
      "1\n",
      "2\n",
      "3\n",
      "4\n",
      "5\n",
      "6\n",
      "7\n",
      "8\n",
      "9\n",
      "10\n"
     ]
    }
   ],
   "source": [
    "n=int(input(\"Enter the number : \"))\n",
    "count=1\n",
    "print(\"First n natural numbers are :-> \")\n",
    "while count<=n:\n",
    "    print(count)\n",
    "    count=count+1"
   ]
  },
  {
   "cell_type": "markdown",
   "id": "9c209802",
   "metadata": {},
   "source": [
    "### Primality checking ###"
   ]
  },
  {
   "cell_type": "code",
   "execution_count": 7,
   "id": "66a63239",
   "metadata": {},
   "outputs": [
    {
     "name": "stdout",
     "output_type": "stream",
     "text": [
      "Enter the number : 19\n",
      "The number is not prime\n"
     ]
    }
   ],
   "source": [
    "n=int(input(\"Enter the number : \"))\n",
    "i=2\n",
    "flag=False\n",
    "while i>=2 and i<n:\n",
    "    if n%i==0:\n",
    "        flag=True\n",
    "    i=i+1\n",
    "if flag==True:\n",
    "    print(\"The number is prime\")\n",
    "else:\n",
    "    print(\"The number is not prime\")\n",
    "        \n",
    "    "
   ]
  },
  {
   "cell_type": "markdown",
   "id": "495b5293",
   "metadata": {},
   "source": [
    "### Assignment ###"
   ]
  },
  {
   "cell_type": "code",
   "execution_count": 8,
   "id": "f0ac5584",
   "metadata": {},
   "outputs": [
    {
     "ename": "IndentationError",
     "evalue": "expected an indented block (Temp/ipykernel_7400/67059404.py, line 3)",
     "output_type": "error",
     "traceback": [
      "\u001b[1;36m  File \u001b[1;32m\"C:\\Users\\DIPANKAR\\AppData\\Local\\Temp/ipykernel_7400/67059404.py\"\u001b[1;36m, line \u001b[1;32m3\u001b[0m\n\u001b[1;33m    print(i)\u001b[0m\n\u001b[1;37m    ^\u001b[0m\n\u001b[1;31mIndentationError\u001b[0m\u001b[1;31m:\u001b[0m expected an indented block\n"
     ]
    }
   ],
   "source": [
    "i=0\n",
    "while i<10:\n",
    "print(i)\n",
    "i=i+1\n",
    "    "
   ]
  },
  {
   "cell_type": "code",
   "execution_count": 9,
   "id": "71f54a98",
   "metadata": {},
   "outputs": [
    {
     "name": "stdout",
     "output_type": "stream",
     "text": [
      "0\n",
      "1\n",
      "2\n",
      "3\n",
      "4\n",
      "5\n",
      "6\n",
      "7\n",
      "8\n",
      "9\n"
     ]
    }
   ],
   "source": [
    "i=0\n",
    "while i<10:\n",
    "    print(i)\n",
    "    i=i+1"
   ]
  },
  {
   "cell_type": "markdown",
   "id": "e86369c8",
   "metadata": {},
   "source": [
    "### Nested Loops ###"
   ]
  },
  {
   "cell_type": "code",
   "execution_count": 12,
   "id": "40c3be18",
   "metadata": {},
   "outputs": [
    {
     "name": "stdout",
     "output_type": "stream",
     "text": [
      "Enter the range : 10\n",
      "The Prime numbers within the range : \n",
      "2\n",
      "3\n",
      "5\n",
      "7\n"
     ]
    }
   ],
   "source": [
    "n=int(input(\"Enter the range : \"))\n",
    "i=2\n",
    "print(\"The Prime numbers within the range : \")\n",
    "while i<=n:\n",
    "    j=2\n",
    "    flag=False\n",
    "    while j>=2 and j<i:\n",
    "        if i%j==0:\n",
    "            flag=True\n",
    "        j=j+1\n",
    "    if flag==False:\n",
    "        print(i)\n",
    "    i=i+1"
   ]
  }
 ],
 "metadata": {
  "kernelspec": {
   "display_name": "Python 3 (ipykernel)",
   "language": "python",
   "name": "python3"
  },
  "language_info": {
   "codemirror_mode": {
    "name": "ipython",
    "version": 3
   },
   "file_extension": ".py",
   "mimetype": "text/x-python",
   "name": "python",
   "nbconvert_exporter": "python",
   "pygments_lexer": "ipython3",
   "version": "3.9.7"
  }
 },
 "nbformat": 4,
 "nbformat_minor": 5
}
