{
 "cells": [
  {
   "cell_type": "markdown",
   "id": "3a179057",
   "metadata": {},
   "source": [
    "### Assignments ###"
   ]
  },
  {
   "cell_type": "code",
   "execution_count": 3,
   "id": "7c6aa192",
   "metadata": {},
   "outputs": [
    {
     "name": "stdout",
     "output_type": "stream",
     "text": [
      "Enter the number : 4\n",
      "1             1 \n",
      "1 2         2 1 \n",
      "1 2 3     3 2 1 \n",
      "1 2 3 4 4 3 2 1 \n"
     ]
    }
   ],
   "source": [
    "n=int(input(\"Enter the number : \"))\n",
    "i=1\n",
    "while i<=n:\n",
    "    j=1\n",
    "    p=i\n",
    "    while j<=i:\n",
    "        print(j,end=\" \")\n",
    "        j=j+1\n",
    "    k=2*i\n",
    "    while k<2*n:\n",
    "        print(\" \",end=\" \")\n",
    "        k=k+1\n",
    "    while p>=1:\n",
    "        print(p,end=\" \")\n",
    "        p=p-1\n",
    "    \n",
    "    print()\n",
    "    i=i+1"
   ]
  },
  {
   "cell_type": "code",
   "execution_count": 11,
   "id": "59ee03eb",
   "metadata": {},
   "outputs": [
    {
     "name": "stdout",
     "output_type": "stream",
     "text": [
      "Enter the number : 4\n",
      "      1 \n",
      "    1 2 1 \n",
      "  1 2 3 2 1 \n",
      "1 2 3 4 3 2 1 \n",
      "  1 2 3 2 1 \n",
      "    1 2 1 \n",
      "      1 \n"
     ]
    }
   ],
   "source": [
    "n=int(input(\"Enter the number : \"))\n",
    "i=1\n",
    "while i<=n:\n",
    "    p=n-i\n",
    "    j=1\n",
    "    k=i\n",
    "    while p>=1:\n",
    "        print(\" \",end=\" \")\n",
    "        p=p-1\n",
    "    while j<=i:\n",
    "        print(j,end=\" \")\n",
    "        j=j+1\n",
    "    while k>1:\n",
    "        print(k-1,end=\" \")\n",
    "        k=k-1\n",
    "    \n",
    "    print()\n",
    "    i=i+1\n",
    "i=1\n",
    "while i<=n-1:\n",
    "    j=i\n",
    "    p=1\n",
    "    k=n-i\n",
    "    while j>=1:\n",
    "        print(\" \",end=\" \")\n",
    "        j=j-1\n",
    "    while p<=n-i:\n",
    "        print(p,end=\" \")\n",
    "        p=p+1\n",
    "    while k>1:\n",
    "        print(k-1,end=\" \")\n",
    "        k=k-1\n",
    "        \n",
    "    print()\n",
    "    i=i+1\n",
    "    \n",
    "    "
   ]
  },
  {
   "cell_type": "code",
   "execution_count": 30,
   "id": "04dd81ab",
   "metadata": {},
   "outputs": [
    {
     "name": "stdout",
     "output_type": "stream",
     "text": [
      "Enter the value of n: 4\n",
      "*     *\n",
      " *   * \n",
      "  * *  \n",
      "   *   \n",
      "  * *  \n",
      " *   * \n",
      "*     *\n"
     ]
    }
   ],
   "source": [
    "n = int(input('Enter the value of n: '))\n",
    "\n",
    "for i in range(1,2*n):\n",
    "    for j in range(1,2*n):\n",
    "        if i==j or i+j==2*n:\n",
    "            print('*', end='')\n",
    "        else:\n",
    "            print(' ', end='')\n",
    "    print()\n",
    "        \n",
    "\n",
    "\n",
    "        "
   ]
  }
 ],
 "metadata": {
  "kernelspec": {
   "display_name": "Python 3 (ipykernel)",
   "language": "python",
   "name": "python3"
  },
  "language_info": {
   "codemirror_mode": {
    "name": "ipython",
    "version": 3
   },
   "file_extension": ".py",
   "mimetype": "text/x-python",
   "name": "python",
   "nbconvert_exporter": "python",
   "pygments_lexer": "ipython3",
   "version": "3.9.7"
  }
 },
 "nbformat": 4,
 "nbformat_minor": 5
}
