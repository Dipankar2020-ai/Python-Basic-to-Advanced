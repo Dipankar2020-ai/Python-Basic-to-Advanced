{
 "cells": [
  {
   "cell_type": "markdown",
   "id": "45f71ac8",
   "metadata": {},
   "source": [
    "#### Assignment ###"
   ]
  },
  {
   "cell_type": "code",
   "execution_count": 8,
   "id": "d085a468",
   "metadata": {},
   "outputs": [
    {
     "name": "stdout",
     "output_type": "stream",
     "text": [
      "Enter the number : 7\n",
      "*  \n",
      "  *  *  \n",
      "    *  *  *  \n",
      "      *  *  *  *  \n",
      "    *  *  *  \n",
      "  *  *  \n",
      "*  \n"
     ]
    }
   ],
   "source": [
    "n=int(input(\"Enter the number : \"))\n",
    "n1=(n+1)//2\n",
    "n2=n//2 \n",
    "for i in range(1,n1+1):\n",
    "    for j in range(1,i):\n",
    "        print(\" \",end=\" \")\n",
    "    for j in range(1,i+1):\n",
    "        print(\"* \",end=\" \")\n",
    "    print()\n",
    "for i in range(1,n2+1):\n",
    "    for j in range(1,n2-i+1):\n",
    "        print(\" \",end=\" \")\n",
    "    for j in range(1,n2-i+2):\n",
    "        print(\"* \",end=\" \")\n",
    "    print()"
   ]
  }
 ],
 "metadata": {
  "kernelspec": {
   "display_name": "Python 3 (ipykernel)",
   "language": "python",
   "name": "python3"
  },
  "language_info": {
   "codemirror_mode": {
    "name": "ipython",
    "version": 3
   },
   "file_extension": ".py",
   "mimetype": "text/x-python",
   "name": "python",
   "nbconvert_exporter": "python",
   "pygments_lexer": "ipython3",
   "version": "3.9.7"
  }
 },
 "nbformat": 4,
 "nbformat_minor": 5
}
