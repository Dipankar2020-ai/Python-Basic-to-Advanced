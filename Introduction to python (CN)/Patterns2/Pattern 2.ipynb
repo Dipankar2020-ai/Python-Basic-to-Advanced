{
 "cells": [
  {
   "cell_type": "markdown",
   "id": "ff1460dc",
   "metadata": {},
   "source": [
    "### Inverted Traingle ###"
   ]
  },
  {
   "cell_type": "code",
   "execution_count": 1,
   "id": "b4fd9bd0",
   "metadata": {},
   "outputs": [
    {
     "name": "stdout",
     "output_type": "stream",
     "text": [
      "Enter the number : 4\n",
      "* * * * \n",
      "* * * \n",
      "* * \n",
      "* \n"
     ]
    }
   ],
   "source": [
    "n=int(input(\"Enter the number : \"))\n",
    "i=1\n",
    "while i<=n:\n",
    "    j=i\n",
    "    while j<=n:\n",
    "        print(\"*\",end=\" \")\n",
    "        j=j+1\n",
    "    print()\n",
    "    i=i+1"
   ]
  },
  {
   "cell_type": "markdown",
   "id": "90800533",
   "metadata": {},
   "source": [
    "### Inverted Number pattern ###"
   ]
  },
  {
   "cell_type": "code",
   "execution_count": 2,
   "id": "cd74f2d9",
   "metadata": {},
   "outputs": [
    {
     "name": "stdout",
     "output_type": "stream",
     "text": [
      "Enter the number : 4\n",
      "1 1 1 1 \n",
      "2 2 2 \n",
      "3 3 \n",
      "4 \n"
     ]
    }
   ],
   "source": [
    "n=int(input(\"Enter the number : \"))\n",
    "i=1\n",
    "while i<=n:\n",
    "    j=i\n",
    "    while j<=n:\n",
    "        print(i,end=\" \")\n",
    "        j=j+1\n",
    "    print()\n",
    "    i=i+1"
   ]
  },
  {
   "cell_type": "markdown",
   "id": "1745c5c7",
   "metadata": {},
   "source": [
    "### Reversed Pattern ###"
   ]
  },
  {
   "cell_type": "code",
   "execution_count": 6,
   "id": "10d0ddba",
   "metadata": {},
   "outputs": [
    {
     "name": "stdout",
     "output_type": "stream",
     "text": [
      "Enter the number : 4\n",
      "      * \n",
      "    * * \n",
      "  * * * \n",
      "* * * * \n"
     ]
    }
   ],
   "source": [
    "n=int(input(\"Enter the number : \"))\n",
    "i=1\n",
    "while i<=n:\n",
    "    j=i+1\n",
    "    k=1\n",
    "    while j<=n:\n",
    "        print(\" \",end=\" \")\n",
    "        j=j+1\n",
    "    while k<=i:\n",
    "        print(\"*\",end=\" \")\n",
    "        k=k+1\n",
    "    print()\n",
    "    i=i+1\n",
    "        "
   ]
  },
  {
   "cell_type": "markdown",
   "id": "2e733c57",
   "metadata": {},
   "source": [
    "### Mirror Number Pattern ###"
   ]
  },
  {
   "cell_type": "code",
   "execution_count": 7,
   "id": "c0361e66",
   "metadata": {},
   "outputs": [
    {
     "name": "stdout",
     "output_type": "stream",
     "text": [
      "Enter the number : 4\n",
      "      1 \n",
      "    1 2 \n",
      "  1 2 3 \n",
      "1 2 3 4 \n"
     ]
    }
   ],
   "source": [
    "n=int(input(\"Enter the number : \"))\n",
    "i=1\n",
    "while i<=n:\n",
    "    j=i+1\n",
    "    k=1\n",
    "    while j<=n:\n",
    "        print(\" \",end=\" \")\n",
    "        j=j+1\n",
    "    while k<=i:\n",
    "        print(k,end=\" \")\n",
    "        k=k+1\n",
    "    print()\n",
    "    i=i+1"
   ]
  },
  {
   "cell_type": "markdown",
   "id": "4988af99",
   "metadata": {},
   "source": [
    "### Isoceles Pattern ###"
   ]
  },
  {
   "cell_type": "code",
   "execution_count": 8,
   "id": "359799fe",
   "metadata": {},
   "outputs": [
    {
     "name": "stdout",
     "output_type": "stream",
     "text": [
      "Enter the number : 4\n",
      "      1 \n",
      "    1 2 1 \n",
      "  1 2 3 2 1 \n",
      "1 2 3 4 3 2 1 \n"
     ]
    }
   ],
   "source": [
    "n=int(input(\"Enter the number : \"))\n",
    "i=1\n",
    "while i<=n:\n",
    "    j=i+1\n",
    "    k=1\n",
    "    m=i\n",
    "    while j<=n:\n",
    "        print(\" \",end=\" \")\n",
    "        j=j+1\n",
    "    while k<=i:\n",
    "        print(k,end=\" \")\n",
    "        k=k+1\n",
    "    while m>1:\n",
    "        print(m-1,end=\" \")\n",
    "        m=m-1\n",
    "    print()\n",
    "    i=i+1"
   ]
  },
  {
   "cell_type": "markdown",
   "id": "3c1346b3",
   "metadata": {},
   "source": [
    "### Traingle of Numbers ###"
   ]
  },
  {
   "cell_type": "code",
   "execution_count": 11,
   "id": "45b56c7d",
   "metadata": {},
   "outputs": [
    {
     "name": "stdout",
     "output_type": "stream",
     "text": [
      "Enter the number : 4\n",
      "      1 \n",
      "    2 3 2 \n",
      "  3 4 5 4 3 \n",
      "4 5 6 7 6 5 4 \n"
     ]
    }
   ],
   "source": [
    "n=int(input(\"Enter the number : \"))\n",
    "i=1\n",
    "while i<=n:\n",
    "    j=i+1\n",
    "    k=i\n",
    "    m=i\n",
    "    while j<=n:\n",
    "        print(\" \",end=\" \")\n",
    "        j=j+1\n",
    "    while k<2*i:\n",
    "        print(k,end=\" \")\n",
    "        k=k+1\n",
    "    while m>1:\n",
    "        print(m-2+i,end=\" \")\n",
    "        m=m-1\n",
    "    print()\n",
    "    i=i+1"
   ]
  },
  {
   "cell_type": "markdown",
   "id": "a93e6910",
   "metadata": {},
   "source": [
    "### Diamond of Stars ###"
   ]
  },
  {
   "cell_type": "code",
   "execution_count": 39,
   "id": "3ac81e56",
   "metadata": {},
   "outputs": [
    {
     "name": "stdout",
     "output_type": "stream",
     "text": [
      "Enter the number : 4\n",
      "      * \n",
      "    * * * \n",
      "  * * * * * \n",
      "* * * * * * * \n",
      "  * * * * * \n",
      "    * * * \n",
      "      * \n"
     ]
    }
   ],
   "source": [
    "n=int(input(\"Enter the number : \"))\n",
    "i=1\n",
    "\n",
    "while i<=n:\n",
    "    k=i\n",
    "    j=1\n",
    "    \n",
    "    while k<n:\n",
    "        print(\" \",end=\" \")\n",
    "        k=k+1\n",
    "    \n",
    "    \n",
    "    while j<=2*i-1:\n",
    "        print(\"*\",end=\" \")\n",
    "        j=j+1\n",
    "   \n",
    "    print()\n",
    "    i=i+1\n",
    "i=n-1\n",
    "\n",
    "while i>=1:\n",
    "    p=2*i-1\n",
    "    j=i\n",
    "    while j<=n-1:\n",
    "        print(\" \",end=\" \")\n",
    "        j=j+1\n",
    "    while p>=1:\n",
    "        \n",
    "        print(\"*\",end=\" \")\n",
    "        p=p-1\n",
    "    print()\n",
    "    i=i-1\n",
    "    "
   ]
  },
  {
   "cell_type": "markdown",
   "id": "79653933",
   "metadata": {},
   "source": [
    "### Assignments ###"
   ]
  },
  {
   "cell_type": "code",
   "execution_count": 40,
   "id": "15f2e678",
   "metadata": {},
   "outputs": [
    {
     "name": "stdout",
     "output_type": "stream",
     "text": [
      "Enter the number : 4\n",
      "      1 \n",
      "    1 2 3 \n",
      "  1 2 3 4 5 \n",
      "1 2 3 4 5 6 7 \n",
      "  5 4 3 2 1 \n",
      "    3 2 1 \n",
      "      1 \n"
     ]
    }
   ],
   "source": [
    "n=int(input(\"Enter the number : \"))\n",
    "i=1\n",
    "\n",
    "while i<=n:\n",
    "    k=i\n",
    "    j=1\n",
    "    \n",
    "    while k<n:\n",
    "        print(\" \",end=\" \")\n",
    "        k=k+1\n",
    "    \n",
    "    \n",
    "    while j<=2*i-1:\n",
    "        print(j,end=\" \")\n",
    "        j=j+1\n",
    "   \n",
    "    print()\n",
    "    i=i+1\n",
    "i=n-1\n",
    "\n",
    "while i>=1:\n",
    "    p=2*i-1\n",
    "    j=i\n",
    "    while j<=n-1:\n",
    "        print(\" \",end=\" \")\n",
    "        j=j+1\n",
    "    while p>=1:\n",
    "        \n",
    "        print(p,end=\" \")\n",
    "        p=p-1\n",
    "    print()\n",
    "    i=i-1\n",
    "    "
   ]
  }
 ],
 "metadata": {
  "kernelspec": {
   "display_name": "Python 3 (ipykernel)",
   "language": "python",
   "name": "python3"
  },
  "language_info": {
   "codemirror_mode": {
    "name": "ipython",
    "version": 3
   },
   "file_extension": ".py",
   "mimetype": "text/x-python",
   "name": "python",
   "nbconvert_exporter": "python",
   "pygments_lexer": "ipython3",
   "version": "3.9.7"
  }
 },
 "nbformat": 4,
 "nbformat_minor": 5
}
