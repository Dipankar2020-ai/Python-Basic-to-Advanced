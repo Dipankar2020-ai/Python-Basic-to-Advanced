{
 "cells": [
  {
   "cell_type": "markdown",
   "id": "19fe95b1",
   "metadata": {},
   "source": [
    "# Selenium Installation and path set up"
   ]
  },
  {
   "cell_type": "code",
   "execution_count": 10,
   "id": "a6ee59cf",
   "metadata": {},
   "outputs": [
    {
     "name": "stderr",
     "output_type": "stream",
     "text": [
      "C:\\Users\\DIPANKAR\\AppData\\Local\\Temp/ipykernel_13264/2292861172.py:3: DeprecationWarning: executable_path has been deprecated, please pass in a Service object\n",
      "  driver=webdriver.Chrome(executable_path=\"C:\\\\Users\\\\DIPANKAR\\\\Downloads\\\\Compressed\\\\chromedriver.exe\")\n"
     ]
    },
    {
     "data": {
      "text/plain": [
       "<selenium.webdriver.chrome.webdriver.WebDriver (session=\"d07b1d9c7a7bab5c2225585141b2bed0\")>"
      ]
     },
     "execution_count": 10,
     "metadata": {},
     "output_type": "execute_result"
    }
   ],
   "source": [
    "from selenium import webdriver\n",
    "  \n",
    "driver=webdriver.Chrome(executable_path=\"C:\\\\Users\\\\DIPANKAR\\\\Downloads\\\\Compressed\\\\chromedriver.exe\")\n",
    "driver    "
   ]
  }
 ],
 "metadata": {
  "kernelspec": {
   "display_name": "Python 3 (ipykernel)",
   "language": "python",
   "name": "python3"
  },
  "language_info": {
   "codemirror_mode": {
    "name": "ipython",
    "version": 3
   },
   "file_extension": ".py",
   "mimetype": "text/x-python",
   "name": "python",
   "nbconvert_exporter": "python",
   "pygments_lexer": "ipython3",
   "version": "3.9.7"
  }
 },
 "nbformat": 4,
 "nbformat_minor": 5
}
