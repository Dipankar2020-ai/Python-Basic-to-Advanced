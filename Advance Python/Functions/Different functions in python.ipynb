{
 "cells": [
  {
   "cell_type": "markdown",
   "id": "3b23ca00",
   "metadata": {},
   "source": [
    "### filter() Function"
   ]
  },
  {
   "cell_type": "markdown",
   "id": "fce1f0f3",
   "metadata": {},
   "source": [
    "We can use filter function to filter values from the given sequence based some condition"
   ]
  },
  {
   "cell_type": "markdown",
   "id": "99804cdb",
   "metadata": {},
   "source": [
    "Syntax- filter(function,sequence)"
   ]
  },
  {
   "cell_type": "markdown",
   "id": "d353e1bd",
   "metadata": {},
   "source": [
    "## Program to filter only even numbers from the list by using filter function"
   ]
  },
  {
   "cell_type": "markdown",
   "id": "cff3b31a",
   "metadata": {},
   "source": [
    "Without Lambda->"
   ]
  },
  {
   "cell_type": "code",
   "execution_count": 4,
   "id": "5ece9fb5",
   "metadata": {},
   "outputs": [
    {
     "name": "stdout",
     "output_type": "stream",
     "text": [
      "1 2 3 4 5 6\n",
      "[2, 4, 6]\n"
     ]
    }
   ],
   "source": [
    "def isEven(x):\n",
    "    if x%2==0:\n",
    "        return True\n",
    "    else:\n",
    "        return False\n",
    "\n",
    "li=[int(x) for x in input().split()]\n",
    "ans=list(filter(isEven,li))\n",
    "print(ans)\n",
    "    \n",
    "    "
   ]
  },
  {
   "cell_type": "markdown",
   "id": "82b8d450",
   "metadata": {},
   "source": [
    "With Lambda->"
   ]
  },
  {
   "cell_type": "code",
   "execution_count": 6,
   "id": "79640b05",
   "metadata": {},
   "outputs": [
    {
     "name": "stdout",
     "output_type": "stream",
     "text": [
      "1 2 3 4 5 6\n",
      "Even list :\n",
      "[2, 4, 6]\n",
      "Odd list: \n",
      "[1, 3, 5]\n"
     ]
    }
   ],
   "source": [
    "li=[int(x) for x in input().split()]\n",
    "print(\"Even list :\")\n",
    "ans=list(filter(lambda x:x%2==0,li))\n",
    "print(ans)\n",
    "print(\"Odd list: \")\n",
    "ans1=list(filter(lambda x:x%2==1,li))\n",
    "print(ans1)\n",
    "    "
   ]
  },
  {
   "cell_type": "markdown",
   "id": "be0c382f",
   "metadata": {},
   "source": [
    "### Map Function"
   ]
  },
  {
   "cell_type": "markdown",
   "id": "3b3ef435",
   "metadata": {},
   "source": [
    "For every element present in the given sequence , apply some functionality and generate new element with the required modification"
   ]
  },
  {
   "cell_type": "markdown",
   "id": "e908173f",
   "metadata": {},
   "source": [
    "Syntax-> map(function,sequence)"
   ]
  },
  {
   "cell_type": "markdown",
   "id": "43a206dc",
   "metadata": {},
   "source": [
    "### Example :->"
   ]
  },
  {
   "cell_type": "markdown",
   "id": "ef456d35",
   "metadata": {},
   "source": [
    "Without lambda function->"
   ]
  },
  {
   "cell_type": "code",
   "execution_count": 7,
   "id": "eb352994",
   "metadata": {},
   "outputs": [
    {
     "name": "stdout",
     "output_type": "stream",
     "text": [
      "1 2 3 4 5 6 \n",
      "[2, 4, 6, 8, 10, 12]\n"
     ]
    }
   ],
   "source": [
    "def doubleIt(x):\n",
    "    return 2*x\n",
    "li=[int(x) for x in input().split()]\n",
    "ans=list(map(doubleIt,li))\n",
    "print(ans)"
   ]
  },
  {
   "cell_type": "markdown",
   "id": "55377b5f",
   "metadata": {},
   "source": [
    "With Lambda function->"
   ]
  },
  {
   "cell_type": "code",
   "execution_count": 9,
   "id": "2956cdee",
   "metadata": {},
   "outputs": [
    {
     "name": "stdout",
     "output_type": "stream",
     "text": [
      "1 2 3 4 5 6\n",
      "[2, 4, 6, 8, 10, 12]\n"
     ]
    }
   ],
   "source": [
    "li=[int(x) for x in input().split()]\n",
    "ans=list(map(lambda x:2*x,li))\n",
    "print(ans)"
   ]
  },
  {
   "cell_type": "markdown",
   "id": "86f0a410",
   "metadata": {},
   "source": [
    "### To find square of given number"
   ]
  },
  {
   "cell_type": "code",
   "execution_count": 11,
   "id": "f4c5f221",
   "metadata": {},
   "outputs": [
    {
     "name": "stdout",
     "output_type": "stream",
     "text": [
      "[1, 4, 9, 16, 25]\n"
     ]
    }
   ],
   "source": [
    "l1=[1,2,3,4,5]\n",
    "l1=list(map(lambda x:x*x,l1 ))\n",
    "print(l1)"
   ]
  },
  {
   "cell_type": "markdown",
   "id": "a6234a0c",
   "metadata": {},
   "source": [
    "### We can use map() function on multiple list also"
   ]
  },
  {
   "cell_type": "code",
   "execution_count": 13,
   "id": "2f21f33a",
   "metadata": {},
   "outputs": [
    {
     "name": "stdout",
     "output_type": "stream",
     "text": [
      "[2, 6, 12, 20]\n"
     ]
    }
   ],
   "source": [
    "l1=[1,2,3,4]\n",
    "l2=[2,3,4,5]\n",
    "ans=list(map(lambda x,y:x*y,l1,l2))\n",
    "print(ans)"
   ]
  },
  {
   "cell_type": "markdown",
   "id": "314f540a",
   "metadata": {},
   "source": [
    "### Reduce() Function"
   ]
  },
  {
   "cell_type": "markdown",
   "id": "c659ae77",
   "metadata": {},
   "source": [
    "reduces the sequences of elements into a single element by applied the specified function"
   ]
  },
  {
   "cell_type": "code",
   "execution_count": 14,
   "id": "63104bcf",
   "metadata": {},
   "outputs": [],
   "source": [
    "from functools import*\n",
    "l=[10,20,30,40,50]\n",
    "result=reduce(lambda x,y:x+y,l)"
   ]
  },
  {
   "cell_type": "code",
   "execution_count": 15,
   "id": "bbf9128d",
   "metadata": {},
   "outputs": [
    {
     "name": "stdout",
     "output_type": "stream",
     "text": [
      "150\n"
     ]
    }
   ],
   "source": [
    "print(result)"
   ]
  },
  {
   "cell_type": "code",
   "execution_count": 16,
   "id": "2de6bf56",
   "metadata": {},
   "outputs": [
    {
     "name": "stdout",
     "output_type": "stream",
     "text": [
      "5050\n"
     ]
    }
   ],
   "source": [
    "from functools import*\n",
    "result=reduce(lambda x,y:x+y,range(1,101))\n",
    "print(result)"
   ]
  },
  {
   "cell_type": "markdown",
   "id": "fa64300d",
   "metadata": {},
   "source": [
    "In python everything treated as object.Every function internally treated as object only"
   ]
  },
  {
   "cell_type": "code",
   "execution_count": 17,
   "id": "ee4cbd8c",
   "metadata": {},
   "outputs": [
    {
     "name": "stdout",
     "output_type": "stream",
     "text": [
      "<function f1 at 0x00000252B6C825E0>\n",
      "2554277144032\n"
     ]
    }
   ],
   "source": [
    "def f1():\n",
    "    print(\"Hello\")\n",
    "print(f1)\n",
    "print(id(f1))"
   ]
  },
  {
   "cell_type": "markdown",
   "id": "b6ab669b",
   "metadata": {},
   "source": [
    "### Function Aliasing"
   ]
  },
  {
   "cell_type": "markdown",
   "id": "d1239f27",
   "metadata": {},
   "source": [
    "for the existing function we can give another name  which is nothing but Function Aliasing"
   ]
  },
  {
   "cell_type": "code",
   "execution_count": 20,
   "id": "f01ae45f",
   "metadata": {},
   "outputs": [
    {
     "name": "stdout",
     "output_type": "stream",
     "text": [
      "2554277144608\n",
      "2554277144608\n",
      "Good Morning:  Durga\n",
      "Good Morning:  Durga\n"
     ]
    }
   ],
   "source": [
    "def wish(name):\n",
    "    print(\"Good Morning: \",name)\n",
    "greeting=wish\n",
    "print(id(wish))\n",
    "print(id(greeting))\n",
    "greeting('Durga')\n",
    "wish('Durga')"
   ]
  },
  {
   "cell_type": "code",
   "execution_count": 22,
   "id": "ae67bed4",
   "metadata": {},
   "outputs": [
    {
     "name": "stdout",
     "output_type": "stream",
     "text": [
      "2554277143024\n",
      "2554277143024\n",
      "Good Morning:  Durga\n"
     ]
    },
    {
     "ename": "NameError",
     "evalue": "name 'wish' is not defined",
     "output_type": "error",
     "traceback": [
      "\u001b[1;31m---------------------------------------------------------------------------\u001b[0m",
      "\u001b[1;31mNameError\u001b[0m                                 Traceback (most recent call last)",
      "\u001b[1;32m~\\AppData\\Local\\Temp/ipykernel_16064/3444621636.py\u001b[0m in \u001b[0;36m<module>\u001b[1;34m\u001b[0m\n\u001b[0;32m      6\u001b[0m \u001b[1;32mdel\u001b[0m \u001b[0mwish\u001b[0m\u001b[1;33m\u001b[0m\u001b[1;33m\u001b[0m\u001b[0m\n\u001b[0;32m      7\u001b[0m \u001b[0mgreeting\u001b[0m\u001b[1;33m(\u001b[0m\u001b[1;34m'Durga'\u001b[0m\u001b[1;33m)\u001b[0m\u001b[1;33m\u001b[0m\u001b[1;33m\u001b[0m\u001b[0m\n\u001b[1;32m----> 8\u001b[1;33m \u001b[0mwish\u001b[0m\u001b[1;33m(\u001b[0m\u001b[1;34m'Durga'\u001b[0m\u001b[1;33m)\u001b[0m \u001b[1;31m# this lines give error because wish is delected\u001b[0m\u001b[1;33m\u001b[0m\u001b[1;33m\u001b[0m\u001b[0m\n\u001b[0m",
      "\u001b[1;31mNameError\u001b[0m: name 'wish' is not defined"
     ]
    }
   ],
   "source": [
    "def wish(name):\n",
    "    print(\"Good Morning: \",name)\n",
    "greeting=wish\n",
    "print(id(wish))\n",
    "print(id(greeting))\n",
    "del wish\n",
    "greeting('Durga')\n",
    "wish('Durga') # this lines give error because wish is delected"
   ]
  }
 ],
 "metadata": {
  "kernelspec": {
   "display_name": "Python 3 (ipykernel)",
   "language": "python",
   "name": "python3"
  },
  "language_info": {
   "codemirror_mode": {
    "name": "ipython",
    "version": 3
   },
   "file_extension": ".py",
   "mimetype": "text/x-python",
   "name": "python",
   "nbconvert_exporter": "python",
   "pygments_lexer": "ipython3",
   "version": "3.9.7"
  }
 },
 "nbformat": 4,
 "nbformat_minor": 5
}
