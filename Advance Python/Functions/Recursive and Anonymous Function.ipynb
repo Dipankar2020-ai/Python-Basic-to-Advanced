{
 "cells": [
  {
   "cell_type": "markdown",
   "id": "79a01009",
   "metadata": {},
   "source": [
    " ### Recursive Function -A function which calls itself is called Recursive Function.\n",
    " Factorial(3)=3*Factorial(2)\n",
    " \n",
    "            =3*2*Factorial(1)\n",
    "            \n",
    "            =3*2*1"
   ]
  },
  {
   "cell_type": "markdown",
   "id": "fe78107c",
   "metadata": {},
   "source": [
    "### Factorial using recursion "
   ]
  },
  {
   "cell_type": "code",
   "execution_count": 1,
   "id": "84547b96",
   "metadata": {},
   "outputs": [
    {
     "name": "stdout",
     "output_type": "stream",
     "text": [
      "6\n",
      "1\n"
     ]
    }
   ],
   "source": [
    "def factorial(n):\n",
    "    if n==0 or n==1:\n",
    "        return 1\n",
    "    else:\n",
    "        return n*factorial(n-1)\n",
    "print(factorial(3))\n",
    "print(factorial(1))"
   ]
  },
  {
   "cell_type": "markdown",
   "id": "b9bd0a82",
   "metadata": {},
   "source": [
    "### The main advantages of recursive functions are:\n",
    " 1.  We can reduce length of the code and improves readability\n",
    " 2.   We can solve complex problems very easily"
   ]
  },
  {
   "cell_type": "markdown",
   "id": "970a8390",
   "metadata": {},
   "source": [
    "### Anonymous Function"
   ]
  },
  {
   "cell_type": "markdown",
   "id": "0fb4bdda",
   "metadata": {},
   "source": [
    "=>Sometimes we can declare a function without any name , such types of nameless function are called anonymous function"
   ]
  },
  {
   "cell_type": "markdown",
   "id": "79b25a56",
   "metadata": {},
   "source": [
    "## Main function:->"
   ]
  },
  {
   "cell_type": "markdown",
   "id": "ca80956a",
   "metadata": {},
   "source": [
    "Instant use (i.e. onetime usage)"
   ]
  },
  {
   "cell_type": "markdown",
   "id": "713c6f74",
   "metadata": {},
   "source": [
    "Normal Function :-"
   ]
  },
  {
   "cell_type": "code",
   "execution_count": 5,
   "id": "7bba30c1",
   "metadata": {},
   "outputs": [
    {
     "name": "stdout",
     "output_type": "stream",
     "text": [
      "16\n"
     ]
    }
   ],
   "source": [
    "def square(n):\n",
    "    n=n*n\n",
    "    return n\n",
    "print(square(4))"
   ]
  },
  {
   "cell_type": "markdown",
   "id": "5580de0a",
   "metadata": {},
   "source": [
    "Lambda Function :-"
   ]
  },
  {
   "cell_type": "code",
   "execution_count": 7,
   "id": "7e9661ec",
   "metadata": {},
   "outputs": [
    {
     "name": "stdout",
     "output_type": "stream",
     "text": [
      "16\n"
     ]
    }
   ],
   "source": [
    "s=lambda n:n*n\n",
    "print(s(4))"
   ]
  },
  {
   "cell_type": "markdown",
   "id": "adf62a2b",
   "metadata": {},
   "source": [
    "## Syntax of lambda Function-> lambda argument_list:expression"
   ]
  },
  {
   "cell_type": "markdown",
   "id": "3d08cd98",
   "metadata": {},
   "source": [
    "advantage-> i)concise code\n",
    "ii) Readability of program will improved"
   ]
  },
  {
   "cell_type": "markdown",
   "id": "a0562dec",
   "metadata": {},
   "source": [
    "## Write a program to create a lambda function to find square of a given number "
   ]
  },
  {
   "cell_type": "code",
   "execution_count": 9,
   "id": "0b0776ef",
   "metadata": {},
   "outputs": [
    {
     "name": "stdout",
     "output_type": "stream",
     "text": [
      "Square of 4 is  16\n",
      "Square of 5 is  25\n"
     ]
    }
   ],
   "source": [
    "s=lambda n:n*n\n",
    "print(\"Square of 4 is \",s(4))\n",
    "print(\"Square of 5 is \",s(5))"
   ]
  },
  {
   "cell_type": "markdown",
   "id": "af0d9bf0",
   "metadata": {},
   "source": [
    "## Lambda function to find sum of 2 given numbers "
   ]
  },
  {
   "cell_type": "code",
   "execution_count": 12,
   "id": "952a9e29",
   "metadata": {},
   "outputs": [
    {
     "name": "stdout",
     "output_type": "stream",
     "text": [
      "The sum of 10,20 is  30\n"
     ]
    }
   ],
   "source": [
    "s=lambda a,b:a+b\n",
    "print(\"The sum of 10,20 is \",s(10,20))"
   ]
  },
  {
   "cell_type": "markdown",
   "id": "b24c8168",
   "metadata": {},
   "source": [
    "## Lambda function to find biggest of given two values"
   ]
  },
  {
   "cell_type": "code",
   "execution_count": 13,
   "id": "b7af57b4",
   "metadata": {},
   "outputs": [
    {
     "name": "stdout",
     "output_type": "stream",
     "text": [
      "The biggest of 10 and 20 is  15\n"
     ]
    }
   ],
   "source": [
    "s=lambda a,b:a if a>b else b\n",
    "print(\"The biggest of 10 and 20 is \",s(12,15))"
   ]
  },
  {
   "cell_type": "markdown",
   "id": "6ea6d70b",
   "metadata": {},
   "source": [
    "## Note->"
   ]
  },
  {
   "cell_type": "markdown",
   "id": "3e69c7fa",
   "metadata": {},
   "source": [
    "Lambda Function internally returns expression value and we are not required to write return statement explicitly"
   ]
  }
 ],
 "metadata": {
  "kernelspec": {
   "display_name": "Python 3 (ipykernel)",
   "language": "python",
   "name": "python3"
  },
  "language_info": {
   "codemirror_mode": {
    "name": "ipython",
    "version": 3
   },
   "file_extension": ".py",
   "mimetype": "text/x-python",
   "name": "python",
   "nbconvert_exporter": "python",
   "pygments_lexer": "ipython3",
   "version": "3.9.7"
  }
 },
 "nbformat": 4,
 "nbformat_minor": 5
}
