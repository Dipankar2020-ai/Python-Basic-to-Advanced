{
 "cells": [
  {
   "cell_type": "markdown",
   "id": "6ef3b247",
   "metadata": {},
   "source": [
    "# Tower of Hanoi"
   ]
  },
  {
   "cell_type": "code",
   "execution_count": 3,
   "id": "3cd1d62a",
   "metadata": {},
   "outputs": [
    {
     "name": "stdout",
     "output_type": "stream",
     "text": [
      "Move 1st disk from  s to d\n",
      "move 2 th disk from s to h\n",
      "Move 1st disk from  d to h\n",
      "move 3 th disk from s to d\n",
      "Move 1st disk from  h to s\n",
      "move 2 th disk from h to d\n",
      "Move 1st disk from  s to d\n"
     ]
    }
   ],
   "source": [
    "def tower_hanoi(n,a,b,c):\n",
    "    if n<=1:\n",
    "        print(\"Move 1st disk from \",a,\"to\",c)\n",
    "        return\n",
    "    else:\n",
    "        tower_hanoi(n-1,a,c,b) # a to b using c\n",
    "        print(\"move\",n ,\"th disk from\",a ,\"to\",c)\n",
    "        tower_hanoi(n-1,b,a,c) # b to c using a\n",
    "tower_hanoi(3,\"s\",\"h\",\"d\")\n"
   ]
  },
  {
   "cell_type": "markdown",
   "id": "8f618026",
   "metadata": {},
   "source": [
    "# Quick sort"
   ]
  },
  {
   "cell_type": "code",
   "execution_count": 7,
   "id": "0b00d867",
   "metadata": {},
   "outputs": [
    {
     "name": "stdout",
     "output_type": "stream",
     "text": [
      "6 10 9 8 7 1 3 5 4 2\n"
     ]
    },
    {
     "data": {
      "text/plain": [
       "[1, 2, 3, 4, 5, 6, 7, 8, 9, 10]"
      ]
     },
     "execution_count": 7,
     "metadata": {},
     "output_type": "execute_result"
    }
   ],
   "source": [
    "def partition(a,si,ei):\n",
    "    pivot=a[si]\n",
    "    c=0\n",
    "    for i in range(si,ei+1):\n",
    "        if a[i]<pivot:\n",
    "            c+=1\n",
    "    a[si+c],a[si]=a[si],a[si+c]\n",
    "    pivot_index=si+c\n",
    "    i=si\n",
    "    j=ei\n",
    "    while i<j:\n",
    "        if a[i]<pivot:\n",
    "            i+=1\n",
    "        elif a[j]>=pivot:\n",
    "            j-=1\n",
    "        else:\n",
    "            a[i],a[j]=a[j],a[i]\n",
    "            i+=1\n",
    "            j-=1\n",
    "    return pivot_index\n",
    "        \n",
    "        \n",
    "def quicksort(a,si,ei):\n",
    "    if si>=ei:\n",
    "        return\n",
    "    pivot_index=partition(a,si,ei)\n",
    "    quicksort(a,si,pivot_index-1)\n",
    "    quicksort(a,pivot_index+1,ei)\n",
    "    \n",
    "li=[int(i) for i in input().split()]\n",
    "quicksort(li,0,len(li)-1)\n",
    "li"
   ]
  }
 ],
 "metadata": {
  "kernelspec": {
   "display_name": "Python 3 (ipykernel)",
   "language": "python",
   "name": "python3"
  },
  "language_info": {
   "codemirror_mode": {
    "name": "ipython",
    "version": 3
   },
   "file_extension": ".py",
   "mimetype": "text/x-python",
   "name": "python",
   "nbconvert_exporter": "python",
   "pygments_lexer": "ipython3",
   "version": "3.9.7"
  }
 },
 "nbformat": 4,
 "nbformat_minor": 5
}
