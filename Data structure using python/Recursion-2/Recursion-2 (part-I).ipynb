{
 "cells": [
  {
   "cell_type": "markdown",
   "id": "684d0bb2",
   "metadata": {},
   "source": [
    "# Replace character"
   ]
  },
  {
   "cell_type": "code",
   "execution_count": 3,
   "id": "e5dcfe43",
   "metadata": {},
   "outputs": [
    {
     "name": "stdout",
     "output_type": "stream",
     "text": [
      "Yellow\n",
      "l\n",
      "L\n"
     ]
    },
    {
     "data": {
      "text/plain": [
       "'YeLLow'"
      ]
     },
     "execution_count": 3,
     "metadata": {},
     "output_type": "execute_result"
    }
   ],
   "source": [
    "def replacechar(str,a,b):\n",
    "    if len(str)==0:\n",
    "        return str\n",
    "    smalloutput=replacechar(str[1:],a,b)\n",
    "    if str[0]==a:\n",
    "        return b+smalloutput\n",
    "    else:\n",
    "        return str[0]+smalloutput\n",
    "str=input()\n",
    "a=input()\n",
    "b=input()\n",
    "replacechar(str,a,b)"
   ]
  },
  {
   "cell_type": "markdown",
   "id": "5f435c70",
   "metadata": {},
   "source": [
    "# Remove X"
   ]
  },
  {
   "cell_type": "code",
   "execution_count": 6,
   "id": "5c2a88f9",
   "metadata": {},
   "outputs": [
    {
     "name": "stdout",
     "output_type": "stream",
     "text": [
      "xx\n"
     ]
    },
    {
     "data": {
      "text/plain": [
       "''"
      ]
     },
     "execution_count": 6,
     "metadata": {},
     "output_type": "execute_result"
    }
   ],
   "source": [
    "def removex(str):\n",
    "    if len(str)==0:\n",
    "        return str\n",
    "    smalloutput=removex(str[1:])\n",
    "    if str[0]=='x':\n",
    "        return smalloutput\n",
    "    else:\n",
    "        return str[0]+smalloutput\n",
    "        \n",
    "str=input()\n",
    "removex(str)"
   ]
  },
  {
   "cell_type": "code",
   "execution_count": 7,
   "id": "2769ab65",
   "metadata": {},
   "outputs": [
    {
     "name": "stdout",
     "output_type": "stream",
     "text": [
      "abc\n"
     ]
    },
    {
     "data": {
      "text/plain": [
       "'abc'"
      ]
     },
     "execution_count": 7,
     "metadata": {},
     "output_type": "execute_result"
    }
   ],
   "source": [
    "def removex(str):\n",
    "    if len(str)==0:\n",
    "        return str\n",
    "    smalloutput=removex(str[1:])\n",
    "    if str[0]=='x':\n",
    "        return smalloutput\n",
    "    else:\n",
    "        return str[0]+smalloutput\n",
    "        \n",
    "str=input()\n",
    "removex(str)"
   ]
  },
  {
   "cell_type": "markdown",
   "id": "daacebbb",
   "metadata": {},
   "source": [
    "# Replace pi"
   ]
  },
  {
   "cell_type": "code",
   "execution_count": 15,
   "id": "dc26b9ba",
   "metadata": {},
   "outputs": [
    {
     "name": "stdout",
     "output_type": "stream",
     "text": [
      "abcpidefpipippi\n"
     ]
    },
    {
     "data": {
      "text/plain": [
       "'abc3.14def3.143.14p3.14'"
      ]
     },
     "execution_count": 15,
     "metadata": {},
     "output_type": "execute_result"
    }
   ],
   "source": [
    "def replacepi(str):\n",
    "    if len(str)<=1:\n",
    "        return str\n",
    "    if str[0]=='p':\n",
    "        if str[1]=='i':\n",
    "            return '3.14'+replacepi(str[2:])\n",
    "        else:\n",
    "            return str[0]+replacepi(str[1:])\n",
    "    else:\n",
    "        return str[0]+replacepi(str[1:])\n",
    "str=input()\n",
    "replacepi(str)"
   ]
  },
  {
   "cell_type": "markdown",
   "id": "f629ebea",
   "metadata": {},
   "source": [
    "# Binary search using Recursion"
   ]
  },
  {
   "cell_type": "code",
   "execution_count": 16,
   "id": "fc654375",
   "metadata": {},
   "outputs": [
    {
     "name": "stdout",
     "output_type": "stream",
     "text": [
      "1 2 3 4 5 6\n",
      "4\n",
      "3\n"
     ]
    }
   ],
   "source": [
    "def binarysearch(a,x,si,ei):\n",
    "    if si>ei:\n",
    "        return -1\n",
    "    mid=(si+ei)//2\n",
    "    if a[mid]==x:\n",
    "        return mid\n",
    "    elif a[mid]>x:\n",
    "        return binarysearch(a,x,si,mid-1)\n",
    "    else:\n",
    "        return binarysearch(a,x,mid+1,ei)\n",
    "a=[int(ele) for ele in input().split()]\n",
    "x=int(input())\n",
    "si=0\n",
    "ei=len(a)-1\n",
    "print(binarysearch(a,x,si,ei))"
   ]
  },
  {
   "cell_type": "code",
   "execution_count": 17,
   "id": "d977988a",
   "metadata": {},
   "outputs": [
    {
     "name": "stdout",
     "output_type": "stream",
     "text": [
      "1 2 3 4 5 6\n",
      "8\n",
      "-1\n"
     ]
    }
   ],
   "source": [
    "def binarysearch(a,x,si,ei):\n",
    "    if si>ei:\n",
    "        return -1\n",
    "    mid=(si+ei)//2\n",
    "    if a[mid]==x:\n",
    "        return mid\n",
    "    elif a[mid]>x:\n",
    "        return binarysearch(a,x,si,mid-1)\n",
    "    else:\n",
    "        return binarysearch(a,x,mid+1,ei)\n",
    "a=[int(ele) for ele in input().split()]\n",
    "x=int(input())\n",
    "si=0\n",
    "ei=len(a)-1\n",
    "print(binarysearch(a,x,si,ei))"
   ]
  }
 ],
 "metadata": {
  "kernelspec": {
   "display_name": "Python 3 (ipykernel)",
   "language": "python",
   "name": "python3"
  },
  "language_info": {
   "codemirror_mode": {
    "name": "ipython",
    "version": 3
   },
   "file_extension": ".py",
   "mimetype": "text/x-python",
   "name": "python",
   "nbconvert_exporter": "python",
   "pygments_lexer": "ipython3",
   "version": "3.9.7"
  }
 },
 "nbformat": 4,
 "nbformat_minor": 5
}
