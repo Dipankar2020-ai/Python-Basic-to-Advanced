{
 "cells": [
  {
   "cell_type": "markdown",
   "id": "a706e72e",
   "metadata": {},
   "source": [
    "# Factorial of a number"
   ]
  },
  {
   "cell_type": "code",
   "execution_count": 1,
   "id": "f0f7d39d",
   "metadata": {},
   "outputs": [
    {
     "name": "stdout",
     "output_type": "stream",
     "text": [
      "Enter the number : 5\n",
      "The factorial of  5 is 120\n"
     ]
    }
   ],
   "source": [
    "def fact(n):\n",
    "    if n==0:\n",
    "        return 1\n",
    "    else:\n",
    "        return n*fact(n-1)\n",
    "n=int(input(\"Enter the number : \"))\n",
    "print(\"The factorial of \",n,\"is\",fact(n))"
   ]
  },
  {
   "cell_type": "markdown",
   "id": "9b6b6a6b",
   "metadata": {},
   "source": [
    "# Sum of First n natural number "
   ]
  },
  {
   "cell_type": "code",
   "execution_count": 2,
   "id": "e2fc16c7",
   "metadata": {},
   "outputs": [
    {
     "name": "stdout",
     "output_type": "stream",
     "text": [
      "Enter the number : 10\n",
      "The sum of first  10 natural number is 55\n"
     ]
    }
   ],
   "source": [
    "def sumoffirstn(n):\n",
    "    if n==1:\n",
    "        return 1\n",
    "    else:\n",
    "        return n+sumoffirstn(n-1)\n",
    "\n",
    "n=int(input(\"Enter the number : \"))\n",
    "print(\"The sum of first \",n,\"natural number is\",sumoffirstn(n))        \n",
    "        "
   ]
  },
  {
   "cell_type": "markdown",
   "id": "4b4da2cf",
   "metadata": {},
   "source": [
    "## Find out power of a number "
   ]
  },
  {
   "cell_type": "markdown",
   "id": "b4e91985",
   "metadata": {},
   "source": [
    "Problem Description: ​You are given a number x and another number n. You have to print (x raised to the power n)"
   ]
  },
  {
   "cell_type": "code",
   "execution_count": 5,
   "id": "971e5da3",
   "metadata": {},
   "outputs": [
    {
     "name": "stdout",
     "output_type": "stream",
     "text": [
      "3\n",
      "3\n",
      "the power of 3 to the power 3 is 27\n"
     ]
    }
   ],
   "source": [
    "def powerofx(x,n):\n",
    "    if n==0:\n",
    "        return 1\n",
    "    else:\n",
    "        return x*powerofx(x,n-1)\n",
    "x=int(input())\n",
    "n=int(input())\n",
    "print(\"the power of\",x,\"to the power\",n,\"is\",powerofx(x,n))\n"
   ]
  },
  {
   "cell_type": "markdown",
   "id": "864dd77e",
   "metadata": {},
   "source": [
    "# Predict the o/p"
   ]
  },
  {
   "cell_type": "code",
   "execution_count": null,
   "id": "7ac373d5",
   "metadata": {},
   "outputs": [],
   "source": [
    "def func(num):\n",
    "    return func(num-1)\n",
    "num=5\n",
    "ans=func(num-1)\n",
    "print(ans)\n",
    "## Recursive error"
   ]
  },
  {
   "cell_type": "markdown",
   "id": "e14e0384",
   "metadata": {},
   "source": [
    "# print first n natural number "
   ]
  },
  {
   "cell_type": "code",
   "execution_count": 4,
   "id": "2fe2acea",
   "metadata": {},
   "outputs": [
    {
     "name": "stdout",
     "output_type": "stream",
     "text": [
      "5 4 3 2 1\n"
     ]
    }
   ],
   "source": [
    "def printfirstn(n):\n",
    "    if n==1:\n",
    "        print(1)\n",
    "    else:\n",
    "        print(n,end=\" \")\n",
    "        return printfirstn(n-1)\n",
    "    \n",
    "printfirstn(5)\n",
    "        "
   ]
  }
 ],
 "metadata": {
  "kernelspec": {
   "display_name": "Python 3 (ipykernel)",
   "language": "python",
   "name": "python3"
  },
  "language_info": {
   "codemirror_mode": {
    "name": "ipython",
    "version": 3
   },
   "file_extension": ".py",
   "mimetype": "text/x-python",
   "name": "python",
   "nbconvert_exporter": "python",
   "pygments_lexer": "ipython3",
   "version": "3.9.7"
  }
 },
 "nbformat": 4,
 "nbformat_minor": 5
}
