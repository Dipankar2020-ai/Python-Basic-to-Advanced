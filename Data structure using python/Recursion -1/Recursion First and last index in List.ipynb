{
 "cells": [
  {
   "cell_type": "markdown",
   "id": "386d114c",
   "metadata": {},
   "source": [
    "# First Index of a number"
   ]
  },
  {
   "cell_type": "code",
   "execution_count": 6,
   "id": "467f9552",
   "metadata": {},
   "outputs": [],
   "source": [
    "def firstIndex(a,x):\n",
    "    l=len(a)\n",
    "    if l==0:\n",
    "        return -1\n",
    "    if a[0]==x:\n",
    "        return 0\n",
    "    smallerlist=a[1:]\n",
    "    smallerlistOutput=firstIndex(smallerlist,x)\n",
    "    if smallerlistOutput==-1:\n",
    "        return -1\n",
    "    else:\n",
    "        return smallerlistOutput+1\n",
    "    \n",
    "    "
   ]
  },
  {
   "cell_type": "code",
   "execution_count": 9,
   "id": "72f8cf8c",
   "metadata": {},
   "outputs": [],
   "source": [
    "def firstIndexB(a,x,start):\n",
    "    l=len(a)\n",
    "    if l==start:\n",
    "        return 1\n",
    "    if a[start]==x:\n",
    "        return start\n",
    "    smallerlistOutput=firstIndexB(a,x,start+1)\n",
    "    return smallerlistOutput"
   ]
  },
  {
   "cell_type": "code",
   "execution_count": 11,
   "id": "b460c5b4",
   "metadata": {},
   "outputs": [
    {
     "name": "stdout",
     "output_type": "stream",
     "text": [
      "2\n",
      "2\n"
     ]
    }
   ],
   "source": [
    "a=[1,2,4,5,4]\n",
    "x=4\n",
    "print(firstIndex(a,x))\n",
    "print(firstIndexB(a,x,0))"
   ]
  },
  {
   "cell_type": "markdown",
   "id": "87152a02",
   "metadata": {},
   "source": [
    "# Last index of a number "
   ]
  },
  {
   "cell_type": "code",
   "execution_count": 18,
   "id": "a95b2a0b",
   "metadata": {},
   "outputs": [],
   "source": [
    "def lastindex(a,x):\n",
    "    l=len(a)\n",
    "    if l==0:\n",
    "        return -1\n",
    "    smallerlist=a[1:]\n",
    "    smallerlistOutput=lastindex(smallerlist,x)\n",
    "    if smallerlistOutput!=-1:\n",
    "        return smallerlistOutput+1\n",
    "    else:\n",
    "        if a[0]==x:\n",
    "            return 0\n",
    "        else:\n",
    "            return -1\n",
    "        "
   ]
  },
  {
   "cell_type": "code",
   "execution_count": 22,
   "id": "63354ea5",
   "metadata": {},
   "outputs": [],
   "source": [
    "def lastindexB(a,x,si):\n",
    "    l=len(a)\n",
    "    if si==l:\n",
    "        return -1\n",
    "    smallerListOutput=lastindexB(a,x,si+1)\n",
    "    if smallerListOutput!=-1:\n",
    "        return smallerListOutput\n",
    "    else:\n",
    "        if a[si]==x:\n",
    "            return si\n",
    "        else:\n",
    "            return -1"
   ]
  },
  {
   "cell_type": "code",
   "execution_count": 23,
   "id": "7c768a2f",
   "metadata": {},
   "outputs": [
    {
     "name": "stdout",
     "output_type": "stream",
     "text": [
      "3\n",
      "3\n"
     ]
    }
   ],
   "source": [
    "a=[1,4,5,4,8]\n",
    "x=4\n",
    "print(lastindex(a,x))\n",
    "print(lastindexB(a,x,0))\n"
   ]
  }
 ],
 "metadata": {
  "kernelspec": {
   "display_name": "Python 3 (ipykernel)",
   "language": "python",
   "name": "python3"
  },
  "language_info": {
   "codemirror_mode": {
    "name": "ipython",
    "version": 3
   },
   "file_extension": ".py",
   "mimetype": "text/x-python",
   "name": "python",
   "nbconvert_exporter": "python",
   "pygments_lexer": "ipython3",
   "version": "3.9.7"
  }
 },
 "nbformat": 4,
 "nbformat_minor": 5
}
