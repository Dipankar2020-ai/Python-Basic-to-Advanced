{
 "cells": [
  {
   "cell_type": "markdown",
   "id": "ed71730d",
   "metadata": {},
   "source": [
    "## class is basically a template. Object is an instance of this class."
   ]
  },
  {
   "cell_type": "code",
   "execution_count": 2,
   "id": "0163fbfa",
   "metadata": {},
   "outputs": [
    {
     "name": "stdout",
     "output_type": "stream",
     "text": [
      "<__main__.Student object at 0x000001AE85C97CA0>\n",
      "<class '__main__.Student'>\n"
     ]
    }
   ],
   "source": [
    "class Student:\n",
    "    pass\n",
    "s1=Student()\n",
    "s1.__dict__\n",
    "print(s1)\n",
    "print(type(s1))"
   ]
  },
  {
   "cell_type": "code",
   "execution_count": 3,
   "id": "90336d05",
   "metadata": {},
   "outputs": [
    {
     "name": "stdout",
     "output_type": "stream",
     "text": [
      "<__main__.Student object at 0x000001AE85C97A00> <__main__.Student object at 0x000001AE85C97700>\n"
     ]
    }
   ],
   "source": [
    "s2=Student()\n",
    "s3=Student()\n",
    "print(s2,s3)"
   ]
  },
  {
   "cell_type": "markdown",
   "id": "ceb2414e",
   "metadata": {},
   "source": [
    "# which operator in python used to accesspropoerties and methods of an object"
   ]
  },
  {
   "cell_type": "markdown",
   "id": "401b3165",
   "metadata": {},
   "source": [
    "=> dot(.) operator"
   ]
  },
  {
   "cell_type": "markdown",
   "id": "5b40748f",
   "metadata": {},
   "source": [
    "# Instance Attribute"
   ]
  },
  {
   "cell_type": "code",
   "execution_count": 6,
   "id": "aa873255",
   "metadata": {},
   "outputs": [
    {
     "name": "stdout",
     "output_type": "stream",
     "text": [
      "Ankush\n",
      "12\n"
     ]
    }
   ],
   "source": [
    "class student:\n",
    "    pass\n",
    "s1=student()\n",
    "s2=student()\n",
    "s3=student()\n",
    "s1.name=\"Ankush\"\n",
    "s2.rollno=12\n",
    "s3.name=\"Rohan\"\n",
    "s3.rollno=13\n",
    "print(s1.name)\n",
    "print(s2.rollno)"
   ]
  },
  {
   "cell_type": "code",
   "execution_count": 7,
   "id": "4d83079e",
   "metadata": {},
   "outputs": [
    {
     "data": {
      "text/plain": [
       "{'name': 'Ankush'}"
      ]
     },
     "execution_count": 7,
     "metadata": {},
     "output_type": "execute_result"
    }
   ],
   "source": [
    "s1.__dict__"
   ]
  },
  {
   "cell_type": "code",
   "execution_count": 8,
   "id": "0896c080",
   "metadata": {},
   "outputs": [
    {
     "data": {
      "text/plain": [
       "{'rollno': 12}"
      ]
     },
     "execution_count": 8,
     "metadata": {},
     "output_type": "execute_result"
    }
   ],
   "source": [
    "s2.__dict__"
   ]
  },
  {
   "cell_type": "code",
   "execution_count": 9,
   "id": "2287a149",
   "metadata": {},
   "outputs": [
    {
     "data": {
      "text/plain": [
       "{'name': 'Rohan', 'rollno': 13}"
      ]
     },
     "execution_count": 9,
     "metadata": {},
     "output_type": "execute_result"
    }
   ],
   "source": [
    "s3.__dict__"
   ]
  },
  {
   "cell_type": "code",
   "execution_count": 10,
   "id": "c4b7d833",
   "metadata": {},
   "outputs": [
    {
     "data": {
      "text/plain": [
       "False"
      ]
     },
     "execution_count": 10,
     "metadata": {},
     "output_type": "execute_result"
    }
   ],
   "source": [
    "hasattr(s1,'rollno')"
   ]
  },
  {
   "cell_type": "code",
   "execution_count": 11,
   "id": "5141ef01",
   "metadata": {},
   "outputs": [
    {
     "data": {
      "text/plain": [
       "True"
      ]
     },
     "execution_count": 11,
     "metadata": {},
     "output_type": "execute_result"
    }
   ],
   "source": [
    "hasattr(s2,'rollno')"
   ]
  },
  {
   "cell_type": "code",
   "execution_count": 12,
   "id": "ba6d3613",
   "metadata": {},
   "outputs": [
    {
     "data": {
      "text/plain": [
       "'Ankush'"
      ]
     },
     "execution_count": 12,
     "metadata": {},
     "output_type": "execute_result"
    }
   ],
   "source": [
    "getattr(s1,'name')"
   ]
  },
  {
   "cell_type": "code",
   "execution_count": 14,
   "id": "851bf70f",
   "metadata": {},
   "outputs": [
    {
     "data": {
      "text/plain": [
       "'default'"
      ]
     },
     "execution_count": 14,
     "metadata": {},
     "output_type": "execute_result"
    }
   ],
   "source": [
    "getattr(s2,'name',\"default\")"
   ]
  },
  {
   "cell_type": "code",
   "execution_count": 15,
   "id": "dc1a70b9",
   "metadata": {},
   "outputs": [],
   "source": [
    "delattr(s3,'rollno')"
   ]
  },
  {
   "cell_type": "code",
   "execution_count": 16,
   "id": "64595f2e",
   "metadata": {},
   "outputs": [
    {
     "data": {
      "text/plain": [
       "{'name': 'Rohan'}"
      ]
     },
     "execution_count": 16,
     "metadata": {},
     "output_type": "execute_result"
    }
   ],
   "source": [
    "s3.__dict__"
   ]
  },
  {
   "cell_type": "markdown",
   "id": "5ea19583",
   "metadata": {},
   "source": [
    "# Predict the o/p"
   ]
  },
  {
   "cell_type": "code",
   "execution_count": 17,
   "id": "37dcd500",
   "metadata": {},
   "outputs": [
    {
     "name": "stdout",
     "output_type": "stream",
     "text": [
      "Rohan Rohan "
     ]
    }
   ],
   "source": [
    "class student:\n",
    "    name=\"Rohan\"\n",
    "    age=16\n",
    "s1=student()\n",
    "s2=student()\n",
    "print(s1.name,end=\" \")\n",
    "print(s2.name,end=\" \")"
   ]
  },
  {
   "cell_type": "markdown",
   "id": "fedccbe3",
   "metadata": {},
   "source": [
    "# Predict the o/p"
   ]
  },
  {
   "cell_type": "code",
   "execution_count": 18,
   "id": "ae49c114",
   "metadata": {},
   "outputs": [
    {
     "name": "stdout",
     "output_type": "stream",
     "text": [
      "58\n"
     ]
    }
   ],
   "source": [
    "class student:\n",
    "    pp=50\n",
    "s1=student()\n",
    "s1.pp=58\n",
    "s2=student()\n",
    "s2.pp=60\n",
    "print(s1.pp)"
   ]
  },
  {
   "cell_type": "markdown",
   "id": "fb3cc975",
   "metadata": {},
   "source": [
    "# Predict the o/p"
   ]
  },
  {
   "cell_type": "code",
   "execution_count": 21,
   "id": "0a3b785c",
   "metadata": {},
   "outputs": [
    {
     "name": "stdout",
     "output_type": "stream",
     "text": [
      "Parikh 60\n"
     ]
    }
   ],
   "source": [
    "class student:\n",
    "    name='Parikh'\n",
    "    def store_details(self):\n",
    "        self.age=60\n",
    "    def printdetails(self):\n",
    "        print(self.name,end=\" \")\n",
    "        print(self.age)\n",
    "s=student()\n",
    "s.store_details()\n",
    "s.printdetails()"
   ]
  },
  {
   "cell_type": "markdown",
   "id": "6e999440",
   "metadata": {},
   "source": [
    "# Predict the o/p"
   ]
  },
  {
   "cell_type": "code",
   "execution_count": 25,
   "id": "89b0abe4",
   "metadata": {},
   "outputs": [
    {
     "ename": "AttributeError",
     "evalue": "'student' object has no attribute 'age'",
     "output_type": "error",
     "traceback": [
      "\u001b[1;31m---------------------------------------------------------------------------\u001b[0m",
      "\u001b[1;31mAttributeError\u001b[0m                            Traceback (most recent call last)",
      "\u001b[1;32m~\\AppData\\Local\\Temp/ipykernel_3956/3701322665.py\u001b[0m in \u001b[0;36m<module>\u001b[1;34m\u001b[0m\n\u001b[0;32m      9\u001b[0m \u001b[0ms\u001b[0m\u001b[1;33m.\u001b[0m\u001b[0mstore_details\u001b[0m\u001b[1;33m(\u001b[0m\u001b[1;33m)\u001b[0m\u001b[1;33m\u001b[0m\u001b[1;33m\u001b[0m\u001b[0m\n\u001b[0;32m     10\u001b[0m \u001b[0ms1\u001b[0m\u001b[1;33m=\u001b[0m\u001b[0mstudent\u001b[0m\u001b[1;33m(\u001b[0m\u001b[1;33m)\u001b[0m\u001b[1;33m\u001b[0m\u001b[1;33m\u001b[0m\u001b[0m\n\u001b[1;32m---> 11\u001b[1;33m \u001b[0ms1\u001b[0m\u001b[1;33m.\u001b[0m\u001b[0mprint_age\u001b[0m\u001b[1;33m(\u001b[0m\u001b[1;33m)\u001b[0m\u001b[1;33m\u001b[0m\u001b[1;33m\u001b[0m\u001b[0m\n\u001b[0m",
      "\u001b[1;32m~\\AppData\\Local\\Temp/ipykernel_3956/3701322665.py\u001b[0m in \u001b[0;36mprint_age\u001b[1;34m(self)\u001b[0m\n\u001b[0;32m      5\u001b[0m     \u001b[1;32mdef\u001b[0m \u001b[0mprint_age\u001b[0m\u001b[1;33m(\u001b[0m\u001b[0mself\u001b[0m\u001b[1;33m)\u001b[0m\u001b[1;33m:\u001b[0m\u001b[1;33m\u001b[0m\u001b[1;33m\u001b[0m\u001b[0m\n\u001b[0;32m      6\u001b[0m         \u001b[1;31m#self.age=50\u001b[0m\u001b[1;33m\u001b[0m\u001b[1;33m\u001b[0m\u001b[0m\n\u001b[1;32m----> 7\u001b[1;33m         \u001b[0mprint\u001b[0m\u001b[1;33m(\u001b[0m\u001b[0mself\u001b[0m\u001b[1;33m.\u001b[0m\u001b[0mage\u001b[0m\u001b[1;33m)\u001b[0m\u001b[1;33m\u001b[0m\u001b[1;33m\u001b[0m\u001b[0m\n\u001b[0m\u001b[0;32m      8\u001b[0m \u001b[0ms\u001b[0m\u001b[1;33m=\u001b[0m\u001b[0mstudent\u001b[0m\u001b[1;33m(\u001b[0m\u001b[1;33m)\u001b[0m\u001b[1;33m\u001b[0m\u001b[1;33m\u001b[0m\u001b[0m\n\u001b[0;32m      9\u001b[0m \u001b[0ms\u001b[0m\u001b[1;33m.\u001b[0m\u001b[0mstore_details\u001b[0m\u001b[1;33m(\u001b[0m\u001b[1;33m)\u001b[0m\u001b[1;33m\u001b[0m\u001b[1;33m\u001b[0m\u001b[0m\n",
      "\u001b[1;31mAttributeError\u001b[0m: 'student' object has no attribute 'age'"
     ]
    }
   ],
   "source": [
    "class student:\n",
    "    name='Parikh'\n",
    "    def store_details(self):\n",
    "        self.age=60\n",
    "    def print_age(self):\n",
    "        #self.age=50\n",
    "        print(self.age)\n",
    "s=student()\n",
    "s.store_details()\n",
    "s1=student()\n",
    "s1.print_age()"
   ]
  }
 ],
 "metadata": {
  "kernelspec": {
   "display_name": "Python 3 (ipykernel)",
   "language": "python",
   "name": "python3"
  },
  "language_info": {
   "codemirror_mode": {
    "name": "ipython",
    "version": 3
   },
   "file_extension": ".py",
   "mimetype": "text/x-python",
   "name": "python",
   "nbconvert_exporter": "python",
   "pygments_lexer": "ipython3",
   "version": "3.9.7"
  }
 },
 "nbformat": 4,
 "nbformat_minor": 5
}
