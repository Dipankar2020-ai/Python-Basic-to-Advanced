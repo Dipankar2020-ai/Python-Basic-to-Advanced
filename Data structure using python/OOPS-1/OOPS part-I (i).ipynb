{
 "cells": [
  {
   "cell_type": "markdown",
   "id": "179d2835",
   "metadata": {},
   "source": [
    "# Init Method"
   ]
  },
  {
   "cell_type": "code",
   "execution_count": 1,
   "id": "682011a6",
   "metadata": {},
   "outputs": [
    {
     "data": {
      "text/plain": [
       "{'name': 'abc', 'age': 12}"
      ]
     },
     "execution_count": 1,
     "metadata": {},
     "output_type": "execute_result"
    }
   ],
   "source": [
    "class student:\n",
    "    def __init__(self):\n",
    "        self.name=\"abc\"\n",
    "        self.age=12\n",
    "s1=student()\n",
    "s1.__dict__"
   ]
  },
  {
   "cell_type": "code",
   "execution_count": 2,
   "id": "def55df6",
   "metadata": {},
   "outputs": [
    {
     "data": {
      "text/plain": [
       "{'name': 'abc', 'age': 12}"
      ]
     },
     "execution_count": 2,
     "metadata": {},
     "output_type": "execute_result"
    }
   ],
   "source": [
    "s2=student()\n",
    "s2.__dict__"
   ]
  },
  {
   "cell_type": "code",
   "execution_count": 4,
   "id": "bf2a157d",
   "metadata": {},
   "outputs": [
    {
     "data": {
      "text/plain": [
       "{'name': 'Ankush', 'age': 12}"
      ]
     },
     "execution_count": 4,
     "metadata": {},
     "output_type": "execute_result"
    }
   ],
   "source": [
    "class student:\n",
    "    def __init__(self,name,age):\n",
    "        self.name=name\n",
    "        self.age=age\n",
    "s1=student(\"Ankush\",12)\n",
    "s1.__dict__"
   ]
  },
  {
   "cell_type": "markdown",
   "id": "fff9aafe",
   "metadata": {},
   "source": [
    "# Predict the o/p"
   ]
  },
  {
   "cell_type": "code",
   "execution_count": 5,
   "id": "ac0196cd",
   "metadata": {},
   "outputs": [
    {
     "ename": "TypeError",
     "evalue": "__init__() missing 2 required positional arguments: 'name' and 'age'",
     "output_type": "error",
     "traceback": [
      "\u001b[1;31m---------------------------------------------------------------------------\u001b[0m",
      "\u001b[1;31mTypeError\u001b[0m                                 Traceback (most recent call last)",
      "\u001b[1;32m~\\AppData\\Local\\Temp/ipykernel_14544/3372626833.py\u001b[0m in \u001b[0;36m<module>\u001b[1;34m\u001b[0m\n\u001b[0;32m      6\u001b[0m         \u001b[0mprint\u001b[0m\u001b[1;33m(\u001b[0m\u001b[0mself\u001b[0m\u001b[1;33m.\u001b[0m\u001b[0mname\u001b[0m\u001b[1;33m,\u001b[0m\u001b[0mend\u001b[0m\u001b[1;33m=\u001b[0m\u001b[1;34m\" \"\u001b[0m\u001b[1;33m)\u001b[0m\u001b[1;33m\u001b[0m\u001b[1;33m\u001b[0m\u001b[0m\n\u001b[0;32m      7\u001b[0m         \u001b[0mprint\u001b[0m\u001b[1;33m(\u001b[0m\u001b[0mself\u001b[0m\u001b[1;33m.\u001b[0m\u001b[0mage\u001b[0m\u001b[1;33m)\u001b[0m\u001b[1;33m\u001b[0m\u001b[1;33m\u001b[0m\u001b[0m\n\u001b[1;32m----> 8\u001b[1;33m \u001b[0ms\u001b[0m\u001b[1;33m=\u001b[0m\u001b[0mstudent\u001b[0m\u001b[1;33m(\u001b[0m\u001b[1;33m)\u001b[0m\u001b[1;33m\u001b[0m\u001b[1;33m\u001b[0m\u001b[0m\n\u001b[0m\u001b[0;32m      9\u001b[0m \u001b[0ms\u001b[0m\u001b[1;33m.\u001b[0m\u001b[0mprint_student_details\u001b[0m\u001b[1;33m(\u001b[0m\u001b[1;33m)\u001b[0m\u001b[1;33m\u001b[0m\u001b[1;33m\u001b[0m\u001b[0m\n",
      "\u001b[1;31mTypeError\u001b[0m: __init__() missing 2 required positional arguments: 'name' and 'age'"
     ]
    }
   ],
   "source": [
    "class student:\n",
    "    def __init__(self,name,age):\n",
    "        self.name=\"Rohan\"\n",
    "        self.age=20\n",
    "    def print_student_details():\n",
    "        print(self.name,end=\" \")\n",
    "        print(self.age)\n",
    "s=student()\n",
    "s.print_student_details()"
   ]
  },
  {
   "cell_type": "markdown",
   "id": "1dca8c48",
   "metadata": {},
   "source": [
    "# Instance Methods"
   ]
  },
  {
   "cell_type": "code",
   "execution_count": 9,
   "id": "4ec2741b",
   "metadata": {},
   "outputs": [
    {
     "name": "stdout",
     "output_type": "stream",
     "text": [
      "Hi\n"
     ]
    }
   ],
   "source": [
    "class student:\n",
    "    def __init__(self,name,rollno):\n",
    "        self.name=name\n",
    "        self.rollno=rollno\n",
    "    def printstudent(self):\n",
    "        print(\"Hi\")\n",
    "        \n",
    "s1=student(\"Raju\",12)\n",
    "s1.__dict__\n",
    "s1.printstudent()"
   ]
  },
  {
   "cell_type": "code",
   "execution_count": 8,
   "id": "c1213756",
   "metadata": {},
   "outputs": [
    {
     "name": "stdout",
     "output_type": "stream",
     "text": [
      "My Name is  Raju and my roll number is  12\n"
     ]
    }
   ],
   "source": [
    "class student:\n",
    "    def __init__(self,name,rollno):\n",
    "        self.name=name\n",
    "        self.rollno=rollno\n",
    "    def printstudent(self):\n",
    "        print(\"My Name is \",self.name,\"and my roll number is \",self.rollno)\n",
    "        \n",
    "s1=student(\"Raju\",12)\n",
    "s1.__dict__\n",
    "s1.printstudent()"
   ]
  },
  {
   "cell_type": "markdown",
   "id": "c3e5bc30",
   "metadata": {},
   "source": [
    "# Fraction class 1"
   ]
  },
  {
   "cell_type": "code",
   "execution_count": 10,
   "id": "68ada957",
   "metadata": {},
   "outputs": [
    {
     "data": {
      "text/plain": [
       "{'num': 2, 'den': 3}"
      ]
     },
     "execution_count": 10,
     "metadata": {},
     "output_type": "execute_result"
    }
   ],
   "source": [
    "class Fraction:\n",
    "    def __init__(self,num=0,den=1):\n",
    "        self.num=num\n",
    "        self.den=den\n",
    "f=Fraction(2,3)\n",
    "f.__dict__"
   ]
  },
  {
   "cell_type": "code",
   "execution_count": 11,
   "id": "207c1b5c",
   "metadata": {},
   "outputs": [
    {
     "data": {
      "text/plain": [
       "{'num': 0, 'den': 1}"
      ]
     },
     "execution_count": 11,
     "metadata": {},
     "output_type": "execute_result"
    }
   ],
   "source": [
    "f2=Fraction()\n",
    "f2.__dict__"
   ]
  },
  {
   "cell_type": "code",
   "execution_count": 13,
   "id": "5189e978",
   "metadata": {},
   "outputs": [
    {
     "data": {
      "text/plain": [
       "{'num': 3, 'den': 1}"
      ]
     },
     "execution_count": 13,
     "metadata": {},
     "output_type": "execute_result"
    }
   ],
   "source": [
    "f3=Fraction(3)\n",
    "f3.__dict__"
   ]
  },
  {
   "cell_type": "markdown",
   "id": "29d750ad",
   "metadata": {},
   "source": [
    "# Fraction class-2"
   ]
  },
  {
   "cell_type": "code",
   "execution_count": 17,
   "id": "2567c640",
   "metadata": {},
   "outputs": [
    {
     "name": "stdout",
     "output_type": "stream",
     "text": [
      "14/6\n",
      "7/3\n"
     ]
    }
   ],
   "source": [
    "class Fraction:\n",
    "    def __init__(self,num=0,den=1):\n",
    "        if den==0:\n",
    "            den=1\n",
    "        self.num=num\n",
    "        self.den=den\n",
    "    def print1(self):\n",
    "        if self.num==0:\n",
    "            print(0)\n",
    "        if self.den==1:\n",
    "            print(self.num)\n",
    "        else:\n",
    "            print(str(self.num)+'/'+str(self.den))\n",
    "    def simplify(self):\n",
    "        if self.num==0:\n",
    "            self.den==1\n",
    "            return\n",
    "        current=min(self.num,self.den)\n",
    "        while current>1:\n",
    "            if self.num%current==0 and self.den%current==0:\n",
    "                break\n",
    "            current-=1\n",
    "        self.num=self.num//current\n",
    "        self.den=self.den//current\n",
    "\n",
    "f=Fraction(14,6)\n",
    "f.print1()\n",
    "f.simplify()\n",
    "f.print1()"
   ]
  },
  {
   "cell_type": "markdown",
   "id": "f9fbadba",
   "metadata": {},
   "source": [
    "# Fraction class-3"
   ]
  },
  {
   "cell_type": "code",
   "execution_count": 23,
   "id": "c3cc355c",
   "metadata": {},
   "outputs": [
    {
     "name": "stdout",
     "output_type": "stream",
     "text": [
      "2/3\n",
      "2/3\n",
      "4/9\n",
      "2/3\n",
      "4/9\n",
      "10/9\n"
     ]
    }
   ],
   "source": [
    "class Fraction:\n",
    "    def __init__(self,num=0,den=1):\n",
    "        if den==0:\n",
    "            den=1\n",
    "        self.num=num\n",
    "        self.den=den\n",
    "    def print1(self):\n",
    "        if self.num==0:\n",
    "            print(0)\n",
    "        if self.den==1:\n",
    "            print(self.num)\n",
    "        else:\n",
    "            print(str(self.num)+'/'+str(self.den))\n",
    "    def simplify(self):\n",
    "        if self.num==0:\n",
    "            self.den==1\n",
    "            return\n",
    "        current=min(self.num,self.den)\n",
    "        while current>1:\n",
    "            if self.num%current==0 and self.den%current==0:\n",
    "                break\n",
    "            current-=1\n",
    "        self.num=self.num//current\n",
    "        self.den=self.den//current\n",
    "    def add1(self,other):\n",
    "        newNum=other.den*self.num+other.num*self.den\n",
    "        newden=other.den*self.den\n",
    "        self.num=newNum\n",
    "        self.den=newden\n",
    "        self.simplify()\n",
    "    def Multiply(self,other):\n",
    "        newNum=other.num*self.num\n",
    "        newden=other.den*self.den\n",
    "        self.num=newNum\n",
    "        self.den=newden\n",
    "        self.simplify()\n",
    "        \n",
    "f1=Fraction(2,3)\n",
    "f2=Fraction(2,3)\n",
    "f1.print1()\n",
    "f2.print1()\n",
    "f1.Multiply(f2)\n",
    "f1.print1()\n",
    "f2.print1()\n",
    "f2.add1(f1)\n",
    "f1.print1()\n",
    "f2.print1()\n",
    "        \n",
    "        \n",
    "        "
   ]
  }
 ],
 "metadata": {
  "kernelspec": {
   "display_name": "Python 3 (ipykernel)",
   "language": "python",
   "name": "python3"
  },
  "language_info": {
   "codemirror_mode": {
    "name": "ipython",
    "version": 3
   },
   "file_extension": ".py",
   "mimetype": "text/x-python",
   "name": "python",
   "nbconvert_exporter": "python",
   "pygments_lexer": "ipython3",
   "version": "3.9.7"
  }
 },
 "nbformat": 4,
 "nbformat_minor": 5
}
