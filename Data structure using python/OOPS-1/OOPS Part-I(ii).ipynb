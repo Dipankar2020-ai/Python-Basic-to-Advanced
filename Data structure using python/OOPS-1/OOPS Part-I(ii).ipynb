{
 "cells": [
  {
   "cell_type": "markdown",
   "id": "724d29ad",
   "metadata": {},
   "source": [
    "# Self Parameter"
   ]
  },
  {
   "cell_type": "code",
   "execution_count": 3,
   "id": "3ac700a3",
   "metadata": {},
   "outputs": [
    {
     "name": "stdout",
     "output_type": "stream",
     "text": [
      "Name=  Parikh\n",
      "Percentage=  80\n",
      "Name=  Parikh\n",
      "Percentage=  80\n",
      "Student is passed\n"
     ]
    }
   ],
   "source": [
    "class Student:\n",
    "    passingpercentage=40\n",
    "    def Studentdetails(self):\n",
    "        self.name=\"Parikh\"\n",
    "        print(\"Name= \",self.name)\n",
    "        self.percentage=80\n",
    "        print(\"Percentage= \",self.percentage)\n",
    "        pass\n",
    "    def isPassed(self):\n",
    "        if self.percentage>Student.passingpercentage:\n",
    "            print(\"Student is passed\")\n",
    "        else:\n",
    "            print(\"Student is not passed\")\n",
    "s1=Student()\n",
    "s1.Studentdetails()\n",
    "Student.Studentdetails(s1)\n",
    "s1.isPassed()"
   ]
  },
  {
   "cell_type": "markdown",
   "id": "77327328",
   "metadata": {},
   "source": [
    "# Static Method"
   ]
  },
  {
   "cell_type": "code",
   "execution_count": 4,
   "id": "4a1f4b03",
   "metadata": {},
   "outputs": [
    {
     "name": "stdout",
     "output_type": "stream",
     "text": [
      "Hey! welcome to school\n"
     ]
    }
   ],
   "source": [
    "class Student:\n",
    "    passingpercentage=40\n",
    "    def Studentdetails(self):\n",
    "        self.name=\"Parikh\"\n",
    "        print(\"Name= \",self.name)\n",
    "        self.percentage=80\n",
    "        print(\"Percentage= \",self.percentage)\n",
    "        pass\n",
    "    def isPassed(self):\n",
    "        if self.percentage>Student.passingpercentage:\n",
    "            print(\"Student is passed\")\n",
    "        else:\n",
    "            print(\"Student is not passed\")\n",
    "    @staticmethod\n",
    "    def welcomeToSchool():\n",
    "        print(\"Hey! welcome to school\")\n",
    "s1=Student()\n",
    "s1.welcomeToSchool()\n"
   ]
  },
  {
   "cell_type": "markdown",
   "id": "9ae5157d",
   "metadata": {},
   "source": [
    "# Predict the o/p"
   ]
  },
  {
   "cell_type": "code",
   "execution_count": 7,
   "id": "530cc7f1",
   "metadata": {},
   "outputs": [
    {
     "name": "stdout",
     "output_type": "stream",
     "text": [
      "True\n"
     ]
    }
   ],
   "source": [
    "class Student:\n",
    "    def __init__(self,name,age):\n",
    "        self.name=name\n",
    "        self.age=age\n",
    "    def print_student_details():\n",
    "        print(self.name,end=\" \")\n",
    "        print(self.age)\n",
    "    @staticmethod\n",
    "    def isteen(age):\n",
    "        return age>16\n",
    "    \n",
    "a=Student(\"Rohan\",15)\n",
    "\n",
    "print(a.isteen(18))"
   ]
  },
  {
   "cell_type": "markdown",
   "id": "166d8bdd",
   "metadata": {},
   "source": [
    "# Private Modifier -> double underscoreoperator(__)"
   ]
  },
  {
   "cell_type": "code",
   "execution_count": 8,
   "id": "b864a594",
   "metadata": {},
   "outputs": [],
   "source": [
    "class Student:\n",
    "    def __init__(self,name,age):\n",
    "        self.__name=name\n",
    "        self.age=age\n",
    "s=Student(\"Raju\",22)"
   ]
  },
  {
   "cell_type": "code",
   "execution_count": 9,
   "id": "ae9c451a",
   "metadata": {},
   "outputs": [
    {
     "ename": "AttributeError",
     "evalue": "'Student' object has no attribute 'name'",
     "output_type": "error",
     "traceback": [
      "\u001b[1;31m---------------------------------------------------------------------------\u001b[0m",
      "\u001b[1;31mAttributeError\u001b[0m                            Traceback (most recent call last)",
      "\u001b[1;32m~\\AppData\\Local\\Temp/ipykernel_13224/3776615351.py\u001b[0m in \u001b[0;36m<module>\u001b[1;34m\u001b[0m\n\u001b[1;32m----> 1\u001b[1;33m \u001b[0ms\u001b[0m\u001b[1;33m.\u001b[0m\u001b[0mname\u001b[0m\u001b[1;33m\u001b[0m\u001b[1;33m\u001b[0m\u001b[0m\n\u001b[0m",
      "\u001b[1;31mAttributeError\u001b[0m: 'Student' object has no attribute 'name'"
     ]
    }
   ],
   "source": [
    "s.name"
   ]
  },
  {
   "cell_type": "code",
   "execution_count": 10,
   "id": "0a6f69e9",
   "metadata": {},
   "outputs": [
    {
     "data": {
      "text/plain": [
       "'Raju'"
      ]
     },
     "execution_count": 10,
     "metadata": {},
     "output_type": "execute_result"
    }
   ],
   "source": [
    "s._Student__name # for accessing the private method"
   ]
  },
  {
   "cell_type": "markdown",
   "id": "1fc51212",
   "metadata": {},
   "source": [
    "# Predict the o/p"
   ]
  },
  {
   "cell_type": "code",
   "execution_count": 11,
   "id": "9f848425",
   "metadata": {},
   "outputs": [
    {
     "ename": "AttributeError",
     "evalue": "'Student' object has no attribute 'name'",
     "output_type": "error",
     "traceback": [
      "\u001b[1;31m---------------------------------------------------------------------------\u001b[0m",
      "\u001b[1;31mAttributeError\u001b[0m                            Traceback (most recent call last)",
      "\u001b[1;32m~\\AppData\\Local\\Temp/ipykernel_13224/1611375384.py\u001b[0m in \u001b[0;36m<module>\u001b[1;34m\u001b[0m\n\u001b[0;32m      7\u001b[0m         \u001b[0mprint\u001b[0m\u001b[1;33m(\u001b[0m\u001b[0mself\u001b[0m\u001b[1;33m.\u001b[0m\u001b[0mage\u001b[0m\u001b[1;33m)\u001b[0m\u001b[1;33m\u001b[0m\u001b[1;33m\u001b[0m\u001b[0m\n\u001b[0;32m      8\u001b[0m \u001b[0ms\u001b[0m\u001b[1;33m=\u001b[0m\u001b[0mStudent\u001b[0m\u001b[1;33m(\u001b[0m\u001b[1;34m\"Rohan\"\u001b[0m\u001b[1;33m,\u001b[0m\u001b[1;36m20\u001b[0m\u001b[1;33m)\u001b[0m\u001b[1;33m\u001b[0m\u001b[1;33m\u001b[0m\u001b[0m\n\u001b[1;32m----> 9\u001b[1;33m \u001b[0mprint\u001b[0m\u001b[1;33m(\u001b[0m\u001b[0ms\u001b[0m\u001b[1;33m.\u001b[0m\u001b[0mname\u001b[0m\u001b[1;33m)\u001b[0m\u001b[1;33m\u001b[0m\u001b[1;33m\u001b[0m\u001b[0m\n\u001b[0m\u001b[0;32m     10\u001b[0m \u001b[1;33m\u001b[0m\u001b[0m\n",
      "\u001b[1;31mAttributeError\u001b[0m: 'Student' object has no attribute 'name'"
     ]
    }
   ],
   "source": [
    "class Student:\n",
    "    def __init__(self,name,age):\n",
    "        self.__name=name\n",
    "        self.age=age\n",
    "    def print_student_details():\n",
    "        print(self.__name,end=\" \")\n",
    "        print(self.age)\n",
    "s=Student(\"Rohan\",20)\n",
    "print(s.name)\n",
    "        "
   ]
  },
  {
   "cell_type": "markdown",
   "id": "1ec88bf8",
   "metadata": {},
   "source": [
    "# Predict the o/p"
   ]
  },
  {
   "cell_type": "code",
   "execution_count": 13,
   "id": "aaa698f7",
   "metadata": {},
   "outputs": [
    {
     "name": "stdout",
     "output_type": "stream",
     "text": [
      "Rohan 20\n"
     ]
    }
   ],
   "source": [
    "class Student:\n",
    "    def __init__(self,name,age):\n",
    "        self.__name=name\n",
    "        self.age=age\n",
    "    def print_student_details(self):\n",
    "        print(self.__name,end=\" \")\n",
    "        print(self.age)\n",
    "s=Student(\"Rohan\",20)\n",
    "s.print_student_details()\n",
    "        "
   ]
  }
 ],
 "metadata": {
  "kernelspec": {
   "display_name": "Python 3 (ipykernel)",
   "language": "python",
   "name": "python3"
  },
  "language_info": {
   "codemirror_mode": {
    "name": "ipython",
    "version": 3
   },
   "file_extension": ".py",
   "mimetype": "text/x-python",
   "name": "python",
   "nbconvert_exporter": "python",
   "pygments_lexer": "ipython3",
   "version": "3.9.7"
  }
 },
 "nbformat": 4,
 "nbformat_minor": 5
}
