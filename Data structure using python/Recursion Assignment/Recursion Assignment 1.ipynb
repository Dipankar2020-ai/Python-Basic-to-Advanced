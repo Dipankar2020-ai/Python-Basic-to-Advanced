{
 "cells": [
  {
   "cell_type": "markdown",
   "id": "116e548e",
   "metadata": {},
   "source": [
    "# Geometric sum"
   ]
  },
  {
   "cell_type": "code",
   "execution_count": 4,
   "id": "1c084a34",
   "metadata": {},
   "outputs": [
    {
     "name": "stdout",
     "output_type": "stream",
     "text": [
      "3\n",
      "The geometric sum is :  1.875\n"
     ]
    }
   ],
   "source": [
    "def geosum(k):\n",
    "    if k==0:\n",
    "        return 1\n",
    "    else:\n",
    "        return 1/(2**k)+geosum(k-1)\n",
    "n=int(input())\n",
    "print(\"The geometric sum is : \",geosum(n))"
   ]
  },
  {
   "cell_type": "code",
   "execution_count": 5,
   "id": "b6c62aa8",
   "metadata": {},
   "outputs": [
    {
     "name": "stdout",
     "output_type": "stream",
     "text": [
      "4\n",
      "The geometric sum is :  1.9375\n"
     ]
    }
   ],
   "source": [
    "def geosum(k):\n",
    "    if k==0:\n",
    "        return 1\n",
    "    else:\n",
    "        return 1/(2**k)+geosum(k-1)\n",
    "n=int(input())\n",
    "print(\"The geometric sum is : \",geosum(n))"
   ]
  },
  {
   "cell_type": "markdown",
   "id": "55c810a1",
   "metadata": {},
   "source": [
    "# Reverse The Array\n",
    "https://www.codingninjas.com/codestudio/problems/reverse-the-array_1262298?leftPanelTab=1"
   ]
  },
  {
   "cell_type": "code",
   "execution_count": 13,
   "id": "63667db0",
   "metadata": {},
   "outputs": [
    {
     "name": "stdout",
     "output_type": "stream",
     "text": [
      "[1, 2, 3, 4, 6, 5]\n"
     ]
    }
   ],
   "source": [
    "def reverseArray(arr, m):\n",
    "    # Write your code here.\n",
    "    li1=arr[:m+1]\n",
    "    li=arr[m+1:]\n",
    "    li=li[-1::-1]\n",
    "    li1.extend(li)\n",
    "   \n",
    "    \n",
    "    return li1\n",
    "\n",
    "arr=[1,2,3,4,5,6]\n",
    "m=3\n",
    "print(reverseArray(arr,m))"
   ]
  },
  {
   "cell_type": "markdown",
   "id": "9078627a",
   "metadata": {},
   "source": [
    "# Sum or Product (important)\n",
    "https://www.codingninjas.com/codestudio/problems/sum-or-product_920478?leftPanelTab=0"
   ]
  },
  {
   "cell_type": "code",
   "execution_count": 15,
   "id": "269c6dbe",
   "metadata": {},
   "outputs": [
    {
     "name": "stdout",
     "output_type": "stream",
     "text": [
      "531950728\n"
     ]
    }
   ],
   "source": [
    "def sumOrProduct(n, q):\n",
    "    if q == 1:\n",
    "        summ = (n*(n+1))//2\n",
    "        return summ\n",
    "    elif q == 2:\n",
    "        mul = 1\n",
    "        for i in range(1, n+1):\n",
    "            mul = mul * i\n",
    "        if mul > 10000:\n",
    "            return mul % 1000000007\n",
    "        else:\n",
    "            return mul\n",
    "n=10000\n",
    "q=2\n",
    "print(sumOrProduct(n, q))"
   ]
  },
  {
   "cell_type": "markdown",
   "id": "219b3dde",
   "metadata": {},
   "source": [
    "# Check Palindrome"
   ]
  },
  {
   "cell_type": "code",
   "execution_count": 16,
   "id": "093dd0f7",
   "metadata": {},
   "outputs": [
    {
     "name": "stdout",
     "output_type": "stream",
     "text": [
      "racecar\n",
      "True\n"
     ]
    }
   ],
   "source": [
    "def checkpalindrome(str):\n",
    "    if len(str)<=1:\n",
    "        return True\n",
    "    if str[0]!=str[len(str)-1]:\n",
    "        return False\n",
    "    return checkpalindrome(str[1:-1])\n",
    "str=input()\n",
    "if checkpalindrome(str):\n",
    "    print(\"True\")\n",
    "else:\n",
    "    print(\"False\")\n",
    "    "
   ]
  },
  {
   "cell_type": "code",
   "execution_count": 17,
   "id": "b0198e55",
   "metadata": {},
   "outputs": [
    {
     "name": "stdout",
     "output_type": "stream",
     "text": [
      "applecar\n",
      "False\n"
     ]
    }
   ],
   "source": [
    "def checkpalindrome(str):\n",
    "    if len(str)<=1:\n",
    "        return True\n",
    "    if str[0]!=str[len(str)-1]:\n",
    "        return False\n",
    "    return checkpalindrome(str[1:-1])\n",
    "str=input()\n",
    "if checkpalindrome(str):\n",
    "    print(\"True\")\n",
    "else:\n",
    "    print(\"False\")"
   ]
  },
  {
   "cell_type": "markdown",
   "id": "5ecb5c35",
   "metadata": {},
   "source": [
    "# Sum of digits "
   ]
  },
  {
   "cell_type": "code",
   "execution_count": 20,
   "id": "a25a4af7",
   "metadata": {},
   "outputs": [
    {
     "name": "stdout",
     "output_type": "stream",
     "text": [
      "12345\n",
      "15\n"
     ]
    }
   ],
   "source": [
    "def sumofdigits(str):\n",
    "    if len(str)==1:\n",
    "        ans=int(str)\n",
    "        return ans\n",
    "    else:\n",
    "        ans1 =int(str[0])+sumofdigits(str[1:])\n",
    "        return ans1\n",
    "n=input()\n",
    "print(sumofdigits(n))"
   ]
  },
  {
   "cell_type": "code",
   "execution_count": 21,
   "id": "59889de1",
   "metadata": {},
   "outputs": [
    {
     "name": "stdout",
     "output_type": "stream",
     "text": [
      "9\n",
      "9\n"
     ]
    }
   ],
   "source": [
    "def sumofdigits(str):\n",
    "    if len(str)==1:\n",
    "        ans=int(str)\n",
    "        return ans\n",
    "    else:\n",
    "        ans1 =int(str[0])+sumofdigits(str[1:])\n",
    "        return ans1\n",
    "n=input()\n",
    "print(sumofdigits(n))"
   ]
  },
  {
   "cell_type": "code",
   "execution_count": 24,
   "id": "6a823c64",
   "metadata": {},
   "outputs": [
    {
     "name": "stdout",
     "output_type": "stream",
     "text": [
      "12345\n",
      "15\n"
     ]
    }
   ],
   "source": [
    "def sumdigit(n):\n",
    "    if n<10:\n",
    "        return n\n",
    "    return (n%10)+sumdigit(n//10)\n",
    "n=int(input())\n",
    "print(sumdigit(n))"
   ]
  },
  {
   "cell_type": "markdown",
   "id": "376fe12a",
   "metadata": {},
   "source": [
    "# Multiplication"
   ]
  },
  {
   "cell_type": "code",
   "execution_count": 27,
   "id": "a2dca1db",
   "metadata": {},
   "outputs": [
    {
     "name": "stdout",
     "output_type": "stream",
     "text": [
      "3\n",
      "5\n",
      "15\n"
     ]
    }
   ],
   "source": [
    "def multiplication(m,n):\n",
    "    if m==0 or n==0:\n",
    "        return 0\n",
    "    else:\n",
    "        return m+multiplication(m,n-1)\n",
    "n=int(input())\n",
    "n=int(input())\n",
    "print(multiplication(m,n))"
   ]
  },
  {
   "cell_type": "code",
   "execution_count": 28,
   "id": "6b184196",
   "metadata": {},
   "outputs": [
    {
     "name": "stdout",
     "output_type": "stream",
     "text": [
      "4\n",
      "0\n",
      "0\n"
     ]
    }
   ],
   "source": [
    "def multiplication(m,n):\n",
    "    if m==0 or n==0:\n",
    "        return 0\n",
    "    else:\n",
    "        return m+multiplication(m,n-1)\n",
    "n=int(input())\n",
    "n=int(input())\n",
    "print(multiplication(m,n))"
   ]
  }
 ],
 "metadata": {
  "kernelspec": {
   "display_name": "Python 3 (ipykernel)",
   "language": "python",
   "name": "python3"
  },
  "language_info": {
   "codemirror_mode": {
    "name": "ipython",
    "version": 3
   },
   "file_extension": ".py",
   "mimetype": "text/x-python",
   "name": "python",
   "nbconvert_exporter": "python",
   "pygments_lexer": "ipython3",
   "version": "3.9.7"
  }
 },
 "nbformat": 4,
 "nbformat_minor": 5
}
