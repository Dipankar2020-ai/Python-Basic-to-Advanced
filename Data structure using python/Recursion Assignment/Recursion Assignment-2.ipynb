{
 "cells": [
  {
   "cell_type": "markdown",
   "id": "1c1bece5",
   "metadata": {},
   "source": [
    "# count zeros"
   ]
  },
  {
   "cell_type": "code",
   "execution_count": 13,
   "id": "cdeea656",
   "metadata": {},
   "outputs": [
    {
     "name": "stdout",
     "output_type": "stream",
     "text": [
      "1020\n",
      "2\n"
     ]
    }
   ],
   "source": [
    "count=0\n",
    "def count_digit(num):\n",
    "    global count\n",
    "    if (num >0):\n",
    "        if(num%10==0):\n",
    "            count +=1\n",
    "        count_digit(num // 10)\n",
    "    return count\n",
    "n=int(input())\n",
    "print(count_digit(n))"
   ]
  },
  {
   "cell_type": "markdown",
   "id": "de82daab",
   "metadata": {},
   "source": [
    "# string to integer"
   ]
  },
  {
   "cell_type": "code",
   "execution_count": 19,
   "id": "b42a2931",
   "metadata": {},
   "outputs": [
    {
     "name": "stdout",
     "output_type": "stream",
     "text": [
      "7\n",
      "7\n"
     ]
    }
   ],
   "source": [
    "def stringtointeger(str):\n",
    "    if len(str)==1:\n",
    "        return int(str[0])\n",
    "    if len(str)>1:\n",
    "        b=str[-1]\n",
    "        a=stringtointeger(str[0:len(str)-1])\n",
    "    return a*10+int(b)\n",
    "str=input()\n",
    "print(stringtointeger(str))"
   ]
  },
  {
   "cell_type": "markdown",
   "id": "c53357d4",
   "metadata": {},
   "source": [
    "# Pair star"
   ]
  },
  {
   "cell_type": "code",
   "execution_count": 26,
   "id": "efa9cd46",
   "metadata": {},
   "outputs": [
    {
     "name": "stdout",
     "output_type": "stream",
     "text": [
      "jj\n",
      "j*j\n"
     ]
    }
   ],
   "source": [
    "def pairstair(str):\n",
    "    if len(str)<=1:\n",
    "        return str\n",
    "    else:\n",
    "        ans=\"\"\n",
    "        if str[0]==str[1]:\n",
    "            ans=str[0]+\"*\"\n",
    "        else:\n",
    "            ans=ans+str[0]\n",
    "    \n",
    "        return ans+pairstair(str[1:])\n",
    "str=input()\n",
    "print(pairstair(str))"
   ]
  },
  {
   "cell_type": "markdown",
   "id": "99cace10",
   "metadata": {},
   "source": [
    "# checkAB"
   ]
  },
  {
   "cell_type": "code",
   "execution_count": 27,
   "id": "5b65b585",
   "metadata": {},
   "outputs": [
    {
     "name": "stdout",
     "output_type": "stream",
     "text": [
      "abbaab\n",
      "false\n"
     ]
    }
   ],
   "source": [
    "def checkab(s):\n",
    "    if len(s)==0:\n",
    "        return True\n",
    "    if s[0]==\"a\":\n",
    "        if len(s[1:])>1 and s[1:3]==\"bb\":\n",
    "            return checkab(s[3:])\n",
    "        else:\n",
    "            return checkab(s[1:])\n",
    "    else:\n",
    "        return False\n",
    "s=input()\n",
    "if checkab(s)==True:\n",
    "    print(\"true\")\n",
    "else:\n",
    "    print(\"false\")\n",
    "        \n",
    "        "
   ]
  },
  {
   "cell_type": "markdown",
   "id": "5fc88fe8",
   "metadata": {},
   "source": [
    "# Staircase"
   ]
  },
  {
   "cell_type": "code",
   "execution_count": 29,
   "id": "60d4e481",
   "metadata": {},
   "outputs": [
    {
     "name": "stdout",
     "output_type": "stream",
     "text": [
      "4\n",
      "7\n"
     ]
    }
   ],
   "source": [
    "def Staircase(n):\n",
    "    if(n<=3):\n",
    "        if(n==1):\n",
    "            return 1\n",
    "        elif(n==2):\n",
    "            return 2\n",
    "        else:\n",
    "            return 4\n",
    "    x=Staircase(n-1)\n",
    "    y=Staircase(n-2)\n",
    "    z=Staircase(n-3)\n",
    "    return x+y+z\n",
    "n=int(input())\n",
    "a=Staircase(n)\n",
    "print(a)"
   ]
  }
 ],
 "metadata": {
  "kernelspec": {
   "display_name": "Python 3 (ipykernel)",
   "language": "python",
   "name": "python3"
  },
  "language_info": {
   "codemirror_mode": {
    "name": "ipython",
    "version": 3
   },
   "file_extension": ".py",
   "mimetype": "text/x-python",
   "name": "python",
   "nbconvert_exporter": "python",
   "pygments_lexer": "ipython3",
   "version": "3.9.7"
  }
 },
 "nbformat": 4,
 "nbformat_minor": 5
}
